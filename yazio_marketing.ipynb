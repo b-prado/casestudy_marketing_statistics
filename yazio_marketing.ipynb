{
 "cells": [
  {
   "cell_type": "markdown",
   "id": "940b7004",
   "metadata": {},
   "source": [
    "\n",
    "# 1. Data Loading\n"
   ]
  },
  {
   "cell_type": "code",
   "execution_count": 78,
   "id": "1880a3e4",
   "metadata": {},
   "outputs": [],
   "source": [
    "# Read libraries\n",
    "import pandas as pd\n",
    "import plotly.express as px\n",
    "import plotly.graph_objects as go\n",
    "import numpy as np\n",
    "\n",
    "from plotly.subplots import make_subplots\n",
    "from datetime import datetime\n"
   ]
  },
  {
   "cell_type": "code",
   "execution_count": 130,
   "id": "508e3583",
   "metadata": {},
   "outputs": [],
   "source": [
    "import warnings\n",
    "warnings.filterwarnings(\"ignore\", category=RuntimeWarning)"
   ]
  },
  {
   "cell_type": "code",
   "execution_count": 2,
   "id": "36a4142a",
   "metadata": {},
   "outputs": [],
   "source": [
    "# Define the path to the marketing data file\n",
    "marketing_file = r'./case-study-task-marketing.parquet'\n",
    "\n",
    "# Load the parquet file into a DataFrame\n",
    "df = pd.read_parquet(marketing_file, engine=\"pyarrow\")"
   ]
  },
  {
   "cell_type": "markdown",
   "id": "d4738ade",
   "metadata": {},
   "source": [
    "\n",
    "# 2. Data Overview"
   ]
  },
  {
   "cell_type": "markdown",
   "id": "8d5a8f10",
   "metadata": {},
   "source": [
    "- Use `.info()` to undestand the dtypes\n",
    "\n",
    "- Use `.head()`. to understand structure and contents\n",
    "\n",
    "- Use `.describe()`. to see descriptive statistics\n",
    "    \n",
    "- Look for null values"
   ]
  },
  {
   "cell_type": "code",
   "execution_count": 8,
   "id": "129897b1",
   "metadata": {},
   "outputs": [
    {
     "name": "stdout",
     "output_type": "stream",
     "text": [
      "<class 'pandas.core.frame.DataFrame'>\n",
      "RangeIndex: 2627 entries, 0 to 2626\n",
      "Data columns (total 11 columns):\n",
      " #   Column                Non-Null Count  Dtype  \n",
      "---  ------                --------------  -----  \n",
      " 0   date                  2627 non-null   object \n",
      " 1   platform              2627 non-null   object \n",
      " 2   marketing_channel     2627 non-null   object \n",
      " 3   campaign_id           2627 non-null   object \n",
      " 4   country               2627 non-null   object \n",
      " 5   impressions           2627 non-null   int64  \n",
      " 6   clicks                2627 non-null   int64  \n",
      " 7   app_installs          2627 non-null   int64  \n",
      " 8   conversions           2627 non-null   int64  \n",
      " 9   marketing_spend_euro  2627 non-null   float64\n",
      " 10  revenue_euro          2627 non-null   float64\n",
      "dtypes: float64(2), int64(4), object(5)\n",
      "memory usage: 225.9+ KB\n"
     ]
    }
   ],
   "source": [
    "# Get a summary of the DataFrame (columns, non-null counts, data types)\n",
    "df.info()"
   ]
  },
  {
   "cell_type": "code",
   "execution_count": 9,
   "id": "0ccef24b",
   "metadata": {},
   "outputs": [
    {
     "data": {
      "text/html": [
       "<div>\n",
       "<style scoped>\n",
       "    .dataframe tbody tr th:only-of-type {\n",
       "        vertical-align: middle;\n",
       "    }\n",
       "\n",
       "    .dataframe tbody tr th {\n",
       "        vertical-align: top;\n",
       "    }\n",
       "\n",
       "    .dataframe thead th {\n",
       "        text-align: right;\n",
       "    }\n",
       "</style>\n",
       "<table border=\"1\" class=\"dataframe\">\n",
       "  <thead>\n",
       "    <tr style=\"text-align: right;\">\n",
       "      <th></th>\n",
       "      <th>date</th>\n",
       "      <th>platform</th>\n",
       "      <th>marketing_channel</th>\n",
       "      <th>campaign_id</th>\n",
       "      <th>country</th>\n",
       "      <th>impressions</th>\n",
       "      <th>clicks</th>\n",
       "      <th>app_installs</th>\n",
       "      <th>conversions</th>\n",
       "      <th>marketing_spend_euro</th>\n",
       "      <th>revenue_euro</th>\n",
       "    </tr>\n",
       "  </thead>\n",
       "  <tbody>\n",
       "    <tr>\n",
       "      <th>0</th>\n",
       "      <td>2023-11-01</td>\n",
       "      <td>android</td>\n",
       "      <td>Channel A</td>\n",
       "      <td>12347578214</td>\n",
       "      <td>CH</td>\n",
       "      <td>0</td>\n",
       "      <td>0</td>\n",
       "      <td>3</td>\n",
       "      <td>1</td>\n",
       "      <td>0.00</td>\n",
       "      <td>12.94</td>\n",
       "    </tr>\n",
       "    <tr>\n",
       "      <th>1</th>\n",
       "      <td>2023-11-01</td>\n",
       "      <td>android</td>\n",
       "      <td>Channel A</td>\n",
       "      <td>12347578214</td>\n",
       "      <td>FR</td>\n",
       "      <td>70732</td>\n",
       "      <td>1116</td>\n",
       "      <td>469</td>\n",
       "      <td>37</td>\n",
       "      <td>688.56</td>\n",
       "      <td>915.76</td>\n",
       "    </tr>\n",
       "    <tr>\n",
       "      <th>2</th>\n",
       "      <td>2023-11-01</td>\n",
       "      <td>android</td>\n",
       "      <td>Channel A</td>\n",
       "      <td>12347578214</td>\n",
       "      <td>IT</td>\n",
       "      <td>0</td>\n",
       "      <td>0</td>\n",
       "      <td>1</td>\n",
       "      <td>0</td>\n",
       "      <td>0.00</td>\n",
       "      <td>0.00</td>\n",
       "    </tr>\n",
       "    <tr>\n",
       "      <th>3</th>\n",
       "      <td>2023-11-01</td>\n",
       "      <td>android</td>\n",
       "      <td>Channel A</td>\n",
       "      <td>12579890294</td>\n",
       "      <td>NL</td>\n",
       "      <td>17173</td>\n",
       "      <td>356</td>\n",
       "      <td>145</td>\n",
       "      <td>7</td>\n",
       "      <td>279.76</td>\n",
       "      <td>190.20</td>\n",
       "    </tr>\n",
       "    <tr>\n",
       "      <th>4</th>\n",
       "      <td>2023-11-01</td>\n",
       "      <td>android</td>\n",
       "      <td>Channel A</td>\n",
       "      <td>12581196474</td>\n",
       "      <td>FR</td>\n",
       "      <td>0</td>\n",
       "      <td>0</td>\n",
       "      <td>1</td>\n",
       "      <td>0</td>\n",
       "      <td>0.00</td>\n",
       "      <td>0.00</td>\n",
       "    </tr>\n",
       "  </tbody>\n",
       "</table>\n",
       "</div>"
      ],
      "text/plain": [
       "         date platform marketing_channel  campaign_id country  impressions  \\\n",
       "0  2023-11-01  android         Channel A  12347578214      CH            0   \n",
       "1  2023-11-01  android         Channel A  12347578214      FR        70732   \n",
       "2  2023-11-01  android         Channel A  12347578214      IT            0   \n",
       "3  2023-11-01  android         Channel A  12579890294      NL        17173   \n",
       "4  2023-11-01  android         Channel A  12581196474      FR            0   \n",
       "\n",
       "   clicks  app_installs  conversions  marketing_spend_euro  revenue_euro  \n",
       "0       0             3            1                  0.00         12.94  \n",
       "1    1116           469           37                688.56        915.76  \n",
       "2       0             1            0                  0.00          0.00  \n",
       "3     356           145            7                279.76        190.20  \n",
       "4       0             1            0                  0.00          0.00  "
      ]
     },
     "execution_count": 9,
     "metadata": {},
     "output_type": "execute_result"
    }
   ],
   "source": [
    "# Display the first 5 rows of the DataFrame to understand its structure and contents\n",
    "df.head()"
   ]
  },
  {
   "cell_type": "code",
   "execution_count": 10,
   "id": "e582f6a9",
   "metadata": {},
   "outputs": [
    {
     "name": "stdout",
     "output_type": "stream",
     "text": [
      "## Descriptive Statistics:\n"
     ]
    },
    {
     "data": {
      "text/html": [
       "<div>\n",
       "<style scoped>\n",
       "    .dataframe tbody tr th:only-of-type {\n",
       "        vertical-align: middle;\n",
       "    }\n",
       "\n",
       "    .dataframe tbody tr th {\n",
       "        vertical-align: top;\n",
       "    }\n",
       "\n",
       "    .dataframe thead th {\n",
       "        text-align: right;\n",
       "    }\n",
       "</style>\n",
       "<table border=\"1\" class=\"dataframe\">\n",
       "  <thead>\n",
       "    <tr style=\"text-align: right;\">\n",
       "      <th></th>\n",
       "      <th>impressions</th>\n",
       "      <th>clicks</th>\n",
       "      <th>app_installs</th>\n",
       "      <th>conversions</th>\n",
       "      <th>marketing_spend_euro</th>\n",
       "      <th>revenue_euro</th>\n",
       "    </tr>\n",
       "  </thead>\n",
       "  <tbody>\n",
       "    <tr>\n",
       "      <th>count</th>\n",
       "      <td>2627.000000</td>\n",
       "      <td>2627.000000</td>\n",
       "      <td>2627.000000</td>\n",
       "      <td>2627.000000</td>\n",
       "      <td>2627.000000</td>\n",
       "      <td>2627.000000</td>\n",
       "    </tr>\n",
       "    <tr>\n",
       "      <th>mean</th>\n",
       "      <td>9318.816521</td>\n",
       "      <td>90.460601</td>\n",
       "      <td>38.987438</td>\n",
       "      <td>3.604872</td>\n",
       "      <td>101.878489</td>\n",
       "      <td>101.513129</td>\n",
       "    </tr>\n",
       "    <tr>\n",
       "      <th>std</th>\n",
       "      <td>26912.639949</td>\n",
       "      <td>207.279428</td>\n",
       "      <td>105.853684</td>\n",
       "      <td>11.645432</td>\n",
       "      <td>225.837117</td>\n",
       "      <td>324.971323</td>\n",
       "    </tr>\n",
       "    <tr>\n",
       "      <th>min</th>\n",
       "      <td>0.000000</td>\n",
       "      <td>0.000000</td>\n",
       "      <td>0.000000</td>\n",
       "      <td>0.000000</td>\n",
       "      <td>0.000000</td>\n",
       "      <td>0.000000</td>\n",
       "    </tr>\n",
       "    <tr>\n",
       "      <th>25%</th>\n",
       "      <td>0.000000</td>\n",
       "      <td>0.000000</td>\n",
       "      <td>0.500000</td>\n",
       "      <td>0.000000</td>\n",
       "      <td>0.000000</td>\n",
       "      <td>0.000000</td>\n",
       "    </tr>\n",
       "    <tr>\n",
       "      <th>50%</th>\n",
       "      <td>132.000000</td>\n",
       "      <td>9.000000</td>\n",
       "      <td>2.000000</td>\n",
       "      <td>0.000000</td>\n",
       "      <td>10.640000</td>\n",
       "      <td>0.000000</td>\n",
       "    </tr>\n",
       "    <tr>\n",
       "      <th>75%</th>\n",
       "      <td>3290.500000</td>\n",
       "      <td>94.000000</td>\n",
       "      <td>23.000000</td>\n",
       "      <td>2.000000</td>\n",
       "      <td>100.355000</td>\n",
       "      <td>46.790000</td>\n",
       "    </tr>\n",
       "    <tr>\n",
       "      <th>max</th>\n",
       "      <td>301149.000000</td>\n",
       "      <td>1498.000000</td>\n",
       "      <td>754.000000</td>\n",
       "      <td>133.000000</td>\n",
       "      <td>3248.770000</td>\n",
       "      <td>2983.160000</td>\n",
       "    </tr>\n",
       "  </tbody>\n",
       "</table>\n",
       "</div>"
      ],
      "text/plain": [
       "         impressions       clicks  app_installs  conversions  \\\n",
       "count    2627.000000  2627.000000   2627.000000  2627.000000   \n",
       "mean     9318.816521    90.460601     38.987438     3.604872   \n",
       "std     26912.639949   207.279428    105.853684    11.645432   \n",
       "min         0.000000     0.000000      0.000000     0.000000   \n",
       "25%         0.000000     0.000000      0.500000     0.000000   \n",
       "50%       132.000000     9.000000      2.000000     0.000000   \n",
       "75%      3290.500000    94.000000     23.000000     2.000000   \n",
       "max    301149.000000  1498.000000    754.000000   133.000000   \n",
       "\n",
       "       marketing_spend_euro  revenue_euro  \n",
       "count           2627.000000   2627.000000  \n",
       "mean             101.878489    101.513129  \n",
       "std              225.837117    324.971323  \n",
       "min                0.000000      0.000000  \n",
       "25%                0.000000      0.000000  \n",
       "50%               10.640000      0.000000  \n",
       "75%              100.355000     46.790000  \n",
       "max             3248.770000   2983.160000  "
      ]
     },
     "execution_count": 10,
     "metadata": {},
     "output_type": "execute_result"
    }
   ],
   "source": [
    "# Display descriptive statistics for numerical columns\n",
    "print(\"## Descriptive Statistics:\")\n",
    "df.describe()"
   ]
  },
  {
   "cell_type": "code",
   "execution_count": 11,
   "id": "4770ff29",
   "metadata": {},
   "outputs": [
    {
     "name": "stdout",
     "output_type": "stream",
     "text": [
      "## Null Values Count per Column:\n",
      "\n",
      "date                    0\n",
      "platform                0\n",
      "marketing_channel       0\n",
      "campaign_id             0\n",
      "country                 0\n",
      "impressions             0\n",
      "clicks                  0\n",
      "app_installs            0\n",
      "conversions             0\n",
      "marketing_spend_euro    0\n",
      "revenue_euro            0\n",
      "dtype: int64\n"
     ]
    }
   ],
   "source": [
    "# Check for null values in the DataFrame\n",
    "null_counts = df.isnull().sum()\n",
    "print(\"## Null Values Count per Column:\\n\")\n",
    "print(null_counts)"
   ]
  },
  {
   "cell_type": "code",
   "execution_count": 12,
   "id": "0b3482e1",
   "metadata": {},
   "outputs": [
    {
     "name": "stdout",
     "output_type": "stream",
     "text": [
      "## All clear! There are no null values in the DataFrame.\n"
     ]
    }
   ],
   "source": [
    "# Test to verify if there are no null values in the entire DataFrame\n",
    "if df.isnull().sum().sum() == 0:\n",
    "    print(\"## All clear! There are no null values in the DataFrame.\")\n",
    "else:\n",
    "    raise ValueError(\"There are null values in the DataFrame!\")"
   ]
  },
  {
   "cell_type": "markdown",
   "id": "2d83f76e",
   "metadata": {},
   "source": [
    "> After understanding the dataframe, we can proceed to data transformation."
   ]
  },
  {
   "cell_type": "markdown",
   "id": "e93067a4",
   "metadata": {},
   "source": [
    "# 3. Data Transformation"
   ]
  },
  {
   "cell_type": "markdown",
   "id": "4a53b6e1",
   "metadata": {},
   "source": [
    "Since we want to analyze this data from multiple dimensions (e.g. `country`,`platform `, `marketing_channel`, etc), it is convenient to write a function that can be reused flexibly.\n",
    "\n",
    "I will follow the steps:\n",
    "1. Aggregate the data using pandas `.agg()`\n",
    "2. Calculate the metrics using `calculate_metrics()`\n",
    "3. Style the output using `format_df()`"
   ]
  },
  {
   "cell_type": "markdown",
   "id": "c513d85d",
   "metadata": {},
   "source": [
    "## 3.1  Calculate Metrics"
   ]
  },
  {
   "cell_type": "markdown",
   "id": "7e6a9a11",
   "metadata": {},
   "source": [
    "The `calculate_metrics` function is important in marketing analytics because it ensures precise calculations by aggregating data before deriving metrics. For example, `CTR` is computed as the total clicks divided by the total impressions, avoiding errors that can arise from averaging individual `CTR` values.\n",
    "\n",
    "These metrics represent key stages of the marketing funnel, providing insights into user behavior and campaign performance. Metrics are categorized into:\n",
    "\n",
    "- **Absolute Metrics**: `impressions`, `clicks`, `conversions`...\n",
    "- **Relative Conversion Metrics**: `CTR`, `click_to_install_rate`,`install_to_conversion`...\n",
    "- **Associated Cost Metrics**: `CPC`, `CPI`...\n",
    "- **Business Metrics**: `profit`, `ROAS`...\n",
    "\n",
    "The function's reusable design makes it adaptable for analyzing different groupings, such as by campaign, platform, or time period, streamlining iterative analysis and enabling flexibility in decision-making."
   ]
  },
  {
   "cell_type": "code",
   "execution_count": 24,
   "id": "eaea1148",
   "metadata": {},
   "outputs": [],
   "source": [
    "# Function to Calculate Metrics\n",
    "def calculate_metrics(df):\n",
    "    \"\"\"\n",
    "    Calculates derived, cost, and business metrics for an aggregated DataFrame, replacing infinite values with NaN.\n",
    "\n",
    "    Args:\n",
    "        df (pd.DataFrame): Aggregated DataFrame with base columns.\n",
    "\n",
    "    Returns:\n",
    "        pd.DataFrame: DataFrame with additional calculated metrics.\n",
    "    \"\"\"\n",
    "    # Create a copy to avoid modifying the input DataFrame\n",
    "    df_metrics = df.copy()\n",
    "\n",
    "    # Calculate derived/relative metrics\n",
    "    df_metrics['click_through_rate'] = (df_metrics['clicks'] / df_metrics['impressions'] * 100).round(2)  # Click-through rate\n",
    "    df_metrics['click_to_install_rate'] = (df_metrics['app_installs'] / df_metrics['clicks'] * 100).round(2)  # Install rate\n",
    "    df_metrics['install_to_conversion_rate'] = (df_metrics['conversions'] / df_metrics['app_installs'] * 100).round(2)  # Conversion rate\n",
    "\n",
    "    # Calculate cost-associated metrics\n",
    "    df_metrics['cpm'] = (df_metrics['marketing_spend_euro'] / df_metrics['impressions'] * 1000).round(2)  # Cost per 1000 impressions\n",
    "    df_metrics['cpc'] = (df_metrics['marketing_spend_euro'] / df_metrics['clicks']).round(2)  # Cost per click\n",
    "    df_metrics['cpi'] = (df_metrics['marketing_spend_euro'] / df_metrics['app_installs']).round(2)  # Cost per install\n",
    "    df_metrics['cpa'] = (df_metrics['marketing_spend_euro'] / df_metrics['conversions']).round(2)  # Cost per acquisition (conversion)\n",
    "\n",
    "    # Calculate business metrics\n",
    "    df_metrics['rpa'] = (df_metrics['revenue_euro'] / df_metrics['conversions']).round(2)  # Revenue per acquisition (conversion)\n",
    "    df_metrics['profit'] = (df_metrics['revenue_euro'] - df_metrics['marketing_spend_euro']).round(2)  # Total profit\n",
    "    df_metrics['return_on_ad_spend_percentage'] = (df_metrics['revenue_euro'] / df_metrics['marketing_spend_euro'] * 100).round(2)  # ROAS\n",
    "    df_metrics['return_on_investment_percentage'] = (df_metrics['profit'] / df_metrics['marketing_spend_euro'] * 100).round(2)  # ROI\n",
    "\n",
    "    # Replace infinite values with NaN to avoid problems when plotting\n",
    "    df_metrics.replace([np.inf, -np.inf], np.nan, inplace=True)\n",
    "\n",
    "    return df_metrics"
   ]
  },
  {
   "cell_type": "markdown",
   "id": "6fe6a37d",
   "metadata": {},
   "source": [
    "## 3.2 Format metrics"
   ]
  },
  {
   "cell_type": "code",
   "execution_count": 14,
   "id": "3ef15fc7",
   "metadata": {},
   "outputs": [],
   "source": [
    "# Function to Format Metrics for Display\n",
    "def format_metrics(df):\n",
    "    \"\"\"\n",
    "    Formats metrics for display using pandas Styler to apply consistent formatting, including percentages,\n",
    "    currency, and thousands separators, while allowing visual enhancements like bars.\n",
    "\n",
    "    Args:\n",
    "        df (pd.DataFrame): DataFrame with calculated metrics.\n",
    "\n",
    "    Returns:\n",
    "        pd.io.formats.style.Styler: A styled DataFrame ready for display.\n",
    "    \"\"\"\n",
    "    styled_df = df.style.hide(axis=\"index\") \\\n",
    "        .bar(subset=['app_installs','conversions','marketing_spend_euro','revenue_euro','profit', 'cpi', 'install_to_conversion_rate'], align='mid', color=['#d65f5f', '#8ecbfa']) \\\n",
    "        .format(\n",
    "            formatter={\n",
    "                'impressions': \"{:,}\",\n",
    "                'clicks': \"{:,}\",\n",
    "                'app_installs': \"{:,}\",\n",
    "                'conversions': \"{:,}\",\n",
    "                'marketing_spend_euro': \"€{:.2f}\",\n",
    "                'revenue_euro': \"€{:.2f}\",\n",
    "                'click_through_rate': lambda x: f\"{x:.2f}%\",\n",
    "                'click_to_install_rate': lambda x: f\"{x:.2f}%\",\n",
    "                'install_to_conversion_rate': lambda x: f\"{x:.2f}%\",\n",
    "                'cpm': \"€{:.2f}\",\n",
    "                'cpc': \"€{:.2f}\",\n",
    "                'cpi': \"€{:.2f}\",\n",
    "                'cpa': \"€{:.2f}\",\n",
    "                'profit': \"€{:.2f}\",\n",
    "                'return_on_ad_spend_percentage': lambda x: f\"{x:.2f}%\",\n",
    "                'return_on_investment_percentage': lambda x: f\"{x:.2f}%\",\n",
    "                'rpa': \"€{:.2f}\"\n",
    "            }\n",
    "        )\n",
    "\n",
    "    return styled_df"
   ]
  },
  {
   "cell_type": "code",
   "execution_count": 16,
   "id": "9acfb2cd",
   "metadata": {},
   "outputs": [],
   "source": [
    "# Function to Format Metrics for Display\n",
    "def format_metrics_selected_columns(df):\n",
    "    \"\"\"\n",
    "    Formats metrics for display using pandas Styler to apply consistent formatting, including percentages,\n",
    "    currency, and thousands separators, while allowing visual enhancements like bars.\n",
    "\n",
    "    Args:\n",
    "        df (pd.DataFrame): DataFrame with calculated metrics.\n",
    "\n",
    "    Returns:\n",
    "        pd.io.formats.style.Styler: A styled DataFrame ready for display.\n",
    "    \"\"\"\n",
    "    styled_df = df.style.hide(axis=\"index\") \\\n",
    "        .bar(subset=['app_installs', 'cpi', 'install_to_conversion_rate','profit'], align='mid', color=['#d65f5f', '#8ecbfa']) \\\n",
    "        .format(\n",
    "            formatter={\n",
    "                'impressions': \"{:,}\",\n",
    "                'clicks': \"{:,}\",\n",
    "                'app_installs': \"{:,}\",\n",
    "                'conversions': \"{:,}\",\n",
    "                'marketing_spend_euro': \"€{:.2f}\",\n",
    "                'revenue_euro': \"€{:.2f}\",\n",
    "                'click_through_rate': lambda x: f\"{x:.2f}%\",\n",
    "                'click_to_install_rate': lambda x: f\"{x:.2f}%\",\n",
    "                'install_to_conversion_rate': lambda x: f\"{x:.2f}%\",\n",
    "                'cpm': \"€{:.2f}\",\n",
    "                'cpc': \"€{:.2f}\",\n",
    "                'cpi': \"€{:.2f}\",\n",
    "                'cpa': \"€{:.2f}\",\n",
    "                'profit': \"€{:.2f}\",\n",
    "                'return_on_ad_spend_percentage': lambda x: f\"{x:.2f}%\",\n",
    "                'return_on_investment_percentage': lambda x: f\"{x:.2f}%\",\n",
    "                'rpa': \"€{:.2f}\"\n",
    "            }\n",
    "        )\n",
    "\n",
    "    return styled_df"
   ]
  },
  {
   "cell_type": "code",
   "execution_count": 11,
   "id": "db9daca9",
   "metadata": {},
   "outputs": [],
   "source": [
    "# absolute_columns = ['impressions', 'clicks', 'app_installs', 'conversions', 'marketing_spend_euro', 'revenue_euro']\n",
    "\n",
    "# relative_columns = ['click_through_rate','click_to_install_rate', 'install_to_conversion_rate']\n",
    "\n",
    "# cost_columns = ['cpm', 'cpc', 'cpi', 'cpa']\n",
    "\n",
    "# business_columns =['profit', 'return_on_ad_spend_percentage','return_on_investment_percentage']\n",
    "\n",
    "# main_columns =['marketing_spend_euro','cpa','profit', 'return_on_ad_spend_percentage']\n",
    "\n",
    "# # format_df[main_columns]"
   ]
  },
  {
   "cell_type": "markdown",
   "id": "15a59082",
   "metadata": {},
   "source": [
    "## 3.3 Execute the transformations"
   ]
  },
  {
   "cell_type": "markdown",
   "id": "e8596f62",
   "metadata": {},
   "source": [
    "```python\n",
    "## SNIPPET ##\n",
    "# Aggregate the data with the desired dimensions\n",
    "agg_df = df.groupby([dimensions]).sum(numeric_only=True)\n",
    "\n",
    "# Calculate the metrics\n",
    "df_metrics = calculate_metrics(agg_df).reset_index()\n",
    "\n",
    "# Filter the country\n",
    "filtered_df_de = df_metrics[df_metrics['country'] == 'DE']\n",
    "filtered_df_us = df_metrics[df_metrics['country'] == 'US']\n",
    "\n",
    "# Stytle the output table\n",
    "formatted_df = format_metrics(df_metrics)\n",
    "```"
   ]
  },
  {
   "cell_type": "markdown",
   "id": "2fe51da6",
   "metadata": {},
   "source": [
    "### 3.3.1 Create `df_channels_over_time`"
   ]
  },
  {
   "cell_type": "code",
   "execution_count": 25,
   "id": "e4261554",
   "metadata": {},
   "outputs": [],
   "source": [
    "# Aggregate the data\n",
    "agg_df = df.groupby(['country','marketing_channel','date']).sum(numeric_only=True)\n",
    "\n",
    "#Calculate the metrics\n",
    "df_metrics = calculate_metrics(agg_df).reset_index()\n",
    "\n",
    "# Create the object\n",
    "df_channels_over_time = df_metrics.copy()"
   ]
  },
  {
   "cell_type": "markdown",
   "id": "ca1b5583",
   "metadata": {},
   "source": [
    "# 4. Data Analysis"
   ]
  },
  {
   "cell_type": "markdown",
   "id": "4ebca34b",
   "metadata": {},
   "source": [
    "## 4.1 Main KPIS"
   ]
  },
  {
   "cell_type": "markdown",
   "id": "45c8d4c3",
   "metadata": {},
   "source": [
    "In evaluating the performance of paid marketing campaigns, it is crucial to consider multiple Key Performance Indicators (KPIs) to gain a holistic understanding of campaign effectiveness. Each KPI provides unique insights into different aspects of performance, allowing for a balanced approach to decision-making. \n",
    "\n",
    "Since **the objective of these campaigns is to maximize app installations while maintaining a balanced consideration of financial implications**, keeping in mind the limitation to use few KPIs, I would choose: **Installs**, **Cost Per Install (CPI)**, **Install-to-Conversion Rate**, and **Profit**.\n",
    "\n",
    "- **Installs** reflect the volume of the campaign, showing how many users have been acquired through paid marketing efforts.\n",
    "- **CPI** reflects the cost-efficiency of acquiring app installs, addressing the primary objective of maximizing installations while considering financial constraints.\n",
    "- **Install-to-Conversion Rate** evaluates the quality of installs by measuring how effectively they convert into paying subscribers, ensuring that the installs generate meaningful engagement.\n",
    "- **Profit** captures the financial outcome of campaigns, balancing revenue generation against marketing expenses to highlight overall success."
   ]
  },
  {
   "cell_type": "code",
   "execution_count": 27,
   "id": "db187ef3",
   "metadata": {},
   "outputs": [],
   "source": [
    "selected_columns = ['country','platform','marketing_channel', 'app_installs','cpi','install_to_conversion_rate','profit']"
   ]
  },
  {
   "cell_type": "code",
   "execution_count": 30,
   "id": "fe5c2b93",
   "metadata": {},
   "outputs": [
    {
     "data": {
      "text/html": [
       "<style type=\"text/css\">\n",
       "#T_c7192_row0_col3, #T_c7192_row2_col4, #T_c7192_row3_col5 {\n",
       "  width: 10em;\n",
       "  background: linear-gradient(90deg, #8ecbfa 100.0%, transparent 100.0%);\n",
       "}\n",
       "#T_c7192_row0_col4, #T_c7192_row4_col4 {\n",
       "  width: 10em;\n",
       "  background: linear-gradient(90deg, #8ecbfa 0.2%, transparent 0.2%);\n",
       "}\n",
       "#T_c7192_row0_col5 {\n",
       "  width: 10em;\n",
       "  background: linear-gradient(90deg, #8ecbfa 68.5%, transparent 68.5%);\n",
       "}\n",
       "#T_c7192_row0_col6 {\n",
       "  width: 10em;\n",
       "  background: linear-gradient(90deg, transparent 21.0%, #8ecbfa 21.0%, #8ecbfa 100.0%, transparent 100.0%);\n",
       "}\n",
       "#T_c7192_row1_col3 {\n",
       "  width: 10em;\n",
       "  background: linear-gradient(90deg, #8ecbfa 1.0%, transparent 1.0%);\n",
       "}\n",
       "#T_c7192_row1_col4, #T_c7192_row2_col5, #T_c7192_row7_col3, #T_c7192_row7_col4, #T_c7192_row7_col5 {\n",
       "  width: 10em;\n",
       "}\n",
       "#T_c7192_row1_col5 {\n",
       "  width: 10em;\n",
       "  background: linear-gradient(90deg, #8ecbfa 20.0%, transparent 20.0%);\n",
       "}\n",
       "#T_c7192_row1_col6 {\n",
       "  width: 10em;\n",
       "  background: linear-gradient(90deg, transparent 21.0%, #8ecbfa 21.0%, #8ecbfa 21.4%, transparent 21.4%);\n",
       "}\n",
       "#T_c7192_row2_col3 {\n",
       "  width: 10em;\n",
       "  background: linear-gradient(90deg, #8ecbfa 0.0%, transparent 0.0%);\n",
       "}\n",
       "#T_c7192_row2_col6 {\n",
       "  width: 10em;\n",
       "  background: linear-gradient(90deg, transparent 16.7%, #d65f5f 16.7%, #d65f5f 21.0%, transparent 21.0%);\n",
       "}\n",
       "#T_c7192_row3_col3 {\n",
       "  width: 10em;\n",
       "  background: linear-gradient(90deg, #8ecbfa 0.1%, transparent 0.1%);\n",
       "}\n",
       "#T_c7192_row3_col4 {\n",
       "  width: 10em;\n",
       "  background: linear-gradient(90deg, #8ecbfa 98.5%, transparent 98.5%);\n",
       "}\n",
       "#T_c7192_row3_col6 {\n",
       "  width: 10em;\n",
       "  background: linear-gradient(90deg, #d65f5f 21.0%, transparent 21.0%);\n",
       "}\n",
       "#T_c7192_row4_col3 {\n",
       "  width: 10em;\n",
       "  background: linear-gradient(90deg, #8ecbfa 78.1%, transparent 78.1%);\n",
       "}\n",
       "#T_c7192_row4_col5 {\n",
       "  width: 10em;\n",
       "  background: linear-gradient(90deg, #8ecbfa 48.1%, transparent 48.1%);\n",
       "}\n",
       "#T_c7192_row4_col6 {\n",
       "  width: 10em;\n",
       "  background: linear-gradient(90deg, transparent 21.0%, #8ecbfa 21.0%, #8ecbfa 47.2%, transparent 47.2%);\n",
       "}\n",
       "#T_c7192_row5_col3, #T_c7192_row5_col5 {\n",
       "  width: 10em;\n",
       "  background: linear-gradient(90deg, #8ecbfa 22.1%, transparent 22.1%);\n",
       "}\n",
       "#T_c7192_row5_col4 {\n",
       "  width: 10em;\n",
       "  background: linear-gradient(90deg, #8ecbfa 0.3%, transparent 0.3%);\n",
       "}\n",
       "#T_c7192_row5_col6 {\n",
       "  width: 10em;\n",
       "  background: linear-gradient(90deg, transparent 7.8%, #d65f5f 7.8%, #d65f5f 21.0%, transparent 21.0%);\n",
       "}\n",
       "#T_c7192_row6_col3 {\n",
       "  width: 10em;\n",
       "  background: linear-gradient(90deg, #8ecbfa 10.7%, transparent 10.7%);\n",
       "}\n",
       "#T_c7192_row6_col4 {\n",
       "  width: 10em;\n",
       "  background: linear-gradient(90deg, #8ecbfa 0.6%, transparent 0.6%);\n",
       "}\n",
       "#T_c7192_row6_col5 {\n",
       "  width: 10em;\n",
       "  background: linear-gradient(90deg, #8ecbfa 37.0%, transparent 37.0%);\n",
       "}\n",
       "#T_c7192_row6_col6 {\n",
       "  width: 10em;\n",
       "  background: linear-gradient(90deg, transparent 7.7%, #d65f5f 7.7%, #d65f5f 21.0%, transparent 21.0%);\n",
       "}\n",
       "#T_c7192_row7_col6 {\n",
       "  width: 10em;\n",
       "  background: linear-gradient(90deg, transparent 1.8%, #d65f5f 1.8%, #d65f5f 21.0%, transparent 21.0%);\n",
       "}\n",
       "</style>\n",
       "<table id=\"T_c7192\">\n",
       "  <thead>\n",
       "    <tr>\n",
       "      <th id=\"T_c7192_level0_col0\" class=\"col_heading level0 col0\" >country</th>\n",
       "      <th id=\"T_c7192_level0_col1\" class=\"col_heading level0 col1\" >platform</th>\n",
       "      <th id=\"T_c7192_level0_col2\" class=\"col_heading level0 col2\" >marketing_channel</th>\n",
       "      <th id=\"T_c7192_level0_col3\" class=\"col_heading level0 col3\" >app_installs</th>\n",
       "      <th id=\"T_c7192_level0_col4\" class=\"col_heading level0 col4\" >cpi</th>\n",
       "      <th id=\"T_c7192_level0_col5\" class=\"col_heading level0 col5\" >install_to_conversion_rate</th>\n",
       "      <th id=\"T_c7192_level0_col6\" class=\"col_heading level0 col6\" >profit</th>\n",
       "    </tr>\n",
       "  </thead>\n",
       "  <tbody>\n",
       "    <tr>\n",
       "      <td id=\"T_c7192_row0_col0\" class=\"data row0 col0\" >DE</td>\n",
       "      <td id=\"T_c7192_row0_col1\" class=\"data row0 col1\" >ios</td>\n",
       "      <td id=\"T_c7192_row0_col2\" class=\"data row0 col2\" >Channel C</td>\n",
       "      <td id=\"T_c7192_row0_col3\" class=\"data row0 col3\" >22,972</td>\n",
       "      <td id=\"T_c7192_row0_col4\" class=\"data row0 col4\" >€1.59</td>\n",
       "      <td id=\"T_c7192_row0_col5\" class=\"data row0 col5\" >13.71%</td>\n",
       "      <td id=\"T_c7192_row0_col6\" class=\"data row0 col6\" >€51454.35</td>\n",
       "    </tr>\n",
       "    <tr>\n",
       "      <td id=\"T_c7192_row1_col0\" class=\"data row1 col0\" >DE</td>\n",
       "      <td id=\"T_c7192_row1_col1\" class=\"data row1 col1\" >ios</td>\n",
       "      <td id=\"T_c7192_row1_col2\" class=\"data row1 col2\" >Channel E</td>\n",
       "      <td id=\"T_c7192_row1_col3\" class=\"data row1 col3\" >225</td>\n",
       "      <td id=\"T_c7192_row1_col4\" class=\"data row1 col4\" >€0.00</td>\n",
       "      <td id=\"T_c7192_row1_col5\" class=\"data row1 col5\" >4.00%</td>\n",
       "      <td id=\"T_c7192_row1_col6\" class=\"data row1 col6\" >€250.38</td>\n",
       "    </tr>\n",
       "    <tr>\n",
       "      <td id=\"T_c7192_row2_col0\" class=\"data row2 col0\" >DE</td>\n",
       "      <td id=\"T_c7192_row2_col1\" class=\"data row2 col1\" >ios</td>\n",
       "      <td id=\"T_c7192_row2_col2\" class=\"data row2 col2\" >Channel A</td>\n",
       "      <td id=\"T_c7192_row2_col3\" class=\"data row2 col3\" >3</td>\n",
       "      <td id=\"T_c7192_row2_col4\" class=\"data row2 col4\" >€931.91</td>\n",
       "      <td id=\"T_c7192_row2_col5\" class=\"data row2 col5\" >0.00%</td>\n",
       "      <td id=\"T_c7192_row2_col6\" class=\"data row2 col6\" >€-2795.72</td>\n",
       "    </tr>\n",
       "    <tr>\n",
       "      <td id=\"T_c7192_row3_col0\" class=\"data row3 col0\" >DE</td>\n",
       "      <td id=\"T_c7192_row3_col1\" class=\"data row3 col1\" >ios</td>\n",
       "      <td id=\"T_c7192_row3_col2\" class=\"data row3 col2\" >Channel B</td>\n",
       "      <td id=\"T_c7192_row3_col3\" class=\"data row3 col3\" >15</td>\n",
       "      <td id=\"T_c7192_row3_col4\" class=\"data row3 col4\" >€917.89</td>\n",
       "      <td id=\"T_c7192_row3_col5\" class=\"data row3 col5\" >20.00%</td>\n",
       "      <td id=\"T_c7192_row3_col6\" class=\"data row3 col6\" >€-13658.21</td>\n",
       "    </tr>\n",
       "    <tr>\n",
       "      <td id=\"T_c7192_row4_col0\" class=\"data row4 col0\" >DE</td>\n",
       "      <td id=\"T_c7192_row4_col1\" class=\"data row4 col1\" >android</td>\n",
       "      <td id=\"T_c7192_row4_col2\" class=\"data row4 col2\" >Channel A</td>\n",
       "      <td id=\"T_c7192_row4_col3\" class=\"data row4 col3\" >17,951</td>\n",
       "      <td id=\"T_c7192_row4_col4\" class=\"data row4 col4\" >€1.84</td>\n",
       "      <td id=\"T_c7192_row4_col5\" class=\"data row4 col5\" >9.62%</td>\n",
       "      <td id=\"T_c7192_row4_col6\" class=\"data row4 col6\" >€17064.63</td>\n",
       "    </tr>\n",
       "    <tr>\n",
       "      <td id=\"T_c7192_row5_col0\" class=\"data row5 col0\" >DE</td>\n",
       "      <td id=\"T_c7192_row5_col1\" class=\"data row5 col1\" >android</td>\n",
       "      <td id=\"T_c7192_row5_col2\" class=\"data row5 col2\" >Channel B</td>\n",
       "      <td id=\"T_c7192_row5_col3\" class=\"data row5 col3\" >5,081</td>\n",
       "      <td id=\"T_c7192_row5_col4\" class=\"data row5 col4\" >€3.12</td>\n",
       "      <td id=\"T_c7192_row5_col5\" class=\"data row5 col5\" >4.43%</td>\n",
       "      <td id=\"T_c7192_row5_col6\" class=\"data row5 col6\" >€-8593.46</td>\n",
       "    </tr>\n",
       "    <tr>\n",
       "      <td id=\"T_c7192_row6_col0\" class=\"data row6 col0\" >DE</td>\n",
       "      <td id=\"T_c7192_row6_col1\" class=\"data row6 col1\" >android</td>\n",
       "      <td id=\"T_c7192_row6_col2\" class=\"data row6 col2\" >Channel E</td>\n",
       "      <td id=\"T_c7192_row6_col3\" class=\"data row6 col3\" >2,457</td>\n",
       "      <td id=\"T_c7192_row6_col4\" class=\"data row6 col4\" >€5.86</td>\n",
       "      <td id=\"T_c7192_row6_col5\" class=\"data row6 col5\" >7.41%</td>\n",
       "      <td id=\"T_c7192_row6_col6\" class=\"data row6 col6\" >€-8626.30</td>\n",
       "    </tr>\n",
       "    <tr>\n",
       "      <td id=\"T_c7192_row7_col0\" class=\"data row7 col0\" >DE</td>\n",
       "      <td id=\"T_c7192_row7_col1\" class=\"data row7 col1\" >android</td>\n",
       "      <td id=\"T_c7192_row7_col2\" class=\"data row7 col2\" >Channel D</td>\n",
       "      <td id=\"T_c7192_row7_col3\" class=\"data row7 col3\" >0</td>\n",
       "      <td id=\"T_c7192_row7_col4\" class=\"data row7 col4\" >€0.00</td>\n",
       "      <td id=\"T_c7192_row7_col5\" class=\"data row7 col5\" >0.00%</td>\n",
       "      <td id=\"T_c7192_row7_col6\" class=\"data row7 col6\" >€-12500.97</td>\n",
       "    </tr>\n",
       "  </tbody>\n",
       "</table>\n"
      ],
      "text/plain": [
       "<pandas.io.formats.style.Styler at 0x146e3ae50>"
      ]
     },
     "metadata": {},
     "output_type": "display_data"
    },
    {
     "data": {
      "text/html": [
       "<style type=\"text/css\">\n",
       "#T_7c365_row0_col3, #T_7c365_row0_col4, #T_7c365_row0_col5, #T_7c365_row0_col6, #T_7c365_row1_col5, #T_7c365_row2_col5, #T_7c365_row4_col4, #T_7c365_row4_col5, #T_7c365_row4_col6, #T_7c365_row5_col3, #T_7c365_row5_col4, #T_7c365_row5_col5, #T_7c365_row5_col6, #T_7c365_row6_col3, #T_7c365_row6_col4, #T_7c365_row6_col5 {\n",
       "  width: 10em;\n",
       "}\n",
       "#T_7c365_row1_col3, #T_7c365_row2_col3 {\n",
       "  width: 10em;\n",
       "  background: linear-gradient(90deg, #8ecbfa 0.0%, transparent 0.0%);\n",
       "}\n",
       "#T_7c365_row1_col4 {\n",
       "  width: 10em;\n",
       "  background: linear-gradient(90deg, #8ecbfa 74.3%, transparent 74.3%);\n",
       "}\n",
       "#T_7c365_row1_col6 {\n",
       "  width: 10em;\n",
       "  background: linear-gradient(90deg, transparent 54.3%, #d65f5f 54.3%, #d65f5f 100.0%, transparent 100.0%);\n",
       "}\n",
       "#T_7c365_row2_col4, #T_7c365_row3_col3, #T_7c365_row3_col5 {\n",
       "  width: 10em;\n",
       "  background: linear-gradient(90deg, #8ecbfa 100.0%, transparent 100.0%);\n",
       "}\n",
       "#T_7c365_row2_col6 {\n",
       "  width: 10em;\n",
       "  background: linear-gradient(90deg, transparent 38.4%, #d65f5f 38.4%, #d65f5f 100.0%, transparent 100.0%);\n",
       "}\n",
       "#T_7c365_row3_col4, #T_7c365_row7_col4 {\n",
       "  width: 10em;\n",
       "  background: linear-gradient(90deg, #8ecbfa 0.1%, transparent 0.1%);\n",
       "}\n",
       "#T_7c365_row3_col6 {\n",
       "  width: 10em;\n",
       "  background: linear-gradient(90deg, #d65f5f 100.0%, transparent 100.0%);\n",
       "}\n",
       "#T_7c365_row4_col3 {\n",
       "  width: 10em;\n",
       "  background: linear-gradient(90deg, #8ecbfa 0.2%, transparent 0.2%);\n",
       "}\n",
       "#T_7c365_row6_col6 {\n",
       "  width: 10em;\n",
       "  background: linear-gradient(90deg, transparent 73.0%, #d65f5f 73.0%, #d65f5f 100.0%, transparent 100.0%);\n",
       "}\n",
       "#T_7c365_row7_col3 {\n",
       "  width: 10em;\n",
       "  background: linear-gradient(90deg, #8ecbfa 40.1%, transparent 40.1%);\n",
       "}\n",
       "#T_7c365_row7_col5 {\n",
       "  width: 10em;\n",
       "  background: linear-gradient(90deg, #8ecbfa 69.0%, transparent 69.0%);\n",
       "}\n",
       "#T_7c365_row7_col6 {\n",
       "  width: 10em;\n",
       "  background: linear-gradient(90deg, transparent 43.9%, #d65f5f 43.9%, #d65f5f 100.0%, transparent 100.0%);\n",
       "}\n",
       "</style>\n",
       "<table id=\"T_7c365\">\n",
       "  <thead>\n",
       "    <tr>\n",
       "      <th id=\"T_7c365_level0_col0\" class=\"col_heading level0 col0\" >country</th>\n",
       "      <th id=\"T_7c365_level0_col1\" class=\"col_heading level0 col1\" >platform</th>\n",
       "      <th id=\"T_7c365_level0_col2\" class=\"col_heading level0 col2\" >marketing_channel</th>\n",
       "      <th id=\"T_7c365_level0_col3\" class=\"col_heading level0 col3\" >app_installs</th>\n",
       "      <th id=\"T_7c365_level0_col4\" class=\"col_heading level0 col4\" >cpi</th>\n",
       "      <th id=\"T_7c365_level0_col5\" class=\"col_heading level0 col5\" >install_to_conversion_rate</th>\n",
       "      <th id=\"T_7c365_level0_col6\" class=\"col_heading level0 col6\" >profit</th>\n",
       "    </tr>\n",
       "  </thead>\n",
       "  <tbody>\n",
       "    <tr>\n",
       "      <td id=\"T_7c365_row0_col0\" class=\"data row0 col0\" >US</td>\n",
       "      <td id=\"T_7c365_row0_col1\" class=\"data row0 col1\" >ios</td>\n",
       "      <td id=\"T_7c365_row0_col2\" class=\"data row0 col2\" >Channel E</td>\n",
       "      <td id=\"T_7c365_row0_col3\" class=\"data row0 col3\" >0</td>\n",
       "      <td id=\"T_7c365_row0_col4\" class=\"data row0 col4\" >€0.00</td>\n",
       "      <td id=\"T_7c365_row0_col5\" class=\"data row0 col5\" >0.00%</td>\n",
       "      <td id=\"T_7c365_row0_col6\" class=\"data row0 col6\" >€0.00</td>\n",
       "    </tr>\n",
       "    <tr>\n",
       "      <td id=\"T_7c365_row1_col0\" class=\"data row1 col0\" >US</td>\n",
       "      <td id=\"T_7c365_row1_col1\" class=\"data row1 col1\" >ios</td>\n",
       "      <td id=\"T_7c365_row1_col2\" class=\"data row1 col2\" >Channel B</td>\n",
       "      <td id=\"T_7c365_row1_col3\" class=\"data row1 col3\" >1</td>\n",
       "      <td id=\"T_7c365_row1_col4\" class=\"data row1 col4\" >€2595.43</td>\n",
       "      <td id=\"T_7c365_row1_col5\" class=\"data row1 col5\" >0.00%</td>\n",
       "      <td id=\"T_7c365_row1_col6\" class=\"data row1 col6\" >€-2595.43</td>\n",
       "    </tr>\n",
       "    <tr>\n",
       "      <td id=\"T_7c365_row2_col0\" class=\"data row2 col0\" >US</td>\n",
       "      <td id=\"T_7c365_row2_col1\" class=\"data row2 col1\" >ios</td>\n",
       "      <td id=\"T_7c365_row2_col2\" class=\"data row2 col2\" >Channel A</td>\n",
       "      <td id=\"T_7c365_row2_col3\" class=\"data row2 col3\" >1</td>\n",
       "      <td id=\"T_7c365_row2_col4\" class=\"data row2 col4\" >€3494.55</td>\n",
       "      <td id=\"T_7c365_row2_col5\" class=\"data row2 col5\" >0.00%</td>\n",
       "      <td id=\"T_7c365_row2_col6\" class=\"data row2 col6\" >€-3494.55</td>\n",
       "    </tr>\n",
       "    <tr>\n",
       "      <td id=\"T_7c365_row3_col0\" class=\"data row3 col0\" >US</td>\n",
       "      <td id=\"T_7c365_row3_col1\" class=\"data row3 col1\" >ios</td>\n",
       "      <td id=\"T_7c365_row3_col2\" class=\"data row3 col2\" >Channel C</td>\n",
       "      <td id=\"T_7c365_row3_col3\" class=\"data row3 col3\" >3,590</td>\n",
       "      <td id=\"T_7c365_row3_col4\" class=\"data row3 col4\" >€4.18</td>\n",
       "      <td id=\"T_7c365_row3_col5\" class=\"data row3 col5\" >10.56%</td>\n",
       "      <td id=\"T_7c365_row3_col6\" class=\"data row3 col6\" >€-5675.34</td>\n",
       "    </tr>\n",
       "    <tr>\n",
       "      <td id=\"T_7c365_row4_col0\" class=\"data row4 col0\" >US</td>\n",
       "      <td id=\"T_7c365_row4_col1\" class=\"data row4 col1\" >android</td>\n",
       "      <td id=\"T_7c365_row4_col2\" class=\"data row4 col2\" >Channel A</td>\n",
       "      <td id=\"T_7c365_row4_col3\" class=\"data row4 col3\" >6</td>\n",
       "      <td id=\"T_7c365_row4_col4\" class=\"data row4 col4\" >€0.00</td>\n",
       "      <td id=\"T_7c365_row4_col5\" class=\"data row4 col5\" >0.00%</td>\n",
       "      <td id=\"T_7c365_row4_col6\" class=\"data row4 col6\" >€0.00</td>\n",
       "    </tr>\n",
       "    <tr>\n",
       "      <td id=\"T_7c365_row5_col0\" class=\"data row5 col0\" >US</td>\n",
       "      <td id=\"T_7c365_row5_col1\" class=\"data row5 col1\" >android</td>\n",
       "      <td id=\"T_7c365_row5_col2\" class=\"data row5 col2\" >Channel E</td>\n",
       "      <td id=\"T_7c365_row5_col3\" class=\"data row5 col3\" >0</td>\n",
       "      <td id=\"T_7c365_row5_col4\" class=\"data row5 col4\" >€0.00</td>\n",
       "      <td id=\"T_7c365_row5_col5\" class=\"data row5 col5\" >0.00%</td>\n",
       "      <td id=\"T_7c365_row5_col6\" class=\"data row5 col6\" >€0.00</td>\n",
       "    </tr>\n",
       "    <tr>\n",
       "      <td id=\"T_7c365_row6_col0\" class=\"data row6 col0\" >US</td>\n",
       "      <td id=\"T_7c365_row6_col1\" class=\"data row6 col1\" >android</td>\n",
       "      <td id=\"T_7c365_row6_col2\" class=\"data row6 col2\" >Channel D</td>\n",
       "      <td id=\"T_7c365_row6_col3\" class=\"data row6 col3\" >0</td>\n",
       "      <td id=\"T_7c365_row6_col4\" class=\"data row6 col4\" >€0.00</td>\n",
       "      <td id=\"T_7c365_row6_col5\" class=\"data row6 col5\" >0.00%</td>\n",
       "      <td id=\"T_7c365_row6_col6\" class=\"data row6 col6\" >€-1534.93</td>\n",
       "    </tr>\n",
       "    <tr>\n",
       "      <td id=\"T_7c365_row7_col0\" class=\"data row7 col0\" >US</td>\n",
       "      <td id=\"T_7c365_row7_col1\" class=\"data row7 col1\" >android</td>\n",
       "      <td id=\"T_7c365_row7_col2\" class=\"data row7 col2\" >Channel B</td>\n",
       "      <td id=\"T_7c365_row7_col3\" class=\"data row7 col3\" >1,440</td>\n",
       "      <td id=\"T_7c365_row7_col4\" class=\"data row7 col4\" >€3.97</td>\n",
       "      <td id=\"T_7c365_row7_col5\" class=\"data row7 col5\" >7.29%</td>\n",
       "      <td id=\"T_7c365_row7_col6\" class=\"data row7 col6\" >€-3181.17</td>\n",
       "    </tr>\n",
       "  </tbody>\n",
       "</table>\n"
      ],
      "text/plain": [
       "<pandas.io.formats.style.Styler at 0x150f30890>"
      ]
     },
     "metadata": {},
     "output_type": "display_data"
    }
   ],
   "source": [
    "agg_df = df.groupby(['country','platform','marketing_channel']).sum(numeric_only=True)\n",
    "\n",
    "df_metrics = calculate_metrics(agg_df).reset_index()\n",
    "selected_df = df_metrics[selected_columns].sort_values(['platform','profit'], ascending=False)\n",
    "\n",
    "filtered_df_de = selected_df[selected_df['country'] == 'DE'].fillna(0)\n",
    "filtered_df_us = selected_df[selected_df['country'] == 'US'].fillna(0)\n",
    "\n",
    "# formatted_df = format_metrics(df_metrics)\n",
    "\n",
    "display(format_metrics_selected_columns(filtered_df_de))\n",
    "\n",
    "display(format_metrics_selected_columns(filtered_df_us))"
   ]
  },
  {
   "cell_type": "markdown",
   "id": "cf1f256b",
   "metadata": {},
   "source": [
    "#### **Germany Insights**\n",
    "\n",
    "1. **Scale High-Performing Channels**:\n",
    "   - Focus on **Channel C (iOS)** and **Channel A (Android)** for their profitability and efficiency(cpi).\n",
    "2. **Reassess Poor Performers**:\n",
    "   - Investigate high CPIs in **Channels A and B (iOS)** and optimize spending.\n",
    "   - Reevaluate **Channel D (Android)** due to zero installs and total loss.\n",
    "\n",
    "3. **Reduce Spending on Loss-Making Channels**:\n",
    "   - Limit investments in **Channel B (Android)** and **Channel E (Android)** due to inefficiency."
   ]
  },
  {
   "cell_type": "markdown",
   "id": "d1f327af",
   "metadata": {},
   "source": [
    "#### **USA Insights**\n",
    "\n",
    "1. **Scale High-Performing Channels**:\n",
    "   - None of the channels in the USA are profitable, so there are no clear candidates for scaling at this point.\n",
    "   - **Channel C (iOS)** shows potential with the highest install volume (3,590) and a decent install-to-conversion rate (10.56%). Efforts should focus on reducing CPI (€4.18) and improving profitability.\n",
    "\n",
    "2. **Reassess Poor Performers**:\n",
    "   - Investigate **Channel B (iOS)** and **Channel A (iOS)** due to extremely high CPIs (€2,595.43 and €3,494.55, respectively) and no conversions.\n",
    "   - Reevaluate **Channel D (Android)**, which incurred a total loss (€-1,534.93) with zero installs.\n",
    "   - Examine **Channel B (Android)**, which has a moderate install volume (1,440) but suffers from a loss (€-3,181.17) and a suboptimal conversion rate (7.29%).\n",
    "\n",
    "3. **Reduce Spending on Loss-Making Channels**:\n",
    "   - Limit investments in **Channels A and B (iOS)** due to inefficient spending and lack of conversions.\n",
    "   - Deprioritize **Channels D and E (Android)**, as they generated no meaningful results.\n",
    "\n",
    "4. **Opportunities for Improvement**:\n",
    "   - Focus on increasing the conversion rates for **Channel C (iOS)** and **Channel B (Android)** to turn high install volumes into meaningful profit.\n",
    "   - Explore alternative strategies for channels that consistently underperform across both platforms."
   ]
  },
  {
   "cell_type": "markdown",
   "id": "f2ebe1c1",
   "metadata": {},
   "source": [
    "#### **Important to mention**\n",
    "- There are €9560 of profit assigned to unknown country. Important to mention that this could be due to data problems, and part of this profit could be coming from Germany or US.\n",
    "- Altough the marketing team is currently focused on DE and US, it is important to mention the economic losses in France are €18806, even bigger than US(€16481)."
   ]
  },
  {
   "cell_type": "markdown",
   "id": "f5d3b839",
   "metadata": {},
   "source": [
    "## 4.2 Complete Funnel"
   ]
  },
  {
   "cell_type": "markdown",
   "id": "112a0223",
   "metadata": {},
   "source": [
    "### 4.2.1 Performance by Channel"
   ]
  },
  {
   "cell_type": "markdown",
   "id": "b5627f7a",
   "metadata": {},
   "source": [
    "\n",
    "**Germany**\n",
    "- Channels A and B with positive profit, install_to_conversion_rate > 0.10%, cost_per_install < 2 euros.\n",
    "- The other Channels have negative profit.\n",
    "\n",
    "**United States**\n",
    "- All Channels with negative or inexistent profit, cost_per_install > 4 euros.\n",
    "- Channel E has more clicks than impressions. There is a data quality problem."
   ]
  },
  {
   "cell_type": "code",
   "execution_count": 32,
   "id": "ef56d830",
   "metadata": {},
   "outputs": [
    {
     "data": {
      "text/html": [
       "<style type=\"text/css\">\n",
       "#T_60766_row0_col4 {\n",
       "  width: 10em;\n",
       "  background: linear-gradient(90deg, #8ecbfa 78.2%, transparent 78.2%);\n",
       "}\n",
       "#T_60766_row0_col5 {\n",
       "  width: 10em;\n",
       "  background: linear-gradient(90deg, #8ecbfa 54.8%, transparent 54.8%);\n",
       "}\n",
       "#T_60766_row0_col6 {\n",
       "  width: 10em;\n",
       "  background: linear-gradient(90deg, #8ecbfa 97.9%, transparent 97.9%);\n",
       "}\n",
       "#T_60766_row0_col7 {\n",
       "  width: 10em;\n",
       "  background: linear-gradient(90deg, #8ecbfa 56.9%, transparent 56.9%);\n",
       "}\n",
       "#T_60766_row0_col10 {\n",
       "  width: 10em;\n",
       "  background: linear-gradient(90deg, #8ecbfa 70.2%, transparent 70.2%);\n",
       "}\n",
       "#T_60766_row0_col13 {\n",
       "  width: 10em;\n",
       "  background: linear-gradient(90deg, #8ecbfa 34.3%, transparent 34.3%);\n",
       "}\n",
       "#T_60766_row0_col16 {\n",
       "  width: 10em;\n",
       "  background: linear-gradient(90deg, transparent 30.2%, #8ecbfa 30.2%, #8ecbfa 49.5%, transparent 49.5%);\n",
       "}\n",
       "#T_60766_row1_col4 {\n",
       "  width: 10em;\n",
       "  background: linear-gradient(90deg, #8ecbfa 22.2%, transparent 22.2%);\n",
       "}\n",
       "#T_60766_row1_col5 {\n",
       "  width: 10em;\n",
       "  background: linear-gradient(90deg, #8ecbfa 7.2%, transparent 7.2%);\n",
       "}\n",
       "#T_60766_row1_col6 {\n",
       "  width: 10em;\n",
       "  background: linear-gradient(90deg, #8ecbfa 81.1%, transparent 81.1%);\n",
       "}\n",
       "#T_60766_row1_col7 {\n",
       "  width: 10em;\n",
       "  background: linear-gradient(90deg, #8ecbfa 8.4%, transparent 8.4%);\n",
       "}\n",
       "#T_60766_row1_col10 {\n",
       "  width: 10em;\n",
       "  background: linear-gradient(90deg, #8ecbfa 32.6%, transparent 32.6%);\n",
       "}\n",
       "#T_60766_row1_col13, #T_60766_row2_col4, #T_60766_row2_col5, #T_60766_row2_col6, #T_60766_row2_col7, #T_60766_row2_col10 {\n",
       "  width: 10em;\n",
       "  background: linear-gradient(90deg, #8ecbfa 100.0%, transparent 100.0%);\n",
       "}\n",
       "#T_60766_row1_col16 {\n",
       "  width: 10em;\n",
       "  background: linear-gradient(90deg, #d65f5f 30.2%, transparent 30.2%);\n",
       "}\n",
       "#T_60766_row2_col13 {\n",
       "  width: 10em;\n",
       "  background: linear-gradient(90deg, #8ecbfa 27.4%, transparent 27.4%);\n",
       "}\n",
       "#T_60766_row2_col16 {\n",
       "  width: 10em;\n",
       "  background: linear-gradient(90deg, transparent 30.2%, #8ecbfa 30.2%, #8ecbfa 100.0%, transparent 100.0%);\n",
       "}\n",
       "#T_60766_row3_col4, #T_60766_row3_col5, #T_60766_row3_col7, #T_60766_row3_col10, #T_60766_row3_col13 {\n",
       "  width: 10em;\n",
       "}\n",
       "#T_60766_row3_col6 {\n",
       "  width: 10em;\n",
       "  background: linear-gradient(90deg, #8ecbfa 34.2%, transparent 34.2%);\n",
       "}\n",
       "#T_60766_row3_col16 {\n",
       "  width: 10em;\n",
       "  background: linear-gradient(90deg, transparent 13.2%, #d65f5f 13.2%, #d65f5f 30.2%, transparent 30.2%);\n",
       "}\n",
       "#T_60766_row4_col4 {\n",
       "  width: 10em;\n",
       "  background: linear-gradient(90deg, #8ecbfa 11.7%, transparent 11.7%);\n",
       "}\n",
       "#T_60766_row4_col5 {\n",
       "  width: 10em;\n",
       "  background: linear-gradient(90deg, #8ecbfa 6.1%, transparent 6.1%);\n",
       "}\n",
       "#T_60766_row4_col6 {\n",
       "  width: 10em;\n",
       "  background: linear-gradient(90deg, #8ecbfa 39.4%, transparent 39.4%);\n",
       "}\n",
       "#T_60766_row4_col7 {\n",
       "  width: 10em;\n",
       "  background: linear-gradient(90deg, #8ecbfa 6.8%, transparent 6.8%);\n",
       "}\n",
       "#T_60766_row4_col10 {\n",
       "  width: 10em;\n",
       "  background: linear-gradient(90deg, #8ecbfa 51.9%, transparent 51.9%);\n",
       "}\n",
       "#T_60766_row4_col13 {\n",
       "  width: 10em;\n",
       "  background: linear-gradient(90deg, #8ecbfa 92.4%, transparent 92.4%);\n",
       "}\n",
       "#T_60766_row4_col16 {\n",
       "  width: 10em;\n",
       "  background: linear-gradient(90deg, transparent 18.8%, #d65f5f 18.8%, #d65f5f 30.2%, transparent 30.2%);\n",
       "}\n",
       "</style>\n",
       "<table id=\"T_60766\">\n",
       "  <thead>\n",
       "    <tr>\n",
       "      <th id=\"T_60766_level0_col0\" class=\"col_heading level0 col0\" >country</th>\n",
       "      <th id=\"T_60766_level0_col1\" class=\"col_heading level0 col1\" >marketing_channel</th>\n",
       "      <th id=\"T_60766_level0_col2\" class=\"col_heading level0 col2\" >impressions</th>\n",
       "      <th id=\"T_60766_level0_col3\" class=\"col_heading level0 col3\" >clicks</th>\n",
       "      <th id=\"T_60766_level0_col4\" class=\"col_heading level0 col4\" >app_installs</th>\n",
       "      <th id=\"T_60766_level0_col5\" class=\"col_heading level0 col5\" >conversions</th>\n",
       "      <th id=\"T_60766_level0_col6\" class=\"col_heading level0 col6\" >marketing_spend_euro</th>\n",
       "      <th id=\"T_60766_level0_col7\" class=\"col_heading level0 col7\" >revenue_euro</th>\n",
       "      <th id=\"T_60766_level0_col8\" class=\"col_heading level0 col8\" >click_through_rate</th>\n",
       "      <th id=\"T_60766_level0_col9\" class=\"col_heading level0 col9\" >click_to_install_rate</th>\n",
       "      <th id=\"T_60766_level0_col10\" class=\"col_heading level0 col10\" >install_to_conversion_rate</th>\n",
       "      <th id=\"T_60766_level0_col11\" class=\"col_heading level0 col11\" >cpm</th>\n",
       "      <th id=\"T_60766_level0_col12\" class=\"col_heading level0 col12\" >cpc</th>\n",
       "      <th id=\"T_60766_level0_col13\" class=\"col_heading level0 col13\" >cpi</th>\n",
       "      <th id=\"T_60766_level0_col14\" class=\"col_heading level0 col14\" >cpa</th>\n",
       "      <th id=\"T_60766_level0_col15\" class=\"col_heading level0 col15\" >rpa</th>\n",
       "      <th id=\"T_60766_level0_col16\" class=\"col_heading level0 col16\" >profit</th>\n",
       "      <th id=\"T_60766_level0_col17\" class=\"col_heading level0 col17\" >return_on_ad_spend_percentage</th>\n",
       "      <th id=\"T_60766_level0_col18\" class=\"col_heading level0 col18\" >return_on_investment_percentage</th>\n",
       "    </tr>\n",
       "  </thead>\n",
       "  <tbody>\n",
       "    <tr>\n",
       "      <td id=\"T_60766_row0_col0\" class=\"data row0 col0\" >DE</td>\n",
       "      <td id=\"T_60766_row0_col1\" class=\"data row0 col1\" >Channel A</td>\n",
       "      <td id=\"T_60766_row0_col2\" class=\"data row0 col2\" >2,069,078</td>\n",
       "      <td id=\"T_60766_row0_col3\" class=\"data row0 col3\" >42,008</td>\n",
       "      <td id=\"T_60766_row0_col4\" class=\"data row0 col4\" >17,954</td>\n",
       "      <td id=\"T_60766_row0_col5\" class=\"data row0 col5\" >1,727</td>\n",
       "      <td id=\"T_60766_row0_col6\" class=\"data row0 col6\" >€35760.32</td>\n",
       "      <td id=\"T_60766_row0_col7\" class=\"data row0 col7\" >€50029.23</td>\n",
       "      <td id=\"T_60766_row0_col8\" class=\"data row0 col8\" >2.03%</td>\n",
       "      <td id=\"T_60766_row0_col9\" class=\"data row0 col9\" >42.74%</td>\n",
       "      <td id=\"T_60766_row0_col10\" class=\"data row0 col10\" >9.62%</td>\n",
       "      <td id=\"T_60766_row0_col11\" class=\"data row0 col11\" >€17.28</td>\n",
       "      <td id=\"T_60766_row0_col12\" class=\"data row0 col12\" >€0.85</td>\n",
       "      <td id=\"T_60766_row0_col13\" class=\"data row0 col13\" >€1.99</td>\n",
       "      <td id=\"T_60766_row0_col14\" class=\"data row0 col14\" >€20.71</td>\n",
       "      <td id=\"T_60766_row0_col15\" class=\"data row0 col15\" >€28.97</td>\n",
       "      <td id=\"T_60766_row0_col16\" class=\"data row0 col16\" >€14268.91</td>\n",
       "      <td id=\"T_60766_row0_col17\" class=\"data row0 col17\" >139.90%</td>\n",
       "      <td id=\"T_60766_row0_col18\" class=\"data row0 col18\" >39.90%</td>\n",
       "    </tr>\n",
       "    <tr>\n",
       "      <td id=\"T_60766_row1_col0\" class=\"data row1 col0\" >DE</td>\n",
       "      <td id=\"T_60766_row1_col1\" class=\"data row1 col1\" >Channel B</td>\n",
       "      <td id=\"T_60766_row1_col2\" class=\"data row1 col2\" >4,386,420</td>\n",
       "      <td id=\"T_60766_row1_col3\" class=\"data row1 col3\" >15,876</td>\n",
       "      <td id=\"T_60766_row1_col4\" class=\"data row1 col4\" >5,096</td>\n",
       "      <td id=\"T_60766_row1_col5\" class=\"data row1 col5\" >228</td>\n",
       "      <td id=\"T_60766_row1_col6\" class=\"data row1 col6\" >€29614.37</td>\n",
       "      <td id=\"T_60766_row1_col7\" class=\"data row1 col7\" >€7362.70</td>\n",
       "      <td id=\"T_60766_row1_col8\" class=\"data row1 col8\" >0.36%</td>\n",
       "      <td id=\"T_60766_row1_col9\" class=\"data row1 col9\" >32.10%</td>\n",
       "      <td id=\"T_60766_row1_col10\" class=\"data row1 col10\" >4.47%</td>\n",
       "      <td id=\"T_60766_row1_col11\" class=\"data row1 col11\" >€6.75</td>\n",
       "      <td id=\"T_60766_row1_col12\" class=\"data row1 col12\" >€1.87</td>\n",
       "      <td id=\"T_60766_row1_col13\" class=\"data row1 col13\" >€5.81</td>\n",
       "      <td id=\"T_60766_row1_col14\" class=\"data row1 col14\" >€129.89</td>\n",
       "      <td id=\"T_60766_row1_col15\" class=\"data row1 col15\" >€32.29</td>\n",
       "      <td id=\"T_60766_row1_col16\" class=\"data row1 col16\" >€-22251.67</td>\n",
       "      <td id=\"T_60766_row1_col17\" class=\"data row1 col17\" >24.86%</td>\n",
       "      <td id=\"T_60766_row1_col18\" class=\"data row1 col18\" >-75.14%</td>\n",
       "    </tr>\n",
       "    <tr>\n",
       "      <td id=\"T_60766_row2_col0\" class=\"data row2 col0\" >DE</td>\n",
       "      <td id=\"T_60766_row2_col1\" class=\"data row2 col1\" >Channel C</td>\n",
       "      <td id=\"T_60766_row2_col2\" class=\"data row2 col2\" >104,013</td>\n",
       "      <td id=\"T_60766_row2_col3\" class=\"data row2 col3\" >36,691</td>\n",
       "      <td id=\"T_60766_row2_col4\" class=\"data row2 col4\" >22,972</td>\n",
       "      <td id=\"T_60766_row2_col5\" class=\"data row2 col5\" >3,150</td>\n",
       "      <td id=\"T_60766_row2_col6\" class=\"data row2 col6\" >€36512.65</td>\n",
       "      <td id=\"T_60766_row2_col7\" class=\"data row2 col7\" >€87967.00</td>\n",
       "      <td id=\"T_60766_row2_col8\" class=\"data row2 col8\" >35.28%</td>\n",
       "      <td id=\"T_60766_row2_col9\" class=\"data row2 col9\" >62.61%</td>\n",
       "      <td id=\"T_60766_row2_col10\" class=\"data row2 col10\" >13.71%</td>\n",
       "      <td id=\"T_60766_row2_col11\" class=\"data row2 col11\" >€351.04</td>\n",
       "      <td id=\"T_60766_row2_col12\" class=\"data row2 col12\" >€1.00</td>\n",
       "      <td id=\"T_60766_row2_col13\" class=\"data row2 col13\" >€1.59</td>\n",
       "      <td id=\"T_60766_row2_col14\" class=\"data row2 col14\" >€11.59</td>\n",
       "      <td id=\"T_60766_row2_col15\" class=\"data row2 col15\" >€27.93</td>\n",
       "      <td id=\"T_60766_row2_col16\" class=\"data row2 col16\" >€51454.35</td>\n",
       "      <td id=\"T_60766_row2_col17\" class=\"data row2 col17\" >240.92%</td>\n",
       "      <td id=\"T_60766_row2_col18\" class=\"data row2 col18\" >140.92%</td>\n",
       "    </tr>\n",
       "    <tr>\n",
       "      <td id=\"T_60766_row3_col0\" class=\"data row3 col0\" >DE</td>\n",
       "      <td id=\"T_60766_row3_col1\" class=\"data row3 col1\" >Channel D</td>\n",
       "      <td id=\"T_60766_row3_col2\" class=\"data row3 col2\" >0</td>\n",
       "      <td id=\"T_60766_row3_col3\" class=\"data row3 col3\" >0</td>\n",
       "      <td id=\"T_60766_row3_col4\" class=\"data row3 col4\" >0</td>\n",
       "      <td id=\"T_60766_row3_col5\" class=\"data row3 col5\" >0</td>\n",
       "      <td id=\"T_60766_row3_col6\" class=\"data row3 col6\" >€12500.97</td>\n",
       "      <td id=\"T_60766_row3_col7\" class=\"data row3 col7\" >€0.00</td>\n",
       "      <td id=\"T_60766_row3_col8\" class=\"data row3 col8\" >nan%</td>\n",
       "      <td id=\"T_60766_row3_col9\" class=\"data row3 col9\" >nan%</td>\n",
       "      <td id=\"T_60766_row3_col10\" class=\"data row3 col10\" >nan%</td>\n",
       "      <td id=\"T_60766_row3_col11\" class=\"data row3 col11\" >€nan</td>\n",
       "      <td id=\"T_60766_row3_col12\" class=\"data row3 col12\" >€nan</td>\n",
       "      <td id=\"T_60766_row3_col13\" class=\"data row3 col13\" >€nan</td>\n",
       "      <td id=\"T_60766_row3_col14\" class=\"data row3 col14\" >€nan</td>\n",
       "      <td id=\"T_60766_row3_col15\" class=\"data row3 col15\" >€nan</td>\n",
       "      <td id=\"T_60766_row3_col16\" class=\"data row3 col16\" >€-12500.97</td>\n",
       "      <td id=\"T_60766_row3_col17\" class=\"data row3 col17\" >0.00%</td>\n",
       "      <td id=\"T_60766_row3_col18\" class=\"data row3 col18\" >-100.00%</td>\n",
       "    </tr>\n",
       "    <tr>\n",
       "      <td id=\"T_60766_row4_col0\" class=\"data row4 col0\" >DE</td>\n",
       "      <td id=\"T_60766_row4_col1\" class=\"data row4 col1\" >Channel E</td>\n",
       "      <td id=\"T_60766_row4_col2\" class=\"data row4 col2\" >6,922,072</td>\n",
       "      <td id=\"T_60766_row4_col3\" class=\"data row4 col3\" >14,971</td>\n",
       "      <td id=\"T_60766_row4_col4\" class=\"data row4 col4\" >2,682</td>\n",
       "      <td id=\"T_60766_row4_col5\" class=\"data row4 col5\" >191</td>\n",
       "      <td id=\"T_60766_row4_col6\" class=\"data row4 col6\" >€14400.22</td>\n",
       "      <td id=\"T_60766_row4_col7\" class=\"data row4 col7\" >€6024.30</td>\n",
       "      <td id=\"T_60766_row4_col8\" class=\"data row4 col8\" >0.22%</td>\n",
       "      <td id=\"T_60766_row4_col9\" class=\"data row4 col9\" >17.91%</td>\n",
       "      <td id=\"T_60766_row4_col10\" class=\"data row4 col10\" >7.12%</td>\n",
       "      <td id=\"T_60766_row4_col11\" class=\"data row4 col11\" >€2.08</td>\n",
       "      <td id=\"T_60766_row4_col12\" class=\"data row4 col12\" >€0.96</td>\n",
       "      <td id=\"T_60766_row4_col13\" class=\"data row4 col13\" >€5.37</td>\n",
       "      <td id=\"T_60766_row4_col14\" class=\"data row4 col14\" >€75.39</td>\n",
       "      <td id=\"T_60766_row4_col15\" class=\"data row4 col15\" >€31.54</td>\n",
       "      <td id=\"T_60766_row4_col16\" class=\"data row4 col16\" >€-8375.92</td>\n",
       "      <td id=\"T_60766_row4_col17\" class=\"data row4 col17\" >41.83%</td>\n",
       "      <td id=\"T_60766_row4_col18\" class=\"data row4 col18\" >-58.17%</td>\n",
       "    </tr>\n",
       "  </tbody>\n",
       "</table>\n"
      ],
      "text/plain": [
       "<pandas.io.formats.style.Styler at 0x150cb1910>"
      ]
     },
     "metadata": {},
     "output_type": "display_data"
    },
    {
     "data": {
      "text/html": [
       "<style type=\"text/css\">\n",
       "#T_56487_row0_col4 {\n",
       "  width: 10em;\n",
       "  background: linear-gradient(90deg, #8ecbfa 0.2%, transparent 0.2%);\n",
       "}\n",
       "#T_56487_row0_col5, #T_56487_row0_col7, #T_56487_row0_col10, #T_56487_row3_col4, #T_56487_row3_col5, #T_56487_row3_col7, #T_56487_row3_col10, #T_56487_row3_col13, #T_56487_row4_col4, #T_56487_row4_col5, #T_56487_row4_col6, #T_56487_row4_col7, #T_56487_row4_col10, #T_56487_row4_col13, #T_56487_row4_col16 {\n",
       "  width: 10em;\n",
       "}\n",
       "#T_56487_row0_col6 {\n",
       "  width: 10em;\n",
       "  background: linear-gradient(90deg, #8ecbfa 23.3%, transparent 23.3%);\n",
       "}\n",
       "#T_56487_row0_col13, #T_56487_row2_col4, #T_56487_row2_col5, #T_56487_row2_col6, #T_56487_row2_col7, #T_56487_row2_col10 {\n",
       "  width: 10em;\n",
       "  background: linear-gradient(90deg, #8ecbfa 100.0%, transparent 100.0%);\n",
       "}\n",
       "#T_56487_row0_col16 {\n",
       "  width: 10em;\n",
       "  background: linear-gradient(90deg, transparent 39.5%, #d65f5f 39.5%, #d65f5f 100.0%, transparent 100.0%);\n",
       "}\n",
       "#T_56487_row1_col4 {\n",
       "  width: 10em;\n",
       "  background: linear-gradient(90deg, #8ecbfa 40.1%, transparent 40.1%);\n",
       "}\n",
       "#T_56487_row1_col5 {\n",
       "  width: 10em;\n",
       "  background: linear-gradient(90deg, #8ecbfa 27.7%, transparent 27.7%);\n",
       "}\n",
       "#T_56487_row1_col6 {\n",
       "  width: 10em;\n",
       "  background: linear-gradient(90deg, #8ecbfa 55.4%, transparent 55.4%);\n",
       "}\n",
       "#T_56487_row1_col7 {\n",
       "  width: 10em;\n",
       "  background: linear-gradient(90deg, #8ecbfa 27.2%, transparent 27.2%);\n",
       "}\n",
       "#T_56487_row1_col10 {\n",
       "  width: 10em;\n",
       "  background: linear-gradient(90deg, #8ecbfa 69.0%, transparent 69.0%);\n",
       "}\n",
       "#T_56487_row1_col13 {\n",
       "  width: 10em;\n",
       "  background: linear-gradient(90deg, #8ecbfa 1.2%, transparent 1.2%);\n",
       "}\n",
       "#T_56487_row1_col16 {\n",
       "  width: 10em;\n",
       "  background: linear-gradient(90deg, #d65f5f 100.0%, transparent 100.0%);\n",
       "}\n",
       "#T_56487_row2_col13 {\n",
       "  width: 10em;\n",
       "  background: linear-gradient(90deg, #8ecbfa 0.8%, transparent 0.8%);\n",
       "}\n",
       "#T_56487_row2_col16 {\n",
       "  width: 10em;\n",
       "  background: linear-gradient(90deg, transparent 1.8%, #d65f5f 1.8%, #d65f5f 100.0%, transparent 100.0%);\n",
       "}\n",
       "#T_56487_row3_col6 {\n",
       "  width: 10em;\n",
       "  background: linear-gradient(90deg, #8ecbfa 10.2%, transparent 10.2%);\n",
       "}\n",
       "#T_56487_row3_col16 {\n",
       "  width: 10em;\n",
       "  background: linear-gradient(90deg, transparent 73.4%, #d65f5f 73.4%, #d65f5f 100.0%, transparent 100.0%);\n",
       "}\n",
       "</style>\n",
       "<table id=\"T_56487\">\n",
       "  <thead>\n",
       "    <tr>\n",
       "      <th id=\"T_56487_level0_col0\" class=\"col_heading level0 col0\" >country</th>\n",
       "      <th id=\"T_56487_level0_col1\" class=\"col_heading level0 col1\" >marketing_channel</th>\n",
       "      <th id=\"T_56487_level0_col2\" class=\"col_heading level0 col2\" >impressions</th>\n",
       "      <th id=\"T_56487_level0_col3\" class=\"col_heading level0 col3\" >clicks</th>\n",
       "      <th id=\"T_56487_level0_col4\" class=\"col_heading level0 col4\" >app_installs</th>\n",
       "      <th id=\"T_56487_level0_col5\" class=\"col_heading level0 col5\" >conversions</th>\n",
       "      <th id=\"T_56487_level0_col6\" class=\"col_heading level0 col6\" >marketing_spend_euro</th>\n",
       "      <th id=\"T_56487_level0_col7\" class=\"col_heading level0 col7\" >revenue_euro</th>\n",
       "      <th id=\"T_56487_level0_col8\" class=\"col_heading level0 col8\" >click_through_rate</th>\n",
       "      <th id=\"T_56487_level0_col9\" class=\"col_heading level0 col9\" >click_to_install_rate</th>\n",
       "      <th id=\"T_56487_level0_col10\" class=\"col_heading level0 col10\" >install_to_conversion_rate</th>\n",
       "      <th id=\"T_56487_level0_col11\" class=\"col_heading level0 col11\" >cpm</th>\n",
       "      <th id=\"T_56487_level0_col12\" class=\"col_heading level0 col12\" >cpc</th>\n",
       "      <th id=\"T_56487_level0_col13\" class=\"col_heading level0 col13\" >cpi</th>\n",
       "      <th id=\"T_56487_level0_col14\" class=\"col_heading level0 col14\" >cpa</th>\n",
       "      <th id=\"T_56487_level0_col15\" class=\"col_heading level0 col15\" >rpa</th>\n",
       "      <th id=\"T_56487_level0_col16\" class=\"col_heading level0 col16\" >profit</th>\n",
       "      <th id=\"T_56487_level0_col17\" class=\"col_heading level0 col17\" >return_on_ad_spend_percentage</th>\n",
       "      <th id=\"T_56487_level0_col18\" class=\"col_heading level0 col18\" >return_on_investment_percentage</th>\n",
       "    </tr>\n",
       "  </thead>\n",
       "  <tbody>\n",
       "    <tr>\n",
       "      <td id=\"T_56487_row0_col0\" class=\"data row0 col0\" >US</td>\n",
       "      <td id=\"T_56487_row0_col1\" class=\"data row0 col1\" >Channel A</td>\n",
       "      <td id=\"T_56487_row0_col2\" class=\"data row0 col2\" >1,634,556</td>\n",
       "      <td id=\"T_56487_row0_col3\" class=\"data row0 col3\" >1,904</td>\n",
       "      <td id=\"T_56487_row0_col4\" class=\"data row0 col4\" >7</td>\n",
       "      <td id=\"T_56487_row0_col5\" class=\"data row0 col5\" >0</td>\n",
       "      <td id=\"T_56487_row0_col6\" class=\"data row0 col6\" >€3494.55</td>\n",
       "      <td id=\"T_56487_row0_col7\" class=\"data row0 col7\" >€0.00</td>\n",
       "      <td id=\"T_56487_row0_col8\" class=\"data row0 col8\" >0.12%</td>\n",
       "      <td id=\"T_56487_row0_col9\" class=\"data row0 col9\" >0.37%</td>\n",
       "      <td id=\"T_56487_row0_col10\" class=\"data row0 col10\" >0.00%</td>\n",
       "      <td id=\"T_56487_row0_col11\" class=\"data row0 col11\" >€2.14</td>\n",
       "      <td id=\"T_56487_row0_col12\" class=\"data row0 col12\" >€1.84</td>\n",
       "      <td id=\"T_56487_row0_col13\" class=\"data row0 col13\" >€499.22</td>\n",
       "      <td id=\"T_56487_row0_col14\" class=\"data row0 col14\" >€nan</td>\n",
       "      <td id=\"T_56487_row0_col15\" class=\"data row0 col15\" >€nan</td>\n",
       "      <td id=\"T_56487_row0_col16\" class=\"data row0 col16\" >€-3494.55</td>\n",
       "      <td id=\"T_56487_row0_col17\" class=\"data row0 col17\" >0.00%</td>\n",
       "      <td id=\"T_56487_row0_col18\" class=\"data row0 col18\" >-100.00%</td>\n",
       "    </tr>\n",
       "    <tr>\n",
       "      <td id=\"T_56487_row1_col0\" class=\"data row1 col0\" >US</td>\n",
       "      <td id=\"T_56487_row1_col1\" class=\"data row1 col1\" >Channel B</td>\n",
       "      <td id=\"T_56487_row1_col2\" class=\"data row1 col2\" >789,069</td>\n",
       "      <td id=\"T_56487_row1_col3\" class=\"data row1 col3\" >4,031</td>\n",
       "      <td id=\"T_56487_row1_col4\" class=\"data row1 col4\" >1,441</td>\n",
       "      <td id=\"T_56487_row1_col5\" class=\"data row1 col5\" >105</td>\n",
       "      <td id=\"T_56487_row1_col6\" class=\"data row1 col6\" >€8309.59</td>\n",
       "      <td id=\"T_56487_row1_col7\" class=\"data row1 col7\" >€2532.99</td>\n",
       "      <td id=\"T_56487_row1_col8\" class=\"data row1 col8\" >0.51%</td>\n",
       "      <td id=\"T_56487_row1_col9\" class=\"data row1 col9\" >35.75%</td>\n",
       "      <td id=\"T_56487_row1_col10\" class=\"data row1 col10\" >7.29%</td>\n",
       "      <td id=\"T_56487_row1_col11\" class=\"data row1 col11\" >€10.53</td>\n",
       "      <td id=\"T_56487_row1_col12\" class=\"data row1 col12\" >€2.06</td>\n",
       "      <td id=\"T_56487_row1_col13\" class=\"data row1 col13\" >€5.77</td>\n",
       "      <td id=\"T_56487_row1_col14\" class=\"data row1 col14\" >€79.14</td>\n",
       "      <td id=\"T_56487_row1_col15\" class=\"data row1 col15\" >€24.12</td>\n",
       "      <td id=\"T_56487_row1_col16\" class=\"data row1 col16\" >€-5776.60</td>\n",
       "      <td id=\"T_56487_row1_col17\" class=\"data row1 col17\" >30.48%</td>\n",
       "      <td id=\"T_56487_row1_col18\" class=\"data row1 col18\" >-69.52%</td>\n",
       "    </tr>\n",
       "    <tr>\n",
       "      <td id=\"T_56487_row2_col0\" class=\"data row2 col0\" >US</td>\n",
       "      <td id=\"T_56487_row2_col1\" class=\"data row2 col1\" >Channel C</td>\n",
       "      <td id=\"T_56487_row2_col2\" class=\"data row2 col2\" >78,645</td>\n",
       "      <td id=\"T_56487_row2_col3\" class=\"data row2 col3\" >8,056</td>\n",
       "      <td id=\"T_56487_row2_col4\" class=\"data row2 col4\" >3,590</td>\n",
       "      <td id=\"T_56487_row2_col5\" class=\"data row2 col5\" >379</td>\n",
       "      <td id=\"T_56487_row2_col6\" class=\"data row2 col6\" >€15001.15</td>\n",
       "      <td id=\"T_56487_row2_col7\" class=\"data row2 col7\" >€9325.81</td>\n",
       "      <td id=\"T_56487_row2_col8\" class=\"data row2 col8\" >10.24%</td>\n",
       "      <td id=\"T_56487_row2_col9\" class=\"data row2 col9\" >44.56%</td>\n",
       "      <td id=\"T_56487_row2_col10\" class=\"data row2 col10\" >10.56%</td>\n",
       "      <td id=\"T_56487_row2_col11\" class=\"data row2 col11\" >€190.75</td>\n",
       "      <td id=\"T_56487_row2_col12\" class=\"data row2 col12\" >€1.86</td>\n",
       "      <td id=\"T_56487_row2_col13\" class=\"data row2 col13\" >€4.18</td>\n",
       "      <td id=\"T_56487_row2_col14\" class=\"data row2 col14\" >€39.58</td>\n",
       "      <td id=\"T_56487_row2_col15\" class=\"data row2 col15\" >€24.61</td>\n",
       "      <td id=\"T_56487_row2_col16\" class=\"data row2 col16\" >€-5675.34</td>\n",
       "      <td id=\"T_56487_row2_col17\" class=\"data row2 col17\" >62.17%</td>\n",
       "      <td id=\"T_56487_row2_col18\" class=\"data row2 col18\" >-37.83%</td>\n",
       "    </tr>\n",
       "    <tr>\n",
       "      <td id=\"T_56487_row3_col0\" class=\"data row3 col0\" >US</td>\n",
       "      <td id=\"T_56487_row3_col1\" class=\"data row3 col1\" >Channel D</td>\n",
       "      <td id=\"T_56487_row3_col2\" class=\"data row3 col2\" >0</td>\n",
       "      <td id=\"T_56487_row3_col3\" class=\"data row3 col3\" >0</td>\n",
       "      <td id=\"T_56487_row3_col4\" class=\"data row3 col4\" >0</td>\n",
       "      <td id=\"T_56487_row3_col5\" class=\"data row3 col5\" >0</td>\n",
       "      <td id=\"T_56487_row3_col6\" class=\"data row3 col6\" >€1534.93</td>\n",
       "      <td id=\"T_56487_row3_col7\" class=\"data row3 col7\" >€0.00</td>\n",
       "      <td id=\"T_56487_row3_col8\" class=\"data row3 col8\" >nan%</td>\n",
       "      <td id=\"T_56487_row3_col9\" class=\"data row3 col9\" >nan%</td>\n",
       "      <td id=\"T_56487_row3_col10\" class=\"data row3 col10\" >nan%</td>\n",
       "      <td id=\"T_56487_row3_col11\" class=\"data row3 col11\" >€nan</td>\n",
       "      <td id=\"T_56487_row3_col12\" class=\"data row3 col12\" >€nan</td>\n",
       "      <td id=\"T_56487_row3_col13\" class=\"data row3 col13\" >€nan</td>\n",
       "      <td id=\"T_56487_row3_col14\" class=\"data row3 col14\" >€nan</td>\n",
       "      <td id=\"T_56487_row3_col15\" class=\"data row3 col15\" >€nan</td>\n",
       "      <td id=\"T_56487_row3_col16\" class=\"data row3 col16\" >€-1534.93</td>\n",
       "      <td id=\"T_56487_row3_col17\" class=\"data row3 col17\" >0.00%</td>\n",
       "      <td id=\"T_56487_row3_col18\" class=\"data row3 col18\" >-100.00%</td>\n",
       "    </tr>\n",
       "    <tr>\n",
       "      <td id=\"T_56487_row4_col0\" class=\"data row4 col0\" >US</td>\n",
       "      <td id=\"T_56487_row4_col1\" class=\"data row4 col1\" >Channel E</td>\n",
       "      <td id=\"T_56487_row4_col2\" class=\"data row4 col2\" >923</td>\n",
       "      <td id=\"T_56487_row4_col3\" class=\"data row4 col3\" >11,775</td>\n",
       "      <td id=\"T_56487_row4_col4\" class=\"data row4 col4\" >0</td>\n",
       "      <td id=\"T_56487_row4_col5\" class=\"data row4 col5\" >0</td>\n",
       "      <td id=\"T_56487_row4_col6\" class=\"data row4 col6\" >€0.00</td>\n",
       "      <td id=\"T_56487_row4_col7\" class=\"data row4 col7\" >€0.00</td>\n",
       "      <td id=\"T_56487_row4_col8\" class=\"data row4 col8\" >1275.73%</td>\n",
       "      <td id=\"T_56487_row4_col9\" class=\"data row4 col9\" >0.00%</td>\n",
       "      <td id=\"T_56487_row4_col10\" class=\"data row4 col10\" >nan%</td>\n",
       "      <td id=\"T_56487_row4_col11\" class=\"data row4 col11\" >€0.00</td>\n",
       "      <td id=\"T_56487_row4_col12\" class=\"data row4 col12\" >€0.00</td>\n",
       "      <td id=\"T_56487_row4_col13\" class=\"data row4 col13\" >€nan</td>\n",
       "      <td id=\"T_56487_row4_col14\" class=\"data row4 col14\" >€nan</td>\n",
       "      <td id=\"T_56487_row4_col15\" class=\"data row4 col15\" >€nan</td>\n",
       "      <td id=\"T_56487_row4_col16\" class=\"data row4 col16\" >€0.00</td>\n",
       "      <td id=\"T_56487_row4_col17\" class=\"data row4 col17\" >nan%</td>\n",
       "      <td id=\"T_56487_row4_col18\" class=\"data row4 col18\" >nan%</td>\n",
       "    </tr>\n",
       "  </tbody>\n",
       "</table>\n"
      ],
      "text/plain": [
       "<pandas.io.formats.style.Styler at 0x146e57e90>"
      ]
     },
     "metadata": {},
     "output_type": "display_data"
    }
   ],
   "source": [
    "agg_df = df.groupby(['country','marketing_channel']).sum(numeric_only=True)\n",
    "\n",
    "df_metrics = calculate_metrics(agg_df).reset_index()\n",
    "\n",
    "filtered_df_de = df_metrics[df_metrics['country'] == 'DE']\n",
    "filtered_df_us = df_metrics[df_metrics['country'] == 'US']\n",
    "\n",
    "# formatted_df = format_metrics(df_metrics)\n",
    "\n",
    "display(format_metrics(filtered_df_de))\n",
    "\n",
    "display(format_metrics(filtered_df_us))"
   ]
  },
  {
   "cell_type": "markdown",
   "id": "46b20c52",
   "metadata": {},
   "source": [
    "### 4.2.2 Performance by Platform"
   ]
  },
  {
   "cell_type": "markdown",
   "id": "2920ff7c",
   "metadata": {},
   "source": [
    "\n",
    "**Germany**\n",
    "- Similar volume of installs to android and ios\n",
    "- ios profit: `€35250`\n",
    "- android profit: `-€12656`\n",
    "\n",
    "**United States**\n",
    "- 70% of installs from ios, 30% from android\n",
    "- ios profit: `-€11765`\t\n",
    "- android profit: `-€4716`\t"
   ]
  },
  {
   "cell_type": "code",
   "execution_count": 33,
   "id": "92a46522",
   "metadata": {},
   "outputs": [
    {
     "data": {
      "text/html": [
       "<style type=\"text/css\">\n",
       "#T_4f914_row0_col4, #T_4f914_row0_col6, #T_4f914_row0_col13, #T_4f914_row1_col5, #T_4f914_row1_col7, #T_4f914_row1_col10 {\n",
       "  width: 10em;\n",
       "  background: linear-gradient(90deg, #8ecbfa 100.0%, transparent 100.0%);\n",
       "}\n",
       "#T_4f914_row0_col5 {\n",
       "  width: 10em;\n",
       "  background: linear-gradient(90deg, #8ecbfa 67.5%, transparent 67.5%);\n",
       "}\n",
       "#T_4f914_row0_col7 {\n",
       "  width: 10em;\n",
       "  background: linear-gradient(90deg, #8ecbfa 71.4%, transparent 71.4%);\n",
       "}\n",
       "#T_4f914_row0_col10 {\n",
       "  width: 10em;\n",
       "  background: linear-gradient(90deg, #8ecbfa 61.5%, transparent 61.5%);\n",
       "}\n",
       "#T_4f914_row0_col16 {\n",
       "  width: 10em;\n",
       "  background: linear-gradient(90deg, #d65f5f 26.4%, transparent 26.4%);\n",
       "}\n",
       "#T_4f914_row1_col4 {\n",
       "  width: 10em;\n",
       "  background: linear-gradient(90deg, #8ecbfa 91.1%, transparent 91.1%);\n",
       "}\n",
       "#T_4f914_row1_col6 {\n",
       "  width: 10em;\n",
       "  background: linear-gradient(90deg, #8ecbfa 70.1%, transparent 70.1%);\n",
       "}\n",
       "#T_4f914_row1_col13 {\n",
       "  width: 10em;\n",
       "  background: linear-gradient(90deg, #8ecbfa 77.1%, transparent 77.1%);\n",
       "}\n",
       "#T_4f914_row1_col16 {\n",
       "  width: 10em;\n",
       "  background: linear-gradient(90deg, transparent 26.4%, #8ecbfa 26.4%, #8ecbfa 100.0%, transparent 100.0%);\n",
       "}\n",
       "</style>\n",
       "<table id=\"T_4f914\">\n",
       "  <thead>\n",
       "    <tr>\n",
       "      <th id=\"T_4f914_level0_col0\" class=\"col_heading level0 col0\" >country</th>\n",
       "      <th id=\"T_4f914_level0_col1\" class=\"col_heading level0 col1\" >platform</th>\n",
       "      <th id=\"T_4f914_level0_col2\" class=\"col_heading level0 col2\" >impressions</th>\n",
       "      <th id=\"T_4f914_level0_col3\" class=\"col_heading level0 col3\" >clicks</th>\n",
       "      <th id=\"T_4f914_level0_col4\" class=\"col_heading level0 col4\" >app_installs</th>\n",
       "      <th id=\"T_4f914_level0_col5\" class=\"col_heading level0 col5\" >conversions</th>\n",
       "      <th id=\"T_4f914_level0_col6\" class=\"col_heading level0 col6\" >marketing_spend_euro</th>\n",
       "      <th id=\"T_4f914_level0_col7\" class=\"col_heading level0 col7\" >revenue_euro</th>\n",
       "      <th id=\"T_4f914_level0_col8\" class=\"col_heading level0 col8\" >click_through_rate</th>\n",
       "      <th id=\"T_4f914_level0_col9\" class=\"col_heading level0 col9\" >click_to_install_rate</th>\n",
       "      <th id=\"T_4f914_level0_col10\" class=\"col_heading level0 col10\" >install_to_conversion_rate</th>\n",
       "      <th id=\"T_4f914_level0_col11\" class=\"col_heading level0 col11\" >cpm</th>\n",
       "      <th id=\"T_4f914_level0_col12\" class=\"col_heading level0 col12\" >cpc</th>\n",
       "      <th id=\"T_4f914_level0_col13\" class=\"col_heading level0 col13\" >cpi</th>\n",
       "      <th id=\"T_4f914_level0_col14\" class=\"col_heading level0 col14\" >cpa</th>\n",
       "      <th id=\"T_4f914_level0_col15\" class=\"col_heading level0 col15\" >rpa</th>\n",
       "      <th id=\"T_4f914_level0_col16\" class=\"col_heading level0 col16\" >profit</th>\n",
       "      <th id=\"T_4f914_level0_col17\" class=\"col_heading level0 col17\" >return_on_ad_spend_percentage</th>\n",
       "      <th id=\"T_4f914_level0_col18\" class=\"col_heading level0 col18\" >return_on_investment_percentage</th>\n",
       "    </tr>\n",
       "  </thead>\n",
       "  <tbody>\n",
       "    <tr>\n",
       "      <td id=\"T_4f914_row0_col0\" class=\"data row0 col0\" >DE</td>\n",
       "      <td id=\"T_4f914_row0_col1\" class=\"data row0 col1\" >android</td>\n",
       "      <td id=\"T_4f914_row0_col2\" class=\"data row0 col2\" >10,757,864</td>\n",
       "      <td id=\"T_4f914_row0_col3\" class=\"data row0 col3\" >61,614</td>\n",
       "      <td id=\"T_4f914_row0_col4\" class=\"data row0 col4\" >25,489</td>\n",
       "      <td id=\"T_4f914_row0_col5\" class=\"data row0 col5\" >2,134</td>\n",
       "      <td id=\"T_4f914_row0_col6\" class=\"data row0 col6\" >€75711.80</td>\n",
       "      <td id=\"T_4f914_row0_col7\" class=\"data row0 col7\" >€63055.70</td>\n",
       "      <td id=\"T_4f914_row0_col8\" class=\"data row0 col8\" >0.57%</td>\n",
       "      <td id=\"T_4f914_row0_col9\" class=\"data row0 col9\" >41.37%</td>\n",
       "      <td id=\"T_4f914_row0_col10\" class=\"data row0 col10\" >8.37%</td>\n",
       "      <td id=\"T_4f914_row0_col11\" class=\"data row0 col11\" >€7.04</td>\n",
       "      <td id=\"T_4f914_row0_col12\" class=\"data row0 col12\" >€1.23</td>\n",
       "      <td id=\"T_4f914_row0_col13\" class=\"data row0 col13\" >€2.97</td>\n",
       "      <td id=\"T_4f914_row0_col14\" class=\"data row0 col14\" >€35.48</td>\n",
       "      <td id=\"T_4f914_row0_col15\" class=\"data row0 col15\" >€29.55</td>\n",
       "      <td id=\"T_4f914_row0_col16\" class=\"data row0 col16\" >€-12656.10</td>\n",
       "      <td id=\"T_4f914_row0_col17\" class=\"data row0 col17\" >83.28%</td>\n",
       "      <td id=\"T_4f914_row0_col18\" class=\"data row0 col18\" >-16.72%</td>\n",
       "    </tr>\n",
       "    <tr>\n",
       "      <td id=\"T_4f914_row1_col0\" class=\"data row1 col0\" >DE</td>\n",
       "      <td id=\"T_4f914_row1_col1\" class=\"data row1 col1\" >ios</td>\n",
       "      <td id=\"T_4f914_row1_col2\" class=\"data row1 col2\" >2,723,719</td>\n",
       "      <td id=\"T_4f914_row1_col3\" class=\"data row1 col3\" >47,932</td>\n",
       "      <td id=\"T_4f914_row1_col4\" class=\"data row1 col4\" >23,215</td>\n",
       "      <td id=\"T_4f914_row1_col5\" class=\"data row1 col5\" >3,162</td>\n",
       "      <td id=\"T_4f914_row1_col6\" class=\"data row1 col6\" >€53076.73</td>\n",
       "      <td id=\"T_4f914_row1_col7\" class=\"data row1 col7\" >€88327.53</td>\n",
       "      <td id=\"T_4f914_row1_col8\" class=\"data row1 col8\" >1.76%</td>\n",
       "      <td id=\"T_4f914_row1_col9\" class=\"data row1 col9\" >48.43%</td>\n",
       "      <td id=\"T_4f914_row1_col10\" class=\"data row1 col10\" >13.62%</td>\n",
       "      <td id=\"T_4f914_row1_col11\" class=\"data row1 col11\" >€19.49</td>\n",
       "      <td id=\"T_4f914_row1_col12\" class=\"data row1 col12\" >€1.11</td>\n",
       "      <td id=\"T_4f914_row1_col13\" class=\"data row1 col13\" >€2.29</td>\n",
       "      <td id=\"T_4f914_row1_col14\" class=\"data row1 col14\" >€16.79</td>\n",
       "      <td id=\"T_4f914_row1_col15\" class=\"data row1 col15\" >€27.93</td>\n",
       "      <td id=\"T_4f914_row1_col16\" class=\"data row1 col16\" >€35250.80</td>\n",
       "      <td id=\"T_4f914_row1_col17\" class=\"data row1 col17\" >166.41%</td>\n",
       "      <td id=\"T_4f914_row1_col18\" class=\"data row1 col18\" >66.41%</td>\n",
       "    </tr>\n",
       "  </tbody>\n",
       "</table>\n"
      ],
      "text/plain": [
       "<pandas.io.formats.style.Styler at 0x146df9ad0>"
      ]
     },
     "metadata": {},
     "output_type": "display_data"
    },
    {
     "data": {
      "text/html": [
       "<style type=\"text/css\">\n",
       "#T_3d77f_row0_col4 {\n",
       "  width: 10em;\n",
       "  background: linear-gradient(90deg, #8ecbfa 40.3%, transparent 40.3%);\n",
       "}\n",
       "#T_3d77f_row0_col5 {\n",
       "  width: 10em;\n",
       "  background: linear-gradient(90deg, #8ecbfa 27.7%, transparent 27.7%);\n",
       "}\n",
       "#T_3d77f_row0_col6 {\n",
       "  width: 10em;\n",
       "  background: linear-gradient(90deg, #8ecbfa 34.4%, transparent 34.4%);\n",
       "}\n",
       "#T_3d77f_row0_col7 {\n",
       "  width: 10em;\n",
       "  background: linear-gradient(90deg, #8ecbfa 27.2%, transparent 27.2%);\n",
       "}\n",
       "#T_3d77f_row0_col10 {\n",
       "  width: 10em;\n",
       "  background: linear-gradient(90deg, #8ecbfa 68.8%, transparent 68.8%);\n",
       "}\n",
       "#T_3d77f_row0_col13 {\n",
       "  width: 10em;\n",
       "  background: linear-gradient(90deg, #8ecbfa 85.3%, transparent 85.3%);\n",
       "}\n",
       "#T_3d77f_row0_col16 {\n",
       "  width: 10em;\n",
       "  background: linear-gradient(90deg, transparent 59.9%, #d65f5f 59.9%, #d65f5f 100.0%, transparent 100.0%);\n",
       "}\n",
       "#T_3d77f_row1_col4, #T_3d77f_row1_col5, #T_3d77f_row1_col6, #T_3d77f_row1_col7, #T_3d77f_row1_col10, #T_3d77f_row1_col13 {\n",
       "  width: 10em;\n",
       "  background: linear-gradient(90deg, #8ecbfa 100.0%, transparent 100.0%);\n",
       "}\n",
       "#T_3d77f_row1_col16 {\n",
       "  width: 10em;\n",
       "  background: linear-gradient(90deg, #d65f5f 100.0%, transparent 100.0%);\n",
       "}\n",
       "</style>\n",
       "<table id=\"T_3d77f\">\n",
       "  <thead>\n",
       "    <tr>\n",
       "      <th id=\"T_3d77f_level0_col0\" class=\"col_heading level0 col0\" >country</th>\n",
       "      <th id=\"T_3d77f_level0_col1\" class=\"col_heading level0 col1\" >platform</th>\n",
       "      <th id=\"T_3d77f_level0_col2\" class=\"col_heading level0 col2\" >impressions</th>\n",
       "      <th id=\"T_3d77f_level0_col3\" class=\"col_heading level0 col3\" >clicks</th>\n",
       "      <th id=\"T_3d77f_level0_col4\" class=\"col_heading level0 col4\" >app_installs</th>\n",
       "      <th id=\"T_3d77f_level0_col5\" class=\"col_heading level0 col5\" >conversions</th>\n",
       "      <th id=\"T_3d77f_level0_col6\" class=\"col_heading level0 col6\" >marketing_spend_euro</th>\n",
       "      <th id=\"T_3d77f_level0_col7\" class=\"col_heading level0 col7\" >revenue_euro</th>\n",
       "      <th id=\"T_3d77f_level0_col8\" class=\"col_heading level0 col8\" >click_through_rate</th>\n",
       "      <th id=\"T_3d77f_level0_col9\" class=\"col_heading level0 col9\" >click_to_install_rate</th>\n",
       "      <th id=\"T_3d77f_level0_col10\" class=\"col_heading level0 col10\" >install_to_conversion_rate</th>\n",
       "      <th id=\"T_3d77f_level0_col11\" class=\"col_heading level0 col11\" >cpm</th>\n",
       "      <th id=\"T_3d77f_level0_col12\" class=\"col_heading level0 col12\" >cpc</th>\n",
       "      <th id=\"T_3d77f_level0_col13\" class=\"col_heading level0 col13\" >cpi</th>\n",
       "      <th id=\"T_3d77f_level0_col14\" class=\"col_heading level0 col14\" >cpa</th>\n",
       "      <th id=\"T_3d77f_level0_col15\" class=\"col_heading level0 col15\" >rpa</th>\n",
       "      <th id=\"T_3d77f_level0_col16\" class=\"col_heading level0 col16\" >profit</th>\n",
       "      <th id=\"T_3d77f_level0_col17\" class=\"col_heading level0 col17\" >return_on_ad_spend_percentage</th>\n",
       "      <th id=\"T_3d77f_level0_col18\" class=\"col_heading level0 col18\" >return_on_investment_percentage</th>\n",
       "    </tr>\n",
       "  </thead>\n",
       "  <tbody>\n",
       "    <tr>\n",
       "      <td id=\"T_3d77f_row0_col0\" class=\"data row0 col0\" >US</td>\n",
       "      <td id=\"T_3d77f_row0_col1\" class=\"data row0 col1\" >android</td>\n",
       "      <td id=\"T_3d77f_row0_col2\" class=\"data row0 col2\" >330,401</td>\n",
       "      <td id=\"T_3d77f_row0_col3\" class=\"data row0 col3\" >13,962</td>\n",
       "      <td id=\"T_3d77f_row0_col4\" class=\"data row0 col4\" >1,446</td>\n",
       "      <td id=\"T_3d77f_row0_col5\" class=\"data row0 col5\" >105</td>\n",
       "      <td id=\"T_3d77f_row0_col6\" class=\"data row0 col6\" >€7249.09</td>\n",
       "      <td id=\"T_3d77f_row0_col7\" class=\"data row0 col7\" >€2532.99</td>\n",
       "      <td id=\"T_3d77f_row0_col8\" class=\"data row0 col8\" >4.23%</td>\n",
       "      <td id=\"T_3d77f_row0_col9\" class=\"data row0 col9\" >10.36%</td>\n",
       "      <td id=\"T_3d77f_row0_col10\" class=\"data row0 col10\" >7.26%</td>\n",
       "      <td id=\"T_3d77f_row0_col11\" class=\"data row0 col11\" >€21.94</td>\n",
       "      <td id=\"T_3d77f_row0_col12\" class=\"data row0 col12\" >€0.52</td>\n",
       "      <td id=\"T_3d77f_row0_col13\" class=\"data row0 col13\" >€5.01</td>\n",
       "      <td id=\"T_3d77f_row0_col14\" class=\"data row0 col14\" >€69.04</td>\n",
       "      <td id=\"T_3d77f_row0_col15\" class=\"data row0 col15\" >€24.12</td>\n",
       "      <td id=\"T_3d77f_row0_col16\" class=\"data row0 col16\" >€-4716.10</td>\n",
       "      <td id=\"T_3d77f_row0_col17\" class=\"data row0 col17\" >34.94%</td>\n",
       "      <td id=\"T_3d77f_row0_col18\" class=\"data row0 col18\" >-65.06%</td>\n",
       "    </tr>\n",
       "    <tr>\n",
       "      <td id=\"T_3d77f_row1_col0\" class=\"data row1 col0\" >US</td>\n",
       "      <td id=\"T_3d77f_row1_col1\" class=\"data row1 col1\" >ios</td>\n",
       "      <td id=\"T_3d77f_row1_col2\" class=\"data row1 col2\" >2,172,792</td>\n",
       "      <td id=\"T_3d77f_row1_col3\" class=\"data row1 col3\" >11,804</td>\n",
       "      <td id=\"T_3d77f_row1_col4\" class=\"data row1 col4\" >3,592</td>\n",
       "      <td id=\"T_3d77f_row1_col5\" class=\"data row1 col5\" >379</td>\n",
       "      <td id=\"T_3d77f_row1_col6\" class=\"data row1 col6\" >€21091.13</td>\n",
       "      <td id=\"T_3d77f_row1_col7\" class=\"data row1 col7\" >€9325.81</td>\n",
       "      <td id=\"T_3d77f_row1_col8\" class=\"data row1 col8\" >0.54%</td>\n",
       "      <td id=\"T_3d77f_row1_col9\" class=\"data row1 col9\" >30.43%</td>\n",
       "      <td id=\"T_3d77f_row1_col10\" class=\"data row1 col10\" >10.55%</td>\n",
       "      <td id=\"T_3d77f_row1_col11\" class=\"data row1 col11\" >€9.71</td>\n",
       "      <td id=\"T_3d77f_row1_col12\" class=\"data row1 col12\" >€1.79</td>\n",
       "      <td id=\"T_3d77f_row1_col13\" class=\"data row1 col13\" >€5.87</td>\n",
       "      <td id=\"T_3d77f_row1_col14\" class=\"data row1 col14\" >€55.65</td>\n",
       "      <td id=\"T_3d77f_row1_col15\" class=\"data row1 col15\" >€24.61</td>\n",
       "      <td id=\"T_3d77f_row1_col16\" class=\"data row1 col16\" >€-11765.32</td>\n",
       "      <td id=\"T_3d77f_row1_col17\" class=\"data row1 col17\" >44.22%</td>\n",
       "      <td id=\"T_3d77f_row1_col18\" class=\"data row1 col18\" >-55.78%</td>\n",
       "    </tr>\n",
       "  </tbody>\n",
       "</table>\n"
      ],
      "text/plain": [
       "<pandas.io.formats.style.Styler at 0x146e57e90>"
      ]
     },
     "metadata": {},
     "output_type": "display_data"
    }
   ],
   "source": [
    "agg_df = df.groupby(['country','platform']).sum(numeric_only=True)\n",
    "\n",
    "df_metrics = calculate_metrics(agg_df).reset_index()\n",
    "\n",
    "filtered_df_de = df_metrics[df_metrics['country'] == 'DE']\n",
    "filtered_df_us = df_metrics[df_metrics['country'] == 'US']\n",
    "\n",
    "# formatted_df = format_metrics(df_metrics)\n",
    "\n",
    "display(format_metrics(filtered_df_de))\n",
    "\n",
    "display(format_metrics(filtered_df_us))"
   ]
  },
  {
   "cell_type": "markdown",
   "id": "a462a56b",
   "metadata": {},
   "source": [
    "### 4.2.3 Performance by Platform and Channel"
   ]
  },
  {
   "cell_type": "markdown",
   "id": "8db1fc76",
   "metadata": {},
   "source": [
    "\n",
    "**Germany**\n",
    "- The profitability comes mainly from ios on Channel C\n",
    "\n",
    "**United States**\n",
    "- The channel with the highest spend has the highest loss."
   ]
  },
  {
   "cell_type": "code",
   "execution_count": 34,
   "id": "5c5961c8",
   "metadata": {},
   "outputs": [
    {
     "data": {
      "text/html": [
       "<style type=\"text/css\">\n",
       "#T_a6031_row0_col5 {\n",
       "  width: 10em;\n",
       "  background: linear-gradient(90deg, #8ecbfa 78.1%, transparent 78.1%);\n",
       "}\n",
       "#T_a6031_row0_col6 {\n",
       "  width: 10em;\n",
       "  background: linear-gradient(90deg, #8ecbfa 54.8%, transparent 54.8%);\n",
       "}\n",
       "#T_a6031_row0_col7 {\n",
       "  width: 10em;\n",
       "  background: linear-gradient(90deg, #8ecbfa 90.3%, transparent 90.3%);\n",
       "}\n",
       "#T_a6031_row0_col8 {\n",
       "  width: 10em;\n",
       "  background: linear-gradient(90deg, #8ecbfa 56.9%, transparent 56.9%);\n",
       "}\n",
       "#T_a6031_row0_col11 {\n",
       "  width: 10em;\n",
       "  background: linear-gradient(90deg, #8ecbfa 48.1%, transparent 48.1%);\n",
       "}\n",
       "#T_a6031_row0_col14, #T_a6031_row6_col14 {\n",
       "  width: 10em;\n",
       "  background: linear-gradient(90deg, #8ecbfa 0.2%, transparent 0.2%);\n",
       "}\n",
       "#T_a6031_row0_col17 {\n",
       "  width: 10em;\n",
       "  background: linear-gradient(90deg, transparent 21.0%, #8ecbfa 21.0%, #8ecbfa 47.2%, transparent 47.2%);\n",
       "}\n",
       "#T_a6031_row1_col5, #T_a6031_row1_col11 {\n",
       "  width: 10em;\n",
       "  background: linear-gradient(90deg, #8ecbfa 22.1%, transparent 22.1%);\n",
       "}\n",
       "#T_a6031_row1_col6 {\n",
       "  width: 10em;\n",
       "  background: linear-gradient(90deg, #8ecbfa 7.1%, transparent 7.1%);\n",
       "}\n",
       "#T_a6031_row1_col7 {\n",
       "  width: 10em;\n",
       "  background: linear-gradient(90deg, #8ecbfa 43.4%, transparent 43.4%);\n",
       "}\n",
       "#T_a6031_row1_col8 {\n",
       "  width: 10em;\n",
       "  background: linear-gradient(90deg, #8ecbfa 8.2%, transparent 8.2%);\n",
       "}\n",
       "#T_a6031_row1_col14, #T_a6031_row7_col6, #T_a6031_row7_col8 {\n",
       "  width: 10em;\n",
       "  background: linear-gradient(90deg, #8ecbfa 0.3%, transparent 0.3%);\n",
       "}\n",
       "#T_a6031_row1_col17 {\n",
       "  width: 10em;\n",
       "  background: linear-gradient(90deg, transparent 7.8%, #d65f5f 7.8%, #d65f5f 21.0%, transparent 21.0%);\n",
       "}\n",
       "#T_a6031_row2_col5, #T_a6031_row2_col6, #T_a6031_row2_col8, #T_a6031_row2_col11, #T_a6031_row2_col14, #T_a6031_row4_col6, #T_a6031_row4_col8, #T_a6031_row4_col11, #T_a6031_row7_col7, #T_a6031_row7_col14 {\n",
       "  width: 10em;\n",
       "}\n",
       "#T_a6031_row2_col7 {\n",
       "  width: 10em;\n",
       "  background: linear-gradient(90deg, #8ecbfa 34.2%, transparent 34.2%);\n",
       "}\n",
       "#T_a6031_row2_col17 {\n",
       "  width: 10em;\n",
       "  background: linear-gradient(90deg, transparent 1.8%, #d65f5f 1.8%, #d65f5f 21.0%, transparent 21.0%);\n",
       "}\n",
       "#T_a6031_row3_col5 {\n",
       "  width: 10em;\n",
       "  background: linear-gradient(90deg, #8ecbfa 10.7%, transparent 10.7%);\n",
       "}\n",
       "#T_a6031_row3_col6 {\n",
       "  width: 10em;\n",
       "  background: linear-gradient(90deg, #8ecbfa 5.8%, transparent 5.8%);\n",
       "}\n",
       "#T_a6031_row3_col7 {\n",
       "  width: 10em;\n",
       "  background: linear-gradient(90deg, #8ecbfa 39.4%, transparent 39.4%);\n",
       "}\n",
       "#T_a6031_row3_col8 {\n",
       "  width: 10em;\n",
       "  background: linear-gradient(90deg, #8ecbfa 6.6%, transparent 6.6%);\n",
       "}\n",
       "#T_a6031_row3_col11 {\n",
       "  width: 10em;\n",
       "  background: linear-gradient(90deg, #8ecbfa 37.0%, transparent 37.0%);\n",
       "}\n",
       "#T_a6031_row3_col14 {\n",
       "  width: 10em;\n",
       "  background: linear-gradient(90deg, #8ecbfa 0.6%, transparent 0.6%);\n",
       "}\n",
       "#T_a6031_row3_col17 {\n",
       "  width: 10em;\n",
       "  background: linear-gradient(90deg, transparent 7.7%, #d65f5f 7.7%, #d65f5f 21.0%, transparent 21.0%);\n",
       "}\n",
       "#T_a6031_row4_col5 {\n",
       "  width: 10em;\n",
       "  background: linear-gradient(90deg, #8ecbfa 0.0%, transparent 0.0%);\n",
       "}\n",
       "#T_a6031_row4_col7 {\n",
       "  width: 10em;\n",
       "  background: linear-gradient(90deg, #8ecbfa 7.7%, transparent 7.7%);\n",
       "}\n",
       "#T_a6031_row4_col14, #T_a6031_row5_col11, #T_a6031_row6_col5, #T_a6031_row6_col6, #T_a6031_row6_col7, #T_a6031_row6_col8 {\n",
       "  width: 10em;\n",
       "  background: linear-gradient(90deg, #8ecbfa 100.0%, transparent 100.0%);\n",
       "}\n",
       "#T_a6031_row4_col17 {\n",
       "  width: 10em;\n",
       "  background: linear-gradient(90deg, transparent 16.7%, #d65f5f 16.7%, #d65f5f 21.0%, transparent 21.0%);\n",
       "}\n",
       "#T_a6031_row5_col5, #T_a6031_row5_col6, #T_a6031_row5_col8 {\n",
       "  width: 10em;\n",
       "  background: linear-gradient(90deg, #8ecbfa 0.1%, transparent 0.1%);\n",
       "}\n",
       "#T_a6031_row5_col7 {\n",
       "  width: 10em;\n",
       "  background: linear-gradient(90deg, #8ecbfa 37.7%, transparent 37.7%);\n",
       "}\n",
       "#T_a6031_row5_col14 {\n",
       "  width: 10em;\n",
       "  background: linear-gradient(90deg, #8ecbfa 98.5%, transparent 98.5%);\n",
       "}\n",
       "#T_a6031_row5_col17 {\n",
       "  width: 10em;\n",
       "  background: linear-gradient(90deg, #d65f5f 21.0%, transparent 21.0%);\n",
       "}\n",
       "#T_a6031_row6_col11 {\n",
       "  width: 10em;\n",
       "  background: linear-gradient(90deg, #8ecbfa 68.5%, transparent 68.5%);\n",
       "}\n",
       "#T_a6031_row6_col17 {\n",
       "  width: 10em;\n",
       "  background: linear-gradient(90deg, transparent 21.0%, #8ecbfa 21.0%, #8ecbfa 100.0%, transparent 100.0%);\n",
       "}\n",
       "#T_a6031_row7_col5 {\n",
       "  width: 10em;\n",
       "  background: linear-gradient(90deg, #8ecbfa 1.0%, transparent 1.0%);\n",
       "}\n",
       "#T_a6031_row7_col11 {\n",
       "  width: 10em;\n",
       "  background: linear-gradient(90deg, #8ecbfa 20.0%, transparent 20.0%);\n",
       "}\n",
       "#T_a6031_row7_col17 {\n",
       "  width: 10em;\n",
       "  background: linear-gradient(90deg, transparent 21.0%, #8ecbfa 21.0%, #8ecbfa 21.4%, transparent 21.4%);\n",
       "}\n",
       "</style>\n",
       "<table id=\"T_a6031\">\n",
       "  <thead>\n",
       "    <tr>\n",
       "      <th id=\"T_a6031_level0_col0\" class=\"col_heading level0 col0\" >country</th>\n",
       "      <th id=\"T_a6031_level0_col1\" class=\"col_heading level0 col1\" >platform</th>\n",
       "      <th id=\"T_a6031_level0_col2\" class=\"col_heading level0 col2\" >marketing_channel</th>\n",
       "      <th id=\"T_a6031_level0_col3\" class=\"col_heading level0 col3\" >impressions</th>\n",
       "      <th id=\"T_a6031_level0_col4\" class=\"col_heading level0 col4\" >clicks</th>\n",
       "      <th id=\"T_a6031_level0_col5\" class=\"col_heading level0 col5\" >app_installs</th>\n",
       "      <th id=\"T_a6031_level0_col6\" class=\"col_heading level0 col6\" >conversions</th>\n",
       "      <th id=\"T_a6031_level0_col7\" class=\"col_heading level0 col7\" >marketing_spend_euro</th>\n",
       "      <th id=\"T_a6031_level0_col8\" class=\"col_heading level0 col8\" >revenue_euro</th>\n",
       "      <th id=\"T_a6031_level0_col9\" class=\"col_heading level0 col9\" >click_through_rate</th>\n",
       "      <th id=\"T_a6031_level0_col10\" class=\"col_heading level0 col10\" >click_to_install_rate</th>\n",
       "      <th id=\"T_a6031_level0_col11\" class=\"col_heading level0 col11\" >install_to_conversion_rate</th>\n",
       "      <th id=\"T_a6031_level0_col12\" class=\"col_heading level0 col12\" >cpm</th>\n",
       "      <th id=\"T_a6031_level0_col13\" class=\"col_heading level0 col13\" >cpc</th>\n",
       "      <th id=\"T_a6031_level0_col14\" class=\"col_heading level0 col14\" >cpi</th>\n",
       "      <th id=\"T_a6031_level0_col15\" class=\"col_heading level0 col15\" >cpa</th>\n",
       "      <th id=\"T_a6031_level0_col16\" class=\"col_heading level0 col16\" >rpa</th>\n",
       "      <th id=\"T_a6031_level0_col17\" class=\"col_heading level0 col17\" >profit</th>\n",
       "      <th id=\"T_a6031_level0_col18\" class=\"col_heading level0 col18\" >return_on_ad_spend_percentage</th>\n",
       "      <th id=\"T_a6031_level0_col19\" class=\"col_heading level0 col19\" >return_on_investment_percentage</th>\n",
       "    </tr>\n",
       "  </thead>\n",
       "  <tbody>\n",
       "    <tr>\n",
       "      <td id=\"T_a6031_row0_col0\" class=\"data row0 col0\" >DE</td>\n",
       "      <td id=\"T_a6031_row0_col1\" class=\"data row0 col1\" >android</td>\n",
       "      <td id=\"T_a6031_row0_col2\" class=\"data row0 col2\" >Channel A</td>\n",
       "      <td id=\"T_a6031_row0_col3\" class=\"data row0 col3\" >1,627,339</td>\n",
       "      <td id=\"T_a6031_row0_col4\" class=\"data row0 col4\" >38,801</td>\n",
       "      <td id=\"T_a6031_row0_col5\" class=\"data row0 col5\" >17,951</td>\n",
       "      <td id=\"T_a6031_row0_col6\" class=\"data row0 col6\" >1,727</td>\n",
       "      <td id=\"T_a6031_row0_col7\" class=\"data row0 col7\" >€32964.60</td>\n",
       "      <td id=\"T_a6031_row0_col8\" class=\"data row0 col8\" >€50029.23</td>\n",
       "      <td id=\"T_a6031_row0_col9\" class=\"data row0 col9\" >2.38%</td>\n",
       "      <td id=\"T_a6031_row0_col10\" class=\"data row0 col10\" >46.26%</td>\n",
       "      <td id=\"T_a6031_row0_col11\" class=\"data row0 col11\" >9.62%</td>\n",
       "      <td id=\"T_a6031_row0_col12\" class=\"data row0 col12\" >€20.26</td>\n",
       "      <td id=\"T_a6031_row0_col13\" class=\"data row0 col13\" >€0.85</td>\n",
       "      <td id=\"T_a6031_row0_col14\" class=\"data row0 col14\" >€1.84</td>\n",
       "      <td id=\"T_a6031_row0_col15\" class=\"data row0 col15\" >€19.09</td>\n",
       "      <td id=\"T_a6031_row0_col16\" class=\"data row0 col16\" >€28.97</td>\n",
       "      <td id=\"T_a6031_row0_col17\" class=\"data row0 col17\" >€17064.63</td>\n",
       "      <td id=\"T_a6031_row0_col18\" class=\"data row0 col18\" >151.77%</td>\n",
       "      <td id=\"T_a6031_row0_col19\" class=\"data row0 col19\" >51.77%</td>\n",
       "    </tr>\n",
       "    <tr>\n",
       "      <td id=\"T_a6031_row1_col0\" class=\"data row1 col0\" >DE</td>\n",
       "      <td id=\"T_a6031_row1_col1\" class=\"data row1 col1\" >android</td>\n",
       "      <td id=\"T_a6031_row1_col2\" class=\"data row1 col2\" >Channel B</td>\n",
       "      <td id=\"T_a6031_row1_col3\" class=\"data row1 col3\" >2,330,812</td>\n",
       "      <td id=\"T_a6031_row1_col4\" class=\"data row1 col4\" >9,314</td>\n",
       "      <td id=\"T_a6031_row1_col5\" class=\"data row1 col5\" >5,081</td>\n",
       "      <td id=\"T_a6031_row1_col6\" class=\"data row1 col6\" >225</td>\n",
       "      <td id=\"T_a6031_row1_col7\" class=\"data row1 col7\" >€15846.01</td>\n",
       "      <td id=\"T_a6031_row1_col8\" class=\"data row1 col8\" >€7252.55</td>\n",
       "      <td id=\"T_a6031_row1_col9\" class=\"data row1 col9\" >0.40%</td>\n",
       "      <td id=\"T_a6031_row1_col10\" class=\"data row1 col10\" >54.55%</td>\n",
       "      <td id=\"T_a6031_row1_col11\" class=\"data row1 col11\" >4.43%</td>\n",
       "      <td id=\"T_a6031_row1_col12\" class=\"data row1 col12\" >€6.80</td>\n",
       "      <td id=\"T_a6031_row1_col13\" class=\"data row1 col13\" >€1.70</td>\n",
       "      <td id=\"T_a6031_row1_col14\" class=\"data row1 col14\" >€3.12</td>\n",
       "      <td id=\"T_a6031_row1_col15\" class=\"data row1 col15\" >€70.43</td>\n",
       "      <td id=\"T_a6031_row1_col16\" class=\"data row1 col16\" >€32.23</td>\n",
       "      <td id=\"T_a6031_row1_col17\" class=\"data row1 col17\" >€-8593.46</td>\n",
       "      <td id=\"T_a6031_row1_col18\" class=\"data row1 col18\" >45.77%</td>\n",
       "      <td id=\"T_a6031_row1_col19\" class=\"data row1 col19\" >-54.23%</td>\n",
       "    </tr>\n",
       "    <tr>\n",
       "      <td id=\"T_a6031_row2_col0\" class=\"data row2 col0\" >DE</td>\n",
       "      <td id=\"T_a6031_row2_col1\" class=\"data row2 col1\" >android</td>\n",
       "      <td id=\"T_a6031_row2_col2\" class=\"data row2 col2\" >Channel D</td>\n",
       "      <td id=\"T_a6031_row2_col3\" class=\"data row2 col3\" >0</td>\n",
       "      <td id=\"T_a6031_row2_col4\" class=\"data row2 col4\" >0</td>\n",
       "      <td id=\"T_a6031_row2_col5\" class=\"data row2 col5\" >0</td>\n",
       "      <td id=\"T_a6031_row2_col6\" class=\"data row2 col6\" >0</td>\n",
       "      <td id=\"T_a6031_row2_col7\" class=\"data row2 col7\" >€12500.97</td>\n",
       "      <td id=\"T_a6031_row2_col8\" class=\"data row2 col8\" >€0.00</td>\n",
       "      <td id=\"T_a6031_row2_col9\" class=\"data row2 col9\" >nan%</td>\n",
       "      <td id=\"T_a6031_row2_col10\" class=\"data row2 col10\" >nan%</td>\n",
       "      <td id=\"T_a6031_row2_col11\" class=\"data row2 col11\" >nan%</td>\n",
       "      <td id=\"T_a6031_row2_col12\" class=\"data row2 col12\" >€nan</td>\n",
       "      <td id=\"T_a6031_row2_col13\" class=\"data row2 col13\" >€nan</td>\n",
       "      <td id=\"T_a6031_row2_col14\" class=\"data row2 col14\" >€nan</td>\n",
       "      <td id=\"T_a6031_row2_col15\" class=\"data row2 col15\" >€nan</td>\n",
       "      <td id=\"T_a6031_row2_col16\" class=\"data row2 col16\" >€nan</td>\n",
       "      <td id=\"T_a6031_row2_col17\" class=\"data row2 col17\" >€-12500.97</td>\n",
       "      <td id=\"T_a6031_row2_col18\" class=\"data row2 col18\" >0.00%</td>\n",
       "      <td id=\"T_a6031_row2_col19\" class=\"data row2 col19\" >-100.00%</td>\n",
       "    </tr>\n",
       "    <tr>\n",
       "      <td id=\"T_a6031_row3_col0\" class=\"data row3 col0\" >DE</td>\n",
       "      <td id=\"T_a6031_row3_col1\" class=\"data row3 col1\" >android</td>\n",
       "      <td id=\"T_a6031_row3_col2\" class=\"data row3 col2\" >Channel E</td>\n",
       "      <td id=\"T_a6031_row3_col3\" class=\"data row3 col3\" >6,799,713</td>\n",
       "      <td id=\"T_a6031_row3_col4\" class=\"data row3 col4\" >13,499</td>\n",
       "      <td id=\"T_a6031_row3_col5\" class=\"data row3 col5\" >2,457</td>\n",
       "      <td id=\"T_a6031_row3_col6\" class=\"data row3 col6\" >182</td>\n",
       "      <td id=\"T_a6031_row3_col7\" class=\"data row3 col7\" >€14400.22</td>\n",
       "      <td id=\"T_a6031_row3_col8\" class=\"data row3 col8\" >€5773.92</td>\n",
       "      <td id=\"T_a6031_row3_col9\" class=\"data row3 col9\" >0.20%</td>\n",
       "      <td id=\"T_a6031_row3_col10\" class=\"data row3 col10\" >18.20%</td>\n",
       "      <td id=\"T_a6031_row3_col11\" class=\"data row3 col11\" >7.41%</td>\n",
       "      <td id=\"T_a6031_row3_col12\" class=\"data row3 col12\" >€2.12</td>\n",
       "      <td id=\"T_a6031_row3_col13\" class=\"data row3 col13\" >€1.07</td>\n",
       "      <td id=\"T_a6031_row3_col14\" class=\"data row3 col14\" >€5.86</td>\n",
       "      <td id=\"T_a6031_row3_col15\" class=\"data row3 col15\" >€79.12</td>\n",
       "      <td id=\"T_a6031_row3_col16\" class=\"data row3 col16\" >€31.72</td>\n",
       "      <td id=\"T_a6031_row3_col17\" class=\"data row3 col17\" >€-8626.30</td>\n",
       "      <td id=\"T_a6031_row3_col18\" class=\"data row3 col18\" >40.10%</td>\n",
       "      <td id=\"T_a6031_row3_col19\" class=\"data row3 col19\" >-59.90%</td>\n",
       "    </tr>\n",
       "    <tr>\n",
       "      <td id=\"T_a6031_row4_col0\" class=\"data row4 col0\" >DE</td>\n",
       "      <td id=\"T_a6031_row4_col1\" class=\"data row4 col1\" >ios</td>\n",
       "      <td id=\"T_a6031_row4_col2\" class=\"data row4 col2\" >Channel A</td>\n",
       "      <td id=\"T_a6031_row4_col3\" class=\"data row4 col3\" >441,739</td>\n",
       "      <td id=\"T_a6031_row4_col4\" class=\"data row4 col4\" >3,207</td>\n",
       "      <td id=\"T_a6031_row4_col5\" class=\"data row4 col5\" >3</td>\n",
       "      <td id=\"T_a6031_row4_col6\" class=\"data row4 col6\" >0</td>\n",
       "      <td id=\"T_a6031_row4_col7\" class=\"data row4 col7\" >€2795.72</td>\n",
       "      <td id=\"T_a6031_row4_col8\" class=\"data row4 col8\" >€0.00</td>\n",
       "      <td id=\"T_a6031_row4_col9\" class=\"data row4 col9\" >0.73%</td>\n",
       "      <td id=\"T_a6031_row4_col10\" class=\"data row4 col10\" >0.09%</td>\n",
       "      <td id=\"T_a6031_row4_col11\" class=\"data row4 col11\" >0.00%</td>\n",
       "      <td id=\"T_a6031_row4_col12\" class=\"data row4 col12\" >€6.33</td>\n",
       "      <td id=\"T_a6031_row4_col13\" class=\"data row4 col13\" >€0.87</td>\n",
       "      <td id=\"T_a6031_row4_col14\" class=\"data row4 col14\" >€931.91</td>\n",
       "      <td id=\"T_a6031_row4_col15\" class=\"data row4 col15\" >€nan</td>\n",
       "      <td id=\"T_a6031_row4_col16\" class=\"data row4 col16\" >€nan</td>\n",
       "      <td id=\"T_a6031_row4_col17\" class=\"data row4 col17\" >€-2795.72</td>\n",
       "      <td id=\"T_a6031_row4_col18\" class=\"data row4 col18\" >0.00%</td>\n",
       "      <td id=\"T_a6031_row4_col19\" class=\"data row4 col19\" >-100.00%</td>\n",
       "    </tr>\n",
       "    <tr>\n",
       "      <td id=\"T_a6031_row5_col0\" class=\"data row5 col0\" >DE</td>\n",
       "      <td id=\"T_a6031_row5_col1\" class=\"data row5 col1\" >ios</td>\n",
       "      <td id=\"T_a6031_row5_col2\" class=\"data row5 col2\" >Channel B</td>\n",
       "      <td id=\"T_a6031_row5_col3\" class=\"data row5 col3\" >2,055,608</td>\n",
       "      <td id=\"T_a6031_row5_col4\" class=\"data row5 col4\" >6,562</td>\n",
       "      <td id=\"T_a6031_row5_col5\" class=\"data row5 col5\" >15</td>\n",
       "      <td id=\"T_a6031_row5_col6\" class=\"data row5 col6\" >3</td>\n",
       "      <td id=\"T_a6031_row5_col7\" class=\"data row5 col7\" >€13768.36</td>\n",
       "      <td id=\"T_a6031_row5_col8\" class=\"data row5 col8\" >€110.15</td>\n",
       "      <td id=\"T_a6031_row5_col9\" class=\"data row5 col9\" >0.32%</td>\n",
       "      <td id=\"T_a6031_row5_col10\" class=\"data row5 col10\" >0.23%</td>\n",
       "      <td id=\"T_a6031_row5_col11\" class=\"data row5 col11\" >20.00%</td>\n",
       "      <td id=\"T_a6031_row5_col12\" class=\"data row5 col12\" >€6.70</td>\n",
       "      <td id=\"T_a6031_row5_col13\" class=\"data row5 col13\" >€2.10</td>\n",
       "      <td id=\"T_a6031_row5_col14\" class=\"data row5 col14\" >€917.89</td>\n",
       "      <td id=\"T_a6031_row5_col15\" class=\"data row5 col15\" >€4589.45</td>\n",
       "      <td id=\"T_a6031_row5_col16\" class=\"data row5 col16\" >€36.72</td>\n",
       "      <td id=\"T_a6031_row5_col17\" class=\"data row5 col17\" >€-13658.21</td>\n",
       "      <td id=\"T_a6031_row5_col18\" class=\"data row5 col18\" >0.80%</td>\n",
       "      <td id=\"T_a6031_row5_col19\" class=\"data row5 col19\" >-99.20%</td>\n",
       "    </tr>\n",
       "    <tr>\n",
       "      <td id=\"T_a6031_row6_col0\" class=\"data row6 col0\" >DE</td>\n",
       "      <td id=\"T_a6031_row6_col1\" class=\"data row6 col1\" >ios</td>\n",
       "      <td id=\"T_a6031_row6_col2\" class=\"data row6 col2\" >Channel C</td>\n",
       "      <td id=\"T_a6031_row6_col3\" class=\"data row6 col3\" >104,013</td>\n",
       "      <td id=\"T_a6031_row6_col4\" class=\"data row6 col4\" >36,691</td>\n",
       "      <td id=\"T_a6031_row6_col5\" class=\"data row6 col5\" >22,972</td>\n",
       "      <td id=\"T_a6031_row6_col6\" class=\"data row6 col6\" >3,150</td>\n",
       "      <td id=\"T_a6031_row6_col7\" class=\"data row6 col7\" >€36512.65</td>\n",
       "      <td id=\"T_a6031_row6_col8\" class=\"data row6 col8\" >€87967.00</td>\n",
       "      <td id=\"T_a6031_row6_col9\" class=\"data row6 col9\" >35.28%</td>\n",
       "      <td id=\"T_a6031_row6_col10\" class=\"data row6 col10\" >62.61%</td>\n",
       "      <td id=\"T_a6031_row6_col11\" class=\"data row6 col11\" >13.71%</td>\n",
       "      <td id=\"T_a6031_row6_col12\" class=\"data row6 col12\" >€351.04</td>\n",
       "      <td id=\"T_a6031_row6_col13\" class=\"data row6 col13\" >€1.00</td>\n",
       "      <td id=\"T_a6031_row6_col14\" class=\"data row6 col14\" >€1.59</td>\n",
       "      <td id=\"T_a6031_row6_col15\" class=\"data row6 col15\" >€11.59</td>\n",
       "      <td id=\"T_a6031_row6_col16\" class=\"data row6 col16\" >€27.93</td>\n",
       "      <td id=\"T_a6031_row6_col17\" class=\"data row6 col17\" >€51454.35</td>\n",
       "      <td id=\"T_a6031_row6_col18\" class=\"data row6 col18\" >240.92%</td>\n",
       "      <td id=\"T_a6031_row6_col19\" class=\"data row6 col19\" >140.92%</td>\n",
       "    </tr>\n",
       "    <tr>\n",
       "      <td id=\"T_a6031_row7_col0\" class=\"data row7 col0\" >DE</td>\n",
       "      <td id=\"T_a6031_row7_col1\" class=\"data row7 col1\" >ios</td>\n",
       "      <td id=\"T_a6031_row7_col2\" class=\"data row7 col2\" >Channel E</td>\n",
       "      <td id=\"T_a6031_row7_col3\" class=\"data row7 col3\" >122,359</td>\n",
       "      <td id=\"T_a6031_row7_col4\" class=\"data row7 col4\" >1,472</td>\n",
       "      <td id=\"T_a6031_row7_col5\" class=\"data row7 col5\" >225</td>\n",
       "      <td id=\"T_a6031_row7_col6\" class=\"data row7 col6\" >9</td>\n",
       "      <td id=\"T_a6031_row7_col7\" class=\"data row7 col7\" >€0.00</td>\n",
       "      <td id=\"T_a6031_row7_col8\" class=\"data row7 col8\" >€250.38</td>\n",
       "      <td id=\"T_a6031_row7_col9\" class=\"data row7 col9\" >1.20%</td>\n",
       "      <td id=\"T_a6031_row7_col10\" class=\"data row7 col10\" >15.29%</td>\n",
       "      <td id=\"T_a6031_row7_col11\" class=\"data row7 col11\" >4.00%</td>\n",
       "      <td id=\"T_a6031_row7_col12\" class=\"data row7 col12\" >€0.00</td>\n",
       "      <td id=\"T_a6031_row7_col13\" class=\"data row7 col13\" >€0.00</td>\n",
       "      <td id=\"T_a6031_row7_col14\" class=\"data row7 col14\" >€0.00</td>\n",
       "      <td id=\"T_a6031_row7_col15\" class=\"data row7 col15\" >€0.00</td>\n",
       "      <td id=\"T_a6031_row7_col16\" class=\"data row7 col16\" >€27.82</td>\n",
       "      <td id=\"T_a6031_row7_col17\" class=\"data row7 col17\" >€250.38</td>\n",
       "      <td id=\"T_a6031_row7_col18\" class=\"data row7 col18\" >nan%</td>\n",
       "      <td id=\"T_a6031_row7_col19\" class=\"data row7 col19\" >nan%</td>\n",
       "    </tr>\n",
       "  </tbody>\n",
       "</table>\n"
      ],
      "text/plain": [
       "<pandas.io.formats.style.Styler at 0x150320b90>"
      ]
     },
     "metadata": {},
     "output_type": "display_data"
    },
    {
     "data": {
      "text/html": [
       "<style type=\"text/css\">\n",
       "#T_3f157_row0_col5 {\n",
       "  width: 10em;\n",
       "  background: linear-gradient(90deg, #8ecbfa 0.2%, transparent 0.2%);\n",
       "}\n",
       "#T_3f157_row0_col6, #T_3f157_row0_col7, #T_3f157_row0_col8, #T_3f157_row0_col11, #T_3f157_row0_col14, #T_3f157_row0_col17, #T_3f157_row2_col5, #T_3f157_row2_col6, #T_3f157_row2_col8, #T_3f157_row2_col11, #T_3f157_row2_col14, #T_3f157_row3_col5, #T_3f157_row3_col6, #T_3f157_row3_col7, #T_3f157_row3_col8, #T_3f157_row3_col11, #T_3f157_row3_col14, #T_3f157_row3_col17, #T_3f157_row4_col6, #T_3f157_row4_col8, #T_3f157_row4_col11, #T_3f157_row5_col6, #T_3f157_row5_col8, #T_3f157_row5_col11, #T_3f157_row7_col5, #T_3f157_row7_col6, #T_3f157_row7_col7, #T_3f157_row7_col8, #T_3f157_row7_col11, #T_3f157_row7_col14, #T_3f157_row7_col17 {\n",
       "  width: 10em;\n",
       "}\n",
       "#T_3f157_row1_col5 {\n",
       "  width: 10em;\n",
       "  background: linear-gradient(90deg, #8ecbfa 40.1%, transparent 40.1%);\n",
       "}\n",
       "#T_3f157_row1_col6 {\n",
       "  width: 10em;\n",
       "  background: linear-gradient(90deg, #8ecbfa 27.7%, transparent 27.7%);\n",
       "}\n",
       "#T_3f157_row1_col7 {\n",
       "  width: 10em;\n",
       "  background: linear-gradient(90deg, #8ecbfa 38.1%, transparent 38.1%);\n",
       "}\n",
       "#T_3f157_row1_col8 {\n",
       "  width: 10em;\n",
       "  background: linear-gradient(90deg, #8ecbfa 27.2%, transparent 27.2%);\n",
       "}\n",
       "#T_3f157_row1_col11 {\n",
       "  width: 10em;\n",
       "  background: linear-gradient(90deg, #8ecbfa 69.0%, transparent 69.0%);\n",
       "}\n",
       "#T_3f157_row1_col14, #T_3f157_row6_col14 {\n",
       "  width: 10em;\n",
       "  background: linear-gradient(90deg, #8ecbfa 0.1%, transparent 0.1%);\n",
       "}\n",
       "#T_3f157_row1_col17 {\n",
       "  width: 10em;\n",
       "  background: linear-gradient(90deg, transparent 43.9%, #d65f5f 43.9%, #d65f5f 100.0%, transparent 100.0%);\n",
       "}\n",
       "#T_3f157_row2_col7 {\n",
       "  width: 10em;\n",
       "  background: linear-gradient(90deg, #8ecbfa 10.2%, transparent 10.2%);\n",
       "}\n",
       "#T_3f157_row2_col17 {\n",
       "  width: 10em;\n",
       "  background: linear-gradient(90deg, transparent 73.0%, #d65f5f 73.0%, #d65f5f 100.0%, transparent 100.0%);\n",
       "}\n",
       "#T_3f157_row4_col5, #T_3f157_row5_col5 {\n",
       "  width: 10em;\n",
       "  background: linear-gradient(90deg, #8ecbfa 0.0%, transparent 0.0%);\n",
       "}\n",
       "#T_3f157_row4_col7 {\n",
       "  width: 10em;\n",
       "  background: linear-gradient(90deg, #8ecbfa 23.3%, transparent 23.3%);\n",
       "}\n",
       "#T_3f157_row4_col14, #T_3f157_row6_col5, #T_3f157_row6_col6, #T_3f157_row6_col7, #T_3f157_row6_col8, #T_3f157_row6_col11 {\n",
       "  width: 10em;\n",
       "  background: linear-gradient(90deg, #8ecbfa 100.0%, transparent 100.0%);\n",
       "}\n",
       "#T_3f157_row4_col17 {\n",
       "  width: 10em;\n",
       "  background: linear-gradient(90deg, transparent 38.4%, #d65f5f 38.4%, #d65f5f 100.0%, transparent 100.0%);\n",
       "}\n",
       "#T_3f157_row5_col7 {\n",
       "  width: 10em;\n",
       "  background: linear-gradient(90deg, #8ecbfa 17.3%, transparent 17.3%);\n",
       "}\n",
       "#T_3f157_row5_col14 {\n",
       "  width: 10em;\n",
       "  background: linear-gradient(90deg, #8ecbfa 74.3%, transparent 74.3%);\n",
       "}\n",
       "#T_3f157_row5_col17 {\n",
       "  width: 10em;\n",
       "  background: linear-gradient(90deg, transparent 54.3%, #d65f5f 54.3%, #d65f5f 100.0%, transparent 100.0%);\n",
       "}\n",
       "#T_3f157_row6_col17 {\n",
       "  width: 10em;\n",
       "  background: linear-gradient(90deg, #d65f5f 100.0%, transparent 100.0%);\n",
       "}\n",
       "</style>\n",
       "<table id=\"T_3f157\">\n",
       "  <thead>\n",
       "    <tr>\n",
       "      <th id=\"T_3f157_level0_col0\" class=\"col_heading level0 col0\" >country</th>\n",
       "      <th id=\"T_3f157_level0_col1\" class=\"col_heading level0 col1\" >platform</th>\n",
       "      <th id=\"T_3f157_level0_col2\" class=\"col_heading level0 col2\" >marketing_channel</th>\n",
       "      <th id=\"T_3f157_level0_col3\" class=\"col_heading level0 col3\" >impressions</th>\n",
       "      <th id=\"T_3f157_level0_col4\" class=\"col_heading level0 col4\" >clicks</th>\n",
       "      <th id=\"T_3f157_level0_col5\" class=\"col_heading level0 col5\" >app_installs</th>\n",
       "      <th id=\"T_3f157_level0_col6\" class=\"col_heading level0 col6\" >conversions</th>\n",
       "      <th id=\"T_3f157_level0_col7\" class=\"col_heading level0 col7\" >marketing_spend_euro</th>\n",
       "      <th id=\"T_3f157_level0_col8\" class=\"col_heading level0 col8\" >revenue_euro</th>\n",
       "      <th id=\"T_3f157_level0_col9\" class=\"col_heading level0 col9\" >click_through_rate</th>\n",
       "      <th id=\"T_3f157_level0_col10\" class=\"col_heading level0 col10\" >click_to_install_rate</th>\n",
       "      <th id=\"T_3f157_level0_col11\" class=\"col_heading level0 col11\" >install_to_conversion_rate</th>\n",
       "      <th id=\"T_3f157_level0_col12\" class=\"col_heading level0 col12\" >cpm</th>\n",
       "      <th id=\"T_3f157_level0_col13\" class=\"col_heading level0 col13\" >cpc</th>\n",
       "      <th id=\"T_3f157_level0_col14\" class=\"col_heading level0 col14\" >cpi</th>\n",
       "      <th id=\"T_3f157_level0_col15\" class=\"col_heading level0 col15\" >cpa</th>\n",
       "      <th id=\"T_3f157_level0_col16\" class=\"col_heading level0 col16\" >rpa</th>\n",
       "      <th id=\"T_3f157_level0_col17\" class=\"col_heading level0 col17\" >profit</th>\n",
       "      <th id=\"T_3f157_level0_col18\" class=\"col_heading level0 col18\" >return_on_ad_spend_percentage</th>\n",
       "      <th id=\"T_3f157_level0_col19\" class=\"col_heading level0 col19\" >return_on_investment_percentage</th>\n",
       "    </tr>\n",
       "  </thead>\n",
       "  <tbody>\n",
       "    <tr>\n",
       "      <td id=\"T_3f157_row0_col0\" class=\"data row0 col0\" >US</td>\n",
       "      <td id=\"T_3f157_row0_col1\" class=\"data row0 col1\" >android</td>\n",
       "      <td id=\"T_3f157_row0_col2\" class=\"data row0 col2\" >Channel A</td>\n",
       "      <td id=\"T_3f157_row0_col3\" class=\"data row0 col3\" >0</td>\n",
       "      <td id=\"T_3f157_row0_col4\" class=\"data row0 col4\" >0</td>\n",
       "      <td id=\"T_3f157_row0_col5\" class=\"data row0 col5\" >6</td>\n",
       "      <td id=\"T_3f157_row0_col6\" class=\"data row0 col6\" >0</td>\n",
       "      <td id=\"T_3f157_row0_col7\" class=\"data row0 col7\" >€0.00</td>\n",
       "      <td id=\"T_3f157_row0_col8\" class=\"data row0 col8\" >€0.00</td>\n",
       "      <td id=\"T_3f157_row0_col9\" class=\"data row0 col9\" >nan%</td>\n",
       "      <td id=\"T_3f157_row0_col10\" class=\"data row0 col10\" >nan%</td>\n",
       "      <td id=\"T_3f157_row0_col11\" class=\"data row0 col11\" >0.00%</td>\n",
       "      <td id=\"T_3f157_row0_col12\" class=\"data row0 col12\" >€nan</td>\n",
       "      <td id=\"T_3f157_row0_col13\" class=\"data row0 col13\" >€nan</td>\n",
       "      <td id=\"T_3f157_row0_col14\" class=\"data row0 col14\" >€0.00</td>\n",
       "      <td id=\"T_3f157_row0_col15\" class=\"data row0 col15\" >€nan</td>\n",
       "      <td id=\"T_3f157_row0_col16\" class=\"data row0 col16\" >€nan</td>\n",
       "      <td id=\"T_3f157_row0_col17\" class=\"data row0 col17\" >€0.00</td>\n",
       "      <td id=\"T_3f157_row0_col18\" class=\"data row0 col18\" >nan%</td>\n",
       "      <td id=\"T_3f157_row0_col19\" class=\"data row0 col19\" >nan%</td>\n",
       "    </tr>\n",
       "    <tr>\n",
       "      <td id=\"T_3f157_row1_col0\" class=\"data row1 col0\" >US</td>\n",
       "      <td id=\"T_3f157_row1_col1\" class=\"data row1 col1\" >android</td>\n",
       "      <td id=\"T_3f157_row1_col2\" class=\"data row1 col2\" >Channel B</td>\n",
       "      <td id=\"T_3f157_row1_col3\" class=\"data row1 col3\" >329,551</td>\n",
       "      <td id=\"T_3f157_row1_col4\" class=\"data row1 col4\" >2,500</td>\n",
       "      <td id=\"T_3f157_row1_col5\" class=\"data row1 col5\" >1,440</td>\n",
       "      <td id=\"T_3f157_row1_col6\" class=\"data row1 col6\" >105</td>\n",
       "      <td id=\"T_3f157_row1_col7\" class=\"data row1 col7\" >€5714.16</td>\n",
       "      <td id=\"T_3f157_row1_col8\" class=\"data row1 col8\" >€2532.99</td>\n",
       "      <td id=\"T_3f157_row1_col9\" class=\"data row1 col9\" >0.76%</td>\n",
       "      <td id=\"T_3f157_row1_col10\" class=\"data row1 col10\" >57.60%</td>\n",
       "      <td id=\"T_3f157_row1_col11\" class=\"data row1 col11\" >7.29%</td>\n",
       "      <td id=\"T_3f157_row1_col12\" class=\"data row1 col12\" >€17.34</td>\n",
       "      <td id=\"T_3f157_row1_col13\" class=\"data row1 col13\" >€2.29</td>\n",
       "      <td id=\"T_3f157_row1_col14\" class=\"data row1 col14\" >€3.97</td>\n",
       "      <td id=\"T_3f157_row1_col15\" class=\"data row1 col15\" >€54.42</td>\n",
       "      <td id=\"T_3f157_row1_col16\" class=\"data row1 col16\" >€24.12</td>\n",
       "      <td id=\"T_3f157_row1_col17\" class=\"data row1 col17\" >€-3181.17</td>\n",
       "      <td id=\"T_3f157_row1_col18\" class=\"data row1 col18\" >44.33%</td>\n",
       "      <td id=\"T_3f157_row1_col19\" class=\"data row1 col19\" >-55.67%</td>\n",
       "    </tr>\n",
       "    <tr>\n",
       "      <td id=\"T_3f157_row2_col0\" class=\"data row2 col0\" >US</td>\n",
       "      <td id=\"T_3f157_row2_col1\" class=\"data row2 col1\" >android</td>\n",
       "      <td id=\"T_3f157_row2_col2\" class=\"data row2 col2\" >Channel D</td>\n",
       "      <td id=\"T_3f157_row2_col3\" class=\"data row2 col3\" >0</td>\n",
       "      <td id=\"T_3f157_row2_col4\" class=\"data row2 col4\" >0</td>\n",
       "      <td id=\"T_3f157_row2_col5\" class=\"data row2 col5\" >0</td>\n",
       "      <td id=\"T_3f157_row2_col6\" class=\"data row2 col6\" >0</td>\n",
       "      <td id=\"T_3f157_row2_col7\" class=\"data row2 col7\" >€1534.93</td>\n",
       "      <td id=\"T_3f157_row2_col8\" class=\"data row2 col8\" >€0.00</td>\n",
       "      <td id=\"T_3f157_row2_col9\" class=\"data row2 col9\" >nan%</td>\n",
       "      <td id=\"T_3f157_row2_col10\" class=\"data row2 col10\" >nan%</td>\n",
       "      <td id=\"T_3f157_row2_col11\" class=\"data row2 col11\" >nan%</td>\n",
       "      <td id=\"T_3f157_row2_col12\" class=\"data row2 col12\" >€nan</td>\n",
       "      <td id=\"T_3f157_row2_col13\" class=\"data row2 col13\" >€nan</td>\n",
       "      <td id=\"T_3f157_row2_col14\" class=\"data row2 col14\" >€nan</td>\n",
       "      <td id=\"T_3f157_row2_col15\" class=\"data row2 col15\" >€nan</td>\n",
       "      <td id=\"T_3f157_row2_col16\" class=\"data row2 col16\" >€nan</td>\n",
       "      <td id=\"T_3f157_row2_col17\" class=\"data row2 col17\" >€-1534.93</td>\n",
       "      <td id=\"T_3f157_row2_col18\" class=\"data row2 col18\" >0.00%</td>\n",
       "      <td id=\"T_3f157_row2_col19\" class=\"data row2 col19\" >-100.00%</td>\n",
       "    </tr>\n",
       "    <tr>\n",
       "      <td id=\"T_3f157_row3_col0\" class=\"data row3 col0\" >US</td>\n",
       "      <td id=\"T_3f157_row3_col1\" class=\"data row3 col1\" >android</td>\n",
       "      <td id=\"T_3f157_row3_col2\" class=\"data row3 col2\" >Channel E</td>\n",
       "      <td id=\"T_3f157_row3_col3\" class=\"data row3 col3\" >850</td>\n",
       "      <td id=\"T_3f157_row3_col4\" class=\"data row3 col4\" >11,462</td>\n",
       "      <td id=\"T_3f157_row3_col5\" class=\"data row3 col5\" >0</td>\n",
       "      <td id=\"T_3f157_row3_col6\" class=\"data row3 col6\" >0</td>\n",
       "      <td id=\"T_3f157_row3_col7\" class=\"data row3 col7\" >€0.00</td>\n",
       "      <td id=\"T_3f157_row3_col8\" class=\"data row3 col8\" >€0.00</td>\n",
       "      <td id=\"T_3f157_row3_col9\" class=\"data row3 col9\" >1348.47%</td>\n",
       "      <td id=\"T_3f157_row3_col10\" class=\"data row3 col10\" >0.00%</td>\n",
       "      <td id=\"T_3f157_row3_col11\" class=\"data row3 col11\" >nan%</td>\n",
       "      <td id=\"T_3f157_row3_col12\" class=\"data row3 col12\" >€0.00</td>\n",
       "      <td id=\"T_3f157_row3_col13\" class=\"data row3 col13\" >€0.00</td>\n",
       "      <td id=\"T_3f157_row3_col14\" class=\"data row3 col14\" >€nan</td>\n",
       "      <td id=\"T_3f157_row3_col15\" class=\"data row3 col15\" >€nan</td>\n",
       "      <td id=\"T_3f157_row3_col16\" class=\"data row3 col16\" >€nan</td>\n",
       "      <td id=\"T_3f157_row3_col17\" class=\"data row3 col17\" >€0.00</td>\n",
       "      <td id=\"T_3f157_row3_col18\" class=\"data row3 col18\" >nan%</td>\n",
       "      <td id=\"T_3f157_row3_col19\" class=\"data row3 col19\" >nan%</td>\n",
       "    </tr>\n",
       "    <tr>\n",
       "      <td id=\"T_3f157_row4_col0\" class=\"data row4 col0\" >US</td>\n",
       "      <td id=\"T_3f157_row4_col1\" class=\"data row4 col1\" >ios</td>\n",
       "      <td id=\"T_3f157_row4_col2\" class=\"data row4 col2\" >Channel A</td>\n",
       "      <td id=\"T_3f157_row4_col3\" class=\"data row4 col3\" >1,634,556</td>\n",
       "      <td id=\"T_3f157_row4_col4\" class=\"data row4 col4\" >1,904</td>\n",
       "      <td id=\"T_3f157_row4_col5\" class=\"data row4 col5\" >1</td>\n",
       "      <td id=\"T_3f157_row4_col6\" class=\"data row4 col6\" >0</td>\n",
       "      <td id=\"T_3f157_row4_col7\" class=\"data row4 col7\" >€3494.55</td>\n",
       "      <td id=\"T_3f157_row4_col8\" class=\"data row4 col8\" >€0.00</td>\n",
       "      <td id=\"T_3f157_row4_col9\" class=\"data row4 col9\" >0.12%</td>\n",
       "      <td id=\"T_3f157_row4_col10\" class=\"data row4 col10\" >0.05%</td>\n",
       "      <td id=\"T_3f157_row4_col11\" class=\"data row4 col11\" >0.00%</td>\n",
       "      <td id=\"T_3f157_row4_col12\" class=\"data row4 col12\" >€2.14</td>\n",
       "      <td id=\"T_3f157_row4_col13\" class=\"data row4 col13\" >€1.84</td>\n",
       "      <td id=\"T_3f157_row4_col14\" class=\"data row4 col14\" >€3494.55</td>\n",
       "      <td id=\"T_3f157_row4_col15\" class=\"data row4 col15\" >€nan</td>\n",
       "      <td id=\"T_3f157_row4_col16\" class=\"data row4 col16\" >€nan</td>\n",
       "      <td id=\"T_3f157_row4_col17\" class=\"data row4 col17\" >€-3494.55</td>\n",
       "      <td id=\"T_3f157_row4_col18\" class=\"data row4 col18\" >0.00%</td>\n",
       "      <td id=\"T_3f157_row4_col19\" class=\"data row4 col19\" >-100.00%</td>\n",
       "    </tr>\n",
       "    <tr>\n",
       "      <td id=\"T_3f157_row5_col0\" class=\"data row5 col0\" >US</td>\n",
       "      <td id=\"T_3f157_row5_col1\" class=\"data row5 col1\" >ios</td>\n",
       "      <td id=\"T_3f157_row5_col2\" class=\"data row5 col2\" >Channel B</td>\n",
       "      <td id=\"T_3f157_row5_col3\" class=\"data row5 col3\" >459,518</td>\n",
       "      <td id=\"T_3f157_row5_col4\" class=\"data row5 col4\" >1,531</td>\n",
       "      <td id=\"T_3f157_row5_col5\" class=\"data row5 col5\" >1</td>\n",
       "      <td id=\"T_3f157_row5_col6\" class=\"data row5 col6\" >0</td>\n",
       "      <td id=\"T_3f157_row5_col7\" class=\"data row5 col7\" >€2595.43</td>\n",
       "      <td id=\"T_3f157_row5_col8\" class=\"data row5 col8\" >€0.00</td>\n",
       "      <td id=\"T_3f157_row5_col9\" class=\"data row5 col9\" >0.33%</td>\n",
       "      <td id=\"T_3f157_row5_col10\" class=\"data row5 col10\" >0.07%</td>\n",
       "      <td id=\"T_3f157_row5_col11\" class=\"data row5 col11\" >0.00%</td>\n",
       "      <td id=\"T_3f157_row5_col12\" class=\"data row5 col12\" >€5.65</td>\n",
       "      <td id=\"T_3f157_row5_col13\" class=\"data row5 col13\" >€1.70</td>\n",
       "      <td id=\"T_3f157_row5_col14\" class=\"data row5 col14\" >€2595.43</td>\n",
       "      <td id=\"T_3f157_row5_col15\" class=\"data row5 col15\" >€nan</td>\n",
       "      <td id=\"T_3f157_row5_col16\" class=\"data row5 col16\" >€nan</td>\n",
       "      <td id=\"T_3f157_row5_col17\" class=\"data row5 col17\" >€-2595.43</td>\n",
       "      <td id=\"T_3f157_row5_col18\" class=\"data row5 col18\" >0.00%</td>\n",
       "      <td id=\"T_3f157_row5_col19\" class=\"data row5 col19\" >-100.00%</td>\n",
       "    </tr>\n",
       "    <tr>\n",
       "      <td id=\"T_3f157_row6_col0\" class=\"data row6 col0\" >US</td>\n",
       "      <td id=\"T_3f157_row6_col1\" class=\"data row6 col1\" >ios</td>\n",
       "      <td id=\"T_3f157_row6_col2\" class=\"data row6 col2\" >Channel C</td>\n",
       "      <td id=\"T_3f157_row6_col3\" class=\"data row6 col3\" >78,645</td>\n",
       "      <td id=\"T_3f157_row6_col4\" class=\"data row6 col4\" >8,056</td>\n",
       "      <td id=\"T_3f157_row6_col5\" class=\"data row6 col5\" >3,590</td>\n",
       "      <td id=\"T_3f157_row6_col6\" class=\"data row6 col6\" >379</td>\n",
       "      <td id=\"T_3f157_row6_col7\" class=\"data row6 col7\" >€15001.15</td>\n",
       "      <td id=\"T_3f157_row6_col8\" class=\"data row6 col8\" >€9325.81</td>\n",
       "      <td id=\"T_3f157_row6_col9\" class=\"data row6 col9\" >10.24%</td>\n",
       "      <td id=\"T_3f157_row6_col10\" class=\"data row6 col10\" >44.56%</td>\n",
       "      <td id=\"T_3f157_row6_col11\" class=\"data row6 col11\" >10.56%</td>\n",
       "      <td id=\"T_3f157_row6_col12\" class=\"data row6 col12\" >€190.75</td>\n",
       "      <td id=\"T_3f157_row6_col13\" class=\"data row6 col13\" >€1.86</td>\n",
       "      <td id=\"T_3f157_row6_col14\" class=\"data row6 col14\" >€4.18</td>\n",
       "      <td id=\"T_3f157_row6_col15\" class=\"data row6 col15\" >€39.58</td>\n",
       "      <td id=\"T_3f157_row6_col16\" class=\"data row6 col16\" >€24.61</td>\n",
       "      <td id=\"T_3f157_row6_col17\" class=\"data row6 col17\" >€-5675.34</td>\n",
       "      <td id=\"T_3f157_row6_col18\" class=\"data row6 col18\" >62.17%</td>\n",
       "      <td id=\"T_3f157_row6_col19\" class=\"data row6 col19\" >-37.83%</td>\n",
       "    </tr>\n",
       "    <tr>\n",
       "      <td id=\"T_3f157_row7_col0\" class=\"data row7 col0\" >US</td>\n",
       "      <td id=\"T_3f157_row7_col1\" class=\"data row7 col1\" >ios</td>\n",
       "      <td id=\"T_3f157_row7_col2\" class=\"data row7 col2\" >Channel E</td>\n",
       "      <td id=\"T_3f157_row7_col3\" class=\"data row7 col3\" >73</td>\n",
       "      <td id=\"T_3f157_row7_col4\" class=\"data row7 col4\" >313</td>\n",
       "      <td id=\"T_3f157_row7_col5\" class=\"data row7 col5\" >0</td>\n",
       "      <td id=\"T_3f157_row7_col6\" class=\"data row7 col6\" >0</td>\n",
       "      <td id=\"T_3f157_row7_col7\" class=\"data row7 col7\" >€0.00</td>\n",
       "      <td id=\"T_3f157_row7_col8\" class=\"data row7 col8\" >€0.00</td>\n",
       "      <td id=\"T_3f157_row7_col9\" class=\"data row7 col9\" >428.77%</td>\n",
       "      <td id=\"T_3f157_row7_col10\" class=\"data row7 col10\" >0.00%</td>\n",
       "      <td id=\"T_3f157_row7_col11\" class=\"data row7 col11\" >nan%</td>\n",
       "      <td id=\"T_3f157_row7_col12\" class=\"data row7 col12\" >€0.00</td>\n",
       "      <td id=\"T_3f157_row7_col13\" class=\"data row7 col13\" >€0.00</td>\n",
       "      <td id=\"T_3f157_row7_col14\" class=\"data row7 col14\" >€nan</td>\n",
       "      <td id=\"T_3f157_row7_col15\" class=\"data row7 col15\" >€nan</td>\n",
       "      <td id=\"T_3f157_row7_col16\" class=\"data row7 col16\" >€nan</td>\n",
       "      <td id=\"T_3f157_row7_col17\" class=\"data row7 col17\" >€0.00</td>\n",
       "      <td id=\"T_3f157_row7_col18\" class=\"data row7 col18\" >nan%</td>\n",
       "      <td id=\"T_3f157_row7_col19\" class=\"data row7 col19\" >nan%</td>\n",
       "    </tr>\n",
       "  </tbody>\n",
       "</table>\n"
      ],
      "text/plain": [
       "<pandas.io.formats.style.Styler at 0x150f45e50>"
      ]
     },
     "metadata": {},
     "output_type": "display_data"
    }
   ],
   "source": [
    "agg_df = df.groupby(['country','platform','marketing_channel']).sum(numeric_only=True)\n",
    "\n",
    "df_metrics = calculate_metrics(agg_df).reset_index()\n",
    "\n",
    "filtered_df_de = df_metrics[df_metrics['country'] == 'DE']\n",
    "filtered_df_us = df_metrics[df_metrics['country'] == 'US']\n",
    "\n",
    "# formatted_df = format_metrics(df_metrics)\n",
    "\n",
    "display(format_metrics(filtered_df_de))\n",
    "\n",
    "display(format_metrics(filtered_df_us))"
   ]
  },
  {
   "cell_type": "markdown",
   "id": "edac842a",
   "metadata": {},
   "source": [
    "### 4.2.4 Performance by Country"
   ]
  },
  {
   "cell_type": "markdown",
   "id": "5db15c19",
   "metadata": {},
   "source": [
    "\n",
    "- There is €9560 of profit assigned to unknown country. Important to mention that this could be due to data problems, and part of this profit could be coming from Germany or US.\n",
    "- Altough the marketing team is currently focused on DE and US, it is important to mention the economic losses in France are €18806, even bigger than US(€16481)."
   ]
  },
  {
   "cell_type": "code",
   "execution_count": 35,
   "id": "3d256a84",
   "metadata": {},
   "outputs": [
    {
     "data": {
      "text/html": [
       "<style type=\"text/css\">\n",
       "#T_bc193_row0_col3 {\n",
       "  width: 10em;\n",
       "  background: linear-gradient(90deg, #8ecbfa 11.4%, transparent 11.4%);\n",
       "}\n",
       "#T_bc193_row0_col4 {\n",
       "  width: 10em;\n",
       "  background: linear-gradient(90deg, #8ecbfa 9.6%, transparent 9.6%);\n",
       "}\n",
       "#T_bc193_row0_col5 {\n",
       "  width: 10em;\n",
       "  background: linear-gradient(90deg, #8ecbfa 12.5%, transparent 12.5%);\n",
       "}\n",
       "#T_bc193_row0_col6 {\n",
       "  width: 10em;\n",
       "  background: linear-gradient(90deg, #8ecbfa 10.4%, transparent 10.4%);\n",
       "}\n",
       "#T_bc193_row0_col9 {\n",
       "  width: 10em;\n",
       "  background: linear-gradient(90deg, #8ecbfa 67.3%, transparent 67.3%);\n",
       "}\n",
       "#T_bc193_row0_col12 {\n",
       "  width: 10em;\n",
       "  background: linear-gradient(90deg, #8ecbfa 51.5%, transparent 51.5%);\n",
       "}\n",
       "#T_bc193_row0_col15 {\n",
       "  width: 10em;\n",
       "  background: linear-gradient(90deg, transparent 44.5%, #d65f5f 44.5%, #d65f5f 45.4%, transparent 45.4%);\n",
       "}\n",
       "#T_bc193_row1_col3, #T_bc193_row4_col5, #T_bc193_row7_col6 {\n",
       "  width: 10em;\n",
       "  background: linear-gradient(90deg, #8ecbfa 6.3%, transparent 6.3%);\n",
       "}\n",
       "#T_bc193_row1_col4 {\n",
       "  width: 10em;\n",
       "  background: linear-gradient(90deg, #8ecbfa 7.9%, transparent 7.9%);\n",
       "}\n",
       "#T_bc193_row1_col5 {\n",
       "  width: 10em;\n",
       "  background: linear-gradient(90deg, #8ecbfa 10.7%, transparent 10.7%);\n",
       "}\n",
       "#T_bc193_row1_col6 {\n",
       "  width: 10em;\n",
       "  background: linear-gradient(90deg, #8ecbfa 14.3%, transparent 14.3%);\n",
       "}\n",
       "#T_bc193_row1_col9, #T_bc193_row2_col3, #T_bc193_row2_col4, #T_bc193_row2_col5, #T_bc193_row2_col6, #T_bc193_row6_col12 {\n",
       "  width: 10em;\n",
       "  background: linear-gradient(90deg, #8ecbfa 100.0%, transparent 100.0%);\n",
       "}\n",
       "#T_bc193_row1_col12 {\n",
       "  width: 10em;\n",
       "  background: linear-gradient(90deg, #8ecbfa 79.4%, transparent 79.4%);\n",
       "}\n",
       "#T_bc193_row1_col15 {\n",
       "  width: 10em;\n",
       "  background: linear-gradient(90deg, transparent 45.4%, #8ecbfa 45.4%, #8ecbfa 64.4%, transparent 64.4%);\n",
       "}\n",
       "#T_bc193_row2_col9 {\n",
       "  width: 10em;\n",
       "  background: linear-gradient(90deg, #8ecbfa 80.3%, transparent 80.3%);\n",
       "}\n",
       "#T_bc193_row2_col12, #T_bc193_row3_col12 {\n",
       "  width: 10em;\n",
       "  background: linear-gradient(90deg, #8ecbfa 46.9%, transparent 46.9%);\n",
       "}\n",
       "#T_bc193_row2_col15 {\n",
       "  width: 10em;\n",
       "  background: linear-gradient(90deg, transparent 45.4%, #8ecbfa 45.4%, #8ecbfa 100.0%, transparent 100.0%);\n",
       "}\n",
       "#T_bc193_row3_col3 {\n",
       "  width: 10em;\n",
       "  background: linear-gradient(90deg, #8ecbfa 44.5%, transparent 44.5%);\n",
       "}\n",
       "#T_bc193_row3_col4 {\n",
       "  width: 10em;\n",
       "  background: linear-gradient(90deg, #8ecbfa 29.5%, transparent 29.5%);\n",
       "}\n",
       "#T_bc193_row3_col5 {\n",
       "  width: 10em;\n",
       "  background: linear-gradient(90deg, #8ecbfa 44.4%, transparent 44.4%);\n",
       "}\n",
       "#T_bc193_row3_col6 {\n",
       "  width: 10em;\n",
       "  background: linear-gradient(90deg, #8ecbfa 25.4%, transparent 25.4%);\n",
       "}\n",
       "#T_bc193_row3_col9 {\n",
       "  width: 10em;\n",
       "  background: linear-gradient(90deg, #8ecbfa 53.3%, transparent 53.3%);\n",
       "}\n",
       "#T_bc193_row3_col15 {\n",
       "  width: 10em;\n",
       "  background: linear-gradient(90deg, #d65f5f 45.4%, transparent 45.4%);\n",
       "}\n",
       "#T_bc193_row4_col3 {\n",
       "  width: 10em;\n",
       "  background: linear-gradient(90deg, #8ecbfa 18.1%, transparent 18.1%);\n",
       "}\n",
       "#T_bc193_row4_col4 {\n",
       "  width: 10em;\n",
       "  background: linear-gradient(90deg, #8ecbfa 9.7%, transparent 9.7%);\n",
       "}\n",
       "#T_bc193_row4_col6 {\n",
       "  width: 10em;\n",
       "  background: linear-gradient(90deg, #8ecbfa 6.1%, transparent 6.1%);\n",
       "}\n",
       "#T_bc193_row4_col9 {\n",
       "  width: 10em;\n",
       "  background: linear-gradient(90deg, #8ecbfa 42.9%, transparent 42.9%);\n",
       "}\n",
       "#T_bc193_row4_col12 {\n",
       "  width: 10em;\n",
       "  background: linear-gradient(90deg, #8ecbfa 16.3%, transparent 16.3%);\n",
       "}\n",
       "#T_bc193_row4_col15 {\n",
       "  width: 10em;\n",
       "  background: linear-gradient(90deg, transparent 45.4%, #8ecbfa 45.4%, #8ecbfa 48.1%, transparent 48.1%);\n",
       "}\n",
       "#T_bc193_row5_col3 {\n",
       "  width: 10em;\n",
       "  background: linear-gradient(90deg, #8ecbfa 9.4%, transparent 9.4%);\n",
       "}\n",
       "#T_bc193_row5_col4 {\n",
       "  width: 10em;\n",
       "  background: linear-gradient(90deg, #8ecbfa 6.6%, transparent 6.6%);\n",
       "}\n",
       "#T_bc193_row5_col5 {\n",
       "  width: 10em;\n",
       "  background: linear-gradient(90deg, #8ecbfa 11.9%, transparent 11.9%);\n",
       "}\n",
       "#T_bc193_row5_col6 {\n",
       "  width: 10em;\n",
       "  background: linear-gradient(90deg, #8ecbfa 5.9%, transparent 5.9%);\n",
       "}\n",
       "#T_bc193_row5_col9 {\n",
       "  width: 10em;\n",
       "  background: linear-gradient(90deg, #8ecbfa 56.2%, transparent 56.2%);\n",
       "}\n",
       "#T_bc193_row5_col12 {\n",
       "  width: 10em;\n",
       "  background: linear-gradient(90deg, #8ecbfa 59.1%, transparent 59.1%);\n",
       "}\n",
       "#T_bc193_row5_col15 {\n",
       "  width: 10em;\n",
       "  background: linear-gradient(90deg, transparent 30.0%, #d65f5f 30.0%, #d65f5f 45.4%, transparent 45.4%);\n",
       "}\n",
       "#T_bc193_row6_col3 {\n",
       "  width: 10em;\n",
       "  background: linear-gradient(90deg, #8ecbfa 10.3%, transparent 10.3%);\n",
       "}\n",
       "#T_bc193_row6_col4 {\n",
       "  width: 10em;\n",
       "  background: linear-gradient(90deg, #8ecbfa 9.1%, transparent 9.1%);\n",
       "}\n",
       "#T_bc193_row6_col5 {\n",
       "  width: 10em;\n",
       "  background: linear-gradient(90deg, #8ecbfa 22.0%, transparent 22.0%);\n",
       "}\n",
       "#T_bc193_row6_col6 {\n",
       "  width: 10em;\n",
       "  background: linear-gradient(90deg, #8ecbfa 7.8%, transparent 7.8%);\n",
       "}\n",
       "#T_bc193_row6_col9 {\n",
       "  width: 10em;\n",
       "  background: linear-gradient(90deg, #8ecbfa 71.0%, transparent 71.0%);\n",
       "}\n",
       "#T_bc193_row6_col15 {\n",
       "  width: 10em;\n",
       "  background: linear-gradient(90deg, transparent 5.6%, #d65f5f 5.6%, #d65f5f 45.4%, transparent 45.4%);\n",
       "}\n",
       "#T_bc193_row7_col3 {\n",
       "  width: 10em;\n",
       "  background: linear-gradient(90deg, #8ecbfa 10.1%, transparent 10.1%);\n",
       "}\n",
       "#T_bc193_row7_col4 {\n",
       "  width: 10em;\n",
       "  background: linear-gradient(90deg, #8ecbfa 6.5%, transparent 6.5%);\n",
       "}\n",
       "#T_bc193_row7_col5, #T_bc193_row7_col12 {\n",
       "  width: 10em;\n",
       "}\n",
       "#T_bc193_row7_col9 {\n",
       "  width: 10em;\n",
       "  background: linear-gradient(90deg, #8ecbfa 51.3%, transparent 51.3%);\n",
       "}\n",
       "#T_bc193_row7_col15 {\n",
       "  width: 10em;\n",
       "  background: linear-gradient(90deg, transparent 45.4%, #8ecbfa 45.4%, #8ecbfa 68.5%, transparent 68.5%);\n",
       "}\n",
       "</style>\n",
       "<table id=\"T_bc193\">\n",
       "  <thead>\n",
       "    <tr>\n",
       "      <th id=\"T_bc193_level0_col0\" class=\"col_heading level0 col0\" >country</th>\n",
       "      <th id=\"T_bc193_level0_col1\" class=\"col_heading level0 col1\" >impressions</th>\n",
       "      <th id=\"T_bc193_level0_col2\" class=\"col_heading level0 col2\" >clicks</th>\n",
       "      <th id=\"T_bc193_level0_col3\" class=\"col_heading level0 col3\" >app_installs</th>\n",
       "      <th id=\"T_bc193_level0_col4\" class=\"col_heading level0 col4\" >conversions</th>\n",
       "      <th id=\"T_bc193_level0_col5\" class=\"col_heading level0 col5\" >marketing_spend_euro</th>\n",
       "      <th id=\"T_bc193_level0_col6\" class=\"col_heading level0 col6\" >revenue_euro</th>\n",
       "      <th id=\"T_bc193_level0_col7\" class=\"col_heading level0 col7\" >click_through_rate</th>\n",
       "      <th id=\"T_bc193_level0_col8\" class=\"col_heading level0 col8\" >click_to_install_rate</th>\n",
       "      <th id=\"T_bc193_level0_col9\" class=\"col_heading level0 col9\" >install_to_conversion_rate</th>\n",
       "      <th id=\"T_bc193_level0_col10\" class=\"col_heading level0 col10\" >cpm</th>\n",
       "      <th id=\"T_bc193_level0_col11\" class=\"col_heading level0 col11\" >cpc</th>\n",
       "      <th id=\"T_bc193_level0_col12\" class=\"col_heading level0 col12\" >cpi</th>\n",
       "      <th id=\"T_bc193_level0_col13\" class=\"col_heading level0 col13\" >cpa</th>\n",
       "      <th id=\"T_bc193_level0_col14\" class=\"col_heading level0 col14\" >rpa</th>\n",
       "      <th id=\"T_bc193_level0_col15\" class=\"col_heading level0 col15\" >profit</th>\n",
       "      <th id=\"T_bc193_level0_col16\" class=\"col_heading level0 col16\" >return_on_ad_spend_percentage</th>\n",
       "      <th id=\"T_bc193_level0_col17\" class=\"col_heading level0 col17\" >return_on_investment_percentage</th>\n",
       "    </tr>\n",
       "  </thead>\n",
       "  <tbody>\n",
       "    <tr>\n",
       "      <td id=\"T_bc193_row0_col0\" class=\"data row0 col0\" >AT</td>\n",
       "      <td id=\"T_bc193_row0_col1\" class=\"data row0 col1\" >2,412,052</td>\n",
       "      <td id=\"T_bc193_row0_col2\" class=\"data row0 col2\" >14,168</td>\n",
       "      <td id=\"T_bc193_row0_col3\" class=\"data row0 col3\" >5,553</td>\n",
       "      <td id=\"T_bc193_row0_col4\" class=\"data row0 col4\" >506</td>\n",
       "      <td id=\"T_bc193_row0_col5\" class=\"data row0 col5\" >€16083.78</td>\n",
       "      <td id=\"T_bc193_row0_col6\" class=\"data row0 col6\" >€15680.84</td>\n",
       "      <td id=\"T_bc193_row0_col7\" class=\"data row0 col7\" >0.59%</td>\n",
       "      <td id=\"T_bc193_row0_col8\" class=\"data row0 col8\" >39.19%</td>\n",
       "      <td id=\"T_bc193_row0_col9\" class=\"data row0 col9\" >9.11%</td>\n",
       "      <td id=\"T_bc193_row0_col10\" class=\"data row0 col10\" >€6.67</td>\n",
       "      <td id=\"T_bc193_row0_col11\" class=\"data row0 col11\" >€1.14</td>\n",
       "      <td id=\"T_bc193_row0_col12\" class=\"data row0 col12\" >€2.90</td>\n",
       "      <td id=\"T_bc193_row0_col13\" class=\"data row0 col13\" >€31.79</td>\n",
       "      <td id=\"T_bc193_row0_col14\" class=\"data row0 col14\" >€30.99</td>\n",
       "      <td id=\"T_bc193_row0_col15\" class=\"data row0 col15\" >€-402.94</td>\n",
       "      <td id=\"T_bc193_row0_col16\" class=\"data row0 col16\" >97.49%</td>\n",
       "      <td id=\"T_bc193_row0_col17\" class=\"data row0 col17\" >-2.51%</td>\n",
       "    </tr>\n",
       "    <tr>\n",
       "      <td id=\"T_bc193_row1_col0\" class=\"data row1 col0\" >CH</td>\n",
       "      <td id=\"T_bc193_row1_col1\" class=\"data row1 col1\" >1,291,583</td>\n",
       "      <td id=\"T_bc193_row1_col2\" class=\"data row1 col2\" >8,373</td>\n",
       "      <td id=\"T_bc193_row1_col3\" class=\"data row1 col3\" >3,082</td>\n",
       "      <td id=\"T_bc193_row1_col4\" class=\"data row1 col4\" >417</td>\n",
       "      <td id=\"T_bc193_row1_col5\" class=\"data row1 col5\" >€13764.33</td>\n",
       "      <td id=\"T_bc193_row1_col6\" class=\"data row1 col6\" >€21639.79</td>\n",
       "      <td id=\"T_bc193_row1_col7\" class=\"data row1 col7\" >0.65%</td>\n",
       "      <td id=\"T_bc193_row1_col8\" class=\"data row1 col8\" >36.81%</td>\n",
       "      <td id=\"T_bc193_row1_col9\" class=\"data row1 col9\" >13.53%</td>\n",
       "      <td id=\"T_bc193_row1_col10\" class=\"data row1 col10\" >€10.66</td>\n",
       "      <td id=\"T_bc193_row1_col11\" class=\"data row1 col11\" >€1.64</td>\n",
       "      <td id=\"T_bc193_row1_col12\" class=\"data row1 col12\" >€4.47</td>\n",
       "      <td id=\"T_bc193_row1_col13\" class=\"data row1 col13\" >€33.01</td>\n",
       "      <td id=\"T_bc193_row1_col14\" class=\"data row1 col14\" >€51.89</td>\n",
       "      <td id=\"T_bc193_row1_col15\" class=\"data row1 col15\" >€7875.46</td>\n",
       "      <td id=\"T_bc193_row1_col16\" class=\"data row1 col16\" >157.22%</td>\n",
       "      <td id=\"T_bc193_row1_col17\" class=\"data row1 col17\" >57.22%</td>\n",
       "    </tr>\n",
       "    <tr>\n",
       "      <td id=\"T_bc193_row2_col0\" class=\"data row2 col0\" >DE</td>\n",
       "      <td id=\"T_bc193_row2_col1\" class=\"data row2 col1\" >13,481,583</td>\n",
       "      <td id=\"T_bc193_row2_col2\" class=\"data row2 col2\" >109,546</td>\n",
       "      <td id=\"T_bc193_row2_col3\" class=\"data row2 col3\" >48,704</td>\n",
       "      <td id=\"T_bc193_row2_col4\" class=\"data row2 col4\" >5,296</td>\n",
       "      <td id=\"T_bc193_row2_col5\" class=\"data row2 col5\" >€128788.53</td>\n",
       "      <td id=\"T_bc193_row2_col6\" class=\"data row2 col6\" >€151383.23</td>\n",
       "      <td id=\"T_bc193_row2_col7\" class=\"data row2 col7\" >0.81%</td>\n",
       "      <td id=\"T_bc193_row2_col8\" class=\"data row2 col8\" >44.46%</td>\n",
       "      <td id=\"T_bc193_row2_col9\" class=\"data row2 col9\" >10.87%</td>\n",
       "      <td id=\"T_bc193_row2_col10\" class=\"data row2 col10\" >€9.55</td>\n",
       "      <td id=\"T_bc193_row2_col11\" class=\"data row2 col11\" >€1.18</td>\n",
       "      <td id=\"T_bc193_row2_col12\" class=\"data row2 col12\" >€2.64</td>\n",
       "      <td id=\"T_bc193_row2_col13\" class=\"data row2 col13\" >€24.32</td>\n",
       "      <td id=\"T_bc193_row2_col14\" class=\"data row2 col14\" >€28.58</td>\n",
       "      <td id=\"T_bc193_row2_col15\" class=\"data row2 col15\" >€22594.70</td>\n",
       "      <td id=\"T_bc193_row2_col16\" class=\"data row2 col16\" >117.54%</td>\n",
       "      <td id=\"T_bc193_row2_col17\" class=\"data row2 col17\" >17.54%</td>\n",
       "    </tr>\n",
       "    <tr>\n",
       "      <td id=\"T_bc193_row3_col0\" class=\"data row3 col0\" >FR</td>\n",
       "      <td id=\"T_bc193_row3_col1\" class=\"data row3 col1\" >3,263,826</td>\n",
       "      <td id=\"T_bc193_row3_col2\" class=\"data row3 col2\" >49,313</td>\n",
       "      <td id=\"T_bc193_row3_col3\" class=\"data row3 col3\" >21,694</td>\n",
       "      <td id=\"T_bc193_row3_col4\" class=\"data row3 col4\" >1,564</td>\n",
       "      <td id=\"T_bc193_row3_col5\" class=\"data row3 col5\" >€57216.98</td>\n",
       "      <td id=\"T_bc193_row3_col6\" class=\"data row3 col6\" >€38410.02</td>\n",
       "      <td id=\"T_bc193_row3_col7\" class=\"data row3 col7\" >1.51%</td>\n",
       "      <td id=\"T_bc193_row3_col8\" class=\"data row3 col8\" >43.99%</td>\n",
       "      <td id=\"T_bc193_row3_col9\" class=\"data row3 col9\" >7.21%</td>\n",
       "      <td id=\"T_bc193_row3_col10\" class=\"data row3 col10\" >€17.53</td>\n",
       "      <td id=\"T_bc193_row3_col11\" class=\"data row3 col11\" >€1.16</td>\n",
       "      <td id=\"T_bc193_row3_col12\" class=\"data row3 col12\" >€2.64</td>\n",
       "      <td id=\"T_bc193_row3_col13\" class=\"data row3 col13\" >€36.58</td>\n",
       "      <td id=\"T_bc193_row3_col14\" class=\"data row3 col14\" >€24.56</td>\n",
       "      <td id=\"T_bc193_row3_col15\" class=\"data row3 col15\" >€-18806.96</td>\n",
       "      <td id=\"T_bc193_row3_col16\" class=\"data row3 col16\" >67.13%</td>\n",
       "      <td id=\"T_bc193_row3_col17\" class=\"data row3 col17\" >-32.87%</td>\n",
       "    </tr>\n",
       "    <tr>\n",
       "      <td id=\"T_bc193_row4_col0\" class=\"data row4 col0\" >IT</td>\n",
       "      <td id=\"T_bc193_row4_col1\" class=\"data row4 col1\" >82,531</td>\n",
       "      <td id=\"T_bc193_row4_col2\" class=\"data row4 col2\" >14,822</td>\n",
       "      <td id=\"T_bc193_row4_col3\" class=\"data row4 col3\" >8,832</td>\n",
       "      <td id=\"T_bc193_row4_col4\" class=\"data row4 col4\" >512</td>\n",
       "      <td id=\"T_bc193_row4_col5\" class=\"data row4 col5\" >€8143.63</td>\n",
       "      <td id=\"T_bc193_row4_col6\" class=\"data row4 col6\" >€9234.64</td>\n",
       "      <td id=\"T_bc193_row4_col7\" class=\"data row4 col7\" >17.96%</td>\n",
       "      <td id=\"T_bc193_row4_col8\" class=\"data row4 col8\" >59.59%</td>\n",
       "      <td id=\"T_bc193_row4_col9\" class=\"data row4 col9\" >5.80%</td>\n",
       "      <td id=\"T_bc193_row4_col10\" class=\"data row4 col10\" >€98.67</td>\n",
       "      <td id=\"T_bc193_row4_col11\" class=\"data row4 col11\" >€0.55</td>\n",
       "      <td id=\"T_bc193_row4_col12\" class=\"data row4 col12\" >€0.92</td>\n",
       "      <td id=\"T_bc193_row4_col13\" class=\"data row4 col13\" >€15.91</td>\n",
       "      <td id=\"T_bc193_row4_col14\" class=\"data row4 col14\" >€18.04</td>\n",
       "      <td id=\"T_bc193_row4_col15\" class=\"data row4 col15\" >€1091.01</td>\n",
       "      <td id=\"T_bc193_row4_col16\" class=\"data row4 col16\" >113.40%</td>\n",
       "      <td id=\"T_bc193_row4_col17\" class=\"data row4 col17\" >13.40%</td>\n",
       "    </tr>\n",
       "    <tr>\n",
       "      <td id=\"T_bc193_row5_col0\" class=\"data row5 col0\" >NL</td>\n",
       "      <td id=\"T_bc193_row5_col1\" class=\"data row5 col1\" >1,445,763</td>\n",
       "      <td id=\"T_bc193_row5_col2\" class=\"data row5 col2\" >15,652</td>\n",
       "      <td id=\"T_bc193_row5_col3\" class=\"data row5 col3\" >4,588</td>\n",
       "      <td id=\"T_bc193_row5_col4\" class=\"data row5 col4\" >349</td>\n",
       "      <td id=\"T_bc193_row5_col5\" class=\"data row5 col5\" >€15297.32</td>\n",
       "      <td id=\"T_bc193_row5_col6\" class=\"data row5 col6\" >€8906.77</td>\n",
       "      <td id=\"T_bc193_row5_col7\" class=\"data row5 col7\" >1.08%</td>\n",
       "      <td id=\"T_bc193_row5_col8\" class=\"data row5 col8\" >29.31%</td>\n",
       "      <td id=\"T_bc193_row5_col9\" class=\"data row5 col9\" >7.61%</td>\n",
       "      <td id=\"T_bc193_row5_col10\" class=\"data row5 col10\" >€10.58</td>\n",
       "      <td id=\"T_bc193_row5_col11\" class=\"data row5 col11\" >€0.98</td>\n",
       "      <td id=\"T_bc193_row5_col12\" class=\"data row5 col12\" >€3.33</td>\n",
       "      <td id=\"T_bc193_row5_col13\" class=\"data row5 col13\" >€43.83</td>\n",
       "      <td id=\"T_bc193_row5_col14\" class=\"data row5 col14\" >€25.52</td>\n",
       "      <td id=\"T_bc193_row5_col15\" class=\"data row5 col15\" >€-6390.55</td>\n",
       "      <td id=\"T_bc193_row5_col16\" class=\"data row5 col16\" >58.22%</td>\n",
       "      <td id=\"T_bc193_row5_col17\" class=\"data row5 col17\" >-41.78%</td>\n",
       "    </tr>\n",
       "    <tr>\n",
       "      <td id=\"T_bc193_row6_col0\" class=\"data row6 col0\" >US</td>\n",
       "      <td id=\"T_bc193_row6_col1\" class=\"data row6 col1\" >2,503,193</td>\n",
       "      <td id=\"T_bc193_row6_col2\" class=\"data row6 col2\" >25,766</td>\n",
       "      <td id=\"T_bc193_row6_col3\" class=\"data row6 col3\" >5,038</td>\n",
       "      <td id=\"T_bc193_row6_col4\" class=\"data row6 col4\" >484</td>\n",
       "      <td id=\"T_bc193_row6_col5\" class=\"data row6 col5\" >€28340.22</td>\n",
       "      <td id=\"T_bc193_row6_col6\" class=\"data row6 col6\" >€11858.80</td>\n",
       "      <td id=\"T_bc193_row6_col7\" class=\"data row6 col7\" >1.03%</td>\n",
       "      <td id=\"T_bc193_row6_col8\" class=\"data row6 col8\" >19.55%</td>\n",
       "      <td id=\"T_bc193_row6_col9\" class=\"data row6 col9\" >9.61%</td>\n",
       "      <td id=\"T_bc193_row6_col10\" class=\"data row6 col10\" >€11.32</td>\n",
       "      <td id=\"T_bc193_row6_col11\" class=\"data row6 col11\" >€1.10</td>\n",
       "      <td id=\"T_bc193_row6_col12\" class=\"data row6 col12\" >€5.63</td>\n",
       "      <td id=\"T_bc193_row6_col13\" class=\"data row6 col13\" >€58.55</td>\n",
       "      <td id=\"T_bc193_row6_col14\" class=\"data row6 col14\" >€24.50</td>\n",
       "      <td id=\"T_bc193_row6_col15\" class=\"data row6 col15\" >€-16481.42</td>\n",
       "      <td id=\"T_bc193_row6_col16\" class=\"data row6 col16\" >41.84%</td>\n",
       "      <td id=\"T_bc193_row6_col17\" class=\"data row6 col17\" >-58.16%</td>\n",
       "    </tr>\n",
       "    <tr>\n",
       "      <td id=\"T_bc193_row7_col0\" class=\"data row7 col0\" >unknown</td>\n",
       "      <td id=\"T_bc193_row7_col1\" class=\"data row7 col1\" >0</td>\n",
       "      <td id=\"T_bc193_row7_col2\" class=\"data row7 col2\" >0</td>\n",
       "      <td id=\"T_bc193_row7_col3\" class=\"data row7 col3\" >4,929</td>\n",
       "      <td id=\"T_bc193_row7_col4\" class=\"data row7 col4\" >342</td>\n",
       "      <td id=\"T_bc193_row7_col5\" class=\"data row7 col5\" >€0.00</td>\n",
       "      <td id=\"T_bc193_row7_col6\" class=\"data row7 col6\" >€9560.90</td>\n",
       "      <td id=\"T_bc193_row7_col7\" class=\"data row7 col7\" >nan%</td>\n",
       "      <td id=\"T_bc193_row7_col8\" class=\"data row7 col8\" >nan%</td>\n",
       "      <td id=\"T_bc193_row7_col9\" class=\"data row7 col9\" >6.94%</td>\n",
       "      <td id=\"T_bc193_row7_col10\" class=\"data row7 col10\" >€nan</td>\n",
       "      <td id=\"T_bc193_row7_col11\" class=\"data row7 col11\" >€nan</td>\n",
       "      <td id=\"T_bc193_row7_col12\" class=\"data row7 col12\" >€0.00</td>\n",
       "      <td id=\"T_bc193_row7_col13\" class=\"data row7 col13\" >€0.00</td>\n",
       "      <td id=\"T_bc193_row7_col14\" class=\"data row7 col14\" >€27.96</td>\n",
       "      <td id=\"T_bc193_row7_col15\" class=\"data row7 col15\" >€9560.90</td>\n",
       "      <td id=\"T_bc193_row7_col16\" class=\"data row7 col16\" >nan%</td>\n",
       "      <td id=\"T_bc193_row7_col17\" class=\"data row7 col17\" >nan%</td>\n",
       "    </tr>\n",
       "  </tbody>\n",
       "</table>\n"
      ],
      "text/plain": [
       "<pandas.io.formats.style.Styler at 0x150f39490>"
      ]
     },
     "metadata": {},
     "output_type": "display_data"
    }
   ],
   "source": [
    "agg_df = df.groupby(['country']).sum(numeric_only=True)\n",
    "\n",
    "df_metrics = calculate_metrics(agg_df).reset_index()\n",
    "\n",
    "display(format_metrics(df_metrics))"
   ]
  },
  {
   "cell_type": "markdown",
   "id": "81ff262a",
   "metadata": {},
   "source": [
    "## 4.3 Performance Over Time"
   ]
  },
  {
   "cell_type": "markdown",
   "id": "ded96949",
   "metadata": {},
   "source": [
    "\n",
    "**Germany**\n",
    "- Avsjkdsa\n",
    "\n",
    "**United States**\n",
    "- Avsjkdsa\n",
    "\n",
    "**Unknown**\n",
    "- khbkj"
   ]
  },
  {
   "cell_type": "code",
   "execution_count": 36,
   "id": "1f73575e",
   "metadata": {},
   "outputs": [
    {
     "data": {
      "text/html": [
       "<style type=\"text/css\">\n",
       "#T_5c9d3_row0_col3, #T_5c9d3_row2_col4, #T_5c9d3_row3_col5 {\n",
       "  width: 10em;\n",
       "  background: linear-gradient(90deg, #8ecbfa 100.0%, transparent 100.0%);\n",
       "}\n",
       "#T_5c9d3_row0_col4, #T_5c9d3_row4_col4 {\n",
       "  width: 10em;\n",
       "  background: linear-gradient(90deg, #8ecbfa 0.2%, transparent 0.2%);\n",
       "}\n",
       "#T_5c9d3_row0_col5 {\n",
       "  width: 10em;\n",
       "  background: linear-gradient(90deg, #8ecbfa 68.5%, transparent 68.5%);\n",
       "}\n",
       "#T_5c9d3_row0_col6 {\n",
       "  width: 10em;\n",
       "  background: linear-gradient(90deg, transparent 21.0%, #8ecbfa 21.0%, #8ecbfa 100.0%, transparent 100.0%);\n",
       "}\n",
       "#T_5c9d3_row1_col3 {\n",
       "  width: 10em;\n",
       "  background: linear-gradient(90deg, #8ecbfa 1.0%, transparent 1.0%);\n",
       "}\n",
       "#T_5c9d3_row1_col4, #T_5c9d3_row2_col5, #T_5c9d3_row7_col3, #T_5c9d3_row7_col4, #T_5c9d3_row7_col5 {\n",
       "  width: 10em;\n",
       "}\n",
       "#T_5c9d3_row1_col5 {\n",
       "  width: 10em;\n",
       "  background: linear-gradient(90deg, #8ecbfa 20.0%, transparent 20.0%);\n",
       "}\n",
       "#T_5c9d3_row1_col6 {\n",
       "  width: 10em;\n",
       "  background: linear-gradient(90deg, transparent 21.0%, #8ecbfa 21.0%, #8ecbfa 21.4%, transparent 21.4%);\n",
       "}\n",
       "#T_5c9d3_row2_col3 {\n",
       "  width: 10em;\n",
       "  background: linear-gradient(90deg, #8ecbfa 0.0%, transparent 0.0%);\n",
       "}\n",
       "#T_5c9d3_row2_col6 {\n",
       "  width: 10em;\n",
       "  background: linear-gradient(90deg, transparent 16.7%, #d65f5f 16.7%, #d65f5f 21.0%, transparent 21.0%);\n",
       "}\n",
       "#T_5c9d3_row3_col3 {\n",
       "  width: 10em;\n",
       "  background: linear-gradient(90deg, #8ecbfa 0.1%, transparent 0.1%);\n",
       "}\n",
       "#T_5c9d3_row3_col4 {\n",
       "  width: 10em;\n",
       "  background: linear-gradient(90deg, #8ecbfa 98.5%, transparent 98.5%);\n",
       "}\n",
       "#T_5c9d3_row3_col6 {\n",
       "  width: 10em;\n",
       "  background: linear-gradient(90deg, #d65f5f 21.0%, transparent 21.0%);\n",
       "}\n",
       "#T_5c9d3_row4_col3 {\n",
       "  width: 10em;\n",
       "  background: linear-gradient(90deg, #8ecbfa 78.1%, transparent 78.1%);\n",
       "}\n",
       "#T_5c9d3_row4_col5 {\n",
       "  width: 10em;\n",
       "  background: linear-gradient(90deg, #8ecbfa 48.1%, transparent 48.1%);\n",
       "}\n",
       "#T_5c9d3_row4_col6 {\n",
       "  width: 10em;\n",
       "  background: linear-gradient(90deg, transparent 21.0%, #8ecbfa 21.0%, #8ecbfa 47.2%, transparent 47.2%);\n",
       "}\n",
       "#T_5c9d3_row5_col3, #T_5c9d3_row5_col5 {\n",
       "  width: 10em;\n",
       "  background: linear-gradient(90deg, #8ecbfa 22.1%, transparent 22.1%);\n",
       "}\n",
       "#T_5c9d3_row5_col4 {\n",
       "  width: 10em;\n",
       "  background: linear-gradient(90deg, #8ecbfa 0.3%, transparent 0.3%);\n",
       "}\n",
       "#T_5c9d3_row5_col6 {\n",
       "  width: 10em;\n",
       "  background: linear-gradient(90deg, transparent 7.8%, #d65f5f 7.8%, #d65f5f 21.0%, transparent 21.0%);\n",
       "}\n",
       "#T_5c9d3_row6_col3 {\n",
       "  width: 10em;\n",
       "  background: linear-gradient(90deg, #8ecbfa 10.7%, transparent 10.7%);\n",
       "}\n",
       "#T_5c9d3_row6_col4 {\n",
       "  width: 10em;\n",
       "  background: linear-gradient(90deg, #8ecbfa 0.6%, transparent 0.6%);\n",
       "}\n",
       "#T_5c9d3_row6_col5 {\n",
       "  width: 10em;\n",
       "  background: linear-gradient(90deg, #8ecbfa 37.0%, transparent 37.0%);\n",
       "}\n",
       "#T_5c9d3_row6_col6 {\n",
       "  width: 10em;\n",
       "  background: linear-gradient(90deg, transparent 7.7%, #d65f5f 7.7%, #d65f5f 21.0%, transparent 21.0%);\n",
       "}\n",
       "#T_5c9d3_row7_col6 {\n",
       "  width: 10em;\n",
       "  background: linear-gradient(90deg, transparent 1.8%, #d65f5f 1.8%, #d65f5f 21.0%, transparent 21.0%);\n",
       "}\n",
       "</style>\n",
       "<table id=\"T_5c9d3\">\n",
       "  <thead>\n",
       "    <tr>\n",
       "      <th id=\"T_5c9d3_level0_col0\" class=\"col_heading level0 col0\" >country</th>\n",
       "      <th id=\"T_5c9d3_level0_col1\" class=\"col_heading level0 col1\" >platform</th>\n",
       "      <th id=\"T_5c9d3_level0_col2\" class=\"col_heading level0 col2\" >marketing_channel</th>\n",
       "      <th id=\"T_5c9d3_level0_col3\" class=\"col_heading level0 col3\" >app_installs</th>\n",
       "      <th id=\"T_5c9d3_level0_col4\" class=\"col_heading level0 col4\" >cpi</th>\n",
       "      <th id=\"T_5c9d3_level0_col5\" class=\"col_heading level0 col5\" >install_to_conversion_rate</th>\n",
       "      <th id=\"T_5c9d3_level0_col6\" class=\"col_heading level0 col6\" >profit</th>\n",
       "    </tr>\n",
       "  </thead>\n",
       "  <tbody>\n",
       "    <tr>\n",
       "      <td id=\"T_5c9d3_row0_col0\" class=\"data row0 col0\" >DE</td>\n",
       "      <td id=\"T_5c9d3_row0_col1\" class=\"data row0 col1\" >ios</td>\n",
       "      <td id=\"T_5c9d3_row0_col2\" class=\"data row0 col2\" >Channel C</td>\n",
       "      <td id=\"T_5c9d3_row0_col3\" class=\"data row0 col3\" >22,972</td>\n",
       "      <td id=\"T_5c9d3_row0_col4\" class=\"data row0 col4\" >€1.59</td>\n",
       "      <td id=\"T_5c9d3_row0_col5\" class=\"data row0 col5\" >13.71%</td>\n",
       "      <td id=\"T_5c9d3_row0_col6\" class=\"data row0 col6\" >€51454.35</td>\n",
       "    </tr>\n",
       "    <tr>\n",
       "      <td id=\"T_5c9d3_row1_col0\" class=\"data row1 col0\" >DE</td>\n",
       "      <td id=\"T_5c9d3_row1_col1\" class=\"data row1 col1\" >ios</td>\n",
       "      <td id=\"T_5c9d3_row1_col2\" class=\"data row1 col2\" >Channel E</td>\n",
       "      <td id=\"T_5c9d3_row1_col3\" class=\"data row1 col3\" >225</td>\n",
       "      <td id=\"T_5c9d3_row1_col4\" class=\"data row1 col4\" >€0.00</td>\n",
       "      <td id=\"T_5c9d3_row1_col5\" class=\"data row1 col5\" >4.00%</td>\n",
       "      <td id=\"T_5c9d3_row1_col6\" class=\"data row1 col6\" >€250.38</td>\n",
       "    </tr>\n",
       "    <tr>\n",
       "      <td id=\"T_5c9d3_row2_col0\" class=\"data row2 col0\" >DE</td>\n",
       "      <td id=\"T_5c9d3_row2_col1\" class=\"data row2 col1\" >ios</td>\n",
       "      <td id=\"T_5c9d3_row2_col2\" class=\"data row2 col2\" >Channel A</td>\n",
       "      <td id=\"T_5c9d3_row2_col3\" class=\"data row2 col3\" >3</td>\n",
       "      <td id=\"T_5c9d3_row2_col4\" class=\"data row2 col4\" >€931.91</td>\n",
       "      <td id=\"T_5c9d3_row2_col5\" class=\"data row2 col5\" >0.00%</td>\n",
       "      <td id=\"T_5c9d3_row2_col6\" class=\"data row2 col6\" >€-2795.72</td>\n",
       "    </tr>\n",
       "    <tr>\n",
       "      <td id=\"T_5c9d3_row3_col0\" class=\"data row3 col0\" >DE</td>\n",
       "      <td id=\"T_5c9d3_row3_col1\" class=\"data row3 col1\" >ios</td>\n",
       "      <td id=\"T_5c9d3_row3_col2\" class=\"data row3 col2\" >Channel B</td>\n",
       "      <td id=\"T_5c9d3_row3_col3\" class=\"data row3 col3\" >15</td>\n",
       "      <td id=\"T_5c9d3_row3_col4\" class=\"data row3 col4\" >€917.89</td>\n",
       "      <td id=\"T_5c9d3_row3_col5\" class=\"data row3 col5\" >20.00%</td>\n",
       "      <td id=\"T_5c9d3_row3_col6\" class=\"data row3 col6\" >€-13658.21</td>\n",
       "    </tr>\n",
       "    <tr>\n",
       "      <td id=\"T_5c9d3_row4_col0\" class=\"data row4 col0\" >DE</td>\n",
       "      <td id=\"T_5c9d3_row4_col1\" class=\"data row4 col1\" >android</td>\n",
       "      <td id=\"T_5c9d3_row4_col2\" class=\"data row4 col2\" >Channel A</td>\n",
       "      <td id=\"T_5c9d3_row4_col3\" class=\"data row4 col3\" >17,951</td>\n",
       "      <td id=\"T_5c9d3_row4_col4\" class=\"data row4 col4\" >€1.84</td>\n",
       "      <td id=\"T_5c9d3_row4_col5\" class=\"data row4 col5\" >9.62%</td>\n",
       "      <td id=\"T_5c9d3_row4_col6\" class=\"data row4 col6\" >€17064.63</td>\n",
       "    </tr>\n",
       "    <tr>\n",
       "      <td id=\"T_5c9d3_row5_col0\" class=\"data row5 col0\" >DE</td>\n",
       "      <td id=\"T_5c9d3_row5_col1\" class=\"data row5 col1\" >android</td>\n",
       "      <td id=\"T_5c9d3_row5_col2\" class=\"data row5 col2\" >Channel B</td>\n",
       "      <td id=\"T_5c9d3_row5_col3\" class=\"data row5 col3\" >5,081</td>\n",
       "      <td id=\"T_5c9d3_row5_col4\" class=\"data row5 col4\" >€3.12</td>\n",
       "      <td id=\"T_5c9d3_row5_col5\" class=\"data row5 col5\" >4.43%</td>\n",
       "      <td id=\"T_5c9d3_row5_col6\" class=\"data row5 col6\" >€-8593.46</td>\n",
       "    </tr>\n",
       "    <tr>\n",
       "      <td id=\"T_5c9d3_row6_col0\" class=\"data row6 col0\" >DE</td>\n",
       "      <td id=\"T_5c9d3_row6_col1\" class=\"data row6 col1\" >android</td>\n",
       "      <td id=\"T_5c9d3_row6_col2\" class=\"data row6 col2\" >Channel E</td>\n",
       "      <td id=\"T_5c9d3_row6_col3\" class=\"data row6 col3\" >2,457</td>\n",
       "      <td id=\"T_5c9d3_row6_col4\" class=\"data row6 col4\" >€5.86</td>\n",
       "      <td id=\"T_5c9d3_row6_col5\" class=\"data row6 col5\" >7.41%</td>\n",
       "      <td id=\"T_5c9d3_row6_col6\" class=\"data row6 col6\" >€-8626.30</td>\n",
       "    </tr>\n",
       "    <tr>\n",
       "      <td id=\"T_5c9d3_row7_col0\" class=\"data row7 col0\" >DE</td>\n",
       "      <td id=\"T_5c9d3_row7_col1\" class=\"data row7 col1\" >android</td>\n",
       "      <td id=\"T_5c9d3_row7_col2\" class=\"data row7 col2\" >Channel D</td>\n",
       "      <td id=\"T_5c9d3_row7_col3\" class=\"data row7 col3\" >0</td>\n",
       "      <td id=\"T_5c9d3_row7_col4\" class=\"data row7 col4\" >€0.00</td>\n",
       "      <td id=\"T_5c9d3_row7_col5\" class=\"data row7 col5\" >0.00%</td>\n",
       "      <td id=\"T_5c9d3_row7_col6\" class=\"data row7 col6\" >€-12500.97</td>\n",
       "    </tr>\n",
       "  </tbody>\n",
       "</table>\n"
      ],
      "text/plain": [
       "<pandas.io.formats.style.Styler at 0x15087f850>"
      ]
     },
     "metadata": {},
     "output_type": "display_data"
    },
    {
     "data": {
      "text/html": [
       "<style type=\"text/css\">\n",
       "#T_55036_row0_col3, #T_55036_row0_col4, #T_55036_row0_col5, #T_55036_row0_col6, #T_55036_row1_col5, #T_55036_row2_col5, #T_55036_row4_col4, #T_55036_row4_col5, #T_55036_row4_col6, #T_55036_row5_col3, #T_55036_row5_col4, #T_55036_row5_col5, #T_55036_row5_col6, #T_55036_row6_col3, #T_55036_row6_col4, #T_55036_row6_col5 {\n",
       "  width: 10em;\n",
       "}\n",
       "#T_55036_row1_col3, #T_55036_row2_col3 {\n",
       "  width: 10em;\n",
       "  background: linear-gradient(90deg, #8ecbfa 0.0%, transparent 0.0%);\n",
       "}\n",
       "#T_55036_row1_col4 {\n",
       "  width: 10em;\n",
       "  background: linear-gradient(90deg, #8ecbfa 74.3%, transparent 74.3%);\n",
       "}\n",
       "#T_55036_row1_col6 {\n",
       "  width: 10em;\n",
       "  background: linear-gradient(90deg, transparent 54.3%, #d65f5f 54.3%, #d65f5f 100.0%, transparent 100.0%);\n",
       "}\n",
       "#T_55036_row2_col4, #T_55036_row3_col3, #T_55036_row3_col5 {\n",
       "  width: 10em;\n",
       "  background: linear-gradient(90deg, #8ecbfa 100.0%, transparent 100.0%);\n",
       "}\n",
       "#T_55036_row2_col6 {\n",
       "  width: 10em;\n",
       "  background: linear-gradient(90deg, transparent 38.4%, #d65f5f 38.4%, #d65f5f 100.0%, transparent 100.0%);\n",
       "}\n",
       "#T_55036_row3_col4, #T_55036_row7_col4 {\n",
       "  width: 10em;\n",
       "  background: linear-gradient(90deg, #8ecbfa 0.1%, transparent 0.1%);\n",
       "}\n",
       "#T_55036_row3_col6 {\n",
       "  width: 10em;\n",
       "  background: linear-gradient(90deg, #d65f5f 100.0%, transparent 100.0%);\n",
       "}\n",
       "#T_55036_row4_col3 {\n",
       "  width: 10em;\n",
       "  background: linear-gradient(90deg, #8ecbfa 0.2%, transparent 0.2%);\n",
       "}\n",
       "#T_55036_row6_col6 {\n",
       "  width: 10em;\n",
       "  background: linear-gradient(90deg, transparent 73.0%, #d65f5f 73.0%, #d65f5f 100.0%, transparent 100.0%);\n",
       "}\n",
       "#T_55036_row7_col3 {\n",
       "  width: 10em;\n",
       "  background: linear-gradient(90deg, #8ecbfa 40.1%, transparent 40.1%);\n",
       "}\n",
       "#T_55036_row7_col5 {\n",
       "  width: 10em;\n",
       "  background: linear-gradient(90deg, #8ecbfa 69.0%, transparent 69.0%);\n",
       "}\n",
       "#T_55036_row7_col6 {\n",
       "  width: 10em;\n",
       "  background: linear-gradient(90deg, transparent 43.9%, #d65f5f 43.9%, #d65f5f 100.0%, transparent 100.0%);\n",
       "}\n",
       "</style>\n",
       "<table id=\"T_55036\">\n",
       "  <thead>\n",
       "    <tr>\n",
       "      <th id=\"T_55036_level0_col0\" class=\"col_heading level0 col0\" >country</th>\n",
       "      <th id=\"T_55036_level0_col1\" class=\"col_heading level0 col1\" >platform</th>\n",
       "      <th id=\"T_55036_level0_col2\" class=\"col_heading level0 col2\" >marketing_channel</th>\n",
       "      <th id=\"T_55036_level0_col3\" class=\"col_heading level0 col3\" >app_installs</th>\n",
       "      <th id=\"T_55036_level0_col4\" class=\"col_heading level0 col4\" >cpi</th>\n",
       "      <th id=\"T_55036_level0_col5\" class=\"col_heading level0 col5\" >install_to_conversion_rate</th>\n",
       "      <th id=\"T_55036_level0_col6\" class=\"col_heading level0 col6\" >profit</th>\n",
       "    </tr>\n",
       "  </thead>\n",
       "  <tbody>\n",
       "    <tr>\n",
       "      <td id=\"T_55036_row0_col0\" class=\"data row0 col0\" >US</td>\n",
       "      <td id=\"T_55036_row0_col1\" class=\"data row0 col1\" >ios</td>\n",
       "      <td id=\"T_55036_row0_col2\" class=\"data row0 col2\" >Channel E</td>\n",
       "      <td id=\"T_55036_row0_col3\" class=\"data row0 col3\" >0</td>\n",
       "      <td id=\"T_55036_row0_col4\" class=\"data row0 col4\" >€0.00</td>\n",
       "      <td id=\"T_55036_row0_col5\" class=\"data row0 col5\" >0.00%</td>\n",
       "      <td id=\"T_55036_row0_col6\" class=\"data row0 col6\" >€0.00</td>\n",
       "    </tr>\n",
       "    <tr>\n",
       "      <td id=\"T_55036_row1_col0\" class=\"data row1 col0\" >US</td>\n",
       "      <td id=\"T_55036_row1_col1\" class=\"data row1 col1\" >ios</td>\n",
       "      <td id=\"T_55036_row1_col2\" class=\"data row1 col2\" >Channel B</td>\n",
       "      <td id=\"T_55036_row1_col3\" class=\"data row1 col3\" >1</td>\n",
       "      <td id=\"T_55036_row1_col4\" class=\"data row1 col4\" >€2595.43</td>\n",
       "      <td id=\"T_55036_row1_col5\" class=\"data row1 col5\" >0.00%</td>\n",
       "      <td id=\"T_55036_row1_col6\" class=\"data row1 col6\" >€-2595.43</td>\n",
       "    </tr>\n",
       "    <tr>\n",
       "      <td id=\"T_55036_row2_col0\" class=\"data row2 col0\" >US</td>\n",
       "      <td id=\"T_55036_row2_col1\" class=\"data row2 col1\" >ios</td>\n",
       "      <td id=\"T_55036_row2_col2\" class=\"data row2 col2\" >Channel A</td>\n",
       "      <td id=\"T_55036_row2_col3\" class=\"data row2 col3\" >1</td>\n",
       "      <td id=\"T_55036_row2_col4\" class=\"data row2 col4\" >€3494.55</td>\n",
       "      <td id=\"T_55036_row2_col5\" class=\"data row2 col5\" >0.00%</td>\n",
       "      <td id=\"T_55036_row2_col6\" class=\"data row2 col6\" >€-3494.55</td>\n",
       "    </tr>\n",
       "    <tr>\n",
       "      <td id=\"T_55036_row3_col0\" class=\"data row3 col0\" >US</td>\n",
       "      <td id=\"T_55036_row3_col1\" class=\"data row3 col1\" >ios</td>\n",
       "      <td id=\"T_55036_row3_col2\" class=\"data row3 col2\" >Channel C</td>\n",
       "      <td id=\"T_55036_row3_col3\" class=\"data row3 col3\" >3,590</td>\n",
       "      <td id=\"T_55036_row3_col4\" class=\"data row3 col4\" >€4.18</td>\n",
       "      <td id=\"T_55036_row3_col5\" class=\"data row3 col5\" >10.56%</td>\n",
       "      <td id=\"T_55036_row3_col6\" class=\"data row3 col6\" >€-5675.34</td>\n",
       "    </tr>\n",
       "    <tr>\n",
       "      <td id=\"T_55036_row4_col0\" class=\"data row4 col0\" >US</td>\n",
       "      <td id=\"T_55036_row4_col1\" class=\"data row4 col1\" >android</td>\n",
       "      <td id=\"T_55036_row4_col2\" class=\"data row4 col2\" >Channel A</td>\n",
       "      <td id=\"T_55036_row4_col3\" class=\"data row4 col3\" >6</td>\n",
       "      <td id=\"T_55036_row4_col4\" class=\"data row4 col4\" >€0.00</td>\n",
       "      <td id=\"T_55036_row4_col5\" class=\"data row4 col5\" >0.00%</td>\n",
       "      <td id=\"T_55036_row4_col6\" class=\"data row4 col6\" >€0.00</td>\n",
       "    </tr>\n",
       "    <tr>\n",
       "      <td id=\"T_55036_row5_col0\" class=\"data row5 col0\" >US</td>\n",
       "      <td id=\"T_55036_row5_col1\" class=\"data row5 col1\" >android</td>\n",
       "      <td id=\"T_55036_row5_col2\" class=\"data row5 col2\" >Channel E</td>\n",
       "      <td id=\"T_55036_row5_col3\" class=\"data row5 col3\" >0</td>\n",
       "      <td id=\"T_55036_row5_col4\" class=\"data row5 col4\" >€0.00</td>\n",
       "      <td id=\"T_55036_row5_col5\" class=\"data row5 col5\" >0.00%</td>\n",
       "      <td id=\"T_55036_row5_col6\" class=\"data row5 col6\" >€0.00</td>\n",
       "    </tr>\n",
       "    <tr>\n",
       "      <td id=\"T_55036_row6_col0\" class=\"data row6 col0\" >US</td>\n",
       "      <td id=\"T_55036_row6_col1\" class=\"data row6 col1\" >android</td>\n",
       "      <td id=\"T_55036_row6_col2\" class=\"data row6 col2\" >Channel D</td>\n",
       "      <td id=\"T_55036_row6_col3\" class=\"data row6 col3\" >0</td>\n",
       "      <td id=\"T_55036_row6_col4\" class=\"data row6 col4\" >€0.00</td>\n",
       "      <td id=\"T_55036_row6_col5\" class=\"data row6 col5\" >0.00%</td>\n",
       "      <td id=\"T_55036_row6_col6\" class=\"data row6 col6\" >€-1534.93</td>\n",
       "    </tr>\n",
       "    <tr>\n",
       "      <td id=\"T_55036_row7_col0\" class=\"data row7 col0\" >US</td>\n",
       "      <td id=\"T_55036_row7_col1\" class=\"data row7 col1\" >android</td>\n",
       "      <td id=\"T_55036_row7_col2\" class=\"data row7 col2\" >Channel B</td>\n",
       "      <td id=\"T_55036_row7_col3\" class=\"data row7 col3\" >1,440</td>\n",
       "      <td id=\"T_55036_row7_col4\" class=\"data row7 col4\" >€3.97</td>\n",
       "      <td id=\"T_55036_row7_col5\" class=\"data row7 col5\" >7.29%</td>\n",
       "      <td id=\"T_55036_row7_col6\" class=\"data row7 col6\" >€-3181.17</td>\n",
       "    </tr>\n",
       "  </tbody>\n",
       "</table>\n"
      ],
      "text/plain": [
       "<pandas.io.formats.style.Styler at 0x105df3a10>"
      ]
     },
     "metadata": {},
     "output_type": "display_data"
    }
   ],
   "source": [
    "agg_df = df.groupby(['country','platform','marketing_channel']).sum(numeric_only=True)\n",
    "\n",
    "df_metrics = calculate_metrics(agg_df).reset_index()\n",
    "selected_df = df_metrics[selected_columns].sort_values(['platform','profit'], ascending=False)\n",
    "\n",
    "filtered_df_de = selected_df[selected_df['country'] == 'DE'].fillna(0)\n",
    "filtered_df_us = selected_df[selected_df['country'] == 'US'].fillna(0)\n",
    "\n",
    "# formatted_df = format_metrics(df_metrics)\n",
    "\n",
    "display(format_metrics_selected_columns(filtered_df_de))\n",
    "\n",
    "display(format_metrics_selected_columns(filtered_df_us))"
   ]
  },
  {
   "cell_type": "code",
   "execution_count": 91,
   "id": "055f8c1b",
   "metadata": {},
   "outputs": [
    {
     "data": {
      "text/html": [
       "<div>\n",
       "<style scoped>\n",
       "    .dataframe tbody tr th:only-of-type {\n",
       "        vertical-align: middle;\n",
       "    }\n",
       "\n",
       "    .dataframe tbody tr th {\n",
       "        vertical-align: top;\n",
       "    }\n",
       "\n",
       "    .dataframe thead th {\n",
       "        text-align: right;\n",
       "    }\n",
       "</style>\n",
       "<table border=\"1\" class=\"dataframe\">\n",
       "  <thead>\n",
       "    <tr style=\"text-align: right;\">\n",
       "      <th></th>\n",
       "      <th>date</th>\n",
       "      <th>platform</th>\n",
       "      <th>marketing_channel</th>\n",
       "      <th>campaign_id</th>\n",
       "      <th>country</th>\n",
       "      <th>impressions</th>\n",
       "      <th>clicks</th>\n",
       "      <th>app_installs</th>\n",
       "      <th>conversions</th>\n",
       "      <th>marketing_spend_euro</th>\n",
       "      <th>revenue_euro</th>\n",
       "    </tr>\n",
       "  </thead>\n",
       "  <tbody>\n",
       "    <tr>\n",
       "      <th>49</th>\n",
       "      <td>2023-11-01</td>\n",
       "      <td>ios</td>\n",
       "      <td>Channel C</td>\n",
       "      <td>1023512996</td>\n",
       "      <td>AT</td>\n",
       "      <td>0</td>\n",
       "      <td>0</td>\n",
       "      <td>1</td>\n",
       "      <td>0</td>\n",
       "      <td>0.00</td>\n",
       "      <td>0.00</td>\n",
       "    </tr>\n",
       "    <tr>\n",
       "      <th>50</th>\n",
       "      <td>2023-11-01</td>\n",
       "      <td>ios</td>\n",
       "      <td>Channel C</td>\n",
       "      <td>1023512996</td>\n",
       "      <td>CH</td>\n",
       "      <td>0</td>\n",
       "      <td>0</td>\n",
       "      <td>1</td>\n",
       "      <td>0</td>\n",
       "      <td>0.00</td>\n",
       "      <td>0.00</td>\n",
       "    </tr>\n",
       "    <tr>\n",
       "      <th>51</th>\n",
       "      <td>2023-11-01</td>\n",
       "      <td>ios</td>\n",
       "      <td>Channel C</td>\n",
       "      <td>1023512996</td>\n",
       "      <td>DE</td>\n",
       "      <td>0</td>\n",
       "      <td>0</td>\n",
       "      <td>1</td>\n",
       "      <td>0</td>\n",
       "      <td>0.00</td>\n",
       "      <td>0.00</td>\n",
       "    </tr>\n",
       "    <tr>\n",
       "      <th>52</th>\n",
       "      <td>2023-11-01</td>\n",
       "      <td>ios</td>\n",
       "      <td>Channel C</td>\n",
       "      <td>1023512996</td>\n",
       "      <td>FR</td>\n",
       "      <td>0</td>\n",
       "      <td>0</td>\n",
       "      <td>1</td>\n",
       "      <td>0</td>\n",
       "      <td>0.00</td>\n",
       "      <td>0.00</td>\n",
       "    </tr>\n",
       "    <tr>\n",
       "      <th>53</th>\n",
       "      <td>2023-11-01</td>\n",
       "      <td>ios</td>\n",
       "      <td>Channel C</td>\n",
       "      <td>1023512996</td>\n",
       "      <td>IT</td>\n",
       "      <td>1881</td>\n",
       "      <td>221</td>\n",
       "      <td>119</td>\n",
       "      <td>8</td>\n",
       "      <td>156.80</td>\n",
       "      <td>165.44</td>\n",
       "    </tr>\n",
       "    <tr>\n",
       "      <th>...</th>\n",
       "      <td>...</td>\n",
       "      <td>...</td>\n",
       "      <td>...</td>\n",
       "      <td>...</td>\n",
       "      <td>...</td>\n",
       "      <td>...</td>\n",
       "      <td>...</td>\n",
       "      <td>...</td>\n",
       "      <td>...</td>\n",
       "      <td>...</td>\n",
       "      <td>...</td>\n",
       "    </tr>\n",
       "    <tr>\n",
       "      <th>2622</th>\n",
       "      <td>2023-11-30</td>\n",
       "      <td>ios</td>\n",
       "      <td>Channel C</td>\n",
       "      <td>1410804754</td>\n",
       "      <td>US</td>\n",
       "      <td>112</td>\n",
       "      <td>16</td>\n",
       "      <td>6</td>\n",
       "      <td>1</td>\n",
       "      <td>41.32</td>\n",
       "      <td>9.10</td>\n",
       "    </tr>\n",
       "    <tr>\n",
       "      <th>2623</th>\n",
       "      <td>2023-11-30</td>\n",
       "      <td>ios</td>\n",
       "      <td>Channel C</td>\n",
       "      <td>1410949431</td>\n",
       "      <td>FR</td>\n",
       "      <td>85</td>\n",
       "      <td>19</td>\n",
       "      <td>10</td>\n",
       "      <td>1</td>\n",
       "      <td>18.72</td>\n",
       "      <td>19.89</td>\n",
       "    </tr>\n",
       "    <tr>\n",
       "      <th>2624</th>\n",
       "      <td>2023-11-30</td>\n",
       "      <td>ios</td>\n",
       "      <td>Channel C</td>\n",
       "      <td>1411644825</td>\n",
       "      <td>US</td>\n",
       "      <td>17</td>\n",
       "      <td>9</td>\n",
       "      <td>2</td>\n",
       "      <td>0</td>\n",
       "      <td>12.80</td>\n",
       "      <td>0.00</td>\n",
       "    </tr>\n",
       "    <tr>\n",
       "      <th>2625</th>\n",
       "      <td>2023-11-30</td>\n",
       "      <td>ios</td>\n",
       "      <td>Channel C</td>\n",
       "      <td>1412537821</td>\n",
       "      <td>AT</td>\n",
       "      <td>43</td>\n",
       "      <td>10</td>\n",
       "      <td>7</td>\n",
       "      <td>1</td>\n",
       "      <td>15.45</td>\n",
       "      <td>24.99</td>\n",
       "    </tr>\n",
       "    <tr>\n",
       "      <th>2626</th>\n",
       "      <td>2023-11-30</td>\n",
       "      <td>ios</td>\n",
       "      <td>Channel C</td>\n",
       "      <td>1412537821</td>\n",
       "      <td>DE</td>\n",
       "      <td>1003</td>\n",
       "      <td>270</td>\n",
       "      <td>172</td>\n",
       "      <td>27</td>\n",
       "      <td>473.69</td>\n",
       "      <td>663.32</td>\n",
       "    </tr>\n",
       "  </tbody>\n",
       "</table>\n",
       "<p>1089 rows × 11 columns</p>\n",
       "</div>"
      ],
      "text/plain": [
       "            date platform marketing_channel campaign_id country  impressions  \\\n",
       "49    2023-11-01      ios         Channel C  1023512996      AT            0   \n",
       "50    2023-11-01      ios         Channel C  1023512996      CH            0   \n",
       "51    2023-11-01      ios         Channel C  1023512996      DE            0   \n",
       "52    2023-11-01      ios         Channel C  1023512996      FR            0   \n",
       "53    2023-11-01      ios         Channel C  1023512996      IT         1881   \n",
       "...          ...      ...               ...         ...     ...          ...   \n",
       "2622  2023-11-30      ios         Channel C  1410804754      US          112   \n",
       "2623  2023-11-30      ios         Channel C  1410949431      FR           85   \n",
       "2624  2023-11-30      ios         Channel C  1411644825      US           17   \n",
       "2625  2023-11-30      ios         Channel C  1412537821      AT           43   \n",
       "2626  2023-11-30      ios         Channel C  1412537821      DE         1003   \n",
       "\n",
       "      clicks  app_installs  conversions  marketing_spend_euro  revenue_euro  \n",
       "49         0             1            0                  0.00          0.00  \n",
       "50         0             1            0                  0.00          0.00  \n",
       "51         0             1            0                  0.00          0.00  \n",
       "52         0             1            0                  0.00          0.00  \n",
       "53       221           119            8                156.80        165.44  \n",
       "...      ...           ...          ...                   ...           ...  \n",
       "2622      16             6            1                 41.32          9.10  \n",
       "2623      19            10            1                 18.72         19.89  \n",
       "2624       9             2            0                 12.80          0.00  \n",
       "2625      10             7            1                 15.45         24.99  \n",
       "2626     270           172           27                473.69        663.32  \n",
       "\n",
       "[1089 rows x 11 columns]"
      ]
     },
     "execution_count": 91,
     "metadata": {},
     "output_type": "execute_result"
    }
   ],
   "source": [
    "df[df.marketing_channel == \"Channel C\"]"
   ]
  },
  {
   "cell_type": "code",
   "execution_count": 95,
   "id": "224c2c23",
   "metadata": {},
   "outputs": [
    {
     "data": {
      "application/vnd.plotly.v1+json": {
       "config": {
        "plotlyServerURL": "https://plot.ly"
       },
       "data": [
        {
         "mode": "lines",
         "name": "App Installs",
         "type": "scatter",
         "x": [
          "2023-11-01T00:00:00",
          "2023-11-02T00:00:00",
          "2023-11-03T00:00:00",
          "2023-11-04T00:00:00",
          "2023-11-05T00:00:00",
          "2023-11-06T00:00:00",
          "2023-11-07T00:00:00",
          "2023-11-08T00:00:00",
          "2023-11-09T00:00:00",
          "2023-11-10T00:00:00",
          "2023-11-11T00:00:00",
          "2023-11-12T00:00:00",
          "2023-11-13T00:00:00",
          "2023-11-14T00:00:00",
          "2023-11-15T00:00:00",
          "2023-11-16T00:00:00",
          "2023-11-17T00:00:00",
          "2023-11-18T00:00:00",
          "2023-11-19T00:00:00",
          "2023-11-20T00:00:00",
          "2023-11-21T00:00:00",
          "2023-11-22T00:00:00",
          "2023-11-23T00:00:00",
          "2023-11-24T00:00:00",
          "2023-11-25T00:00:00",
          "2023-11-26T00:00:00",
          "2023-11-27T00:00:00",
          "2023-11-28T00:00:00",
          "2023-11-29T00:00:00",
          "2023-11-30T00:00:00"
         ],
         "xaxis": "x",
         "y": [
          987,
          744,
          707,
          690,
          738,
          487,
          621,
          597,
          544,
          507,
          578,
          691,
          707,
          715,
          842,
          651,
          654,
          547,
          674,
          707,
          854,
          1023,
          974,
          830,
          905,
          1046,
          1088,
          1055,
          971,
          838
         ],
         "yaxis": "y"
        },
        {
         "mode": "lines",
         "name": "CPI",
         "type": "scatter",
         "x": [
          "2023-11-01T00:00:00",
          "2023-11-02T00:00:00",
          "2023-11-03T00:00:00",
          "2023-11-04T00:00:00",
          "2023-11-05T00:00:00",
          "2023-11-06T00:00:00",
          "2023-11-07T00:00:00",
          "2023-11-08T00:00:00",
          "2023-11-09T00:00:00",
          "2023-11-10T00:00:00",
          "2023-11-11T00:00:00",
          "2023-11-12T00:00:00",
          "2023-11-13T00:00:00",
          "2023-11-14T00:00:00",
          "2023-11-15T00:00:00",
          "2023-11-16T00:00:00",
          "2023-11-17T00:00:00",
          "2023-11-18T00:00:00",
          "2023-11-19T00:00:00",
          "2023-11-20T00:00:00",
          "2023-11-21T00:00:00",
          "2023-11-22T00:00:00",
          "2023-11-23T00:00:00",
          "2023-11-24T00:00:00",
          "2023-11-25T00:00:00",
          "2023-11-26T00:00:00",
          "2023-11-27T00:00:00",
          "2023-11-28T00:00:00",
          "2023-11-29T00:00:00",
          "2023-11-30T00:00:00"
         ],
         "xaxis": "x2",
         "y": [
          1.44,
          1.76,
          1.82,
          1.92,
          1.89,
          1.97,
          1.53,
          1.64,
          1.47,
          1.53,
          1.54,
          1.58,
          1.43,
          1.42,
          1.34,
          1.4,
          1.42,
          1.52,
          1.31,
          1.6,
          1.78,
          1.68,
          1.56,
          1.6,
          1.48,
          1.63,
          1.64,
          1.64,
          1.55,
          1.59
         ],
         "yaxis": "y2"
        },
        {
         "mode": "lines",
         "name": "Install to Conversion Rate",
         "type": "scatter",
         "x": [
          "2023-11-01T00:00:00",
          "2023-11-02T00:00:00",
          "2023-11-03T00:00:00",
          "2023-11-04T00:00:00",
          "2023-11-05T00:00:00",
          "2023-11-06T00:00:00",
          "2023-11-07T00:00:00",
          "2023-11-08T00:00:00",
          "2023-11-09T00:00:00",
          "2023-11-10T00:00:00",
          "2023-11-11T00:00:00",
          "2023-11-12T00:00:00",
          "2023-11-13T00:00:00",
          "2023-11-14T00:00:00",
          "2023-11-15T00:00:00",
          "2023-11-16T00:00:00",
          "2023-11-17T00:00:00",
          "2023-11-18T00:00:00",
          "2023-11-19T00:00:00",
          "2023-11-20T00:00:00",
          "2023-11-21T00:00:00",
          "2023-11-22T00:00:00",
          "2023-11-23T00:00:00",
          "2023-11-24T00:00:00",
          "2023-11-25T00:00:00",
          "2023-11-26T00:00:00",
          "2023-11-27T00:00:00",
          "2023-11-28T00:00:00",
          "2023-11-29T00:00:00",
          "2023-11-30T00:00:00"
         ],
         "xaxis": "x3",
         "y": [
          12.06,
          12.1,
          12.02,
          11.45,
          13.55,
          13.55,
          13.69,
          14.57,
          13.05,
          13.02,
          16.26,
          12.59,
          14.71,
          11.89,
          11.52,
          14.29,
          14.22,
          9.69,
          10.98,
          15.28,
          13.23,
          13.1,
          11.5,
          15.18,
          16.13,
          17.78,
          15.99,
          14.12,
          15.24,
          15.04
         ],
         "yaxis": "y3"
        },
        {
         "name": "Profit",
         "type": "bar",
         "x": [
          "2023-11-01T00:00:00",
          "2023-11-02T00:00:00",
          "2023-11-03T00:00:00",
          "2023-11-04T00:00:00",
          "2023-11-05T00:00:00",
          "2023-11-06T00:00:00",
          "2023-11-07T00:00:00",
          "2023-11-08T00:00:00",
          "2023-11-09T00:00:00",
          "2023-11-10T00:00:00",
          "2023-11-11T00:00:00",
          "2023-11-12T00:00:00",
          "2023-11-13T00:00:00",
          "2023-11-14T00:00:00",
          "2023-11-15T00:00:00",
          "2023-11-16T00:00:00",
          "2023-11-17T00:00:00",
          "2023-11-18T00:00:00",
          "2023-11-19T00:00:00",
          "2023-11-20T00:00:00",
          "2023-11-21T00:00:00",
          "2023-11-22T00:00:00",
          "2023-11-23T00:00:00",
          "2023-11-24T00:00:00",
          "2023-11-25T00:00:00",
          "2023-11-26T00:00:00",
          "2023-11-27T00:00:00",
          "2023-11-28T00:00:00",
          "2023-11-29T00:00:00",
          "2023-11-30T00:00:00"
         ],
         "xaxis": "x4",
         "y": [
          2367.54,
          1634.91,
          1418.33,
          1322.5,
          1744.56,
          1347.99,
          1871.49,
          1628.88,
          1540.35,
          1267.02,
          1209.01,
          1719.04,
          2395.3,
          1531.97,
          1710.63,
          1731.15,
          1575.14,
          246.38,
          1674.22,
          2193.5,
          1700.45,
          2258.75,
          1843.17,
          1911.18,
          1948.73,
          2425.66,
          1998.25,
          1802.46,
          1779.83,
          1655.96
         ],
         "yaxis": "y4"
        }
       ],
       "layout": {
        "annotations": [
         {
          "align": "center",
          "font": {
           "color": "red",
           "size": 12
          },
          "showarrow": false,
          "text": "Black Friday",
          "x": "2023-11-24T00:00:00",
          "xref": "x",
          "y": 1,
          "yref": "paper"
         }
        ],
        "height": 900,
        "shapes": [
         {
          "line": {
           "color": "red",
           "dash": "dash",
           "width": 2
          },
          "type": "line",
          "x0": "2023-11-24T00:00:00",
          "x1": "2023-11-24T00:00:00",
          "xref": "x",
          "y0": 0,
          "y1": 1,
          "yref": "paper"
         }
        ],
        "showlegend": false,
        "template": {
         "data": {
          "bar": [
           {
            "error_x": {
             "color": "#2a3f5f"
            },
            "error_y": {
             "color": "#2a3f5f"
            },
            "marker": {
             "line": {
              "color": "#E5ECF6",
              "width": 0.5
             },
             "pattern": {
              "fillmode": "overlay",
              "size": 10,
              "solidity": 0.2
             }
            },
            "type": "bar"
           }
          ],
          "barpolar": [
           {
            "marker": {
             "line": {
              "color": "#E5ECF6",
              "width": 0.5
             },
             "pattern": {
              "fillmode": "overlay",
              "size": 10,
              "solidity": 0.2
             }
            },
            "type": "barpolar"
           }
          ],
          "carpet": [
           {
            "aaxis": {
             "endlinecolor": "#2a3f5f",
             "gridcolor": "white",
             "linecolor": "white",
             "minorgridcolor": "white",
             "startlinecolor": "#2a3f5f"
            },
            "baxis": {
             "endlinecolor": "#2a3f5f",
             "gridcolor": "white",
             "linecolor": "white",
             "minorgridcolor": "white",
             "startlinecolor": "#2a3f5f"
            },
            "type": "carpet"
           }
          ],
          "choropleth": [
           {
            "colorbar": {
             "outlinewidth": 0,
             "ticks": ""
            },
            "type": "choropleth"
           }
          ],
          "contour": [
           {
            "colorbar": {
             "outlinewidth": 0,
             "ticks": ""
            },
            "colorscale": [
             [
              0,
              "#0d0887"
             ],
             [
              0.1111111111111111,
              "#46039f"
             ],
             [
              0.2222222222222222,
              "#7201a8"
             ],
             [
              0.3333333333333333,
              "#9c179e"
             ],
             [
              0.4444444444444444,
              "#bd3786"
             ],
             [
              0.5555555555555556,
              "#d8576b"
             ],
             [
              0.6666666666666666,
              "#ed7953"
             ],
             [
              0.7777777777777778,
              "#fb9f3a"
             ],
             [
              0.8888888888888888,
              "#fdca26"
             ],
             [
              1,
              "#f0f921"
             ]
            ],
            "type": "contour"
           }
          ],
          "contourcarpet": [
           {
            "colorbar": {
             "outlinewidth": 0,
             "ticks": ""
            },
            "type": "contourcarpet"
           }
          ],
          "heatmap": [
           {
            "colorbar": {
             "outlinewidth": 0,
             "ticks": ""
            },
            "colorscale": [
             [
              0,
              "#0d0887"
             ],
             [
              0.1111111111111111,
              "#46039f"
             ],
             [
              0.2222222222222222,
              "#7201a8"
             ],
             [
              0.3333333333333333,
              "#9c179e"
             ],
             [
              0.4444444444444444,
              "#bd3786"
             ],
             [
              0.5555555555555556,
              "#d8576b"
             ],
             [
              0.6666666666666666,
              "#ed7953"
             ],
             [
              0.7777777777777778,
              "#fb9f3a"
             ],
             [
              0.8888888888888888,
              "#fdca26"
             ],
             [
              1,
              "#f0f921"
             ]
            ],
            "type": "heatmap"
           }
          ],
          "heatmapgl": [
           {
            "colorbar": {
             "outlinewidth": 0,
             "ticks": ""
            },
            "colorscale": [
             [
              0,
              "#0d0887"
             ],
             [
              0.1111111111111111,
              "#46039f"
             ],
             [
              0.2222222222222222,
              "#7201a8"
             ],
             [
              0.3333333333333333,
              "#9c179e"
             ],
             [
              0.4444444444444444,
              "#bd3786"
             ],
             [
              0.5555555555555556,
              "#d8576b"
             ],
             [
              0.6666666666666666,
              "#ed7953"
             ],
             [
              0.7777777777777778,
              "#fb9f3a"
             ],
             [
              0.8888888888888888,
              "#fdca26"
             ],
             [
              1,
              "#f0f921"
             ]
            ],
            "type": "heatmapgl"
           }
          ],
          "histogram": [
           {
            "marker": {
             "pattern": {
              "fillmode": "overlay",
              "size": 10,
              "solidity": 0.2
             }
            },
            "type": "histogram"
           }
          ],
          "histogram2d": [
           {
            "colorbar": {
             "outlinewidth": 0,
             "ticks": ""
            },
            "colorscale": [
             [
              0,
              "#0d0887"
             ],
             [
              0.1111111111111111,
              "#46039f"
             ],
             [
              0.2222222222222222,
              "#7201a8"
             ],
             [
              0.3333333333333333,
              "#9c179e"
             ],
             [
              0.4444444444444444,
              "#bd3786"
             ],
             [
              0.5555555555555556,
              "#d8576b"
             ],
             [
              0.6666666666666666,
              "#ed7953"
             ],
             [
              0.7777777777777778,
              "#fb9f3a"
             ],
             [
              0.8888888888888888,
              "#fdca26"
             ],
             [
              1,
              "#f0f921"
             ]
            ],
            "type": "histogram2d"
           }
          ],
          "histogram2dcontour": [
           {
            "colorbar": {
             "outlinewidth": 0,
             "ticks": ""
            },
            "colorscale": [
             [
              0,
              "#0d0887"
             ],
             [
              0.1111111111111111,
              "#46039f"
             ],
             [
              0.2222222222222222,
              "#7201a8"
             ],
             [
              0.3333333333333333,
              "#9c179e"
             ],
             [
              0.4444444444444444,
              "#bd3786"
             ],
             [
              0.5555555555555556,
              "#d8576b"
             ],
             [
              0.6666666666666666,
              "#ed7953"
             ],
             [
              0.7777777777777778,
              "#fb9f3a"
             ],
             [
              0.8888888888888888,
              "#fdca26"
             ],
             [
              1,
              "#f0f921"
             ]
            ],
            "type": "histogram2dcontour"
           }
          ],
          "mesh3d": [
           {
            "colorbar": {
             "outlinewidth": 0,
             "ticks": ""
            },
            "type": "mesh3d"
           }
          ],
          "parcoords": [
           {
            "line": {
             "colorbar": {
              "outlinewidth": 0,
              "ticks": ""
             }
            },
            "type": "parcoords"
           }
          ],
          "pie": [
           {
            "automargin": true,
            "type": "pie"
           }
          ],
          "scatter": [
           {
            "fillpattern": {
             "fillmode": "overlay",
             "size": 10,
             "solidity": 0.2
            },
            "type": "scatter"
           }
          ],
          "scatter3d": [
           {
            "line": {
             "colorbar": {
              "outlinewidth": 0,
              "ticks": ""
             }
            },
            "marker": {
             "colorbar": {
              "outlinewidth": 0,
              "ticks": ""
             }
            },
            "type": "scatter3d"
           }
          ],
          "scattercarpet": [
           {
            "marker": {
             "colorbar": {
              "outlinewidth": 0,
              "ticks": ""
             }
            },
            "type": "scattercarpet"
           }
          ],
          "scattergeo": [
           {
            "marker": {
             "colorbar": {
              "outlinewidth": 0,
              "ticks": ""
             }
            },
            "type": "scattergeo"
           }
          ],
          "scattergl": [
           {
            "marker": {
             "colorbar": {
              "outlinewidth": 0,
              "ticks": ""
             }
            },
            "type": "scattergl"
           }
          ],
          "scattermapbox": [
           {
            "marker": {
             "colorbar": {
              "outlinewidth": 0,
              "ticks": ""
             }
            },
            "type": "scattermapbox"
           }
          ],
          "scatterpolar": [
           {
            "marker": {
             "colorbar": {
              "outlinewidth": 0,
              "ticks": ""
             }
            },
            "type": "scatterpolar"
           }
          ],
          "scatterpolargl": [
           {
            "marker": {
             "colorbar": {
              "outlinewidth": 0,
              "ticks": ""
             }
            },
            "type": "scatterpolargl"
           }
          ],
          "scatterternary": [
           {
            "marker": {
             "colorbar": {
              "outlinewidth": 0,
              "ticks": ""
             }
            },
            "type": "scatterternary"
           }
          ],
          "surface": [
           {
            "colorbar": {
             "outlinewidth": 0,
             "ticks": ""
            },
            "colorscale": [
             [
              0,
              "#0d0887"
             ],
             [
              0.1111111111111111,
              "#46039f"
             ],
             [
              0.2222222222222222,
              "#7201a8"
             ],
             [
              0.3333333333333333,
              "#9c179e"
             ],
             [
              0.4444444444444444,
              "#bd3786"
             ],
             [
              0.5555555555555556,
              "#d8576b"
             ],
             [
              0.6666666666666666,
              "#ed7953"
             ],
             [
              0.7777777777777778,
              "#fb9f3a"
             ],
             [
              0.8888888888888888,
              "#fdca26"
             ],
             [
              1,
              "#f0f921"
             ]
            ],
            "type": "surface"
           }
          ],
          "table": [
           {
            "cells": {
             "fill": {
              "color": "#EBF0F8"
             },
             "line": {
              "color": "white"
             }
            },
            "header": {
             "fill": {
              "color": "#C8D4E3"
             },
             "line": {
              "color": "white"
             }
            },
            "type": "table"
           }
          ]
         },
         "layout": {
          "annotationdefaults": {
           "arrowcolor": "#2a3f5f",
           "arrowhead": 0,
           "arrowwidth": 1
          },
          "autotypenumbers": "strict",
          "coloraxis": {
           "colorbar": {
            "outlinewidth": 0,
            "ticks": ""
           }
          },
          "colorscale": {
           "diverging": [
            [
             0,
             "#8e0152"
            ],
            [
             0.1,
             "#c51b7d"
            ],
            [
             0.2,
             "#de77ae"
            ],
            [
             0.3,
             "#f1b6da"
            ],
            [
             0.4,
             "#fde0ef"
            ],
            [
             0.5,
             "#f7f7f7"
            ],
            [
             0.6,
             "#e6f5d0"
            ],
            [
             0.7,
             "#b8e186"
            ],
            [
             0.8,
             "#7fbc41"
            ],
            [
             0.9,
             "#4d9221"
            ],
            [
             1,
             "#276419"
            ]
           ],
           "sequential": [
            [
             0,
             "#0d0887"
            ],
            [
             0.1111111111111111,
             "#46039f"
            ],
            [
             0.2222222222222222,
             "#7201a8"
            ],
            [
             0.3333333333333333,
             "#9c179e"
            ],
            [
             0.4444444444444444,
             "#bd3786"
            ],
            [
             0.5555555555555556,
             "#d8576b"
            ],
            [
             0.6666666666666666,
             "#ed7953"
            ],
            [
             0.7777777777777778,
             "#fb9f3a"
            ],
            [
             0.8888888888888888,
             "#fdca26"
            ],
            [
             1,
             "#f0f921"
            ]
           ],
           "sequentialminus": [
            [
             0,
             "#0d0887"
            ],
            [
             0.1111111111111111,
             "#46039f"
            ],
            [
             0.2222222222222222,
             "#7201a8"
            ],
            [
             0.3333333333333333,
             "#9c179e"
            ],
            [
             0.4444444444444444,
             "#bd3786"
            ],
            [
             0.5555555555555556,
             "#d8576b"
            ],
            [
             0.6666666666666666,
             "#ed7953"
            ],
            [
             0.7777777777777778,
             "#fb9f3a"
            ],
            [
             0.8888888888888888,
             "#fdca26"
            ],
            [
             1,
             "#f0f921"
            ]
           ]
          },
          "colorway": [
           "#636efa",
           "#EF553B",
           "#00cc96",
           "#ab63fa",
           "#FFA15A",
           "#19d3f3",
           "#FF6692",
           "#B6E880",
           "#FF97FF",
           "#FECB52"
          ],
          "font": {
           "color": "#2a3f5f"
          },
          "geo": {
           "bgcolor": "white",
           "lakecolor": "white",
           "landcolor": "#E5ECF6",
           "showlakes": true,
           "showland": true,
           "subunitcolor": "white"
          },
          "hoverlabel": {
           "align": "left"
          },
          "hovermode": "closest",
          "mapbox": {
           "style": "light"
          },
          "paper_bgcolor": "white",
          "plot_bgcolor": "#E5ECF6",
          "polar": {
           "angularaxis": {
            "gridcolor": "white",
            "linecolor": "white",
            "ticks": ""
           },
           "bgcolor": "#E5ECF6",
           "radialaxis": {
            "gridcolor": "white",
            "linecolor": "white",
            "ticks": ""
           }
          },
          "scene": {
           "xaxis": {
            "backgroundcolor": "#E5ECF6",
            "gridcolor": "white",
            "gridwidth": 2,
            "linecolor": "white",
            "showbackground": true,
            "ticks": "",
            "zerolinecolor": "white"
           },
           "yaxis": {
            "backgroundcolor": "#E5ECF6",
            "gridcolor": "white",
            "gridwidth": 2,
            "linecolor": "white",
            "showbackground": true,
            "ticks": "",
            "zerolinecolor": "white"
           },
           "zaxis": {
            "backgroundcolor": "#E5ECF6",
            "gridcolor": "white",
            "gridwidth": 2,
            "linecolor": "white",
            "showbackground": true,
            "ticks": "",
            "zerolinecolor": "white"
           }
          },
          "shapedefaults": {
           "line": {
            "color": "#2a3f5f"
           }
          },
          "ternary": {
           "aaxis": {
            "gridcolor": "white",
            "linecolor": "white",
            "ticks": ""
           },
           "baxis": {
            "gridcolor": "white",
            "linecolor": "white",
            "ticks": ""
           },
           "bgcolor": "#E5ECF6",
           "caxis": {
            "gridcolor": "white",
            "linecolor": "white",
            "ticks": ""
           }
          },
          "title": {
           "x": 0.05
          },
          "xaxis": {
           "automargin": true,
           "gridcolor": "white",
           "linecolor": "white",
           "ticks": "",
           "title": {
            "standoff": 15
           },
           "zerolinecolor": "white",
           "zerolinewidth": 2
          },
          "yaxis": {
           "automargin": true,
           "gridcolor": "white",
           "linecolor": "white",
           "ticks": "",
           "title": {
            "standoff": 15
           },
           "zerolinecolor": "white",
           "zerolinewidth": 2
          }
         }
        },
        "title": {
         "text": "Metrics Over Time - Germany - Channel C"
        },
        "xaxis": {
         "anchor": "y",
         "domain": [
          0,
          1
         ],
         "matches": "x4",
         "showticklabels": false
        },
        "xaxis2": {
         "anchor": "y2",
         "domain": [
          0,
          1
         ],
         "matches": "x4",
         "showticklabels": false
        },
        "xaxis3": {
         "anchor": "y3",
         "domain": [
          0,
          1
         ],
         "matches": "x4",
         "showticklabels": false
        },
        "xaxis4": {
         "anchor": "y4",
         "domain": [
          0,
          1
         ],
         "title": {
          "text": "Date"
         }
        },
        "yaxis": {
         "anchor": "x",
         "domain": [
          0.7875,
          1
         ],
         "title": {
          "text": "App Installs"
         }
        },
        "yaxis2": {
         "anchor": "x2",
         "domain": [
          0.525,
          0.7375
         ],
         "range": [
          0,
          null
         ],
         "title": {
          "text": "CPI (Euro)"
         }
        },
        "yaxis3": {
         "anchor": "x3",
         "domain": [
          0.2625,
          0.475
         ],
         "range": [
          0,
          null
         ],
         "title": {
          "text": "Install to Conversion Rate (%)"
         }
        },
        "yaxis4": {
         "anchor": "x4",
         "domain": [
          0,
          0.2125
         ],
         "title": {
          "text": "Profit (Euro)"
         }
        }
       }
      }
     },
     "metadata": {},
     "output_type": "display_data"
    }
   ],
   "source": [
    "### PREPARE THE DATA ###\n",
    "\n",
    "# Aggregate the data\n",
    "agg_df = df[df.marketing_channel == \"Channel C\"].groupby(['country','date']).sum(numeric_only=True)\n",
    "\n",
    "#Calculate the metrics\n",
    "df_metrics = calculate_metrics(agg_df).reset_index()\n",
    "\n",
    "# Create the object\n",
    "df_main_over_time = df_metrics.copy()\n",
    "\n",
    "\n",
    "# Filter the country\n",
    "df_filtered_plot = df_main_over_time[df_main_over_time.country==\"DE\"].copy()\n",
    "\n",
    "# Ensure the 'date' column in the DataFrame is in datetime format\n",
    "df_filtered_plot['date'] = pd.to_datetime(df_filtered_plot['date'])\n",
    "\n",
    "### PLOT ###\n",
    "\n",
    "# Create a subplot figure with 4 rows, 1 column\n",
    "fig = make_subplots(\n",
    "    rows=4, cols=1,\n",
    "    shared_xaxes=True,  # Align x-axes\n",
    "    vertical_spacing=0.05  # Adjust spacing between plots\n",
    ")\n",
    "\n",
    "# Add traces for each metric\n",
    "metrics = ['app_installs', 'cpi', 'install_to_conversion_rate', 'profit']\n",
    "titles = [\n",
    "    'App Installs',\n",
    "    'Cost Per Install (CPI)',\n",
    "    'Install to Conversion Rate (%)',\n",
    "    'Profit (Euro)'\n",
    "]\n",
    "\n",
    "# Plot App Installs (Row 1)\n",
    "fig.add_trace(\n",
    "    go.Scatter(x=df_filtered_plot['date'], y=df_filtered_plot['app_installs'], mode='lines', name='App Installs'),\n",
    "    row=1, col=1\n",
    ")\n",
    "\n",
    "# Plot CPI (Row 2) with y-axis starting at 0\n",
    "fig.add_trace(\n",
    "    go.Scatter(x=df_filtered_plot['date'], y=df_filtered_plot['cpi'], mode='lines', name='CPI'),\n",
    "    row=2, col=1\n",
    ")\n",
    "fig.update_yaxes(range=[0, None], row=2, col=1)\n",
    "\n",
    "# Plot Install to Conversion Rate (Row 3) with y-axis starting at 0\n",
    "fig.add_trace(\n",
    "    go.Scatter(x=df_filtered_plot['date'], y=df_filtered_plot['install_to_conversion_rate'], mode='lines', name='Install to Conversion Rate'),\n",
    "    row=3, col=1\n",
    ")\n",
    "fig.update_yaxes(range=[0, None], row=3, col=1)\n",
    "\n",
    "# Plot Profit (Row 4) as a bar chart\n",
    "fig.add_trace(\n",
    "    go.Bar(x=df_filtered_plot['date'], y=df_filtered_plot['profit'], name='Profit'),\n",
    "    row=4, col=1\n",
    ")\n",
    "\n",
    "# Add a vertical line and text annotation for Black Friday\n",
    "black_friday_date = datetime(2023, 11, 24)  # Use a raw datetime object\n",
    "\n",
    "# Add a shape for the vertical line\n",
    "fig.add_shape(\n",
    "    type=\"line\",\n",
    "    x0=black_friday_date, x1=black_friday_date,\n",
    "    y0=0, y1=1,  # Relative to the y-axis (scaled by domain)\n",
    "    xref=\"x\", yref=\"paper\",  # 'paper' ensures it spans all plots\n",
    "    line=dict(color=\"red\", width=2, dash=\"dash\")\n",
    ")\n",
    "\n",
    "# Add a text annotation\n",
    "fig.add_annotation(\n",
    "    x=black_friday_date,\n",
    "    y=1,  # Place it at the top of the plot area\n",
    "    text=\"Black Friday\",\n",
    "    showarrow=False,\n",
    "    xref=\"x\", yref=\"paper\",\n",
    "    font=dict(size=12, color=\"red\"),\n",
    "    align=\"center\"\n",
    ")\n",
    "\n",
    "# Update layout for better appearance\n",
    "fig.update_layout(\n",
    "    height=900,  # Adjust height\n",
    "    title_text=\"Metrics Over Time - Germany - Channel C\",\n",
    "    showlegend=False,  # Hide legend for clarity\n",
    ")\n",
    "\n",
    "# Update individual axes titles\n",
    "fig.update_yaxes(title_text=\"App Installs\", row=1, col=1)\n",
    "fig.update_yaxes(title_text=\"CPI (Euro)\", row=2, col=1)\n",
    "fig.update_yaxes(title_text=\"Install to Conversion Rate (%)\", row=3, col=1)\n",
    "fig.update_yaxes(title_text=\"Profit (Euro)\", row=4, col=1)\n",
    "fig.update_xaxes(title_text=\"Date\", row=4, col=1)\n",
    "\n",
    "# Show the plot\n",
    "fig.show()\n"
   ]
  },
  {
   "cell_type": "markdown",
   "id": "5a9d0b6e",
   "metadata": {},
   "source": [
    "### Germany"
   ]
  },
  {
   "cell_type": "code",
   "execution_count": 106,
   "id": "67746fdb",
   "metadata": {},
   "outputs": [
    {
     "data": {
      "application/vnd.plotly.v1+json": {
       "config": {
        "plotlyServerURL": "https://plot.ly"
       },
       "data": [
        {
         "mode": "lines",
         "name": "App Installs",
         "type": "scatter",
         "x": [
          "2023-11-01T00:00:00",
          "2023-11-02T00:00:00",
          "2023-11-03T00:00:00",
          "2023-11-04T00:00:00",
          "2023-11-05T00:00:00",
          "2023-11-06T00:00:00",
          "2023-11-07T00:00:00",
          "2023-11-08T00:00:00",
          "2023-11-09T00:00:00",
          "2023-11-10T00:00:00",
          "2023-11-11T00:00:00",
          "2023-11-12T00:00:00",
          "2023-11-13T00:00:00",
          "2023-11-14T00:00:00",
          "2023-11-15T00:00:00",
          "2023-11-16T00:00:00",
          "2023-11-17T00:00:00",
          "2023-11-18T00:00:00",
          "2023-11-19T00:00:00",
          "2023-11-20T00:00:00",
          "2023-11-21T00:00:00",
          "2023-11-22T00:00:00",
          "2023-11-23T00:00:00",
          "2023-11-24T00:00:00",
          "2023-11-25T00:00:00",
          "2023-11-26T00:00:00",
          "2023-11-27T00:00:00",
          "2023-11-28T00:00:00",
          "2023-11-29T00:00:00",
          "2023-11-30T00:00:00"
         ],
         "xaxis": "x",
         "y": [
          987,
          744,
          707,
          690,
          738,
          487,
          621,
          597,
          544,
          507,
          578,
          691,
          707,
          715,
          842,
          651,
          654,
          547,
          674,
          707,
          854,
          1023,
          974,
          830,
          905,
          1046,
          1088,
          1055,
          971,
          838
         ],
         "yaxis": "y"
        },
        {
         "mode": "lines",
         "name": "CPI",
         "type": "scatter",
         "x": [
          "2023-11-01T00:00:00",
          "2023-11-02T00:00:00",
          "2023-11-03T00:00:00",
          "2023-11-04T00:00:00",
          "2023-11-05T00:00:00",
          "2023-11-06T00:00:00",
          "2023-11-07T00:00:00",
          "2023-11-08T00:00:00",
          "2023-11-09T00:00:00",
          "2023-11-10T00:00:00",
          "2023-11-11T00:00:00",
          "2023-11-12T00:00:00",
          "2023-11-13T00:00:00",
          "2023-11-14T00:00:00",
          "2023-11-15T00:00:00",
          "2023-11-16T00:00:00",
          "2023-11-17T00:00:00",
          "2023-11-18T00:00:00",
          "2023-11-19T00:00:00",
          "2023-11-20T00:00:00",
          "2023-11-21T00:00:00",
          "2023-11-22T00:00:00",
          "2023-11-23T00:00:00",
          "2023-11-24T00:00:00",
          "2023-11-25T00:00:00",
          "2023-11-26T00:00:00",
          "2023-11-27T00:00:00",
          "2023-11-28T00:00:00",
          "2023-11-29T00:00:00",
          "2023-11-30T00:00:00"
         ],
         "xaxis": "x2",
         "y": [
          1.44,
          1.76,
          1.82,
          1.92,
          1.89,
          1.97,
          1.53,
          1.64,
          1.47,
          1.53,
          1.54,
          1.58,
          1.43,
          1.42,
          1.34,
          1.4,
          1.42,
          1.52,
          1.31,
          1.6,
          1.78,
          1.68,
          1.56,
          1.6,
          1.48,
          1.63,
          1.64,
          1.64,
          1.55,
          1.59
         ],
         "yaxis": "y2"
        },
        {
         "mode": "lines",
         "name": "Install to Conversion Rate",
         "type": "scatter",
         "x": [
          "2023-11-01T00:00:00",
          "2023-11-02T00:00:00",
          "2023-11-03T00:00:00",
          "2023-11-04T00:00:00",
          "2023-11-05T00:00:00",
          "2023-11-06T00:00:00",
          "2023-11-07T00:00:00",
          "2023-11-08T00:00:00",
          "2023-11-09T00:00:00",
          "2023-11-10T00:00:00",
          "2023-11-11T00:00:00",
          "2023-11-12T00:00:00",
          "2023-11-13T00:00:00",
          "2023-11-14T00:00:00",
          "2023-11-15T00:00:00",
          "2023-11-16T00:00:00",
          "2023-11-17T00:00:00",
          "2023-11-18T00:00:00",
          "2023-11-19T00:00:00",
          "2023-11-20T00:00:00",
          "2023-11-21T00:00:00",
          "2023-11-22T00:00:00",
          "2023-11-23T00:00:00",
          "2023-11-24T00:00:00",
          "2023-11-25T00:00:00",
          "2023-11-26T00:00:00",
          "2023-11-27T00:00:00",
          "2023-11-28T00:00:00",
          "2023-11-29T00:00:00",
          "2023-11-30T00:00:00"
         ],
         "xaxis": "x3",
         "y": [
          12.06,
          12.1,
          12.02,
          11.45,
          13.55,
          13.55,
          13.69,
          14.57,
          13.05,
          13.02,
          16.26,
          12.59,
          14.71,
          11.89,
          11.52,
          14.29,
          14.22,
          9.69,
          10.98,
          15.28,
          13.23,
          13.1,
          11.5,
          15.18,
          16.13,
          17.78,
          15.99,
          14.12,
          15.24,
          15.04
         ],
         "yaxis": "y3"
        },
        {
         "name": "Profit",
         "type": "bar",
         "x": [
          "2023-11-01T00:00:00",
          "2023-11-02T00:00:00",
          "2023-11-03T00:00:00",
          "2023-11-04T00:00:00",
          "2023-11-05T00:00:00",
          "2023-11-06T00:00:00",
          "2023-11-07T00:00:00",
          "2023-11-08T00:00:00",
          "2023-11-09T00:00:00",
          "2023-11-10T00:00:00",
          "2023-11-11T00:00:00",
          "2023-11-12T00:00:00",
          "2023-11-13T00:00:00",
          "2023-11-14T00:00:00",
          "2023-11-15T00:00:00",
          "2023-11-16T00:00:00",
          "2023-11-17T00:00:00",
          "2023-11-18T00:00:00",
          "2023-11-19T00:00:00",
          "2023-11-20T00:00:00",
          "2023-11-21T00:00:00",
          "2023-11-22T00:00:00",
          "2023-11-23T00:00:00",
          "2023-11-24T00:00:00",
          "2023-11-25T00:00:00",
          "2023-11-26T00:00:00",
          "2023-11-27T00:00:00",
          "2023-11-28T00:00:00",
          "2023-11-29T00:00:00",
          "2023-11-30T00:00:00"
         ],
         "xaxis": "x4",
         "y": [
          2367.54,
          1634.91,
          1418.33,
          1322.5,
          1744.56,
          1347.99,
          1871.49,
          1628.88,
          1540.35,
          1267.02,
          1209.01,
          1719.04,
          2395.3,
          1531.97,
          1710.63,
          1731.15,
          1575.14,
          246.38,
          1674.22,
          2193.5,
          1700.45,
          2258.75,
          1843.17,
          1911.18,
          1948.73,
          2425.66,
          1998.25,
          1802.46,
          1779.83,
          1655.96
         ],
         "yaxis": "y4"
        }
       ],
       "layout": {
        "annotations": [
         {
          "align": "center",
          "font": {
           "color": "red",
           "size": 12
          },
          "showarrow": false,
          "text": "Black Friday",
          "x": "2023-11-24T00:00:00",
          "xref": "x",
          "y": 1,
          "yref": "paper"
         }
        ],
        "height": 900,
        "shapes": [
         {
          "line": {
           "color": "red",
           "dash": "dash",
           "width": 2
          },
          "type": "line",
          "x0": "2023-11-24T00:00:00",
          "x1": "2023-11-24T00:00:00",
          "xref": "x",
          "y0": 0,
          "y1": 1,
          "yref": "paper"
         }
        ],
        "showlegend": false,
        "template": {
         "data": {
          "bar": [
           {
            "error_x": {
             "color": "#2a3f5f"
            },
            "error_y": {
             "color": "#2a3f5f"
            },
            "marker": {
             "line": {
              "color": "#E5ECF6",
              "width": 0.5
             },
             "pattern": {
              "fillmode": "overlay",
              "size": 10,
              "solidity": 0.2
             }
            },
            "type": "bar"
           }
          ],
          "barpolar": [
           {
            "marker": {
             "line": {
              "color": "#E5ECF6",
              "width": 0.5
             },
             "pattern": {
              "fillmode": "overlay",
              "size": 10,
              "solidity": 0.2
             }
            },
            "type": "barpolar"
           }
          ],
          "carpet": [
           {
            "aaxis": {
             "endlinecolor": "#2a3f5f",
             "gridcolor": "white",
             "linecolor": "white",
             "minorgridcolor": "white",
             "startlinecolor": "#2a3f5f"
            },
            "baxis": {
             "endlinecolor": "#2a3f5f",
             "gridcolor": "white",
             "linecolor": "white",
             "minorgridcolor": "white",
             "startlinecolor": "#2a3f5f"
            },
            "type": "carpet"
           }
          ],
          "choropleth": [
           {
            "colorbar": {
             "outlinewidth": 0,
             "ticks": ""
            },
            "type": "choropleth"
           }
          ],
          "contour": [
           {
            "colorbar": {
             "outlinewidth": 0,
             "ticks": ""
            },
            "colorscale": [
             [
              0,
              "#0d0887"
             ],
             [
              0.1111111111111111,
              "#46039f"
             ],
             [
              0.2222222222222222,
              "#7201a8"
             ],
             [
              0.3333333333333333,
              "#9c179e"
             ],
             [
              0.4444444444444444,
              "#bd3786"
             ],
             [
              0.5555555555555556,
              "#d8576b"
             ],
             [
              0.6666666666666666,
              "#ed7953"
             ],
             [
              0.7777777777777778,
              "#fb9f3a"
             ],
             [
              0.8888888888888888,
              "#fdca26"
             ],
             [
              1,
              "#f0f921"
             ]
            ],
            "type": "contour"
           }
          ],
          "contourcarpet": [
           {
            "colorbar": {
             "outlinewidth": 0,
             "ticks": ""
            },
            "type": "contourcarpet"
           }
          ],
          "heatmap": [
           {
            "colorbar": {
             "outlinewidth": 0,
             "ticks": ""
            },
            "colorscale": [
             [
              0,
              "#0d0887"
             ],
             [
              0.1111111111111111,
              "#46039f"
             ],
             [
              0.2222222222222222,
              "#7201a8"
             ],
             [
              0.3333333333333333,
              "#9c179e"
             ],
             [
              0.4444444444444444,
              "#bd3786"
             ],
             [
              0.5555555555555556,
              "#d8576b"
             ],
             [
              0.6666666666666666,
              "#ed7953"
             ],
             [
              0.7777777777777778,
              "#fb9f3a"
             ],
             [
              0.8888888888888888,
              "#fdca26"
             ],
             [
              1,
              "#f0f921"
             ]
            ],
            "type": "heatmap"
           }
          ],
          "heatmapgl": [
           {
            "colorbar": {
             "outlinewidth": 0,
             "ticks": ""
            },
            "colorscale": [
             [
              0,
              "#0d0887"
             ],
             [
              0.1111111111111111,
              "#46039f"
             ],
             [
              0.2222222222222222,
              "#7201a8"
             ],
             [
              0.3333333333333333,
              "#9c179e"
             ],
             [
              0.4444444444444444,
              "#bd3786"
             ],
             [
              0.5555555555555556,
              "#d8576b"
             ],
             [
              0.6666666666666666,
              "#ed7953"
             ],
             [
              0.7777777777777778,
              "#fb9f3a"
             ],
             [
              0.8888888888888888,
              "#fdca26"
             ],
             [
              1,
              "#f0f921"
             ]
            ],
            "type": "heatmapgl"
           }
          ],
          "histogram": [
           {
            "marker": {
             "pattern": {
              "fillmode": "overlay",
              "size": 10,
              "solidity": 0.2
             }
            },
            "type": "histogram"
           }
          ],
          "histogram2d": [
           {
            "colorbar": {
             "outlinewidth": 0,
             "ticks": ""
            },
            "colorscale": [
             [
              0,
              "#0d0887"
             ],
             [
              0.1111111111111111,
              "#46039f"
             ],
             [
              0.2222222222222222,
              "#7201a8"
             ],
             [
              0.3333333333333333,
              "#9c179e"
             ],
             [
              0.4444444444444444,
              "#bd3786"
             ],
             [
              0.5555555555555556,
              "#d8576b"
             ],
             [
              0.6666666666666666,
              "#ed7953"
             ],
             [
              0.7777777777777778,
              "#fb9f3a"
             ],
             [
              0.8888888888888888,
              "#fdca26"
             ],
             [
              1,
              "#f0f921"
             ]
            ],
            "type": "histogram2d"
           }
          ],
          "histogram2dcontour": [
           {
            "colorbar": {
             "outlinewidth": 0,
             "ticks": ""
            },
            "colorscale": [
             [
              0,
              "#0d0887"
             ],
             [
              0.1111111111111111,
              "#46039f"
             ],
             [
              0.2222222222222222,
              "#7201a8"
             ],
             [
              0.3333333333333333,
              "#9c179e"
             ],
             [
              0.4444444444444444,
              "#bd3786"
             ],
             [
              0.5555555555555556,
              "#d8576b"
             ],
             [
              0.6666666666666666,
              "#ed7953"
             ],
             [
              0.7777777777777778,
              "#fb9f3a"
             ],
             [
              0.8888888888888888,
              "#fdca26"
             ],
             [
              1,
              "#f0f921"
             ]
            ],
            "type": "histogram2dcontour"
           }
          ],
          "mesh3d": [
           {
            "colorbar": {
             "outlinewidth": 0,
             "ticks": ""
            },
            "type": "mesh3d"
           }
          ],
          "parcoords": [
           {
            "line": {
             "colorbar": {
              "outlinewidth": 0,
              "ticks": ""
             }
            },
            "type": "parcoords"
           }
          ],
          "pie": [
           {
            "automargin": true,
            "type": "pie"
           }
          ],
          "scatter": [
           {
            "fillpattern": {
             "fillmode": "overlay",
             "size": 10,
             "solidity": 0.2
            },
            "type": "scatter"
           }
          ],
          "scatter3d": [
           {
            "line": {
             "colorbar": {
              "outlinewidth": 0,
              "ticks": ""
             }
            },
            "marker": {
             "colorbar": {
              "outlinewidth": 0,
              "ticks": ""
             }
            },
            "type": "scatter3d"
           }
          ],
          "scattercarpet": [
           {
            "marker": {
             "colorbar": {
              "outlinewidth": 0,
              "ticks": ""
             }
            },
            "type": "scattercarpet"
           }
          ],
          "scattergeo": [
           {
            "marker": {
             "colorbar": {
              "outlinewidth": 0,
              "ticks": ""
             }
            },
            "type": "scattergeo"
           }
          ],
          "scattergl": [
           {
            "marker": {
             "colorbar": {
              "outlinewidth": 0,
              "ticks": ""
             }
            },
            "type": "scattergl"
           }
          ],
          "scattermapbox": [
           {
            "marker": {
             "colorbar": {
              "outlinewidth": 0,
              "ticks": ""
             }
            },
            "type": "scattermapbox"
           }
          ],
          "scatterpolar": [
           {
            "marker": {
             "colorbar": {
              "outlinewidth": 0,
              "ticks": ""
             }
            },
            "type": "scatterpolar"
           }
          ],
          "scatterpolargl": [
           {
            "marker": {
             "colorbar": {
              "outlinewidth": 0,
              "ticks": ""
             }
            },
            "type": "scatterpolargl"
           }
          ],
          "scatterternary": [
           {
            "marker": {
             "colorbar": {
              "outlinewidth": 0,
              "ticks": ""
             }
            },
            "type": "scatterternary"
           }
          ],
          "surface": [
           {
            "colorbar": {
             "outlinewidth": 0,
             "ticks": ""
            },
            "colorscale": [
             [
              0,
              "#0d0887"
             ],
             [
              0.1111111111111111,
              "#46039f"
             ],
             [
              0.2222222222222222,
              "#7201a8"
             ],
             [
              0.3333333333333333,
              "#9c179e"
             ],
             [
              0.4444444444444444,
              "#bd3786"
             ],
             [
              0.5555555555555556,
              "#d8576b"
             ],
             [
              0.6666666666666666,
              "#ed7953"
             ],
             [
              0.7777777777777778,
              "#fb9f3a"
             ],
             [
              0.8888888888888888,
              "#fdca26"
             ],
             [
              1,
              "#f0f921"
             ]
            ],
            "type": "surface"
           }
          ],
          "table": [
           {
            "cells": {
             "fill": {
              "color": "#EBF0F8"
             },
             "line": {
              "color": "white"
             }
            },
            "header": {
             "fill": {
              "color": "#C8D4E3"
             },
             "line": {
              "color": "white"
             }
            },
            "type": "table"
           }
          ]
         },
         "layout": {
          "annotationdefaults": {
           "arrowcolor": "#2a3f5f",
           "arrowhead": 0,
           "arrowwidth": 1
          },
          "autotypenumbers": "strict",
          "coloraxis": {
           "colorbar": {
            "outlinewidth": 0,
            "ticks": ""
           }
          },
          "colorscale": {
           "diverging": [
            [
             0,
             "#8e0152"
            ],
            [
             0.1,
             "#c51b7d"
            ],
            [
             0.2,
             "#de77ae"
            ],
            [
             0.3,
             "#f1b6da"
            ],
            [
             0.4,
             "#fde0ef"
            ],
            [
             0.5,
             "#f7f7f7"
            ],
            [
             0.6,
             "#e6f5d0"
            ],
            [
             0.7,
             "#b8e186"
            ],
            [
             0.8,
             "#7fbc41"
            ],
            [
             0.9,
             "#4d9221"
            ],
            [
             1,
             "#276419"
            ]
           ],
           "sequential": [
            [
             0,
             "#0d0887"
            ],
            [
             0.1111111111111111,
             "#46039f"
            ],
            [
             0.2222222222222222,
             "#7201a8"
            ],
            [
             0.3333333333333333,
             "#9c179e"
            ],
            [
             0.4444444444444444,
             "#bd3786"
            ],
            [
             0.5555555555555556,
             "#d8576b"
            ],
            [
             0.6666666666666666,
             "#ed7953"
            ],
            [
             0.7777777777777778,
             "#fb9f3a"
            ],
            [
             0.8888888888888888,
             "#fdca26"
            ],
            [
             1,
             "#f0f921"
            ]
           ],
           "sequentialminus": [
            [
             0,
             "#0d0887"
            ],
            [
             0.1111111111111111,
             "#46039f"
            ],
            [
             0.2222222222222222,
             "#7201a8"
            ],
            [
             0.3333333333333333,
             "#9c179e"
            ],
            [
             0.4444444444444444,
             "#bd3786"
            ],
            [
             0.5555555555555556,
             "#d8576b"
            ],
            [
             0.6666666666666666,
             "#ed7953"
            ],
            [
             0.7777777777777778,
             "#fb9f3a"
            ],
            [
             0.8888888888888888,
             "#fdca26"
            ],
            [
             1,
             "#f0f921"
            ]
           ]
          },
          "colorway": [
           "#636efa",
           "#EF553B",
           "#00cc96",
           "#ab63fa",
           "#FFA15A",
           "#19d3f3",
           "#FF6692",
           "#B6E880",
           "#FF97FF",
           "#FECB52"
          ],
          "font": {
           "color": "#2a3f5f"
          },
          "geo": {
           "bgcolor": "white",
           "lakecolor": "white",
           "landcolor": "#E5ECF6",
           "showlakes": true,
           "showland": true,
           "subunitcolor": "white"
          },
          "hoverlabel": {
           "align": "left"
          },
          "hovermode": "closest",
          "mapbox": {
           "style": "light"
          },
          "paper_bgcolor": "white",
          "plot_bgcolor": "#E5ECF6",
          "polar": {
           "angularaxis": {
            "gridcolor": "white",
            "linecolor": "white",
            "ticks": ""
           },
           "bgcolor": "#E5ECF6",
           "radialaxis": {
            "gridcolor": "white",
            "linecolor": "white",
            "ticks": ""
           }
          },
          "scene": {
           "xaxis": {
            "backgroundcolor": "#E5ECF6",
            "gridcolor": "white",
            "gridwidth": 2,
            "linecolor": "white",
            "showbackground": true,
            "ticks": "",
            "zerolinecolor": "white"
           },
           "yaxis": {
            "backgroundcolor": "#E5ECF6",
            "gridcolor": "white",
            "gridwidth": 2,
            "linecolor": "white",
            "showbackground": true,
            "ticks": "",
            "zerolinecolor": "white"
           },
           "zaxis": {
            "backgroundcolor": "#E5ECF6",
            "gridcolor": "white",
            "gridwidth": 2,
            "linecolor": "white",
            "showbackground": true,
            "ticks": "",
            "zerolinecolor": "white"
           }
          },
          "shapedefaults": {
           "line": {
            "color": "#2a3f5f"
           }
          },
          "ternary": {
           "aaxis": {
            "gridcolor": "white",
            "linecolor": "white",
            "ticks": ""
           },
           "baxis": {
            "gridcolor": "white",
            "linecolor": "white",
            "ticks": ""
           },
           "bgcolor": "#E5ECF6",
           "caxis": {
            "gridcolor": "white",
            "linecolor": "white",
            "ticks": ""
           }
          },
          "title": {
           "x": 0.05
          },
          "xaxis": {
           "automargin": true,
           "gridcolor": "white",
           "linecolor": "white",
           "ticks": "",
           "title": {
            "standoff": 15
           },
           "zerolinecolor": "white",
           "zerolinewidth": 2
          },
          "yaxis": {
           "automargin": true,
           "gridcolor": "white",
           "linecolor": "white",
           "ticks": "",
           "title": {
            "standoff": 15
           },
           "zerolinecolor": "white",
           "zerolinewidth": 2
          }
         }
        },
        "title": {
         "text": "Metrics Over Time - Germany"
        },
        "xaxis": {
         "anchor": "y",
         "domain": [
          0,
          1
         ],
         "matches": "x4",
         "showticklabels": false
        },
        "xaxis2": {
         "anchor": "y2",
         "domain": [
          0,
          1
         ],
         "matches": "x4",
         "showticklabels": false
        },
        "xaxis3": {
         "anchor": "y3",
         "domain": [
          0,
          1
         ],
         "matches": "x4",
         "showticklabels": false
        },
        "xaxis4": {
         "anchor": "y4",
         "domain": [
          0,
          1
         ],
         "title": {
          "text": "Date"
         }
        },
        "yaxis": {
         "anchor": "x",
         "domain": [
          0.7875,
          1
         ],
         "title": {
          "text": "App Installs"
         }
        },
        "yaxis2": {
         "anchor": "x2",
         "domain": [
          0.525,
          0.7375
         ],
         "range": [
          0,
          null
         ],
         "title": {
          "text": "CPI (Euro)"
         }
        },
        "yaxis3": {
         "anchor": "x3",
         "domain": [
          0.2625,
          0.475
         ],
         "range": [
          0,
          null
         ],
         "title": {
          "text": "Install to Conversion Rate (%)"
         }
        },
        "yaxis4": {
         "anchor": "x4",
         "domain": [
          0,
          0.2125
         ],
         "title": {
          "text": "Profit (Euro)"
         }
        }
       }
      }
     },
     "metadata": {},
     "output_type": "display_data"
    }
   ],
   "source": [
    "# Filter the country\n",
    "df_filtered_plot = df_main_over_time[df_main_over_time.country==\"DE\"].copy()\n",
    "\n",
    "# Ensure the 'date' column in the DataFrame is in datetime format\n",
    "df_filtered_plot['date'] = pd.to_datetime(df_filtered_plot['date'])\n",
    "\n",
    "# Create a subplot figure with 4 rows, 1 column\n",
    "fig = make_subplots(\n",
    "    rows=4, cols=1,\n",
    "    shared_xaxes=True,  # Align x-axes\n",
    "    vertical_spacing=0.05  # Adjust spacing between plots\n",
    ")\n",
    "\n",
    "# Add traces for each metric\n",
    "metrics = ['app_installs', 'cpi', 'install_to_conversion_rate', 'profit']\n",
    "titles = [\n",
    "    'App Installs',\n",
    "    'Cost Per Install (CPI)',\n",
    "    'Install to Conversion Rate (%)',\n",
    "    'Profit (Euro)'\n",
    "]\n",
    "\n",
    "# Plot App Installs (Row 1)\n",
    "fig.add_trace(\n",
    "    go.Scatter(x=df_filtered_plot['date'], y=df_filtered_plot['app_installs'], mode='lines', name='App Installs'),\n",
    "    row=1, col=1\n",
    ")\n",
    "\n",
    "# Plot CPI (Row 2) with y-axis starting at 0\n",
    "fig.add_trace(\n",
    "    go.Scatter(x=df_filtered_plot['date'], y=df_filtered_plot['cpi'], mode='lines', name='CPI'),\n",
    "    row=2, col=1\n",
    ")\n",
    "fig.update_yaxes(range=[0, None], row=2, col=1)\n",
    "\n",
    "# Plot Install to Conversion Rate (Row 3) with y-axis starting at 0\n",
    "fig.add_trace(\n",
    "    go.Scatter(x=df_filtered_plot['date'], y=df_filtered_plot['install_to_conversion_rate'], mode='lines', name='Install to Conversion Rate'),\n",
    "    row=3, col=1\n",
    ")\n",
    "fig.update_yaxes(range=[0, None], row=3, col=1)\n",
    "\n",
    "# Plot Profit (Row 4) as a bar chart\n",
    "fig.add_trace(\n",
    "    go.Bar(x=df_filtered_plot['date'], y=df_filtered_plot['profit'], name='Profit'),\n",
    "    row=4, col=1\n",
    ")\n",
    "\n",
    "# Add a vertical line and text annotation for Black Friday\n",
    "black_friday_date = datetime(2023, 11, 24)  # Use a raw datetime object\n",
    "\n",
    "# Add a shape for the vertical line\n",
    "fig.add_shape(\n",
    "    type=\"line\",\n",
    "    x0=black_friday_date, x1=black_friday_date,\n",
    "    y0=0, y1=1,  # Relative to the y-axis (scaled by domain)\n",
    "    xref=\"x\", yref=\"paper\",  # 'paper' ensures it spans all plots\n",
    "    line=dict(color=\"red\", width=2, dash=\"dash\")\n",
    ")\n",
    "\n",
    "# Add a text annotation\n",
    "fig.add_annotation(\n",
    "    x=black_friday_date,\n",
    "    y=1,  # Place it at the top of the plot area\n",
    "    text=\"Black Friday\",\n",
    "    showarrow=False,\n",
    "    xref=\"x\", yref=\"paper\",\n",
    "    font=dict(size=12, color=\"red\"),\n",
    "    align=\"center\"\n",
    ")\n",
    "\n",
    "# Update layout for better appearance\n",
    "fig.update_layout(\n",
    "    height=900,  # Adjust height\n",
    "    title_text=\"Metrics Over Time - Germany\",\n",
    "    showlegend=False,  # Hide legend for clarity\n",
    ")\n",
    "\n",
    "# Update individual axes titles\n",
    "fig.update_yaxes(title_text=\"App Installs\", row=1, col=1)\n",
    "fig.update_yaxes(title_text=\"CPI (Euro)\", row=2, col=1)\n",
    "fig.update_yaxes(title_text=\"Install to Conversion Rate (%)\", row=3, col=1)\n",
    "fig.update_yaxes(title_text=\"Profit (Euro)\", row=4, col=1)\n",
    "fig.update_xaxes(title_text=\"Date\", row=4, col=1)\n",
    "\n",
    "# Show the plot\n",
    "fig.show()\n"
   ]
  },
  {
   "cell_type": "code",
   "execution_count": 107,
   "id": "d137d9ac",
   "metadata": {},
   "outputs": [
    {
     "data": {
      "text/html": [
       "<style type=\"text/css\">\n",
       "</style>\n",
       "<table id=\"T_93841\">\n",
       "  <thead>\n",
       "    <tr>\n",
       "      <th id=\"T_93841_level0_col0\" class=\"col_heading level0 col0\" >country</th>\n",
       "      <th id=\"T_93841_level0_col1\" class=\"col_heading level0 col1\" >date</th>\n",
       "      <th id=\"T_93841_level0_col2\" class=\"col_heading level0 col2\" >app_installs</th>\n",
       "      <th id=\"T_93841_level0_col3\" class=\"col_heading level0 col3\" >cpi</th>\n",
       "      <th id=\"T_93841_level0_col4\" class=\"col_heading level0 col4\" >install_to_conversion_rate</th>\n",
       "      <th id=\"T_93841_level0_col5\" class=\"col_heading level0 col5\" >profit</th>\n",
       "    </tr>\n",
       "  </thead>\n",
       "  <tbody>\n",
       "    <tr>\n",
       "      <td id=\"T_93841_row0_col0\" class=\"data row0 col0\" >DE</td>\n",
       "      <td id=\"T_93841_row0_col1\" class=\"data row0 col1\" >2023-11-01 00:00:00</td>\n",
       "      <td id=\"T_93841_row0_col2\" class=\"data row0 col2\" >987</td>\n",
       "      <td id=\"T_93841_row0_col3\" class=\"data row0 col3\" >1.440000</td>\n",
       "      <td id=\"T_93841_row0_col4\" class=\"data row0 col4\" >12.060000</td>\n",
       "      <td id=\"T_93841_row0_col5\" class=\"data row0 col5\" >2367.540000</td>\n",
       "    </tr>\n",
       "    <tr>\n",
       "      <td id=\"T_93841_row1_col0\" class=\"data row1 col0\" >DE</td>\n",
       "      <td id=\"T_93841_row1_col1\" class=\"data row1 col1\" >2023-11-02 00:00:00</td>\n",
       "      <td id=\"T_93841_row1_col2\" class=\"data row1 col2\" >744</td>\n",
       "      <td id=\"T_93841_row1_col3\" class=\"data row1 col3\" >1.760000</td>\n",
       "      <td id=\"T_93841_row1_col4\" class=\"data row1 col4\" >12.100000</td>\n",
       "      <td id=\"T_93841_row1_col5\" class=\"data row1 col5\" >1634.910000</td>\n",
       "    </tr>\n",
       "    <tr>\n",
       "      <td id=\"T_93841_row2_col0\" class=\"data row2 col0\" >DE</td>\n",
       "      <td id=\"T_93841_row2_col1\" class=\"data row2 col1\" >2023-11-03 00:00:00</td>\n",
       "      <td id=\"T_93841_row2_col2\" class=\"data row2 col2\" >707</td>\n",
       "      <td id=\"T_93841_row2_col3\" class=\"data row2 col3\" >1.820000</td>\n",
       "      <td id=\"T_93841_row2_col4\" class=\"data row2 col4\" >12.020000</td>\n",
       "      <td id=\"T_93841_row2_col5\" class=\"data row2 col5\" >1418.330000</td>\n",
       "    </tr>\n",
       "    <tr>\n",
       "      <td id=\"T_93841_row3_col0\" class=\"data row3 col0\" >DE</td>\n",
       "      <td id=\"T_93841_row3_col1\" class=\"data row3 col1\" >2023-11-04 00:00:00</td>\n",
       "      <td id=\"T_93841_row3_col2\" class=\"data row3 col2\" >690</td>\n",
       "      <td id=\"T_93841_row3_col3\" class=\"data row3 col3\" >1.920000</td>\n",
       "      <td id=\"T_93841_row3_col4\" class=\"data row3 col4\" >11.450000</td>\n",
       "      <td id=\"T_93841_row3_col5\" class=\"data row3 col5\" >1322.500000</td>\n",
       "    </tr>\n",
       "    <tr>\n",
       "      <td id=\"T_93841_row4_col0\" class=\"data row4 col0\" >DE</td>\n",
       "      <td id=\"T_93841_row4_col1\" class=\"data row4 col1\" >2023-11-05 00:00:00</td>\n",
       "      <td id=\"T_93841_row4_col2\" class=\"data row4 col2\" >738</td>\n",
       "      <td id=\"T_93841_row4_col3\" class=\"data row4 col3\" >1.890000</td>\n",
       "      <td id=\"T_93841_row4_col4\" class=\"data row4 col4\" >13.550000</td>\n",
       "      <td id=\"T_93841_row4_col5\" class=\"data row4 col5\" >1744.560000</td>\n",
       "    </tr>\n",
       "    <tr>\n",
       "      <td id=\"T_93841_row5_col0\" class=\"data row5 col0\" >DE</td>\n",
       "      <td id=\"T_93841_row5_col1\" class=\"data row5 col1\" >2023-11-06 00:00:00</td>\n",
       "      <td id=\"T_93841_row5_col2\" class=\"data row5 col2\" >487</td>\n",
       "      <td id=\"T_93841_row5_col3\" class=\"data row5 col3\" >1.970000</td>\n",
       "      <td id=\"T_93841_row5_col4\" class=\"data row5 col4\" >13.550000</td>\n",
       "      <td id=\"T_93841_row5_col5\" class=\"data row5 col5\" >1347.990000</td>\n",
       "    </tr>\n",
       "    <tr>\n",
       "      <td id=\"T_93841_row6_col0\" class=\"data row6 col0\" >DE</td>\n",
       "      <td id=\"T_93841_row6_col1\" class=\"data row6 col1\" >2023-11-07 00:00:00</td>\n",
       "      <td id=\"T_93841_row6_col2\" class=\"data row6 col2\" >621</td>\n",
       "      <td id=\"T_93841_row6_col3\" class=\"data row6 col3\" >1.530000</td>\n",
       "      <td id=\"T_93841_row6_col4\" class=\"data row6 col4\" >13.690000</td>\n",
       "      <td id=\"T_93841_row6_col5\" class=\"data row6 col5\" >1871.490000</td>\n",
       "    </tr>\n",
       "    <tr>\n",
       "      <td id=\"T_93841_row7_col0\" class=\"data row7 col0\" >DE</td>\n",
       "      <td id=\"T_93841_row7_col1\" class=\"data row7 col1\" >2023-11-08 00:00:00</td>\n",
       "      <td id=\"T_93841_row7_col2\" class=\"data row7 col2\" >597</td>\n",
       "      <td id=\"T_93841_row7_col3\" class=\"data row7 col3\" >1.640000</td>\n",
       "      <td id=\"T_93841_row7_col4\" class=\"data row7 col4\" >14.570000</td>\n",
       "      <td id=\"T_93841_row7_col5\" class=\"data row7 col5\" >1628.880000</td>\n",
       "    </tr>\n",
       "    <tr>\n",
       "      <td id=\"T_93841_row8_col0\" class=\"data row8 col0\" >DE</td>\n",
       "      <td id=\"T_93841_row8_col1\" class=\"data row8 col1\" >2023-11-09 00:00:00</td>\n",
       "      <td id=\"T_93841_row8_col2\" class=\"data row8 col2\" >544</td>\n",
       "      <td id=\"T_93841_row8_col3\" class=\"data row8 col3\" >1.470000</td>\n",
       "      <td id=\"T_93841_row8_col4\" class=\"data row8 col4\" >13.050000</td>\n",
       "      <td id=\"T_93841_row8_col5\" class=\"data row8 col5\" >1540.350000</td>\n",
       "    </tr>\n",
       "    <tr>\n",
       "      <td id=\"T_93841_row9_col0\" class=\"data row9 col0\" >DE</td>\n",
       "      <td id=\"T_93841_row9_col1\" class=\"data row9 col1\" >2023-11-10 00:00:00</td>\n",
       "      <td id=\"T_93841_row9_col2\" class=\"data row9 col2\" >507</td>\n",
       "      <td id=\"T_93841_row9_col3\" class=\"data row9 col3\" >1.530000</td>\n",
       "      <td id=\"T_93841_row9_col4\" class=\"data row9 col4\" >13.020000</td>\n",
       "      <td id=\"T_93841_row9_col5\" class=\"data row9 col5\" >1267.020000</td>\n",
       "    </tr>\n",
       "    <tr>\n",
       "      <td id=\"T_93841_row10_col0\" class=\"data row10 col0\" >DE</td>\n",
       "      <td id=\"T_93841_row10_col1\" class=\"data row10 col1\" >2023-11-11 00:00:00</td>\n",
       "      <td id=\"T_93841_row10_col2\" class=\"data row10 col2\" >578</td>\n",
       "      <td id=\"T_93841_row10_col3\" class=\"data row10 col3\" >1.540000</td>\n",
       "      <td id=\"T_93841_row10_col4\" class=\"data row10 col4\" >16.260000</td>\n",
       "      <td id=\"T_93841_row10_col5\" class=\"data row10 col5\" >1209.010000</td>\n",
       "    </tr>\n",
       "    <tr>\n",
       "      <td id=\"T_93841_row11_col0\" class=\"data row11 col0\" >DE</td>\n",
       "      <td id=\"T_93841_row11_col1\" class=\"data row11 col1\" >2023-11-12 00:00:00</td>\n",
       "      <td id=\"T_93841_row11_col2\" class=\"data row11 col2\" >691</td>\n",
       "      <td id=\"T_93841_row11_col3\" class=\"data row11 col3\" >1.580000</td>\n",
       "      <td id=\"T_93841_row11_col4\" class=\"data row11 col4\" >12.590000</td>\n",
       "      <td id=\"T_93841_row11_col5\" class=\"data row11 col5\" >1719.040000</td>\n",
       "    </tr>\n",
       "    <tr>\n",
       "      <td id=\"T_93841_row12_col0\" class=\"data row12 col0\" >DE</td>\n",
       "      <td id=\"T_93841_row12_col1\" class=\"data row12 col1\" >2023-11-13 00:00:00</td>\n",
       "      <td id=\"T_93841_row12_col2\" class=\"data row12 col2\" >707</td>\n",
       "      <td id=\"T_93841_row12_col3\" class=\"data row12 col3\" >1.430000</td>\n",
       "      <td id=\"T_93841_row12_col4\" class=\"data row12 col4\" >14.710000</td>\n",
       "      <td id=\"T_93841_row12_col5\" class=\"data row12 col5\" >2395.300000</td>\n",
       "    </tr>\n",
       "    <tr>\n",
       "      <td id=\"T_93841_row13_col0\" class=\"data row13 col0\" >DE</td>\n",
       "      <td id=\"T_93841_row13_col1\" class=\"data row13 col1\" >2023-11-14 00:00:00</td>\n",
       "      <td id=\"T_93841_row13_col2\" class=\"data row13 col2\" >715</td>\n",
       "      <td id=\"T_93841_row13_col3\" class=\"data row13 col3\" >1.420000</td>\n",
       "      <td id=\"T_93841_row13_col4\" class=\"data row13 col4\" >11.890000</td>\n",
       "      <td id=\"T_93841_row13_col5\" class=\"data row13 col5\" >1531.970000</td>\n",
       "    </tr>\n",
       "    <tr>\n",
       "      <td id=\"T_93841_row14_col0\" class=\"data row14 col0\" >DE</td>\n",
       "      <td id=\"T_93841_row14_col1\" class=\"data row14 col1\" >2023-11-15 00:00:00</td>\n",
       "      <td id=\"T_93841_row14_col2\" class=\"data row14 col2\" >842</td>\n",
       "      <td id=\"T_93841_row14_col3\" class=\"data row14 col3\" >1.340000</td>\n",
       "      <td id=\"T_93841_row14_col4\" class=\"data row14 col4\" >11.520000</td>\n",
       "      <td id=\"T_93841_row14_col5\" class=\"data row14 col5\" >1710.630000</td>\n",
       "    </tr>\n",
       "    <tr>\n",
       "      <td id=\"T_93841_row15_col0\" class=\"data row15 col0\" >DE</td>\n",
       "      <td id=\"T_93841_row15_col1\" class=\"data row15 col1\" >2023-11-16 00:00:00</td>\n",
       "      <td id=\"T_93841_row15_col2\" class=\"data row15 col2\" >651</td>\n",
       "      <td id=\"T_93841_row15_col3\" class=\"data row15 col3\" >1.400000</td>\n",
       "      <td id=\"T_93841_row15_col4\" class=\"data row15 col4\" >14.290000</td>\n",
       "      <td id=\"T_93841_row15_col5\" class=\"data row15 col5\" >1731.150000</td>\n",
       "    </tr>\n",
       "    <tr>\n",
       "      <td id=\"T_93841_row16_col0\" class=\"data row16 col0\" >DE</td>\n",
       "      <td id=\"T_93841_row16_col1\" class=\"data row16 col1\" >2023-11-17 00:00:00</td>\n",
       "      <td id=\"T_93841_row16_col2\" class=\"data row16 col2\" >654</td>\n",
       "      <td id=\"T_93841_row16_col3\" class=\"data row16 col3\" >1.420000</td>\n",
       "      <td id=\"T_93841_row16_col4\" class=\"data row16 col4\" >14.220000</td>\n",
       "      <td id=\"T_93841_row16_col5\" class=\"data row16 col5\" >1575.140000</td>\n",
       "    </tr>\n",
       "    <tr>\n",
       "      <td id=\"T_93841_row17_col0\" class=\"data row17 col0\" >DE</td>\n",
       "      <td id=\"T_93841_row17_col1\" class=\"data row17 col1\" >2023-11-18 00:00:00</td>\n",
       "      <td id=\"T_93841_row17_col2\" class=\"data row17 col2\" >547</td>\n",
       "      <td id=\"T_93841_row17_col3\" class=\"data row17 col3\" >1.520000</td>\n",
       "      <td id=\"T_93841_row17_col4\" class=\"data row17 col4\" >9.690000</td>\n",
       "      <td id=\"T_93841_row17_col5\" class=\"data row17 col5\" >246.380000</td>\n",
       "    </tr>\n",
       "    <tr>\n",
       "      <td id=\"T_93841_row18_col0\" class=\"data row18 col0\" >DE</td>\n",
       "      <td id=\"T_93841_row18_col1\" class=\"data row18 col1\" >2023-11-19 00:00:00</td>\n",
       "      <td id=\"T_93841_row18_col2\" class=\"data row18 col2\" >674</td>\n",
       "      <td id=\"T_93841_row18_col3\" class=\"data row18 col3\" >1.310000</td>\n",
       "      <td id=\"T_93841_row18_col4\" class=\"data row18 col4\" >10.980000</td>\n",
       "      <td id=\"T_93841_row18_col5\" class=\"data row18 col5\" >1674.220000</td>\n",
       "    </tr>\n",
       "    <tr>\n",
       "      <td id=\"T_93841_row19_col0\" class=\"data row19 col0\" >DE</td>\n",
       "      <td id=\"T_93841_row19_col1\" class=\"data row19 col1\" >2023-11-20 00:00:00</td>\n",
       "      <td id=\"T_93841_row19_col2\" class=\"data row19 col2\" >707</td>\n",
       "      <td id=\"T_93841_row19_col3\" class=\"data row19 col3\" >1.600000</td>\n",
       "      <td id=\"T_93841_row19_col4\" class=\"data row19 col4\" >15.280000</td>\n",
       "      <td id=\"T_93841_row19_col5\" class=\"data row19 col5\" >2193.500000</td>\n",
       "    </tr>\n",
       "    <tr>\n",
       "      <td id=\"T_93841_row20_col0\" class=\"data row20 col0\" >DE</td>\n",
       "      <td id=\"T_93841_row20_col1\" class=\"data row20 col1\" >2023-11-21 00:00:00</td>\n",
       "      <td id=\"T_93841_row20_col2\" class=\"data row20 col2\" >854</td>\n",
       "      <td id=\"T_93841_row20_col3\" class=\"data row20 col3\" >1.780000</td>\n",
       "      <td id=\"T_93841_row20_col4\" class=\"data row20 col4\" >13.230000</td>\n",
       "      <td id=\"T_93841_row20_col5\" class=\"data row20 col5\" >1700.450000</td>\n",
       "    </tr>\n",
       "    <tr>\n",
       "      <td id=\"T_93841_row21_col0\" class=\"data row21 col0\" >DE</td>\n",
       "      <td id=\"T_93841_row21_col1\" class=\"data row21 col1\" >2023-11-22 00:00:00</td>\n",
       "      <td id=\"T_93841_row21_col2\" class=\"data row21 col2\" >1023</td>\n",
       "      <td id=\"T_93841_row21_col3\" class=\"data row21 col3\" >1.680000</td>\n",
       "      <td id=\"T_93841_row21_col4\" class=\"data row21 col4\" >13.100000</td>\n",
       "      <td id=\"T_93841_row21_col5\" class=\"data row21 col5\" >2258.750000</td>\n",
       "    </tr>\n",
       "    <tr>\n",
       "      <td id=\"T_93841_row22_col0\" class=\"data row22 col0\" >DE</td>\n",
       "      <td id=\"T_93841_row22_col1\" class=\"data row22 col1\" >2023-11-23 00:00:00</td>\n",
       "      <td id=\"T_93841_row22_col2\" class=\"data row22 col2\" >974</td>\n",
       "      <td id=\"T_93841_row22_col3\" class=\"data row22 col3\" >1.560000</td>\n",
       "      <td id=\"T_93841_row22_col4\" class=\"data row22 col4\" >11.500000</td>\n",
       "      <td id=\"T_93841_row22_col5\" class=\"data row22 col5\" >1843.170000</td>\n",
       "    </tr>\n",
       "    <tr>\n",
       "      <td id=\"T_93841_row23_col0\" class=\"data row23 col0\" >DE</td>\n",
       "      <td id=\"T_93841_row23_col1\" class=\"data row23 col1\" >2023-11-24 00:00:00</td>\n",
       "      <td id=\"T_93841_row23_col2\" class=\"data row23 col2\" >830</td>\n",
       "      <td id=\"T_93841_row23_col3\" class=\"data row23 col3\" >1.600000</td>\n",
       "      <td id=\"T_93841_row23_col4\" class=\"data row23 col4\" >15.180000</td>\n",
       "      <td id=\"T_93841_row23_col5\" class=\"data row23 col5\" >1911.180000</td>\n",
       "    </tr>\n",
       "    <tr>\n",
       "      <td id=\"T_93841_row24_col0\" class=\"data row24 col0\" >DE</td>\n",
       "      <td id=\"T_93841_row24_col1\" class=\"data row24 col1\" >2023-11-25 00:00:00</td>\n",
       "      <td id=\"T_93841_row24_col2\" class=\"data row24 col2\" >905</td>\n",
       "      <td id=\"T_93841_row24_col3\" class=\"data row24 col3\" >1.480000</td>\n",
       "      <td id=\"T_93841_row24_col4\" class=\"data row24 col4\" >16.130000</td>\n",
       "      <td id=\"T_93841_row24_col5\" class=\"data row24 col5\" >1948.730000</td>\n",
       "    </tr>\n",
       "    <tr>\n",
       "      <td id=\"T_93841_row25_col0\" class=\"data row25 col0\" >DE</td>\n",
       "      <td id=\"T_93841_row25_col1\" class=\"data row25 col1\" >2023-11-26 00:00:00</td>\n",
       "      <td id=\"T_93841_row25_col2\" class=\"data row25 col2\" >1046</td>\n",
       "      <td id=\"T_93841_row25_col3\" class=\"data row25 col3\" >1.630000</td>\n",
       "      <td id=\"T_93841_row25_col4\" class=\"data row25 col4\" >17.780000</td>\n",
       "      <td id=\"T_93841_row25_col5\" class=\"data row25 col5\" >2425.660000</td>\n",
       "    </tr>\n",
       "    <tr>\n",
       "      <td id=\"T_93841_row26_col0\" class=\"data row26 col0\" >DE</td>\n",
       "      <td id=\"T_93841_row26_col1\" class=\"data row26 col1\" >2023-11-27 00:00:00</td>\n",
       "      <td id=\"T_93841_row26_col2\" class=\"data row26 col2\" >1088</td>\n",
       "      <td id=\"T_93841_row26_col3\" class=\"data row26 col3\" >1.640000</td>\n",
       "      <td id=\"T_93841_row26_col4\" class=\"data row26 col4\" >15.990000</td>\n",
       "      <td id=\"T_93841_row26_col5\" class=\"data row26 col5\" >1998.250000</td>\n",
       "    </tr>\n",
       "    <tr>\n",
       "      <td id=\"T_93841_row27_col0\" class=\"data row27 col0\" >DE</td>\n",
       "      <td id=\"T_93841_row27_col1\" class=\"data row27 col1\" >2023-11-28 00:00:00</td>\n",
       "      <td id=\"T_93841_row27_col2\" class=\"data row27 col2\" >1055</td>\n",
       "      <td id=\"T_93841_row27_col3\" class=\"data row27 col3\" >1.640000</td>\n",
       "      <td id=\"T_93841_row27_col4\" class=\"data row27 col4\" >14.120000</td>\n",
       "      <td id=\"T_93841_row27_col5\" class=\"data row27 col5\" >1802.460000</td>\n",
       "    </tr>\n",
       "    <tr>\n",
       "      <td id=\"T_93841_row28_col0\" class=\"data row28 col0\" >DE</td>\n",
       "      <td id=\"T_93841_row28_col1\" class=\"data row28 col1\" >2023-11-29 00:00:00</td>\n",
       "      <td id=\"T_93841_row28_col2\" class=\"data row28 col2\" >971</td>\n",
       "      <td id=\"T_93841_row28_col3\" class=\"data row28 col3\" >1.550000</td>\n",
       "      <td id=\"T_93841_row28_col4\" class=\"data row28 col4\" >15.240000</td>\n",
       "      <td id=\"T_93841_row28_col5\" class=\"data row28 col5\" >1779.830000</td>\n",
       "    </tr>\n",
       "    <tr>\n",
       "      <td id=\"T_93841_row29_col0\" class=\"data row29 col0\" >DE</td>\n",
       "      <td id=\"T_93841_row29_col1\" class=\"data row29 col1\" >2023-11-30 00:00:00</td>\n",
       "      <td id=\"T_93841_row29_col2\" class=\"data row29 col2\" >838</td>\n",
       "      <td id=\"T_93841_row29_col3\" class=\"data row29 col3\" >1.590000</td>\n",
       "      <td id=\"T_93841_row29_col4\" class=\"data row29 col4\" >15.040000</td>\n",
       "      <td id=\"T_93841_row29_col5\" class=\"data row29 col5\" >1655.960000</td>\n",
       "    </tr>\n",
       "  </tbody>\n",
       "</table>\n"
      ],
      "text/plain": [
       "<pandas.io.formats.style.Styler at 0x12df48990>"
      ]
     },
     "execution_count": 107,
     "metadata": {},
     "output_type": "execute_result"
    }
   ],
   "source": [
    "df_filtered_plot[['country','date','app_installs','cpi','install_to_conversion_rate','profit']].style.hide(axis=\"index\")"
   ]
  },
  {
   "cell_type": "markdown",
   "id": "ca5652e6",
   "metadata": {},
   "source": [
    "### United States"
   ]
  },
  {
   "cell_type": "code",
   "execution_count": 97,
   "id": "832bdbad",
   "metadata": {},
   "outputs": [
    {
     "data": {
      "application/vnd.plotly.v1+json": {
       "config": {
        "plotlyServerURL": "https://plot.ly"
       },
       "data": [
        {
         "mode": "lines",
         "name": "App Installs",
         "type": "scatter",
         "x": [
          "2023-11-01T00:00:00",
          "2023-11-02T00:00:00",
          "2023-11-03T00:00:00",
          "2023-11-04T00:00:00",
          "2023-11-05T00:00:00",
          "2023-11-06T00:00:00",
          "2023-11-07T00:00:00",
          "2023-11-08T00:00:00",
          "2023-11-09T00:00:00",
          "2023-11-10T00:00:00",
          "2023-11-11T00:00:00",
          "2023-11-12T00:00:00",
          "2023-11-13T00:00:00",
          "2023-11-14T00:00:00",
          "2023-11-15T00:00:00",
          "2023-11-16T00:00:00",
          "2023-11-17T00:00:00",
          "2023-11-18T00:00:00",
          "2023-11-19T00:00:00",
          "2023-11-20T00:00:00",
          "2023-11-21T00:00:00",
          "2023-11-22T00:00:00",
          "2023-11-23T00:00:00",
          "2023-11-24T00:00:00",
          "2023-11-25T00:00:00",
          "2023-11-26T00:00:00",
          "2023-11-27T00:00:00",
          "2023-11-28T00:00:00",
          "2023-11-29T00:00:00",
          "2023-11-30T00:00:00"
         ],
         "xaxis": "x",
         "y": [
          139,
          113,
          110,
          104,
          134,
          174,
          160,
          163,
          138,
          110,
          126,
          141,
          157,
          136,
          137,
          137,
          87,
          101,
          112,
          130,
          96,
          105,
          66,
          92,
          95,
          103,
          115,
          103,
          90,
          116
         ],
         "yaxis": "y"
        },
        {
         "mode": "lines",
         "name": "CPI",
         "type": "scatter",
         "x": [
          "2023-11-01T00:00:00",
          "2023-11-02T00:00:00",
          "2023-11-03T00:00:00",
          "2023-11-04T00:00:00",
          "2023-11-05T00:00:00",
          "2023-11-06T00:00:00",
          "2023-11-07T00:00:00",
          "2023-11-08T00:00:00",
          "2023-11-09T00:00:00",
          "2023-11-10T00:00:00",
          "2023-11-11T00:00:00",
          "2023-11-12T00:00:00",
          "2023-11-13T00:00:00",
          "2023-11-14T00:00:00",
          "2023-11-15T00:00:00",
          "2023-11-16T00:00:00",
          "2023-11-17T00:00:00",
          "2023-11-18T00:00:00",
          "2023-11-19T00:00:00",
          "2023-11-20T00:00:00",
          "2023-11-21T00:00:00",
          "2023-11-22T00:00:00",
          "2023-11-23T00:00:00",
          "2023-11-24T00:00:00",
          "2023-11-25T00:00:00",
          "2023-11-26T00:00:00",
          "2023-11-27T00:00:00",
          "2023-11-28T00:00:00",
          "2023-11-29T00:00:00",
          "2023-11-30T00:00:00"
         ],
         "xaxis": "x2",
         "y": [
          3.22,
          4.47,
          4.42,
          4.21,
          3.78,
          3.59,
          3.54,
          3.37,
          4,
          5.12,
          4.43,
          3.71,
          4.16,
          4.24,
          4.05,
          3.8,
          5.25,
          4.32,
          3.82,
          4,
          4.72,
          4.38,
          6,
          4.99,
          4.79,
          4.5,
          4.07,
          4.76,
          4.77,
          3.99
         ],
         "yaxis": "y2"
        },
        {
         "mode": "lines",
         "name": "Install to Conversion Rate",
         "type": "scatter",
         "x": [
          "2023-11-01T00:00:00",
          "2023-11-02T00:00:00",
          "2023-11-03T00:00:00",
          "2023-11-04T00:00:00",
          "2023-11-05T00:00:00",
          "2023-11-06T00:00:00",
          "2023-11-07T00:00:00",
          "2023-11-08T00:00:00",
          "2023-11-09T00:00:00",
          "2023-11-10T00:00:00",
          "2023-11-11T00:00:00",
          "2023-11-12T00:00:00",
          "2023-11-13T00:00:00",
          "2023-11-14T00:00:00",
          "2023-11-15T00:00:00",
          "2023-11-16T00:00:00",
          "2023-11-17T00:00:00",
          "2023-11-18T00:00:00",
          "2023-11-19T00:00:00",
          "2023-11-20T00:00:00",
          "2023-11-21T00:00:00",
          "2023-11-22T00:00:00",
          "2023-11-23T00:00:00",
          "2023-11-24T00:00:00",
          "2023-11-25T00:00:00",
          "2023-11-26T00:00:00",
          "2023-11-27T00:00:00",
          "2023-11-28T00:00:00",
          "2023-11-29T00:00:00",
          "2023-11-30T00:00:00"
         ],
         "xaxis": "x3",
         "y": [
          8.63,
          12.39,
          10,
          8.65,
          15.67,
          15.52,
          9.38,
          8.59,
          10.87,
          7.27,
          11.11,
          4.96,
          12.1,
          11.03,
          11.68,
          10.22,
          10.34,
          7.92,
          9.82,
          13.85,
          9.38,
          4.76,
          6.06,
          11.96,
          12.63,
          14.56,
          8.7,
          9.71,
          10,
          14.66
         ],
         "yaxis": "y3"
        },
        {
         "name": "Profit",
         "type": "bar",
         "x": [
          "2023-11-01T00:00:00",
          "2023-11-02T00:00:00",
          "2023-11-03T00:00:00",
          "2023-11-04T00:00:00",
          "2023-11-05T00:00:00",
          "2023-11-06T00:00:00",
          "2023-11-07T00:00:00",
          "2023-11-08T00:00:00",
          "2023-11-09T00:00:00",
          "2023-11-10T00:00:00",
          "2023-11-11T00:00:00",
          "2023-11-12T00:00:00",
          "2023-11-13T00:00:00",
          "2023-11-14T00:00:00",
          "2023-11-15T00:00:00",
          "2023-11-16T00:00:00",
          "2023-11-17T00:00:00",
          "2023-11-18T00:00:00",
          "2023-11-19T00:00:00",
          "2023-11-20T00:00:00",
          "2023-11-21T00:00:00",
          "2023-11-22T00:00:00",
          "2023-11-23T00:00:00",
          "2023-11-24T00:00:00",
          "2023-11-25T00:00:00",
          "2023-11-26T00:00:00",
          "2023-11-27T00:00:00",
          "2023-11-28T00:00:00",
          "2023-11-29T00:00:00",
          "2023-11-30T00:00:00"
         ],
         "xaxis": "x4",
         "y": [
          -37.41,
          -165.07,
          -167.11,
          -204.8,
          70.97,
          133.54,
          -152.17,
          -217.58,
          -201.94,
          -413.33,
          -286.81,
          -345.95,
          -204.41,
          -192.94,
          -105.58,
          -188.63,
          -272.87,
          -207.53,
          -171.49,
          -81.39,
          -243.2,
          -349.54,
          -279.11,
          -214.69,
          -190.16,
          -182.55,
          -239.22,
          -271.73,
          -166.12,
          -126.52
         ],
         "yaxis": "y4"
        }
       ],
       "layout": {
        "annotations": [
         {
          "align": "center",
          "font": {
           "color": "red",
           "size": 12
          },
          "showarrow": false,
          "text": "Black Friday",
          "x": "2023-11-24T00:00:00",
          "xref": "x",
          "y": 1,
          "yref": "paper"
         }
        ],
        "height": 900,
        "shapes": [
         {
          "line": {
           "color": "red",
           "dash": "dash",
           "width": 2
          },
          "type": "line",
          "x0": "2023-11-24T00:00:00",
          "x1": "2023-11-24T00:00:00",
          "xref": "x",
          "y0": 0,
          "y1": 1,
          "yref": "paper"
         }
        ],
        "showlegend": false,
        "template": {
         "data": {
          "bar": [
           {
            "error_x": {
             "color": "#2a3f5f"
            },
            "error_y": {
             "color": "#2a3f5f"
            },
            "marker": {
             "line": {
              "color": "#E5ECF6",
              "width": 0.5
             },
             "pattern": {
              "fillmode": "overlay",
              "size": 10,
              "solidity": 0.2
             }
            },
            "type": "bar"
           }
          ],
          "barpolar": [
           {
            "marker": {
             "line": {
              "color": "#E5ECF6",
              "width": 0.5
             },
             "pattern": {
              "fillmode": "overlay",
              "size": 10,
              "solidity": 0.2
             }
            },
            "type": "barpolar"
           }
          ],
          "carpet": [
           {
            "aaxis": {
             "endlinecolor": "#2a3f5f",
             "gridcolor": "white",
             "linecolor": "white",
             "minorgridcolor": "white",
             "startlinecolor": "#2a3f5f"
            },
            "baxis": {
             "endlinecolor": "#2a3f5f",
             "gridcolor": "white",
             "linecolor": "white",
             "minorgridcolor": "white",
             "startlinecolor": "#2a3f5f"
            },
            "type": "carpet"
           }
          ],
          "choropleth": [
           {
            "colorbar": {
             "outlinewidth": 0,
             "ticks": ""
            },
            "type": "choropleth"
           }
          ],
          "contour": [
           {
            "colorbar": {
             "outlinewidth": 0,
             "ticks": ""
            },
            "colorscale": [
             [
              0,
              "#0d0887"
             ],
             [
              0.1111111111111111,
              "#46039f"
             ],
             [
              0.2222222222222222,
              "#7201a8"
             ],
             [
              0.3333333333333333,
              "#9c179e"
             ],
             [
              0.4444444444444444,
              "#bd3786"
             ],
             [
              0.5555555555555556,
              "#d8576b"
             ],
             [
              0.6666666666666666,
              "#ed7953"
             ],
             [
              0.7777777777777778,
              "#fb9f3a"
             ],
             [
              0.8888888888888888,
              "#fdca26"
             ],
             [
              1,
              "#f0f921"
             ]
            ],
            "type": "contour"
           }
          ],
          "contourcarpet": [
           {
            "colorbar": {
             "outlinewidth": 0,
             "ticks": ""
            },
            "type": "contourcarpet"
           }
          ],
          "heatmap": [
           {
            "colorbar": {
             "outlinewidth": 0,
             "ticks": ""
            },
            "colorscale": [
             [
              0,
              "#0d0887"
             ],
             [
              0.1111111111111111,
              "#46039f"
             ],
             [
              0.2222222222222222,
              "#7201a8"
             ],
             [
              0.3333333333333333,
              "#9c179e"
             ],
             [
              0.4444444444444444,
              "#bd3786"
             ],
             [
              0.5555555555555556,
              "#d8576b"
             ],
             [
              0.6666666666666666,
              "#ed7953"
             ],
             [
              0.7777777777777778,
              "#fb9f3a"
             ],
             [
              0.8888888888888888,
              "#fdca26"
             ],
             [
              1,
              "#f0f921"
             ]
            ],
            "type": "heatmap"
           }
          ],
          "heatmapgl": [
           {
            "colorbar": {
             "outlinewidth": 0,
             "ticks": ""
            },
            "colorscale": [
             [
              0,
              "#0d0887"
             ],
             [
              0.1111111111111111,
              "#46039f"
             ],
             [
              0.2222222222222222,
              "#7201a8"
             ],
             [
              0.3333333333333333,
              "#9c179e"
             ],
             [
              0.4444444444444444,
              "#bd3786"
             ],
             [
              0.5555555555555556,
              "#d8576b"
             ],
             [
              0.6666666666666666,
              "#ed7953"
             ],
             [
              0.7777777777777778,
              "#fb9f3a"
             ],
             [
              0.8888888888888888,
              "#fdca26"
             ],
             [
              1,
              "#f0f921"
             ]
            ],
            "type": "heatmapgl"
           }
          ],
          "histogram": [
           {
            "marker": {
             "pattern": {
              "fillmode": "overlay",
              "size": 10,
              "solidity": 0.2
             }
            },
            "type": "histogram"
           }
          ],
          "histogram2d": [
           {
            "colorbar": {
             "outlinewidth": 0,
             "ticks": ""
            },
            "colorscale": [
             [
              0,
              "#0d0887"
             ],
             [
              0.1111111111111111,
              "#46039f"
             ],
             [
              0.2222222222222222,
              "#7201a8"
             ],
             [
              0.3333333333333333,
              "#9c179e"
             ],
             [
              0.4444444444444444,
              "#bd3786"
             ],
             [
              0.5555555555555556,
              "#d8576b"
             ],
             [
              0.6666666666666666,
              "#ed7953"
             ],
             [
              0.7777777777777778,
              "#fb9f3a"
             ],
             [
              0.8888888888888888,
              "#fdca26"
             ],
             [
              1,
              "#f0f921"
             ]
            ],
            "type": "histogram2d"
           }
          ],
          "histogram2dcontour": [
           {
            "colorbar": {
             "outlinewidth": 0,
             "ticks": ""
            },
            "colorscale": [
             [
              0,
              "#0d0887"
             ],
             [
              0.1111111111111111,
              "#46039f"
             ],
             [
              0.2222222222222222,
              "#7201a8"
             ],
             [
              0.3333333333333333,
              "#9c179e"
             ],
             [
              0.4444444444444444,
              "#bd3786"
             ],
             [
              0.5555555555555556,
              "#d8576b"
             ],
             [
              0.6666666666666666,
              "#ed7953"
             ],
             [
              0.7777777777777778,
              "#fb9f3a"
             ],
             [
              0.8888888888888888,
              "#fdca26"
             ],
             [
              1,
              "#f0f921"
             ]
            ],
            "type": "histogram2dcontour"
           }
          ],
          "mesh3d": [
           {
            "colorbar": {
             "outlinewidth": 0,
             "ticks": ""
            },
            "type": "mesh3d"
           }
          ],
          "parcoords": [
           {
            "line": {
             "colorbar": {
              "outlinewidth": 0,
              "ticks": ""
             }
            },
            "type": "parcoords"
           }
          ],
          "pie": [
           {
            "automargin": true,
            "type": "pie"
           }
          ],
          "scatter": [
           {
            "fillpattern": {
             "fillmode": "overlay",
             "size": 10,
             "solidity": 0.2
            },
            "type": "scatter"
           }
          ],
          "scatter3d": [
           {
            "line": {
             "colorbar": {
              "outlinewidth": 0,
              "ticks": ""
             }
            },
            "marker": {
             "colorbar": {
              "outlinewidth": 0,
              "ticks": ""
             }
            },
            "type": "scatter3d"
           }
          ],
          "scattercarpet": [
           {
            "marker": {
             "colorbar": {
              "outlinewidth": 0,
              "ticks": ""
             }
            },
            "type": "scattercarpet"
           }
          ],
          "scattergeo": [
           {
            "marker": {
             "colorbar": {
              "outlinewidth": 0,
              "ticks": ""
             }
            },
            "type": "scattergeo"
           }
          ],
          "scattergl": [
           {
            "marker": {
             "colorbar": {
              "outlinewidth": 0,
              "ticks": ""
             }
            },
            "type": "scattergl"
           }
          ],
          "scattermapbox": [
           {
            "marker": {
             "colorbar": {
              "outlinewidth": 0,
              "ticks": ""
             }
            },
            "type": "scattermapbox"
           }
          ],
          "scatterpolar": [
           {
            "marker": {
             "colorbar": {
              "outlinewidth": 0,
              "ticks": ""
             }
            },
            "type": "scatterpolar"
           }
          ],
          "scatterpolargl": [
           {
            "marker": {
             "colorbar": {
              "outlinewidth": 0,
              "ticks": ""
             }
            },
            "type": "scatterpolargl"
           }
          ],
          "scatterternary": [
           {
            "marker": {
             "colorbar": {
              "outlinewidth": 0,
              "ticks": ""
             }
            },
            "type": "scatterternary"
           }
          ],
          "surface": [
           {
            "colorbar": {
             "outlinewidth": 0,
             "ticks": ""
            },
            "colorscale": [
             [
              0,
              "#0d0887"
             ],
             [
              0.1111111111111111,
              "#46039f"
             ],
             [
              0.2222222222222222,
              "#7201a8"
             ],
             [
              0.3333333333333333,
              "#9c179e"
             ],
             [
              0.4444444444444444,
              "#bd3786"
             ],
             [
              0.5555555555555556,
              "#d8576b"
             ],
             [
              0.6666666666666666,
              "#ed7953"
             ],
             [
              0.7777777777777778,
              "#fb9f3a"
             ],
             [
              0.8888888888888888,
              "#fdca26"
             ],
             [
              1,
              "#f0f921"
             ]
            ],
            "type": "surface"
           }
          ],
          "table": [
           {
            "cells": {
             "fill": {
              "color": "#EBF0F8"
             },
             "line": {
              "color": "white"
             }
            },
            "header": {
             "fill": {
              "color": "#C8D4E3"
             },
             "line": {
              "color": "white"
             }
            },
            "type": "table"
           }
          ]
         },
         "layout": {
          "annotationdefaults": {
           "arrowcolor": "#2a3f5f",
           "arrowhead": 0,
           "arrowwidth": 1
          },
          "autotypenumbers": "strict",
          "coloraxis": {
           "colorbar": {
            "outlinewidth": 0,
            "ticks": ""
           }
          },
          "colorscale": {
           "diverging": [
            [
             0,
             "#8e0152"
            ],
            [
             0.1,
             "#c51b7d"
            ],
            [
             0.2,
             "#de77ae"
            ],
            [
             0.3,
             "#f1b6da"
            ],
            [
             0.4,
             "#fde0ef"
            ],
            [
             0.5,
             "#f7f7f7"
            ],
            [
             0.6,
             "#e6f5d0"
            ],
            [
             0.7,
             "#b8e186"
            ],
            [
             0.8,
             "#7fbc41"
            ],
            [
             0.9,
             "#4d9221"
            ],
            [
             1,
             "#276419"
            ]
           ],
           "sequential": [
            [
             0,
             "#0d0887"
            ],
            [
             0.1111111111111111,
             "#46039f"
            ],
            [
             0.2222222222222222,
             "#7201a8"
            ],
            [
             0.3333333333333333,
             "#9c179e"
            ],
            [
             0.4444444444444444,
             "#bd3786"
            ],
            [
             0.5555555555555556,
             "#d8576b"
            ],
            [
             0.6666666666666666,
             "#ed7953"
            ],
            [
             0.7777777777777778,
             "#fb9f3a"
            ],
            [
             0.8888888888888888,
             "#fdca26"
            ],
            [
             1,
             "#f0f921"
            ]
           ],
           "sequentialminus": [
            [
             0,
             "#0d0887"
            ],
            [
             0.1111111111111111,
             "#46039f"
            ],
            [
             0.2222222222222222,
             "#7201a8"
            ],
            [
             0.3333333333333333,
             "#9c179e"
            ],
            [
             0.4444444444444444,
             "#bd3786"
            ],
            [
             0.5555555555555556,
             "#d8576b"
            ],
            [
             0.6666666666666666,
             "#ed7953"
            ],
            [
             0.7777777777777778,
             "#fb9f3a"
            ],
            [
             0.8888888888888888,
             "#fdca26"
            ],
            [
             1,
             "#f0f921"
            ]
           ]
          },
          "colorway": [
           "#636efa",
           "#EF553B",
           "#00cc96",
           "#ab63fa",
           "#FFA15A",
           "#19d3f3",
           "#FF6692",
           "#B6E880",
           "#FF97FF",
           "#FECB52"
          ],
          "font": {
           "color": "#2a3f5f"
          },
          "geo": {
           "bgcolor": "white",
           "lakecolor": "white",
           "landcolor": "#E5ECF6",
           "showlakes": true,
           "showland": true,
           "subunitcolor": "white"
          },
          "hoverlabel": {
           "align": "left"
          },
          "hovermode": "closest",
          "mapbox": {
           "style": "light"
          },
          "paper_bgcolor": "white",
          "plot_bgcolor": "#E5ECF6",
          "polar": {
           "angularaxis": {
            "gridcolor": "white",
            "linecolor": "white",
            "ticks": ""
           },
           "bgcolor": "#E5ECF6",
           "radialaxis": {
            "gridcolor": "white",
            "linecolor": "white",
            "ticks": ""
           }
          },
          "scene": {
           "xaxis": {
            "backgroundcolor": "#E5ECF6",
            "gridcolor": "white",
            "gridwidth": 2,
            "linecolor": "white",
            "showbackground": true,
            "ticks": "",
            "zerolinecolor": "white"
           },
           "yaxis": {
            "backgroundcolor": "#E5ECF6",
            "gridcolor": "white",
            "gridwidth": 2,
            "linecolor": "white",
            "showbackground": true,
            "ticks": "",
            "zerolinecolor": "white"
           },
           "zaxis": {
            "backgroundcolor": "#E5ECF6",
            "gridcolor": "white",
            "gridwidth": 2,
            "linecolor": "white",
            "showbackground": true,
            "ticks": "",
            "zerolinecolor": "white"
           }
          },
          "shapedefaults": {
           "line": {
            "color": "#2a3f5f"
           }
          },
          "ternary": {
           "aaxis": {
            "gridcolor": "white",
            "linecolor": "white",
            "ticks": ""
           },
           "baxis": {
            "gridcolor": "white",
            "linecolor": "white",
            "ticks": ""
           },
           "bgcolor": "#E5ECF6",
           "caxis": {
            "gridcolor": "white",
            "linecolor": "white",
            "ticks": ""
           }
          },
          "title": {
           "x": 0.05
          },
          "xaxis": {
           "automargin": true,
           "gridcolor": "white",
           "linecolor": "white",
           "ticks": "",
           "title": {
            "standoff": 15
           },
           "zerolinecolor": "white",
           "zerolinewidth": 2
          },
          "yaxis": {
           "automargin": true,
           "gridcolor": "white",
           "linecolor": "white",
           "ticks": "",
           "title": {
            "standoff": 15
           },
           "zerolinecolor": "white",
           "zerolinewidth": 2
          }
         }
        },
        "title": {
         "text": "Metrics Over Time - United States"
        },
        "xaxis": {
         "anchor": "y",
         "domain": [
          0,
          1
         ],
         "matches": "x4",
         "showticklabels": false
        },
        "xaxis2": {
         "anchor": "y2",
         "domain": [
          0,
          1
         ],
         "matches": "x4",
         "showticklabels": false
        },
        "xaxis3": {
         "anchor": "y3",
         "domain": [
          0,
          1
         ],
         "matches": "x4",
         "showticklabels": false
        },
        "xaxis4": {
         "anchor": "y4",
         "domain": [
          0,
          1
         ],
         "title": {
          "text": "Date"
         }
        },
        "yaxis": {
         "anchor": "x",
         "domain": [
          0.7875,
          1
         ],
         "title": {
          "text": "App Installs"
         }
        },
        "yaxis2": {
         "anchor": "x2",
         "domain": [
          0.525,
          0.7375
         ],
         "range": [
          0,
          null
         ],
         "title": {
          "text": "CPI (Euro)"
         }
        },
        "yaxis3": {
         "anchor": "x3",
         "domain": [
          0.2625,
          0.475
         ],
         "range": [
          0,
          null
         ],
         "title": {
          "text": "Install to Conversion Rate (%)"
         }
        },
        "yaxis4": {
         "anchor": "x4",
         "domain": [
          0,
          0.2125
         ],
         "title": {
          "text": "Profit (Euro)"
         }
        }
       }
      }
     },
     "metadata": {},
     "output_type": "display_data"
    }
   ],
   "source": [
    "# Filter the country\n",
    "df_filtered_plot = df_main_over_time[df_main_over_time.country==\"US\"].copy()\n",
    "\n",
    "# Ensure the 'date' column in the DataFrame is in datetime format\n",
    "df_filtered_plot['date'] = pd.to_datetime(df_filtered_plot['date'])\n",
    "\n",
    "# Create a subplot figure with 4 rows, 1 column\n",
    "fig = make_subplots(\n",
    "    rows=4, cols=1,\n",
    "    shared_xaxes=True,  # Align x-axes\n",
    "    vertical_spacing=0.05  # Adjust spacing between plots\n",
    ")\n",
    "\n",
    "# Add traces for each metric\n",
    "metrics = ['app_installs', 'cpi', 'install_to_conversion_rate', 'profit']\n",
    "titles = [\n",
    "    'App Installs',\n",
    "    'Cost Per Install (CPI)',\n",
    "    'Install to Conversion Rate (%)',\n",
    "    'Profit (Euro)'\n",
    "]\n",
    "\n",
    "# Plot App Installs (Row 1)\n",
    "fig.add_trace(\n",
    "    go.Scatter(x=df_filtered_plot['date'], y=df_filtered_plot['app_installs'], mode='lines', name='App Installs'),\n",
    "    row=1, col=1\n",
    ")\n",
    "\n",
    "# Plot CPI (Row 2) with y-axis starting at 0\n",
    "fig.add_trace(\n",
    "    go.Scatter(x=df_filtered_plot['date'], y=df_filtered_plot['cpi'], mode='lines', name='CPI'),\n",
    "    row=2, col=1\n",
    ")\n",
    "fig.update_yaxes(range=[0, None], row=2, col=1)\n",
    "\n",
    "# Plot Install to Conversion Rate (Row 3) with y-axis starting at 0\n",
    "fig.add_trace(\n",
    "    go.Scatter(x=df_filtered_plot['date'], y=df_filtered_plot['install_to_conversion_rate'], mode='lines', name='Install to Conversion Rate'),\n",
    "    row=3, col=1\n",
    ")\n",
    "fig.update_yaxes(range=[0, None], row=3, col=1)\n",
    "\n",
    "# Plot Profit (Row 4) as a bar chart\n",
    "fig.add_trace(\n",
    "    go.Bar(x=df_filtered_plot['date'], y=df_filtered_plot['profit'], name='Profit'),\n",
    "    row=4, col=1\n",
    ")\n",
    "\n",
    "# Add a vertical line and text annotation for Black Friday\n",
    "black_friday_date = datetime(2023, 11, 24)  # Use a raw datetime object\n",
    "\n",
    "# Add a shape for the vertical line\n",
    "fig.add_shape(\n",
    "    type=\"line\",\n",
    "    x0=black_friday_date, x1=black_friday_date,\n",
    "    y0=0, y1=1,  # Relative to the y-axis (scaled by domain)\n",
    "    xref=\"x\", yref=\"paper\",  # 'paper' ensures it spans all plots\n",
    "    line=dict(color=\"red\", width=2, dash=\"dash\")\n",
    ")\n",
    "\n",
    "# Add a text annotation\n",
    "fig.add_annotation(\n",
    "    x=black_friday_date,\n",
    "    y=1,  # Place it at the top of the plot area\n",
    "    text=\"Black Friday\",\n",
    "    showarrow=False,\n",
    "    xref=\"x\", yref=\"paper\",\n",
    "    font=dict(size=12, color=\"red\"),\n",
    "    align=\"center\"\n",
    ")\n",
    "\n",
    "# Update layout for better appearance\n",
    "fig.update_layout(\n",
    "    height=900,  # Adjust height\n",
    "    title_text=\"Metrics Over Time - United States\",\n",
    "    showlegend=False,  # Hide legend for clarity\n",
    ")\n",
    "\n",
    "# Update individual axes titles\n",
    "fig.update_yaxes(title_text=\"App Installs\", row=1, col=1)\n",
    "fig.update_yaxes(title_text=\"CPI (Euro)\", row=2, col=1)\n",
    "fig.update_yaxes(title_text=\"Install to Conversion Rate (%)\", row=3, col=1)\n",
    "fig.update_yaxes(title_text=\"Profit (Euro)\", row=4, col=1)\n",
    "fig.update_xaxes(title_text=\"Date\", row=4, col=1)\n",
    "\n",
    "# Show the plot\n",
    "fig.show()\n"
   ]
  },
  {
   "cell_type": "code",
   "execution_count": 105,
   "id": "6bf7242a",
   "metadata": {},
   "outputs": [
    {
     "data": {
      "text/html": [
       "<style type=\"text/css\">\n",
       "</style>\n",
       "<table id=\"T_dbbea\">\n",
       "  <thead>\n",
       "    <tr>\n",
       "      <th id=\"T_dbbea_level0_col0\" class=\"col_heading level0 col0\" >country</th>\n",
       "      <th id=\"T_dbbea_level0_col1\" class=\"col_heading level0 col1\" >date</th>\n",
       "      <th id=\"T_dbbea_level0_col2\" class=\"col_heading level0 col2\" >app_installs</th>\n",
       "      <th id=\"T_dbbea_level0_col3\" class=\"col_heading level0 col3\" >cpi</th>\n",
       "      <th id=\"T_dbbea_level0_col4\" class=\"col_heading level0 col4\" >install_to_conversion_rate</th>\n",
       "      <th id=\"T_dbbea_level0_col5\" class=\"col_heading level0 col5\" >profit</th>\n",
       "    </tr>\n",
       "  </thead>\n",
       "  <tbody>\n",
       "    <tr>\n",
       "      <td id=\"T_dbbea_row0_col0\" class=\"data row0 col0\" >US</td>\n",
       "      <td id=\"T_dbbea_row0_col1\" class=\"data row0 col1\" >2023-11-01 00:00:00</td>\n",
       "      <td id=\"T_dbbea_row0_col2\" class=\"data row0 col2\" >139</td>\n",
       "      <td id=\"T_dbbea_row0_col3\" class=\"data row0 col3\" >3.220000</td>\n",
       "      <td id=\"T_dbbea_row0_col4\" class=\"data row0 col4\" >8.630000</td>\n",
       "      <td id=\"T_dbbea_row0_col5\" class=\"data row0 col5\" >-37.410000</td>\n",
       "    </tr>\n",
       "    <tr>\n",
       "      <td id=\"T_dbbea_row1_col0\" class=\"data row1 col0\" >US</td>\n",
       "      <td id=\"T_dbbea_row1_col1\" class=\"data row1 col1\" >2023-11-02 00:00:00</td>\n",
       "      <td id=\"T_dbbea_row1_col2\" class=\"data row1 col2\" >113</td>\n",
       "      <td id=\"T_dbbea_row1_col3\" class=\"data row1 col3\" >4.470000</td>\n",
       "      <td id=\"T_dbbea_row1_col4\" class=\"data row1 col4\" >12.390000</td>\n",
       "      <td id=\"T_dbbea_row1_col5\" class=\"data row1 col5\" >-165.070000</td>\n",
       "    </tr>\n",
       "    <tr>\n",
       "      <td id=\"T_dbbea_row2_col0\" class=\"data row2 col0\" >US</td>\n",
       "      <td id=\"T_dbbea_row2_col1\" class=\"data row2 col1\" >2023-11-03 00:00:00</td>\n",
       "      <td id=\"T_dbbea_row2_col2\" class=\"data row2 col2\" >110</td>\n",
       "      <td id=\"T_dbbea_row2_col3\" class=\"data row2 col3\" >4.420000</td>\n",
       "      <td id=\"T_dbbea_row2_col4\" class=\"data row2 col4\" >10.000000</td>\n",
       "      <td id=\"T_dbbea_row2_col5\" class=\"data row2 col5\" >-167.110000</td>\n",
       "    </tr>\n",
       "    <tr>\n",
       "      <td id=\"T_dbbea_row3_col0\" class=\"data row3 col0\" >US</td>\n",
       "      <td id=\"T_dbbea_row3_col1\" class=\"data row3 col1\" >2023-11-04 00:00:00</td>\n",
       "      <td id=\"T_dbbea_row3_col2\" class=\"data row3 col2\" >104</td>\n",
       "      <td id=\"T_dbbea_row3_col3\" class=\"data row3 col3\" >4.210000</td>\n",
       "      <td id=\"T_dbbea_row3_col4\" class=\"data row3 col4\" >8.650000</td>\n",
       "      <td id=\"T_dbbea_row3_col5\" class=\"data row3 col5\" >-204.800000</td>\n",
       "    </tr>\n",
       "    <tr>\n",
       "      <td id=\"T_dbbea_row4_col0\" class=\"data row4 col0\" >US</td>\n",
       "      <td id=\"T_dbbea_row4_col1\" class=\"data row4 col1\" >2023-11-05 00:00:00</td>\n",
       "      <td id=\"T_dbbea_row4_col2\" class=\"data row4 col2\" >134</td>\n",
       "      <td id=\"T_dbbea_row4_col3\" class=\"data row4 col3\" >3.780000</td>\n",
       "      <td id=\"T_dbbea_row4_col4\" class=\"data row4 col4\" >15.670000</td>\n",
       "      <td id=\"T_dbbea_row4_col5\" class=\"data row4 col5\" >70.970000</td>\n",
       "    </tr>\n",
       "    <tr>\n",
       "      <td id=\"T_dbbea_row5_col0\" class=\"data row5 col0\" >US</td>\n",
       "      <td id=\"T_dbbea_row5_col1\" class=\"data row5 col1\" >2023-11-06 00:00:00</td>\n",
       "      <td id=\"T_dbbea_row5_col2\" class=\"data row5 col2\" >174</td>\n",
       "      <td id=\"T_dbbea_row5_col3\" class=\"data row5 col3\" >3.590000</td>\n",
       "      <td id=\"T_dbbea_row5_col4\" class=\"data row5 col4\" >15.520000</td>\n",
       "      <td id=\"T_dbbea_row5_col5\" class=\"data row5 col5\" >133.540000</td>\n",
       "    </tr>\n",
       "    <tr>\n",
       "      <td id=\"T_dbbea_row6_col0\" class=\"data row6 col0\" >US</td>\n",
       "      <td id=\"T_dbbea_row6_col1\" class=\"data row6 col1\" >2023-11-07 00:00:00</td>\n",
       "      <td id=\"T_dbbea_row6_col2\" class=\"data row6 col2\" >160</td>\n",
       "      <td id=\"T_dbbea_row6_col3\" class=\"data row6 col3\" >3.540000</td>\n",
       "      <td id=\"T_dbbea_row6_col4\" class=\"data row6 col4\" >9.380000</td>\n",
       "      <td id=\"T_dbbea_row6_col5\" class=\"data row6 col5\" >-152.170000</td>\n",
       "    </tr>\n",
       "    <tr>\n",
       "      <td id=\"T_dbbea_row7_col0\" class=\"data row7 col0\" >US</td>\n",
       "      <td id=\"T_dbbea_row7_col1\" class=\"data row7 col1\" >2023-11-08 00:00:00</td>\n",
       "      <td id=\"T_dbbea_row7_col2\" class=\"data row7 col2\" >163</td>\n",
       "      <td id=\"T_dbbea_row7_col3\" class=\"data row7 col3\" >3.370000</td>\n",
       "      <td id=\"T_dbbea_row7_col4\" class=\"data row7 col4\" >8.590000</td>\n",
       "      <td id=\"T_dbbea_row7_col5\" class=\"data row7 col5\" >-217.580000</td>\n",
       "    </tr>\n",
       "    <tr>\n",
       "      <td id=\"T_dbbea_row8_col0\" class=\"data row8 col0\" >US</td>\n",
       "      <td id=\"T_dbbea_row8_col1\" class=\"data row8 col1\" >2023-11-09 00:00:00</td>\n",
       "      <td id=\"T_dbbea_row8_col2\" class=\"data row8 col2\" >138</td>\n",
       "      <td id=\"T_dbbea_row8_col3\" class=\"data row8 col3\" >4.000000</td>\n",
       "      <td id=\"T_dbbea_row8_col4\" class=\"data row8 col4\" >10.870000</td>\n",
       "      <td id=\"T_dbbea_row8_col5\" class=\"data row8 col5\" >-201.940000</td>\n",
       "    </tr>\n",
       "    <tr>\n",
       "      <td id=\"T_dbbea_row9_col0\" class=\"data row9 col0\" >US</td>\n",
       "      <td id=\"T_dbbea_row9_col1\" class=\"data row9 col1\" >2023-11-10 00:00:00</td>\n",
       "      <td id=\"T_dbbea_row9_col2\" class=\"data row9 col2\" >110</td>\n",
       "      <td id=\"T_dbbea_row9_col3\" class=\"data row9 col3\" >5.120000</td>\n",
       "      <td id=\"T_dbbea_row9_col4\" class=\"data row9 col4\" >7.270000</td>\n",
       "      <td id=\"T_dbbea_row9_col5\" class=\"data row9 col5\" >-413.330000</td>\n",
       "    </tr>\n",
       "    <tr>\n",
       "      <td id=\"T_dbbea_row10_col0\" class=\"data row10 col0\" >US</td>\n",
       "      <td id=\"T_dbbea_row10_col1\" class=\"data row10 col1\" >2023-11-11 00:00:00</td>\n",
       "      <td id=\"T_dbbea_row10_col2\" class=\"data row10 col2\" >126</td>\n",
       "      <td id=\"T_dbbea_row10_col3\" class=\"data row10 col3\" >4.430000</td>\n",
       "      <td id=\"T_dbbea_row10_col4\" class=\"data row10 col4\" >11.110000</td>\n",
       "      <td id=\"T_dbbea_row10_col5\" class=\"data row10 col5\" >-286.810000</td>\n",
       "    </tr>\n",
       "    <tr>\n",
       "      <td id=\"T_dbbea_row11_col0\" class=\"data row11 col0\" >US</td>\n",
       "      <td id=\"T_dbbea_row11_col1\" class=\"data row11 col1\" >2023-11-12 00:00:00</td>\n",
       "      <td id=\"T_dbbea_row11_col2\" class=\"data row11 col2\" >141</td>\n",
       "      <td id=\"T_dbbea_row11_col3\" class=\"data row11 col3\" >3.710000</td>\n",
       "      <td id=\"T_dbbea_row11_col4\" class=\"data row11 col4\" >4.960000</td>\n",
       "      <td id=\"T_dbbea_row11_col5\" class=\"data row11 col5\" >-345.950000</td>\n",
       "    </tr>\n",
       "    <tr>\n",
       "      <td id=\"T_dbbea_row12_col0\" class=\"data row12 col0\" >US</td>\n",
       "      <td id=\"T_dbbea_row12_col1\" class=\"data row12 col1\" >2023-11-13 00:00:00</td>\n",
       "      <td id=\"T_dbbea_row12_col2\" class=\"data row12 col2\" >157</td>\n",
       "      <td id=\"T_dbbea_row12_col3\" class=\"data row12 col3\" >4.160000</td>\n",
       "      <td id=\"T_dbbea_row12_col4\" class=\"data row12 col4\" >12.100000</td>\n",
       "      <td id=\"T_dbbea_row12_col5\" class=\"data row12 col5\" >-204.410000</td>\n",
       "    </tr>\n",
       "    <tr>\n",
       "      <td id=\"T_dbbea_row13_col0\" class=\"data row13 col0\" >US</td>\n",
       "      <td id=\"T_dbbea_row13_col1\" class=\"data row13 col1\" >2023-11-14 00:00:00</td>\n",
       "      <td id=\"T_dbbea_row13_col2\" class=\"data row13 col2\" >136</td>\n",
       "      <td id=\"T_dbbea_row13_col3\" class=\"data row13 col3\" >4.240000</td>\n",
       "      <td id=\"T_dbbea_row13_col4\" class=\"data row13 col4\" >11.030000</td>\n",
       "      <td id=\"T_dbbea_row13_col5\" class=\"data row13 col5\" >-192.940000</td>\n",
       "    </tr>\n",
       "    <tr>\n",
       "      <td id=\"T_dbbea_row14_col0\" class=\"data row14 col0\" >US</td>\n",
       "      <td id=\"T_dbbea_row14_col1\" class=\"data row14 col1\" >2023-11-15 00:00:00</td>\n",
       "      <td id=\"T_dbbea_row14_col2\" class=\"data row14 col2\" >137</td>\n",
       "      <td id=\"T_dbbea_row14_col3\" class=\"data row14 col3\" >4.050000</td>\n",
       "      <td id=\"T_dbbea_row14_col4\" class=\"data row14 col4\" >11.680000</td>\n",
       "      <td id=\"T_dbbea_row14_col5\" class=\"data row14 col5\" >-105.580000</td>\n",
       "    </tr>\n",
       "    <tr>\n",
       "      <td id=\"T_dbbea_row15_col0\" class=\"data row15 col0\" >US</td>\n",
       "      <td id=\"T_dbbea_row15_col1\" class=\"data row15 col1\" >2023-11-16 00:00:00</td>\n",
       "      <td id=\"T_dbbea_row15_col2\" class=\"data row15 col2\" >137</td>\n",
       "      <td id=\"T_dbbea_row15_col3\" class=\"data row15 col3\" >3.800000</td>\n",
       "      <td id=\"T_dbbea_row15_col4\" class=\"data row15 col4\" >10.220000</td>\n",
       "      <td id=\"T_dbbea_row15_col5\" class=\"data row15 col5\" >-188.630000</td>\n",
       "    </tr>\n",
       "    <tr>\n",
       "      <td id=\"T_dbbea_row16_col0\" class=\"data row16 col0\" >US</td>\n",
       "      <td id=\"T_dbbea_row16_col1\" class=\"data row16 col1\" >2023-11-17 00:00:00</td>\n",
       "      <td id=\"T_dbbea_row16_col2\" class=\"data row16 col2\" >87</td>\n",
       "      <td id=\"T_dbbea_row16_col3\" class=\"data row16 col3\" >5.250000</td>\n",
       "      <td id=\"T_dbbea_row16_col4\" class=\"data row16 col4\" >10.340000</td>\n",
       "      <td id=\"T_dbbea_row16_col5\" class=\"data row16 col5\" >-272.870000</td>\n",
       "    </tr>\n",
       "    <tr>\n",
       "      <td id=\"T_dbbea_row17_col0\" class=\"data row17 col0\" >US</td>\n",
       "      <td id=\"T_dbbea_row17_col1\" class=\"data row17 col1\" >2023-11-18 00:00:00</td>\n",
       "      <td id=\"T_dbbea_row17_col2\" class=\"data row17 col2\" >101</td>\n",
       "      <td id=\"T_dbbea_row17_col3\" class=\"data row17 col3\" >4.320000</td>\n",
       "      <td id=\"T_dbbea_row17_col4\" class=\"data row17 col4\" >7.920000</td>\n",
       "      <td id=\"T_dbbea_row17_col5\" class=\"data row17 col5\" >-207.530000</td>\n",
       "    </tr>\n",
       "    <tr>\n",
       "      <td id=\"T_dbbea_row18_col0\" class=\"data row18 col0\" >US</td>\n",
       "      <td id=\"T_dbbea_row18_col1\" class=\"data row18 col1\" >2023-11-19 00:00:00</td>\n",
       "      <td id=\"T_dbbea_row18_col2\" class=\"data row18 col2\" >112</td>\n",
       "      <td id=\"T_dbbea_row18_col3\" class=\"data row18 col3\" >3.820000</td>\n",
       "      <td id=\"T_dbbea_row18_col4\" class=\"data row18 col4\" >9.820000</td>\n",
       "      <td id=\"T_dbbea_row18_col5\" class=\"data row18 col5\" >-171.490000</td>\n",
       "    </tr>\n",
       "    <tr>\n",
       "      <td id=\"T_dbbea_row19_col0\" class=\"data row19 col0\" >US</td>\n",
       "      <td id=\"T_dbbea_row19_col1\" class=\"data row19 col1\" >2023-11-20 00:00:00</td>\n",
       "      <td id=\"T_dbbea_row19_col2\" class=\"data row19 col2\" >130</td>\n",
       "      <td id=\"T_dbbea_row19_col3\" class=\"data row19 col3\" >4.000000</td>\n",
       "      <td id=\"T_dbbea_row19_col4\" class=\"data row19 col4\" >13.850000</td>\n",
       "      <td id=\"T_dbbea_row19_col5\" class=\"data row19 col5\" >-81.390000</td>\n",
       "    </tr>\n",
       "    <tr>\n",
       "      <td id=\"T_dbbea_row20_col0\" class=\"data row20 col0\" >US</td>\n",
       "      <td id=\"T_dbbea_row20_col1\" class=\"data row20 col1\" >2023-11-21 00:00:00</td>\n",
       "      <td id=\"T_dbbea_row20_col2\" class=\"data row20 col2\" >96</td>\n",
       "      <td id=\"T_dbbea_row20_col3\" class=\"data row20 col3\" >4.720000</td>\n",
       "      <td id=\"T_dbbea_row20_col4\" class=\"data row20 col4\" >9.380000</td>\n",
       "      <td id=\"T_dbbea_row20_col5\" class=\"data row20 col5\" >-243.200000</td>\n",
       "    </tr>\n",
       "    <tr>\n",
       "      <td id=\"T_dbbea_row21_col0\" class=\"data row21 col0\" >US</td>\n",
       "      <td id=\"T_dbbea_row21_col1\" class=\"data row21 col1\" >2023-11-22 00:00:00</td>\n",
       "      <td id=\"T_dbbea_row21_col2\" class=\"data row21 col2\" >105</td>\n",
       "      <td id=\"T_dbbea_row21_col3\" class=\"data row21 col3\" >4.380000</td>\n",
       "      <td id=\"T_dbbea_row21_col4\" class=\"data row21 col4\" >4.760000</td>\n",
       "      <td id=\"T_dbbea_row21_col5\" class=\"data row21 col5\" >-349.540000</td>\n",
       "    </tr>\n",
       "    <tr>\n",
       "      <td id=\"T_dbbea_row22_col0\" class=\"data row22 col0\" >US</td>\n",
       "      <td id=\"T_dbbea_row22_col1\" class=\"data row22 col1\" >2023-11-23 00:00:00</td>\n",
       "      <td id=\"T_dbbea_row22_col2\" class=\"data row22 col2\" >66</td>\n",
       "      <td id=\"T_dbbea_row22_col3\" class=\"data row22 col3\" >6.000000</td>\n",
       "      <td id=\"T_dbbea_row22_col4\" class=\"data row22 col4\" >6.060000</td>\n",
       "      <td id=\"T_dbbea_row22_col5\" class=\"data row22 col5\" >-279.110000</td>\n",
       "    </tr>\n",
       "    <tr>\n",
       "      <td id=\"T_dbbea_row23_col0\" class=\"data row23 col0\" >US</td>\n",
       "      <td id=\"T_dbbea_row23_col1\" class=\"data row23 col1\" >2023-11-24 00:00:00</td>\n",
       "      <td id=\"T_dbbea_row23_col2\" class=\"data row23 col2\" >92</td>\n",
       "      <td id=\"T_dbbea_row23_col3\" class=\"data row23 col3\" >4.990000</td>\n",
       "      <td id=\"T_dbbea_row23_col4\" class=\"data row23 col4\" >11.960000</td>\n",
       "      <td id=\"T_dbbea_row23_col5\" class=\"data row23 col5\" >-214.690000</td>\n",
       "    </tr>\n",
       "    <tr>\n",
       "      <td id=\"T_dbbea_row24_col0\" class=\"data row24 col0\" >US</td>\n",
       "      <td id=\"T_dbbea_row24_col1\" class=\"data row24 col1\" >2023-11-25 00:00:00</td>\n",
       "      <td id=\"T_dbbea_row24_col2\" class=\"data row24 col2\" >95</td>\n",
       "      <td id=\"T_dbbea_row24_col3\" class=\"data row24 col3\" >4.790000</td>\n",
       "      <td id=\"T_dbbea_row24_col4\" class=\"data row24 col4\" >12.630000</td>\n",
       "      <td id=\"T_dbbea_row24_col5\" class=\"data row24 col5\" >-190.160000</td>\n",
       "    </tr>\n",
       "    <tr>\n",
       "      <td id=\"T_dbbea_row25_col0\" class=\"data row25 col0\" >US</td>\n",
       "      <td id=\"T_dbbea_row25_col1\" class=\"data row25 col1\" >2023-11-26 00:00:00</td>\n",
       "      <td id=\"T_dbbea_row25_col2\" class=\"data row25 col2\" >103</td>\n",
       "      <td id=\"T_dbbea_row25_col3\" class=\"data row25 col3\" >4.500000</td>\n",
       "      <td id=\"T_dbbea_row25_col4\" class=\"data row25 col4\" >14.560000</td>\n",
       "      <td id=\"T_dbbea_row25_col5\" class=\"data row25 col5\" >-182.550000</td>\n",
       "    </tr>\n",
       "    <tr>\n",
       "      <td id=\"T_dbbea_row26_col0\" class=\"data row26 col0\" >US</td>\n",
       "      <td id=\"T_dbbea_row26_col1\" class=\"data row26 col1\" >2023-11-27 00:00:00</td>\n",
       "      <td id=\"T_dbbea_row26_col2\" class=\"data row26 col2\" >115</td>\n",
       "      <td id=\"T_dbbea_row26_col3\" class=\"data row26 col3\" >4.070000</td>\n",
       "      <td id=\"T_dbbea_row26_col4\" class=\"data row26 col4\" >8.700000</td>\n",
       "      <td id=\"T_dbbea_row26_col5\" class=\"data row26 col5\" >-239.220000</td>\n",
       "    </tr>\n",
       "    <tr>\n",
       "      <td id=\"T_dbbea_row27_col0\" class=\"data row27 col0\" >US</td>\n",
       "      <td id=\"T_dbbea_row27_col1\" class=\"data row27 col1\" >2023-11-28 00:00:00</td>\n",
       "      <td id=\"T_dbbea_row27_col2\" class=\"data row27 col2\" >103</td>\n",
       "      <td id=\"T_dbbea_row27_col3\" class=\"data row27 col3\" >4.760000</td>\n",
       "      <td id=\"T_dbbea_row27_col4\" class=\"data row27 col4\" >9.710000</td>\n",
       "      <td id=\"T_dbbea_row27_col5\" class=\"data row27 col5\" >-271.730000</td>\n",
       "    </tr>\n",
       "    <tr>\n",
       "      <td id=\"T_dbbea_row28_col0\" class=\"data row28 col0\" >US</td>\n",
       "      <td id=\"T_dbbea_row28_col1\" class=\"data row28 col1\" >2023-11-29 00:00:00</td>\n",
       "      <td id=\"T_dbbea_row28_col2\" class=\"data row28 col2\" >90</td>\n",
       "      <td id=\"T_dbbea_row28_col3\" class=\"data row28 col3\" >4.770000</td>\n",
       "      <td id=\"T_dbbea_row28_col4\" class=\"data row28 col4\" >10.000000</td>\n",
       "      <td id=\"T_dbbea_row28_col5\" class=\"data row28 col5\" >-166.120000</td>\n",
       "    </tr>\n",
       "    <tr>\n",
       "      <td id=\"T_dbbea_row29_col0\" class=\"data row29 col0\" >US</td>\n",
       "      <td id=\"T_dbbea_row29_col1\" class=\"data row29 col1\" >2023-11-30 00:00:00</td>\n",
       "      <td id=\"T_dbbea_row29_col2\" class=\"data row29 col2\" >116</td>\n",
       "      <td id=\"T_dbbea_row29_col3\" class=\"data row29 col3\" >3.990000</td>\n",
       "      <td id=\"T_dbbea_row29_col4\" class=\"data row29 col4\" >14.660000</td>\n",
       "      <td id=\"T_dbbea_row29_col5\" class=\"data row29 col5\" >-126.520000</td>\n",
       "    </tr>\n",
       "  </tbody>\n",
       "</table>\n"
      ],
      "text/plain": [
       "<pandas.io.formats.style.Styler at 0x12dedf150>"
      ]
     },
     "execution_count": 105,
     "metadata": {},
     "output_type": "execute_result"
    }
   ],
   "source": [
    "df_filtered_plot[['country','date','app_installs','cpi','install_to_conversion_rate','profit']].style.hide(axis=\"index\")"
   ]
  },
  {
   "cell_type": "code",
   "execution_count": null,
   "id": "51e23e3a",
   "metadata": {},
   "outputs": [],
   "source": []
  },
  {
   "cell_type": "code",
   "execution_count": null,
   "id": "42978bf3",
   "metadata": {},
   "outputs": [],
   "source": []
  },
  {
   "cell_type": "code",
   "execution_count": null,
   "id": "1d78c83e",
   "metadata": {},
   "outputs": [],
   "source": []
  },
  {
   "cell_type": "code",
   "execution_count": null,
   "id": "5dd565b5",
   "metadata": {},
   "outputs": [],
   "source": [
    "import plotly.graph_objects as go\n",
    "\n",
    "def create_grouped_line_chart(df, x_column, y_column, group_column, y_label, width=1000, height=600):\n",
    "    \"\"\"\n",
    "    Create a grouped line chart with multiple lines and an annotation for Black Friday.\n",
    "\n",
    "    Args:\n",
    "        df (pd.DataFrame): DataFrame containing the data to plot.\n",
    "        x_column (str): Name of the column for the x-axis.\n",
    "        y_column (str): Name of the column for the y-axis.\n",
    "        group_column (str): Name of the column to differentiate the lines.\n",
    "        y_label (str): Label for the y-axis.\n",
    "        width (int): Width of the figure (default: 1000).\n",
    "        height (int): Height of the figure (default: 600).\n",
    "\n",
    "    Returns:\n",
    "        None\n",
    "    \"\"\"\n",
    "    title = f\"{y_column.replace('_', ' ').capitalize()} Over Time by {group_column.replace('_', ' ').capitalize()}\"\n",
    "\n",
    "    fig = go.Figure()\n",
    "\n",
    "    # Create a line for each group\n",
    "    for group, group_data in df.groupby(group_column):\n",
    "        fig.add_trace(go.Scatter(\n",
    "            x=group_data[x_column],\n",
    "            y=group_data[y_column],\n",
    "            mode='lines',\n",
    "            name=group  # Use the group name for legend\n",
    "        ))\n",
    "\n",
    "    # Add annotation for Black Friday\n",
    "    fig.add_annotation(\n",
    "        x=\"2023-11-24\",\n",
    "        y=df[y_column].max(),\n",
    "        text=\"Black Friday\",\n",
    "        showarrow=True,\n",
    "        arrowhead=2,\n",
    "        ax=0,\n",
    "        ay=-40\n",
    "    )\n",
    "\n",
    "    # Customize layout\n",
    "    fig.update_layout(\n",
    "        title=title,\n",
    "        xaxis=dict(title=x_column.capitalize()),\n",
    "        yaxis=dict(title=y_label),\n",
    "        legend=dict(title=group_column.replace('_', ' ').capitalize()),\n",
    "        width=width,\n",
    "        height=height\n",
    "    )\n",
    "\n",
    "    fig.show()\n"
   ]
  },
  {
   "cell_type": "code",
   "execution_count": 37,
   "id": "542e93dd",
   "metadata": {},
   "outputs": [],
   "source": [
    "agg_df = df.groupby(['country','platform','marketing_channel','date']).sum(numeric_only=True)\n",
    "\n",
    "df_metrics = calculate_metrics(agg_df).reset_index()\n",
    "\n",
    "df_metrics['platform_and_channel'] = df_metrics['platform'] + \"_\" + df_metrics['marketing_channel']"
   ]
  },
  {
   "cell_type": "code",
   "execution_count": 42,
   "id": "5d8eb30e",
   "metadata": {},
   "outputs": [
    {
     "data": {
      "application/vnd.plotly.v1+json": {
       "config": {
        "plotlyServerURL": "https://plot.ly"
       },
       "data": [
        {
         "mode": "lines",
         "name": "Channel A",
         "type": "scatter",
         "x": [
          "2023-11-01",
          "2023-11-02",
          "2023-11-03",
          "2023-11-04",
          "2023-11-05",
          "2023-11-06",
          "2023-11-07",
          "2023-11-08",
          "2023-11-09",
          "2023-11-10",
          "2023-11-11",
          "2023-11-12",
          "2023-11-13",
          "2023-11-14",
          "2023-11-15",
          "2023-11-16",
          "2023-11-17",
          "2023-11-18",
          "2023-11-19",
          "2023-11-20",
          "2023-11-21",
          "2023-11-22",
          "2023-11-23",
          "2023-11-24",
          "2023-11-25",
          "2023-11-26",
          "2023-11-27",
          "2023-11-28",
          "2023-11-29",
          "2023-11-30"
         ],
         "y": [
          700,
          708,
          586,
          617,
          671,
          677,
          676,
          586,
          570,
          534,
          563,
          720,
          701,
          553,
          567,
          588,
          497,
          538,
          698,
          680,
          678,
          609,
          555,
          485,
          472,
          609,
          601,
          514,
          550,
          451
         ]
        },
        {
         "mode": "lines",
         "name": "Channel B",
         "type": "scatter",
         "x": [
          "2023-11-01",
          "2023-11-02",
          "2023-11-03",
          "2023-11-04",
          "2023-11-05",
          "2023-11-06",
          "2023-11-07",
          "2023-11-08",
          "2023-11-09",
          "2023-11-10",
          "2023-11-11",
          "2023-11-12",
          "2023-11-13",
          "2023-11-14",
          "2023-11-15",
          "2023-11-16",
          "2023-11-17",
          "2023-11-18",
          "2023-11-19",
          "2023-11-20",
          "2023-11-21",
          "2023-11-22",
          "2023-11-23",
          "2023-11-24",
          "2023-11-25",
          "2023-11-26",
          "2023-11-27",
          "2023-11-28",
          "2023-11-29",
          "2023-11-30"
         ],
         "y": [
          368,
          292,
          259,
          317,
          396,
          296,
          298,
          154,
          116,
          115,
          163,
          165,
          152,
          140,
          145,
          134,
          120,
          119,
          163,
          149,
          135,
          120,
          112,
          102,
          108,
          142,
          89,
          84,
          67,
          76
         ]
        },
        {
         "mode": "lines",
         "name": "Channel C",
         "type": "scatter",
         "x": [
          "2023-11-01",
          "2023-11-02",
          "2023-11-03",
          "2023-11-04",
          "2023-11-05",
          "2023-11-06",
          "2023-11-07",
          "2023-11-08",
          "2023-11-09",
          "2023-11-10",
          "2023-11-11",
          "2023-11-12",
          "2023-11-13",
          "2023-11-14",
          "2023-11-15",
          "2023-11-16",
          "2023-11-17",
          "2023-11-18",
          "2023-11-19",
          "2023-11-20",
          "2023-11-21",
          "2023-11-22",
          "2023-11-23",
          "2023-11-24",
          "2023-11-25",
          "2023-11-26",
          "2023-11-27",
          "2023-11-28",
          "2023-11-29",
          "2023-11-30"
         ],
         "y": [
          987,
          744,
          707,
          690,
          738,
          487,
          621,
          597,
          544,
          507,
          578,
          691,
          707,
          715,
          842,
          651,
          654,
          547,
          674,
          707,
          854,
          1023,
          974,
          830,
          905,
          1046,
          1088,
          1055,
          971,
          838
         ]
        },
        {
         "mode": "lines",
         "name": "Channel D",
         "type": "scatter",
         "x": [
          "2023-11-01",
          "2023-11-02",
          "2023-11-03",
          "2023-11-04",
          "2023-11-05",
          "2023-11-06",
          "2023-11-07",
          "2023-11-08",
          "2023-11-09",
          "2023-11-10",
          "2023-11-11",
          "2023-11-12",
          "2023-11-13",
          "2023-11-14",
          "2023-11-15",
          "2023-11-16",
          "2023-11-17",
          "2023-11-18",
          "2023-11-19",
          "2023-11-20",
          "2023-11-21",
          "2023-11-22",
          "2023-11-23",
          "2023-11-24",
          "2023-11-25",
          "2023-11-26",
          "2023-11-27",
          "2023-11-28",
          "2023-11-29",
          "2023-11-30"
         ],
         "y": [
          0,
          0,
          0,
          0,
          0,
          0,
          0,
          0,
          0,
          0,
          0,
          0,
          0,
          0,
          0,
          0,
          0,
          0,
          0,
          0,
          0,
          0,
          0,
          0,
          0,
          0,
          0,
          0,
          0,
          0
         ]
        },
        {
         "mode": "lines",
         "name": "Channel E",
         "type": "scatter",
         "x": [
          "2023-11-01",
          "2023-11-02",
          "2023-11-03",
          "2023-11-04",
          "2023-11-05",
          "2023-11-06",
          "2023-11-07",
          "2023-11-08",
          "2023-11-09",
          "2023-11-10",
          "2023-11-11",
          "2023-11-12",
          "2023-11-13",
          "2023-11-14",
          "2023-11-15",
          "2023-11-16",
          "2023-11-17",
          "2023-11-18",
          "2023-11-19",
          "2023-11-20",
          "2023-11-21",
          "2023-11-22",
          "2023-11-23",
          "2023-11-24",
          "2023-11-25",
          "2023-11-26",
          "2023-11-27",
          "2023-11-28",
          "2023-11-29",
          "2023-11-30"
         ],
         "y": [
          104,
          89,
          66,
          80,
          354,
          185,
          110,
          102,
          95,
          83,
          98,
          128,
          88,
          95,
          71,
          67,
          78,
          102,
          74,
          55,
          50,
          59,
          59,
          41,
          55,
          61,
          50,
          58,
          68,
          57
         ]
        }
       ],
       "layout": {
        "annotations": [
         {
          "arrowhead": 2,
          "ax": 0,
          "ay": -40,
          "showarrow": true,
          "text": "Black Friday",
          "x": "2023-11-24",
          "y": 1088
         }
        ],
        "height": 600,
        "legend": {
         "title": {
          "text": "Marketing channel"
         }
        },
        "template": {
         "data": {
          "bar": [
           {
            "error_x": {
             "color": "#2a3f5f"
            },
            "error_y": {
             "color": "#2a3f5f"
            },
            "marker": {
             "line": {
              "color": "#E5ECF6",
              "width": 0.5
             },
             "pattern": {
              "fillmode": "overlay",
              "size": 10,
              "solidity": 0.2
             }
            },
            "type": "bar"
           }
          ],
          "barpolar": [
           {
            "marker": {
             "line": {
              "color": "#E5ECF6",
              "width": 0.5
             },
             "pattern": {
              "fillmode": "overlay",
              "size": 10,
              "solidity": 0.2
             }
            },
            "type": "barpolar"
           }
          ],
          "carpet": [
           {
            "aaxis": {
             "endlinecolor": "#2a3f5f",
             "gridcolor": "white",
             "linecolor": "white",
             "minorgridcolor": "white",
             "startlinecolor": "#2a3f5f"
            },
            "baxis": {
             "endlinecolor": "#2a3f5f",
             "gridcolor": "white",
             "linecolor": "white",
             "minorgridcolor": "white",
             "startlinecolor": "#2a3f5f"
            },
            "type": "carpet"
           }
          ],
          "choropleth": [
           {
            "colorbar": {
             "outlinewidth": 0,
             "ticks": ""
            },
            "type": "choropleth"
           }
          ],
          "contour": [
           {
            "colorbar": {
             "outlinewidth": 0,
             "ticks": ""
            },
            "colorscale": [
             [
              0,
              "#0d0887"
             ],
             [
              0.1111111111111111,
              "#46039f"
             ],
             [
              0.2222222222222222,
              "#7201a8"
             ],
             [
              0.3333333333333333,
              "#9c179e"
             ],
             [
              0.4444444444444444,
              "#bd3786"
             ],
             [
              0.5555555555555556,
              "#d8576b"
             ],
             [
              0.6666666666666666,
              "#ed7953"
             ],
             [
              0.7777777777777778,
              "#fb9f3a"
             ],
             [
              0.8888888888888888,
              "#fdca26"
             ],
             [
              1,
              "#f0f921"
             ]
            ],
            "type": "contour"
           }
          ],
          "contourcarpet": [
           {
            "colorbar": {
             "outlinewidth": 0,
             "ticks": ""
            },
            "type": "contourcarpet"
           }
          ],
          "heatmap": [
           {
            "colorbar": {
             "outlinewidth": 0,
             "ticks": ""
            },
            "colorscale": [
             [
              0,
              "#0d0887"
             ],
             [
              0.1111111111111111,
              "#46039f"
             ],
             [
              0.2222222222222222,
              "#7201a8"
             ],
             [
              0.3333333333333333,
              "#9c179e"
             ],
             [
              0.4444444444444444,
              "#bd3786"
             ],
             [
              0.5555555555555556,
              "#d8576b"
             ],
             [
              0.6666666666666666,
              "#ed7953"
             ],
             [
              0.7777777777777778,
              "#fb9f3a"
             ],
             [
              0.8888888888888888,
              "#fdca26"
             ],
             [
              1,
              "#f0f921"
             ]
            ],
            "type": "heatmap"
           }
          ],
          "heatmapgl": [
           {
            "colorbar": {
             "outlinewidth": 0,
             "ticks": ""
            },
            "colorscale": [
             [
              0,
              "#0d0887"
             ],
             [
              0.1111111111111111,
              "#46039f"
             ],
             [
              0.2222222222222222,
              "#7201a8"
             ],
             [
              0.3333333333333333,
              "#9c179e"
             ],
             [
              0.4444444444444444,
              "#bd3786"
             ],
             [
              0.5555555555555556,
              "#d8576b"
             ],
             [
              0.6666666666666666,
              "#ed7953"
             ],
             [
              0.7777777777777778,
              "#fb9f3a"
             ],
             [
              0.8888888888888888,
              "#fdca26"
             ],
             [
              1,
              "#f0f921"
             ]
            ],
            "type": "heatmapgl"
           }
          ],
          "histogram": [
           {
            "marker": {
             "pattern": {
              "fillmode": "overlay",
              "size": 10,
              "solidity": 0.2
             }
            },
            "type": "histogram"
           }
          ],
          "histogram2d": [
           {
            "colorbar": {
             "outlinewidth": 0,
             "ticks": ""
            },
            "colorscale": [
             [
              0,
              "#0d0887"
             ],
             [
              0.1111111111111111,
              "#46039f"
             ],
             [
              0.2222222222222222,
              "#7201a8"
             ],
             [
              0.3333333333333333,
              "#9c179e"
             ],
             [
              0.4444444444444444,
              "#bd3786"
             ],
             [
              0.5555555555555556,
              "#d8576b"
             ],
             [
              0.6666666666666666,
              "#ed7953"
             ],
             [
              0.7777777777777778,
              "#fb9f3a"
             ],
             [
              0.8888888888888888,
              "#fdca26"
             ],
             [
              1,
              "#f0f921"
             ]
            ],
            "type": "histogram2d"
           }
          ],
          "histogram2dcontour": [
           {
            "colorbar": {
             "outlinewidth": 0,
             "ticks": ""
            },
            "colorscale": [
             [
              0,
              "#0d0887"
             ],
             [
              0.1111111111111111,
              "#46039f"
             ],
             [
              0.2222222222222222,
              "#7201a8"
             ],
             [
              0.3333333333333333,
              "#9c179e"
             ],
             [
              0.4444444444444444,
              "#bd3786"
             ],
             [
              0.5555555555555556,
              "#d8576b"
             ],
             [
              0.6666666666666666,
              "#ed7953"
             ],
             [
              0.7777777777777778,
              "#fb9f3a"
             ],
             [
              0.8888888888888888,
              "#fdca26"
             ],
             [
              1,
              "#f0f921"
             ]
            ],
            "type": "histogram2dcontour"
           }
          ],
          "mesh3d": [
           {
            "colorbar": {
             "outlinewidth": 0,
             "ticks": ""
            },
            "type": "mesh3d"
           }
          ],
          "parcoords": [
           {
            "line": {
             "colorbar": {
              "outlinewidth": 0,
              "ticks": ""
             }
            },
            "type": "parcoords"
           }
          ],
          "pie": [
           {
            "automargin": true,
            "type": "pie"
           }
          ],
          "scatter": [
           {
            "fillpattern": {
             "fillmode": "overlay",
             "size": 10,
             "solidity": 0.2
            },
            "type": "scatter"
           }
          ],
          "scatter3d": [
           {
            "line": {
             "colorbar": {
              "outlinewidth": 0,
              "ticks": ""
             }
            },
            "marker": {
             "colorbar": {
              "outlinewidth": 0,
              "ticks": ""
             }
            },
            "type": "scatter3d"
           }
          ],
          "scattercarpet": [
           {
            "marker": {
             "colorbar": {
              "outlinewidth": 0,
              "ticks": ""
             }
            },
            "type": "scattercarpet"
           }
          ],
          "scattergeo": [
           {
            "marker": {
             "colorbar": {
              "outlinewidth": 0,
              "ticks": ""
             }
            },
            "type": "scattergeo"
           }
          ],
          "scattergl": [
           {
            "marker": {
             "colorbar": {
              "outlinewidth": 0,
              "ticks": ""
             }
            },
            "type": "scattergl"
           }
          ],
          "scattermapbox": [
           {
            "marker": {
             "colorbar": {
              "outlinewidth": 0,
              "ticks": ""
             }
            },
            "type": "scattermapbox"
           }
          ],
          "scatterpolar": [
           {
            "marker": {
             "colorbar": {
              "outlinewidth": 0,
              "ticks": ""
             }
            },
            "type": "scatterpolar"
           }
          ],
          "scatterpolargl": [
           {
            "marker": {
             "colorbar": {
              "outlinewidth": 0,
              "ticks": ""
             }
            },
            "type": "scatterpolargl"
           }
          ],
          "scatterternary": [
           {
            "marker": {
             "colorbar": {
              "outlinewidth": 0,
              "ticks": ""
             }
            },
            "type": "scatterternary"
           }
          ],
          "surface": [
           {
            "colorbar": {
             "outlinewidth": 0,
             "ticks": ""
            },
            "colorscale": [
             [
              0,
              "#0d0887"
             ],
             [
              0.1111111111111111,
              "#46039f"
             ],
             [
              0.2222222222222222,
              "#7201a8"
             ],
             [
              0.3333333333333333,
              "#9c179e"
             ],
             [
              0.4444444444444444,
              "#bd3786"
             ],
             [
              0.5555555555555556,
              "#d8576b"
             ],
             [
              0.6666666666666666,
              "#ed7953"
             ],
             [
              0.7777777777777778,
              "#fb9f3a"
             ],
             [
              0.8888888888888888,
              "#fdca26"
             ],
             [
              1,
              "#f0f921"
             ]
            ],
            "type": "surface"
           }
          ],
          "table": [
           {
            "cells": {
             "fill": {
              "color": "#EBF0F8"
             },
             "line": {
              "color": "white"
             }
            },
            "header": {
             "fill": {
              "color": "#C8D4E3"
             },
             "line": {
              "color": "white"
             }
            },
            "type": "table"
           }
          ]
         },
         "layout": {
          "annotationdefaults": {
           "arrowcolor": "#2a3f5f",
           "arrowhead": 0,
           "arrowwidth": 1
          },
          "autotypenumbers": "strict",
          "coloraxis": {
           "colorbar": {
            "outlinewidth": 0,
            "ticks": ""
           }
          },
          "colorscale": {
           "diverging": [
            [
             0,
             "#8e0152"
            ],
            [
             0.1,
             "#c51b7d"
            ],
            [
             0.2,
             "#de77ae"
            ],
            [
             0.3,
             "#f1b6da"
            ],
            [
             0.4,
             "#fde0ef"
            ],
            [
             0.5,
             "#f7f7f7"
            ],
            [
             0.6,
             "#e6f5d0"
            ],
            [
             0.7,
             "#b8e186"
            ],
            [
             0.8,
             "#7fbc41"
            ],
            [
             0.9,
             "#4d9221"
            ],
            [
             1,
             "#276419"
            ]
           ],
           "sequential": [
            [
             0,
             "#0d0887"
            ],
            [
             0.1111111111111111,
             "#46039f"
            ],
            [
             0.2222222222222222,
             "#7201a8"
            ],
            [
             0.3333333333333333,
             "#9c179e"
            ],
            [
             0.4444444444444444,
             "#bd3786"
            ],
            [
             0.5555555555555556,
             "#d8576b"
            ],
            [
             0.6666666666666666,
             "#ed7953"
            ],
            [
             0.7777777777777778,
             "#fb9f3a"
            ],
            [
             0.8888888888888888,
             "#fdca26"
            ],
            [
             1,
             "#f0f921"
            ]
           ],
           "sequentialminus": [
            [
             0,
             "#0d0887"
            ],
            [
             0.1111111111111111,
             "#46039f"
            ],
            [
             0.2222222222222222,
             "#7201a8"
            ],
            [
             0.3333333333333333,
             "#9c179e"
            ],
            [
             0.4444444444444444,
             "#bd3786"
            ],
            [
             0.5555555555555556,
             "#d8576b"
            ],
            [
             0.6666666666666666,
             "#ed7953"
            ],
            [
             0.7777777777777778,
             "#fb9f3a"
            ],
            [
             0.8888888888888888,
             "#fdca26"
            ],
            [
             1,
             "#f0f921"
            ]
           ]
          },
          "colorway": [
           "#636efa",
           "#EF553B",
           "#00cc96",
           "#ab63fa",
           "#FFA15A",
           "#19d3f3",
           "#FF6692",
           "#B6E880",
           "#FF97FF",
           "#FECB52"
          ],
          "font": {
           "color": "#2a3f5f"
          },
          "geo": {
           "bgcolor": "white",
           "lakecolor": "white",
           "landcolor": "#E5ECF6",
           "showlakes": true,
           "showland": true,
           "subunitcolor": "white"
          },
          "hoverlabel": {
           "align": "left"
          },
          "hovermode": "closest",
          "mapbox": {
           "style": "light"
          },
          "paper_bgcolor": "white",
          "plot_bgcolor": "#E5ECF6",
          "polar": {
           "angularaxis": {
            "gridcolor": "white",
            "linecolor": "white",
            "ticks": ""
           },
           "bgcolor": "#E5ECF6",
           "radialaxis": {
            "gridcolor": "white",
            "linecolor": "white",
            "ticks": ""
           }
          },
          "scene": {
           "xaxis": {
            "backgroundcolor": "#E5ECF6",
            "gridcolor": "white",
            "gridwidth": 2,
            "linecolor": "white",
            "showbackground": true,
            "ticks": "",
            "zerolinecolor": "white"
           },
           "yaxis": {
            "backgroundcolor": "#E5ECF6",
            "gridcolor": "white",
            "gridwidth": 2,
            "linecolor": "white",
            "showbackground": true,
            "ticks": "",
            "zerolinecolor": "white"
           },
           "zaxis": {
            "backgroundcolor": "#E5ECF6",
            "gridcolor": "white",
            "gridwidth": 2,
            "linecolor": "white",
            "showbackground": true,
            "ticks": "",
            "zerolinecolor": "white"
           }
          },
          "shapedefaults": {
           "line": {
            "color": "#2a3f5f"
           }
          },
          "ternary": {
           "aaxis": {
            "gridcolor": "white",
            "linecolor": "white",
            "ticks": ""
           },
           "baxis": {
            "gridcolor": "white",
            "linecolor": "white",
            "ticks": ""
           },
           "bgcolor": "#E5ECF6",
           "caxis": {
            "gridcolor": "white",
            "linecolor": "white",
            "ticks": ""
           }
          },
          "title": {
           "x": 0.05
          },
          "xaxis": {
           "automargin": true,
           "gridcolor": "white",
           "linecolor": "white",
           "ticks": "",
           "title": {
            "standoff": 15
           },
           "zerolinecolor": "white",
           "zerolinewidth": 2
          },
          "yaxis": {
           "automargin": true,
           "gridcolor": "white",
           "linecolor": "white",
           "ticks": "",
           "title": {
            "standoff": 15
           },
           "zerolinecolor": "white",
           "zerolinewidth": 2
          }
         }
        },
        "title": {
         "text": "App installs Over Time by Marketing channel"
        },
        "width": 1000,
        "xaxis": {
         "title": {
          "text": "Date"
         }
        },
        "yaxis": {
         "title": {
          "text": "App Installs"
         }
        }
       }
      }
     },
     "metadata": {},
     "output_type": "display_data"
    }
   ],
   "source": [
    "\n",
    "# Example Usage\n",
    "create_grouped_line_chart(\n",
    "    df=df_channels_over_time[df_channels_over_time['country']=='DE'],\n",
    "    x_column=\"date\",\n",
    "    y_column=\"app_installs\",\n",
    "    group_column=\"marketing_channel\",\n",
    "    y_label=\"App Installs\"\n",
    ")\n"
   ]
  },
  {
   "cell_type": "code",
   "execution_count": 44,
   "id": "f732141a",
   "metadata": {},
   "outputs": [
    {
     "data": {
      "application/vnd.plotly.v1+json": {
       "config": {
        "plotlyServerURL": "https://plot.ly"
       },
       "data": [
        {
         "mode": "lines",
         "name": "Channel A",
         "type": "scatter",
         "x": [
          "2023-11-01",
          "2023-11-02",
          "2023-11-03",
          "2023-11-04",
          "2023-11-05",
          "2023-11-06",
          "2023-11-07",
          "2023-11-08",
          "2023-11-09",
          "2023-11-10",
          "2023-11-11",
          "2023-11-12",
          "2023-11-13",
          "2023-11-14",
          "2023-11-15",
          "2023-11-16",
          "2023-11-17",
          "2023-11-18",
          "2023-11-19",
          "2023-11-20",
          "2023-11-21",
          "2023-11-22",
          "2023-11-23",
          "2023-11-24",
          "2023-11-25",
          "2023-11-26",
          "2023-11-27",
          "2023-11-28",
          "2023-11-29",
          "2023-11-30"
         ],
         "y": [
          9.57,
          6.92,
          9.73,
          8.75,
          10.43,
          8.12,
          9.47,
          7.17,
          8.42,
          8.61,
          12.08,
          9.17,
          9.56,
          10.31,
          10.05,
          8.33,
          9.86,
          11.9,
          9.03,
          11.62,
          9.59,
          9.2,
          9.37,
          10.93,
          10.17,
          8.21,
          12.15,
          12.26,
          10.73,
          8.2
         ]
        },
        {
         "mode": "lines",
         "name": "Channel B",
         "type": "scatter",
         "x": [
          "2023-11-01",
          "2023-11-02",
          "2023-11-03",
          "2023-11-04",
          "2023-11-05",
          "2023-11-06",
          "2023-11-07",
          "2023-11-08",
          "2023-11-09",
          "2023-11-10",
          "2023-11-11",
          "2023-11-12",
          "2023-11-13",
          "2023-11-14",
          "2023-11-15",
          "2023-11-16",
          "2023-11-17",
          "2023-11-18",
          "2023-11-19",
          "2023-11-20",
          "2023-11-21",
          "2023-11-22",
          "2023-11-23",
          "2023-11-24",
          "2023-11-25",
          "2023-11-26",
          "2023-11-27",
          "2023-11-28",
          "2023-11-29",
          "2023-11-30"
         ],
         "y": [
          4.35,
          4.11,
          4.25,
          5.99,
          4.55,
          6.42,
          4.36,
          2.6,
          5.17,
          3.48,
          1.84,
          3.03,
          3.29,
          2.86,
          0.69,
          2.24,
          3.33,
          3.36,
          6.13,
          4.7,
          5.93,
          2.5,
          3.57,
          7.84,
          4.63,
          6.34,
          6.74,
          8.33,
          5.97,
          7.89
         ]
        },
        {
         "mode": "lines",
         "name": "Channel C",
         "type": "scatter",
         "x": [
          "2023-11-01",
          "2023-11-02",
          "2023-11-03",
          "2023-11-04",
          "2023-11-05",
          "2023-11-06",
          "2023-11-07",
          "2023-11-08",
          "2023-11-09",
          "2023-11-10",
          "2023-11-11",
          "2023-11-12",
          "2023-11-13",
          "2023-11-14",
          "2023-11-15",
          "2023-11-16",
          "2023-11-17",
          "2023-11-18",
          "2023-11-19",
          "2023-11-20",
          "2023-11-21",
          "2023-11-22",
          "2023-11-23",
          "2023-11-24",
          "2023-11-25",
          "2023-11-26",
          "2023-11-27",
          "2023-11-28",
          "2023-11-29",
          "2023-11-30"
         ],
         "y": [
          12.06,
          12.1,
          12.02,
          11.45,
          13.55,
          13.55,
          13.69,
          14.57,
          13.05,
          13.02,
          16.26,
          12.59,
          14.71,
          11.89,
          11.52,
          14.29,
          14.22,
          9.69,
          10.98,
          15.28,
          13.23,
          13.1,
          11.5,
          15.18,
          16.13,
          17.78,
          15.99,
          14.12,
          15.24,
          15.04
         ]
        },
        {
         "mode": "lines",
         "name": "Channel D",
         "type": "scatter",
         "x": [
          "2023-11-01",
          "2023-11-02",
          "2023-11-03",
          "2023-11-04",
          "2023-11-05",
          "2023-11-06",
          "2023-11-07",
          "2023-11-08",
          "2023-11-09",
          "2023-11-10",
          "2023-11-11",
          "2023-11-12",
          "2023-11-13",
          "2023-11-14",
          "2023-11-15",
          "2023-11-16",
          "2023-11-17",
          "2023-11-18",
          "2023-11-19",
          "2023-11-20",
          "2023-11-21",
          "2023-11-22",
          "2023-11-23",
          "2023-11-24",
          "2023-11-25",
          "2023-11-26",
          "2023-11-27",
          "2023-11-28",
          "2023-11-29",
          "2023-11-30"
         ],
         "y": [
          null,
          null,
          null,
          null,
          null,
          null,
          null,
          null,
          null,
          null,
          null,
          null,
          null,
          null,
          null,
          null,
          null,
          null,
          null,
          null,
          null,
          null,
          null,
          null,
          null,
          null,
          null,
          null,
          null,
          null
         ]
        },
        {
         "mode": "lines",
         "name": "Channel E",
         "type": "scatter",
         "x": [
          "2023-11-01",
          "2023-11-02",
          "2023-11-03",
          "2023-11-04",
          "2023-11-05",
          "2023-11-06",
          "2023-11-07",
          "2023-11-08",
          "2023-11-09",
          "2023-11-10",
          "2023-11-11",
          "2023-11-12",
          "2023-11-13",
          "2023-11-14",
          "2023-11-15",
          "2023-11-16",
          "2023-11-17",
          "2023-11-18",
          "2023-11-19",
          "2023-11-20",
          "2023-11-21",
          "2023-11-22",
          "2023-11-23",
          "2023-11-24",
          "2023-11-25",
          "2023-11-26",
          "2023-11-27",
          "2023-11-28",
          "2023-11-29",
          "2023-11-30"
         ],
         "y": [
          10.58,
          8.99,
          3.03,
          5,
          4.8,
          9.19,
          10.91,
          4.9,
          9.47,
          12.05,
          4.08,
          3.91,
          13.64,
          6.32,
          8.45,
          10.45,
          3.85,
          2.94,
          2.7,
          9.09,
          8,
          8.47,
          8.47,
          7.32,
          5.45,
          8.2,
          8,
          1.72,
          7.35,
          14.04
         ]
        }
       ],
       "layout": {
        "annotations": [
         {
          "arrowhead": 2,
          "ax": 0,
          "ay": -40,
          "showarrow": true,
          "text": "Black Friday",
          "x": "2023-11-24",
          "y": 17.78
         }
        ],
        "height": 600,
        "legend": {
         "title": {
          "text": "Marketing channel"
         }
        },
        "template": {
         "data": {
          "bar": [
           {
            "error_x": {
             "color": "#2a3f5f"
            },
            "error_y": {
             "color": "#2a3f5f"
            },
            "marker": {
             "line": {
              "color": "#E5ECF6",
              "width": 0.5
             },
             "pattern": {
              "fillmode": "overlay",
              "size": 10,
              "solidity": 0.2
             }
            },
            "type": "bar"
           }
          ],
          "barpolar": [
           {
            "marker": {
             "line": {
              "color": "#E5ECF6",
              "width": 0.5
             },
             "pattern": {
              "fillmode": "overlay",
              "size": 10,
              "solidity": 0.2
             }
            },
            "type": "barpolar"
           }
          ],
          "carpet": [
           {
            "aaxis": {
             "endlinecolor": "#2a3f5f",
             "gridcolor": "white",
             "linecolor": "white",
             "minorgridcolor": "white",
             "startlinecolor": "#2a3f5f"
            },
            "baxis": {
             "endlinecolor": "#2a3f5f",
             "gridcolor": "white",
             "linecolor": "white",
             "minorgridcolor": "white",
             "startlinecolor": "#2a3f5f"
            },
            "type": "carpet"
           }
          ],
          "choropleth": [
           {
            "colorbar": {
             "outlinewidth": 0,
             "ticks": ""
            },
            "type": "choropleth"
           }
          ],
          "contour": [
           {
            "colorbar": {
             "outlinewidth": 0,
             "ticks": ""
            },
            "colorscale": [
             [
              0,
              "#0d0887"
             ],
             [
              0.1111111111111111,
              "#46039f"
             ],
             [
              0.2222222222222222,
              "#7201a8"
             ],
             [
              0.3333333333333333,
              "#9c179e"
             ],
             [
              0.4444444444444444,
              "#bd3786"
             ],
             [
              0.5555555555555556,
              "#d8576b"
             ],
             [
              0.6666666666666666,
              "#ed7953"
             ],
             [
              0.7777777777777778,
              "#fb9f3a"
             ],
             [
              0.8888888888888888,
              "#fdca26"
             ],
             [
              1,
              "#f0f921"
             ]
            ],
            "type": "contour"
           }
          ],
          "contourcarpet": [
           {
            "colorbar": {
             "outlinewidth": 0,
             "ticks": ""
            },
            "type": "contourcarpet"
           }
          ],
          "heatmap": [
           {
            "colorbar": {
             "outlinewidth": 0,
             "ticks": ""
            },
            "colorscale": [
             [
              0,
              "#0d0887"
             ],
             [
              0.1111111111111111,
              "#46039f"
             ],
             [
              0.2222222222222222,
              "#7201a8"
             ],
             [
              0.3333333333333333,
              "#9c179e"
             ],
             [
              0.4444444444444444,
              "#bd3786"
             ],
             [
              0.5555555555555556,
              "#d8576b"
             ],
             [
              0.6666666666666666,
              "#ed7953"
             ],
             [
              0.7777777777777778,
              "#fb9f3a"
             ],
             [
              0.8888888888888888,
              "#fdca26"
             ],
             [
              1,
              "#f0f921"
             ]
            ],
            "type": "heatmap"
           }
          ],
          "heatmapgl": [
           {
            "colorbar": {
             "outlinewidth": 0,
             "ticks": ""
            },
            "colorscale": [
             [
              0,
              "#0d0887"
             ],
             [
              0.1111111111111111,
              "#46039f"
             ],
             [
              0.2222222222222222,
              "#7201a8"
             ],
             [
              0.3333333333333333,
              "#9c179e"
             ],
             [
              0.4444444444444444,
              "#bd3786"
             ],
             [
              0.5555555555555556,
              "#d8576b"
             ],
             [
              0.6666666666666666,
              "#ed7953"
             ],
             [
              0.7777777777777778,
              "#fb9f3a"
             ],
             [
              0.8888888888888888,
              "#fdca26"
             ],
             [
              1,
              "#f0f921"
             ]
            ],
            "type": "heatmapgl"
           }
          ],
          "histogram": [
           {
            "marker": {
             "pattern": {
              "fillmode": "overlay",
              "size": 10,
              "solidity": 0.2
             }
            },
            "type": "histogram"
           }
          ],
          "histogram2d": [
           {
            "colorbar": {
             "outlinewidth": 0,
             "ticks": ""
            },
            "colorscale": [
             [
              0,
              "#0d0887"
             ],
             [
              0.1111111111111111,
              "#46039f"
             ],
             [
              0.2222222222222222,
              "#7201a8"
             ],
             [
              0.3333333333333333,
              "#9c179e"
             ],
             [
              0.4444444444444444,
              "#bd3786"
             ],
             [
              0.5555555555555556,
              "#d8576b"
             ],
             [
              0.6666666666666666,
              "#ed7953"
             ],
             [
              0.7777777777777778,
              "#fb9f3a"
             ],
             [
              0.8888888888888888,
              "#fdca26"
             ],
             [
              1,
              "#f0f921"
             ]
            ],
            "type": "histogram2d"
           }
          ],
          "histogram2dcontour": [
           {
            "colorbar": {
             "outlinewidth": 0,
             "ticks": ""
            },
            "colorscale": [
             [
              0,
              "#0d0887"
             ],
             [
              0.1111111111111111,
              "#46039f"
             ],
             [
              0.2222222222222222,
              "#7201a8"
             ],
             [
              0.3333333333333333,
              "#9c179e"
             ],
             [
              0.4444444444444444,
              "#bd3786"
             ],
             [
              0.5555555555555556,
              "#d8576b"
             ],
             [
              0.6666666666666666,
              "#ed7953"
             ],
             [
              0.7777777777777778,
              "#fb9f3a"
             ],
             [
              0.8888888888888888,
              "#fdca26"
             ],
             [
              1,
              "#f0f921"
             ]
            ],
            "type": "histogram2dcontour"
           }
          ],
          "mesh3d": [
           {
            "colorbar": {
             "outlinewidth": 0,
             "ticks": ""
            },
            "type": "mesh3d"
           }
          ],
          "parcoords": [
           {
            "line": {
             "colorbar": {
              "outlinewidth": 0,
              "ticks": ""
             }
            },
            "type": "parcoords"
           }
          ],
          "pie": [
           {
            "automargin": true,
            "type": "pie"
           }
          ],
          "scatter": [
           {
            "fillpattern": {
             "fillmode": "overlay",
             "size": 10,
             "solidity": 0.2
            },
            "type": "scatter"
           }
          ],
          "scatter3d": [
           {
            "line": {
             "colorbar": {
              "outlinewidth": 0,
              "ticks": ""
             }
            },
            "marker": {
             "colorbar": {
              "outlinewidth": 0,
              "ticks": ""
             }
            },
            "type": "scatter3d"
           }
          ],
          "scattercarpet": [
           {
            "marker": {
             "colorbar": {
              "outlinewidth": 0,
              "ticks": ""
             }
            },
            "type": "scattercarpet"
           }
          ],
          "scattergeo": [
           {
            "marker": {
             "colorbar": {
              "outlinewidth": 0,
              "ticks": ""
             }
            },
            "type": "scattergeo"
           }
          ],
          "scattergl": [
           {
            "marker": {
             "colorbar": {
              "outlinewidth": 0,
              "ticks": ""
             }
            },
            "type": "scattergl"
           }
          ],
          "scattermapbox": [
           {
            "marker": {
             "colorbar": {
              "outlinewidth": 0,
              "ticks": ""
             }
            },
            "type": "scattermapbox"
           }
          ],
          "scatterpolar": [
           {
            "marker": {
             "colorbar": {
              "outlinewidth": 0,
              "ticks": ""
             }
            },
            "type": "scatterpolar"
           }
          ],
          "scatterpolargl": [
           {
            "marker": {
             "colorbar": {
              "outlinewidth": 0,
              "ticks": ""
             }
            },
            "type": "scatterpolargl"
           }
          ],
          "scatterternary": [
           {
            "marker": {
             "colorbar": {
              "outlinewidth": 0,
              "ticks": ""
             }
            },
            "type": "scatterternary"
           }
          ],
          "surface": [
           {
            "colorbar": {
             "outlinewidth": 0,
             "ticks": ""
            },
            "colorscale": [
             [
              0,
              "#0d0887"
             ],
             [
              0.1111111111111111,
              "#46039f"
             ],
             [
              0.2222222222222222,
              "#7201a8"
             ],
             [
              0.3333333333333333,
              "#9c179e"
             ],
             [
              0.4444444444444444,
              "#bd3786"
             ],
             [
              0.5555555555555556,
              "#d8576b"
             ],
             [
              0.6666666666666666,
              "#ed7953"
             ],
             [
              0.7777777777777778,
              "#fb9f3a"
             ],
             [
              0.8888888888888888,
              "#fdca26"
             ],
             [
              1,
              "#f0f921"
             ]
            ],
            "type": "surface"
           }
          ],
          "table": [
           {
            "cells": {
             "fill": {
              "color": "#EBF0F8"
             },
             "line": {
              "color": "white"
             }
            },
            "header": {
             "fill": {
              "color": "#C8D4E3"
             },
             "line": {
              "color": "white"
             }
            },
            "type": "table"
           }
          ]
         },
         "layout": {
          "annotationdefaults": {
           "arrowcolor": "#2a3f5f",
           "arrowhead": 0,
           "arrowwidth": 1
          },
          "autotypenumbers": "strict",
          "coloraxis": {
           "colorbar": {
            "outlinewidth": 0,
            "ticks": ""
           }
          },
          "colorscale": {
           "diverging": [
            [
             0,
             "#8e0152"
            ],
            [
             0.1,
             "#c51b7d"
            ],
            [
             0.2,
             "#de77ae"
            ],
            [
             0.3,
             "#f1b6da"
            ],
            [
             0.4,
             "#fde0ef"
            ],
            [
             0.5,
             "#f7f7f7"
            ],
            [
             0.6,
             "#e6f5d0"
            ],
            [
             0.7,
             "#b8e186"
            ],
            [
             0.8,
             "#7fbc41"
            ],
            [
             0.9,
             "#4d9221"
            ],
            [
             1,
             "#276419"
            ]
           ],
           "sequential": [
            [
             0,
             "#0d0887"
            ],
            [
             0.1111111111111111,
             "#46039f"
            ],
            [
             0.2222222222222222,
             "#7201a8"
            ],
            [
             0.3333333333333333,
             "#9c179e"
            ],
            [
             0.4444444444444444,
             "#bd3786"
            ],
            [
             0.5555555555555556,
             "#d8576b"
            ],
            [
             0.6666666666666666,
             "#ed7953"
            ],
            [
             0.7777777777777778,
             "#fb9f3a"
            ],
            [
             0.8888888888888888,
             "#fdca26"
            ],
            [
             1,
             "#f0f921"
            ]
           ],
           "sequentialminus": [
            [
             0,
             "#0d0887"
            ],
            [
             0.1111111111111111,
             "#46039f"
            ],
            [
             0.2222222222222222,
             "#7201a8"
            ],
            [
             0.3333333333333333,
             "#9c179e"
            ],
            [
             0.4444444444444444,
             "#bd3786"
            ],
            [
             0.5555555555555556,
             "#d8576b"
            ],
            [
             0.6666666666666666,
             "#ed7953"
            ],
            [
             0.7777777777777778,
             "#fb9f3a"
            ],
            [
             0.8888888888888888,
             "#fdca26"
            ],
            [
             1,
             "#f0f921"
            ]
           ]
          },
          "colorway": [
           "#636efa",
           "#EF553B",
           "#00cc96",
           "#ab63fa",
           "#FFA15A",
           "#19d3f3",
           "#FF6692",
           "#B6E880",
           "#FF97FF",
           "#FECB52"
          ],
          "font": {
           "color": "#2a3f5f"
          },
          "geo": {
           "bgcolor": "white",
           "lakecolor": "white",
           "landcolor": "#E5ECF6",
           "showlakes": true,
           "showland": true,
           "subunitcolor": "white"
          },
          "hoverlabel": {
           "align": "left"
          },
          "hovermode": "closest",
          "mapbox": {
           "style": "light"
          },
          "paper_bgcolor": "white",
          "plot_bgcolor": "#E5ECF6",
          "polar": {
           "angularaxis": {
            "gridcolor": "white",
            "linecolor": "white",
            "ticks": ""
           },
           "bgcolor": "#E5ECF6",
           "radialaxis": {
            "gridcolor": "white",
            "linecolor": "white",
            "ticks": ""
           }
          },
          "scene": {
           "xaxis": {
            "backgroundcolor": "#E5ECF6",
            "gridcolor": "white",
            "gridwidth": 2,
            "linecolor": "white",
            "showbackground": true,
            "ticks": "",
            "zerolinecolor": "white"
           },
           "yaxis": {
            "backgroundcolor": "#E5ECF6",
            "gridcolor": "white",
            "gridwidth": 2,
            "linecolor": "white",
            "showbackground": true,
            "ticks": "",
            "zerolinecolor": "white"
           },
           "zaxis": {
            "backgroundcolor": "#E5ECF6",
            "gridcolor": "white",
            "gridwidth": 2,
            "linecolor": "white",
            "showbackground": true,
            "ticks": "",
            "zerolinecolor": "white"
           }
          },
          "shapedefaults": {
           "line": {
            "color": "#2a3f5f"
           }
          },
          "ternary": {
           "aaxis": {
            "gridcolor": "white",
            "linecolor": "white",
            "ticks": ""
           },
           "baxis": {
            "gridcolor": "white",
            "linecolor": "white",
            "ticks": ""
           },
           "bgcolor": "#E5ECF6",
           "caxis": {
            "gridcolor": "white",
            "linecolor": "white",
            "ticks": ""
           }
          },
          "title": {
           "x": 0.05
          },
          "xaxis": {
           "automargin": true,
           "gridcolor": "white",
           "linecolor": "white",
           "ticks": "",
           "title": {
            "standoff": 15
           },
           "zerolinecolor": "white",
           "zerolinewidth": 2
          },
          "yaxis": {
           "automargin": true,
           "gridcolor": "white",
           "linecolor": "white",
           "ticks": "",
           "title": {
            "standoff": 15
           },
           "zerolinecolor": "white",
           "zerolinewidth": 2
          }
         }
        },
        "title": {
         "text": "Install to conversion rate Over Time by Marketing channel"
        },
        "width": 1000,
        "xaxis": {
         "title": {
          "text": "Date"
         }
        },
        "yaxis": {
         "title": {
          "text": "Install to Conversion rate"
         }
        }
       }
      }
     },
     "metadata": {},
     "output_type": "display_data"
    }
   ],
   "source": [
    "create_grouped_line_chart(\n",
    "    df=df_channels_over_time[df_channels_over_time['country']=='DE'],\n",
    "    x_column=\"date\",\n",
    "    y_column=\"install_to_conversion_rate\",\n",
    "    group_column=\"marketing_channel\",\n",
    "    y_label=\"Install to Conversion rate\"\n",
    ")\n"
   ]
  },
  {
   "cell_type": "code",
   "execution_count": 45,
   "id": "f1677837",
   "metadata": {},
   "outputs": [
    {
     "data": {
      "application/vnd.plotly.v1+json": {
       "config": {
        "plotlyServerURL": "https://plot.ly"
       },
       "data": [
        {
         "mode": "lines",
         "name": "Channel A",
         "type": "scatter",
         "x": [
          "2023-11-01",
          "2023-11-02",
          "2023-11-03",
          "2023-11-04",
          "2023-11-05",
          "2023-11-06",
          "2023-11-07",
          "2023-11-08",
          "2023-11-09",
          "2023-11-10",
          "2023-11-11",
          "2023-11-12",
          "2023-11-13",
          "2023-11-14",
          "2023-11-15",
          "2023-11-16",
          "2023-11-17",
          "2023-11-18",
          "2023-11-19",
          "2023-11-20",
          "2023-11-21",
          "2023-11-22",
          "2023-11-23",
          "2023-11-24",
          "2023-11-25",
          "2023-11-26",
          "2023-11-27",
          "2023-11-28",
          "2023-11-29",
          "2023-11-30"
         ],
         "y": [
          2.37,
          2.31,
          2.24,
          2.08,
          2.12,
          1.94,
          1.83,
          1.74,
          1.84,
          1.99,
          1.77,
          1.59,
          1.54,
          1.91,
          1.8,
          1.76,
          2.04,
          1.87,
          2.05,
          1.85,
          1.81,
          1.98,
          2.38,
          2.5,
          2.18,
          2.14,
          1.91,
          2.22,
          1.97,
          2.36
         ]
        },
        {
         "mode": "lines",
         "name": "Channel B",
         "type": "scatter",
         "x": [
          "2023-11-01",
          "2023-11-02",
          "2023-11-03",
          "2023-11-04",
          "2023-11-05",
          "2023-11-06",
          "2023-11-07",
          "2023-11-08",
          "2023-11-09",
          "2023-11-10",
          "2023-11-11",
          "2023-11-12",
          "2023-11-13",
          "2023-11-14",
          "2023-11-15",
          "2023-11-16",
          "2023-11-17",
          "2023-11-18",
          "2023-11-19",
          "2023-11-20",
          "2023-11-21",
          "2023-11-22",
          "2023-11-23",
          "2023-11-24",
          "2023-11-25",
          "2023-11-26",
          "2023-11-27",
          "2023-11-28",
          "2023-11-29",
          "2023-11-30"
         ],
         "y": [
          4.73,
          6.71,
          7.86,
          6.73,
          5.67,
          5.68,
          4.78,
          6.82,
          7.77,
          6.83,
          4.73,
          4.62,
          4.86,
          5.15,
          4.84,
          5.29,
          6.02,
          6.06,
          4.59,
          4.92,
          5.29,
          5.65,
          6.14,
          7,
          6.49,
          5.4,
          6.35,
          5.91,
          7.36,
          6.79
         ]
        },
        {
         "mode": "lines",
         "name": "Channel C",
         "type": "scatter",
         "x": [
          "2023-11-01",
          "2023-11-02",
          "2023-11-03",
          "2023-11-04",
          "2023-11-05",
          "2023-11-06",
          "2023-11-07",
          "2023-11-08",
          "2023-11-09",
          "2023-11-10",
          "2023-11-11",
          "2023-11-12",
          "2023-11-13",
          "2023-11-14",
          "2023-11-15",
          "2023-11-16",
          "2023-11-17",
          "2023-11-18",
          "2023-11-19",
          "2023-11-20",
          "2023-11-21",
          "2023-11-22",
          "2023-11-23",
          "2023-11-24",
          "2023-11-25",
          "2023-11-26",
          "2023-11-27",
          "2023-11-28",
          "2023-11-29",
          "2023-11-30"
         ],
         "y": [
          1.44,
          1.76,
          1.82,
          1.92,
          1.89,
          1.97,
          1.53,
          1.64,
          1.47,
          1.53,
          1.54,
          1.58,
          1.43,
          1.42,
          1.34,
          1.4,
          1.42,
          1.52,
          1.31,
          1.6,
          1.78,
          1.68,
          1.56,
          1.6,
          1.48,
          1.63,
          1.64,
          1.64,
          1.55,
          1.59
         ]
        },
        {
         "mode": "lines",
         "name": "Channel D",
         "type": "scatter",
         "x": [
          "2023-11-01",
          "2023-11-02",
          "2023-11-03",
          "2023-11-04",
          "2023-11-05",
          "2023-11-06",
          "2023-11-07",
          "2023-11-08",
          "2023-11-09",
          "2023-11-10",
          "2023-11-11",
          "2023-11-12",
          "2023-11-13",
          "2023-11-14",
          "2023-11-15",
          "2023-11-16",
          "2023-11-17",
          "2023-11-18",
          "2023-11-19",
          "2023-11-20",
          "2023-11-21",
          "2023-11-22",
          "2023-11-23",
          "2023-11-24",
          "2023-11-25",
          "2023-11-26",
          "2023-11-27",
          "2023-11-28",
          "2023-11-29",
          "2023-11-30"
         ],
         "y": [
          null,
          null,
          null,
          null,
          null,
          null,
          null,
          null,
          null,
          null,
          null,
          null,
          null,
          null,
          null,
          null,
          null,
          null,
          null,
          null,
          null,
          null,
          null,
          null,
          null,
          null,
          null,
          null,
          null,
          null
         ]
        },
        {
         "mode": "lines",
         "name": "Channel E",
         "type": "scatter",
         "x": [
          "2023-11-01",
          "2023-11-02",
          "2023-11-03",
          "2023-11-04",
          "2023-11-05",
          "2023-11-06",
          "2023-11-07",
          "2023-11-08",
          "2023-11-09",
          "2023-11-10",
          "2023-11-11",
          "2023-11-12",
          "2023-11-13",
          "2023-11-14",
          "2023-11-15",
          "2023-11-16",
          "2023-11-17",
          "2023-11-18",
          "2023-11-19",
          "2023-11-20",
          "2023-11-21",
          "2023-11-22",
          "2023-11-23",
          "2023-11-24",
          "2023-11-25",
          "2023-11-26",
          "2023-11-27",
          "2023-11-28",
          "2023-11-29",
          "2023-11-30"
         ],
         "y": [
          4.91,
          5.62,
          7.33,
          6,
          1.37,
          2.6,
          4.37,
          4.62,
          5.11,
          5.92,
          4.97,
          3.88,
          5.63,
          5.06,
          6.66,
          7.03,
          5.97,
          4.58,
          6.46,
          1.25,
          9.71,
          8.59,
          8.87,
          13.25,
          9.74,
          8.61,
          10.64,
          9.2,
          7.1,
          8.37
         ]
        }
       ],
       "layout": {
        "annotations": [
         {
          "arrowhead": 2,
          "ax": 0,
          "ay": -40,
          "showarrow": true,
          "text": "Black Friday",
          "x": "2023-11-24",
          "y": 13.25
         }
        ],
        "height": 600,
        "legend": {
         "title": {
          "text": "Marketing channel"
         }
        },
        "template": {
         "data": {
          "bar": [
           {
            "error_x": {
             "color": "#2a3f5f"
            },
            "error_y": {
             "color": "#2a3f5f"
            },
            "marker": {
             "line": {
              "color": "#E5ECF6",
              "width": 0.5
             },
             "pattern": {
              "fillmode": "overlay",
              "size": 10,
              "solidity": 0.2
             }
            },
            "type": "bar"
           }
          ],
          "barpolar": [
           {
            "marker": {
             "line": {
              "color": "#E5ECF6",
              "width": 0.5
             },
             "pattern": {
              "fillmode": "overlay",
              "size": 10,
              "solidity": 0.2
             }
            },
            "type": "barpolar"
           }
          ],
          "carpet": [
           {
            "aaxis": {
             "endlinecolor": "#2a3f5f",
             "gridcolor": "white",
             "linecolor": "white",
             "minorgridcolor": "white",
             "startlinecolor": "#2a3f5f"
            },
            "baxis": {
             "endlinecolor": "#2a3f5f",
             "gridcolor": "white",
             "linecolor": "white",
             "minorgridcolor": "white",
             "startlinecolor": "#2a3f5f"
            },
            "type": "carpet"
           }
          ],
          "choropleth": [
           {
            "colorbar": {
             "outlinewidth": 0,
             "ticks": ""
            },
            "type": "choropleth"
           }
          ],
          "contour": [
           {
            "colorbar": {
             "outlinewidth": 0,
             "ticks": ""
            },
            "colorscale": [
             [
              0,
              "#0d0887"
             ],
             [
              0.1111111111111111,
              "#46039f"
             ],
             [
              0.2222222222222222,
              "#7201a8"
             ],
             [
              0.3333333333333333,
              "#9c179e"
             ],
             [
              0.4444444444444444,
              "#bd3786"
             ],
             [
              0.5555555555555556,
              "#d8576b"
             ],
             [
              0.6666666666666666,
              "#ed7953"
             ],
             [
              0.7777777777777778,
              "#fb9f3a"
             ],
             [
              0.8888888888888888,
              "#fdca26"
             ],
             [
              1,
              "#f0f921"
             ]
            ],
            "type": "contour"
           }
          ],
          "contourcarpet": [
           {
            "colorbar": {
             "outlinewidth": 0,
             "ticks": ""
            },
            "type": "contourcarpet"
           }
          ],
          "heatmap": [
           {
            "colorbar": {
             "outlinewidth": 0,
             "ticks": ""
            },
            "colorscale": [
             [
              0,
              "#0d0887"
             ],
             [
              0.1111111111111111,
              "#46039f"
             ],
             [
              0.2222222222222222,
              "#7201a8"
             ],
             [
              0.3333333333333333,
              "#9c179e"
             ],
             [
              0.4444444444444444,
              "#bd3786"
             ],
             [
              0.5555555555555556,
              "#d8576b"
             ],
             [
              0.6666666666666666,
              "#ed7953"
             ],
             [
              0.7777777777777778,
              "#fb9f3a"
             ],
             [
              0.8888888888888888,
              "#fdca26"
             ],
             [
              1,
              "#f0f921"
             ]
            ],
            "type": "heatmap"
           }
          ],
          "heatmapgl": [
           {
            "colorbar": {
             "outlinewidth": 0,
             "ticks": ""
            },
            "colorscale": [
             [
              0,
              "#0d0887"
             ],
             [
              0.1111111111111111,
              "#46039f"
             ],
             [
              0.2222222222222222,
              "#7201a8"
             ],
             [
              0.3333333333333333,
              "#9c179e"
             ],
             [
              0.4444444444444444,
              "#bd3786"
             ],
             [
              0.5555555555555556,
              "#d8576b"
             ],
             [
              0.6666666666666666,
              "#ed7953"
             ],
             [
              0.7777777777777778,
              "#fb9f3a"
             ],
             [
              0.8888888888888888,
              "#fdca26"
             ],
             [
              1,
              "#f0f921"
             ]
            ],
            "type": "heatmapgl"
           }
          ],
          "histogram": [
           {
            "marker": {
             "pattern": {
              "fillmode": "overlay",
              "size": 10,
              "solidity": 0.2
             }
            },
            "type": "histogram"
           }
          ],
          "histogram2d": [
           {
            "colorbar": {
             "outlinewidth": 0,
             "ticks": ""
            },
            "colorscale": [
             [
              0,
              "#0d0887"
             ],
             [
              0.1111111111111111,
              "#46039f"
             ],
             [
              0.2222222222222222,
              "#7201a8"
             ],
             [
              0.3333333333333333,
              "#9c179e"
             ],
             [
              0.4444444444444444,
              "#bd3786"
             ],
             [
              0.5555555555555556,
              "#d8576b"
             ],
             [
              0.6666666666666666,
              "#ed7953"
             ],
             [
              0.7777777777777778,
              "#fb9f3a"
             ],
             [
              0.8888888888888888,
              "#fdca26"
             ],
             [
              1,
              "#f0f921"
             ]
            ],
            "type": "histogram2d"
           }
          ],
          "histogram2dcontour": [
           {
            "colorbar": {
             "outlinewidth": 0,
             "ticks": ""
            },
            "colorscale": [
             [
              0,
              "#0d0887"
             ],
             [
              0.1111111111111111,
              "#46039f"
             ],
             [
              0.2222222222222222,
              "#7201a8"
             ],
             [
              0.3333333333333333,
              "#9c179e"
             ],
             [
              0.4444444444444444,
              "#bd3786"
             ],
             [
              0.5555555555555556,
              "#d8576b"
             ],
             [
              0.6666666666666666,
              "#ed7953"
             ],
             [
              0.7777777777777778,
              "#fb9f3a"
             ],
             [
              0.8888888888888888,
              "#fdca26"
             ],
             [
              1,
              "#f0f921"
             ]
            ],
            "type": "histogram2dcontour"
           }
          ],
          "mesh3d": [
           {
            "colorbar": {
             "outlinewidth": 0,
             "ticks": ""
            },
            "type": "mesh3d"
           }
          ],
          "parcoords": [
           {
            "line": {
             "colorbar": {
              "outlinewidth": 0,
              "ticks": ""
             }
            },
            "type": "parcoords"
           }
          ],
          "pie": [
           {
            "automargin": true,
            "type": "pie"
           }
          ],
          "scatter": [
           {
            "fillpattern": {
             "fillmode": "overlay",
             "size": 10,
             "solidity": 0.2
            },
            "type": "scatter"
           }
          ],
          "scatter3d": [
           {
            "line": {
             "colorbar": {
              "outlinewidth": 0,
              "ticks": ""
             }
            },
            "marker": {
             "colorbar": {
              "outlinewidth": 0,
              "ticks": ""
             }
            },
            "type": "scatter3d"
           }
          ],
          "scattercarpet": [
           {
            "marker": {
             "colorbar": {
              "outlinewidth": 0,
              "ticks": ""
             }
            },
            "type": "scattercarpet"
           }
          ],
          "scattergeo": [
           {
            "marker": {
             "colorbar": {
              "outlinewidth": 0,
              "ticks": ""
             }
            },
            "type": "scattergeo"
           }
          ],
          "scattergl": [
           {
            "marker": {
             "colorbar": {
              "outlinewidth": 0,
              "ticks": ""
             }
            },
            "type": "scattergl"
           }
          ],
          "scattermapbox": [
           {
            "marker": {
             "colorbar": {
              "outlinewidth": 0,
              "ticks": ""
             }
            },
            "type": "scattermapbox"
           }
          ],
          "scatterpolar": [
           {
            "marker": {
             "colorbar": {
              "outlinewidth": 0,
              "ticks": ""
             }
            },
            "type": "scatterpolar"
           }
          ],
          "scatterpolargl": [
           {
            "marker": {
             "colorbar": {
              "outlinewidth": 0,
              "ticks": ""
             }
            },
            "type": "scatterpolargl"
           }
          ],
          "scatterternary": [
           {
            "marker": {
             "colorbar": {
              "outlinewidth": 0,
              "ticks": ""
             }
            },
            "type": "scatterternary"
           }
          ],
          "surface": [
           {
            "colorbar": {
             "outlinewidth": 0,
             "ticks": ""
            },
            "colorscale": [
             [
              0,
              "#0d0887"
             ],
             [
              0.1111111111111111,
              "#46039f"
             ],
             [
              0.2222222222222222,
              "#7201a8"
             ],
             [
              0.3333333333333333,
              "#9c179e"
             ],
             [
              0.4444444444444444,
              "#bd3786"
             ],
             [
              0.5555555555555556,
              "#d8576b"
             ],
             [
              0.6666666666666666,
              "#ed7953"
             ],
             [
              0.7777777777777778,
              "#fb9f3a"
             ],
             [
              0.8888888888888888,
              "#fdca26"
             ],
             [
              1,
              "#f0f921"
             ]
            ],
            "type": "surface"
           }
          ],
          "table": [
           {
            "cells": {
             "fill": {
              "color": "#EBF0F8"
             },
             "line": {
              "color": "white"
             }
            },
            "header": {
             "fill": {
              "color": "#C8D4E3"
             },
             "line": {
              "color": "white"
             }
            },
            "type": "table"
           }
          ]
         },
         "layout": {
          "annotationdefaults": {
           "arrowcolor": "#2a3f5f",
           "arrowhead": 0,
           "arrowwidth": 1
          },
          "autotypenumbers": "strict",
          "coloraxis": {
           "colorbar": {
            "outlinewidth": 0,
            "ticks": ""
           }
          },
          "colorscale": {
           "diverging": [
            [
             0,
             "#8e0152"
            ],
            [
             0.1,
             "#c51b7d"
            ],
            [
             0.2,
             "#de77ae"
            ],
            [
             0.3,
             "#f1b6da"
            ],
            [
             0.4,
             "#fde0ef"
            ],
            [
             0.5,
             "#f7f7f7"
            ],
            [
             0.6,
             "#e6f5d0"
            ],
            [
             0.7,
             "#b8e186"
            ],
            [
             0.8,
             "#7fbc41"
            ],
            [
             0.9,
             "#4d9221"
            ],
            [
             1,
             "#276419"
            ]
           ],
           "sequential": [
            [
             0,
             "#0d0887"
            ],
            [
             0.1111111111111111,
             "#46039f"
            ],
            [
             0.2222222222222222,
             "#7201a8"
            ],
            [
             0.3333333333333333,
             "#9c179e"
            ],
            [
             0.4444444444444444,
             "#bd3786"
            ],
            [
             0.5555555555555556,
             "#d8576b"
            ],
            [
             0.6666666666666666,
             "#ed7953"
            ],
            [
             0.7777777777777778,
             "#fb9f3a"
            ],
            [
             0.8888888888888888,
             "#fdca26"
            ],
            [
             1,
             "#f0f921"
            ]
           ],
           "sequentialminus": [
            [
             0,
             "#0d0887"
            ],
            [
             0.1111111111111111,
             "#46039f"
            ],
            [
             0.2222222222222222,
             "#7201a8"
            ],
            [
             0.3333333333333333,
             "#9c179e"
            ],
            [
             0.4444444444444444,
             "#bd3786"
            ],
            [
             0.5555555555555556,
             "#d8576b"
            ],
            [
             0.6666666666666666,
             "#ed7953"
            ],
            [
             0.7777777777777778,
             "#fb9f3a"
            ],
            [
             0.8888888888888888,
             "#fdca26"
            ],
            [
             1,
             "#f0f921"
            ]
           ]
          },
          "colorway": [
           "#636efa",
           "#EF553B",
           "#00cc96",
           "#ab63fa",
           "#FFA15A",
           "#19d3f3",
           "#FF6692",
           "#B6E880",
           "#FF97FF",
           "#FECB52"
          ],
          "font": {
           "color": "#2a3f5f"
          },
          "geo": {
           "bgcolor": "white",
           "lakecolor": "white",
           "landcolor": "#E5ECF6",
           "showlakes": true,
           "showland": true,
           "subunitcolor": "white"
          },
          "hoverlabel": {
           "align": "left"
          },
          "hovermode": "closest",
          "mapbox": {
           "style": "light"
          },
          "paper_bgcolor": "white",
          "plot_bgcolor": "#E5ECF6",
          "polar": {
           "angularaxis": {
            "gridcolor": "white",
            "linecolor": "white",
            "ticks": ""
           },
           "bgcolor": "#E5ECF6",
           "radialaxis": {
            "gridcolor": "white",
            "linecolor": "white",
            "ticks": ""
           }
          },
          "scene": {
           "xaxis": {
            "backgroundcolor": "#E5ECF6",
            "gridcolor": "white",
            "gridwidth": 2,
            "linecolor": "white",
            "showbackground": true,
            "ticks": "",
            "zerolinecolor": "white"
           },
           "yaxis": {
            "backgroundcolor": "#E5ECF6",
            "gridcolor": "white",
            "gridwidth": 2,
            "linecolor": "white",
            "showbackground": true,
            "ticks": "",
            "zerolinecolor": "white"
           },
           "zaxis": {
            "backgroundcolor": "#E5ECF6",
            "gridcolor": "white",
            "gridwidth": 2,
            "linecolor": "white",
            "showbackground": true,
            "ticks": "",
            "zerolinecolor": "white"
           }
          },
          "shapedefaults": {
           "line": {
            "color": "#2a3f5f"
           }
          },
          "ternary": {
           "aaxis": {
            "gridcolor": "white",
            "linecolor": "white",
            "ticks": ""
           },
           "baxis": {
            "gridcolor": "white",
            "linecolor": "white",
            "ticks": ""
           },
           "bgcolor": "#E5ECF6",
           "caxis": {
            "gridcolor": "white",
            "linecolor": "white",
            "ticks": ""
           }
          },
          "title": {
           "x": 0.05
          },
          "xaxis": {
           "automargin": true,
           "gridcolor": "white",
           "linecolor": "white",
           "ticks": "",
           "title": {
            "standoff": 15
           },
           "zerolinecolor": "white",
           "zerolinewidth": 2
          },
          "yaxis": {
           "automargin": true,
           "gridcolor": "white",
           "linecolor": "white",
           "ticks": "",
           "title": {
            "standoff": 15
           },
           "zerolinecolor": "white",
           "zerolinewidth": 2
          }
         }
        },
        "title": {
         "text": "Cpi Over Time by Marketing channel"
        },
        "width": 1000,
        "xaxis": {
         "title": {
          "text": "Date"
         }
        },
        "yaxis": {
         "title": {
          "text": "Cost per Install"
         }
        }
       }
      }
     },
     "metadata": {},
     "output_type": "display_data"
    }
   ],
   "source": [
    "create_grouped_line_chart(\n",
    "    df=df_channels_over_time[df_channels_over_time['country']=='DE'],\n",
    "    x_column=\"date\",\n",
    "    y_column=\"cpi\",\n",
    "    group_column=\"marketing_channel\",\n",
    "    y_label=\"Cost per Install\"\n",
    ")"
   ]
  },
  {
   "cell_type": "code",
   "execution_count": 46,
   "id": "44a05b0a",
   "metadata": {},
   "outputs": [
    {
     "data": {
      "application/vnd.plotly.v1+json": {
       "config": {
        "plotlyServerURL": "https://plot.ly"
       },
       "data": [
        {
         "mode": "lines",
         "name": "Channel A",
         "type": "scatter",
         "x": [
          "2023-11-01",
          "2023-11-02",
          "2023-11-03",
          "2023-11-04",
          "2023-11-05",
          "2023-11-06",
          "2023-11-07",
          "2023-11-08",
          "2023-11-09",
          "2023-11-10",
          "2023-11-11",
          "2023-11-12",
          "2023-11-13",
          "2023-11-14",
          "2023-11-15",
          "2023-11-16",
          "2023-11-17",
          "2023-11-18",
          "2023-11-19",
          "2023-11-20",
          "2023-11-21",
          "2023-11-22",
          "2023-11-23",
          "2023-11-24",
          "2023-11-25",
          "2023-11-26",
          "2023-11-27",
          "2023-11-28",
          "2023-11-29",
          "2023-11-30"
         ],
         "y": [
          559.66,
          -18.99,
          465.11,
          227.89,
          902.22,
          524.86,
          751.48,
          448.42,
          505.62,
          359.12,
          711.94,
          996.53,
          1035.74,
          845.72,
          677.48,
          442.52,
          186.07,
          573.25,
          471.21,
          1092.52,
          665.06,
          472.55,
          115.68,
          -127.16,
          188.04,
          -9.67,
          512.97,
          467.29,
          396.94,
          -171.16
         ]
        },
        {
         "mode": "lines",
         "name": "Channel B",
         "type": "scatter",
         "x": [
          "2023-11-01",
          "2023-11-02",
          "2023-11-03",
          "2023-11-04",
          "2023-11-05",
          "2023-11-06",
          "2023-11-07",
          "2023-11-08",
          "2023-11-09",
          "2023-11-10",
          "2023-11-11",
          "2023-11-12",
          "2023-11-13",
          "2023-11-14",
          "2023-11-15",
          "2023-11-16",
          "2023-11-17",
          "2023-11-18",
          "2023-11-19",
          "2023-11-20",
          "2023-11-21",
          "2023-11-22",
          "2023-11-23",
          "2023-11-24",
          "2023-11-25",
          "2023-11-26",
          "2023-11-27",
          "2023-11-28",
          "2023-11-29",
          "2023-11-30"
         ],
         "y": [
          -1110.14,
          -1562.34,
          -1725.87,
          -1485.58,
          -1607.27,
          -1029.54,
          -1023.91,
          -871.13,
          -699.66,
          -704.59,
          -681.27,
          -570.73,
          -615.98,
          -563.8,
          -672.32,
          -583.6,
          -582.23,
          -628.85,
          -422.21,
          -469.03,
          -444.46,
          -607.63,
          -506.79,
          -497.2,
          -576.61,
          -625.1,
          -375.92,
          -336.88,
          -349.08,
          -321.95
         ]
        },
        {
         "mode": "lines",
         "name": "Channel C",
         "type": "scatter",
         "x": [
          "2023-11-01",
          "2023-11-02",
          "2023-11-03",
          "2023-11-04",
          "2023-11-05",
          "2023-11-06",
          "2023-11-07",
          "2023-11-08",
          "2023-11-09",
          "2023-11-10",
          "2023-11-11",
          "2023-11-12",
          "2023-11-13",
          "2023-11-14",
          "2023-11-15",
          "2023-11-16",
          "2023-11-17",
          "2023-11-18",
          "2023-11-19",
          "2023-11-20",
          "2023-11-21",
          "2023-11-22",
          "2023-11-23",
          "2023-11-24",
          "2023-11-25",
          "2023-11-26",
          "2023-11-27",
          "2023-11-28",
          "2023-11-29",
          "2023-11-30"
         ],
         "y": [
          2367.54,
          1634.91,
          1418.33,
          1322.5,
          1744.56,
          1347.99,
          1871.49,
          1628.88,
          1540.35,
          1267.02,
          1209.01,
          1719.04,
          2395.3,
          1531.97,
          1710.63,
          1731.15,
          1575.14,
          246.38,
          1674.22,
          2193.5,
          1700.45,
          2258.75,
          1843.17,
          1911.18,
          1948.73,
          2425.66,
          1998.25,
          1802.46,
          1779.83,
          1655.96
         ]
        },
        {
         "mode": "lines",
         "name": "Channel D",
         "type": "scatter",
         "x": [
          "2023-11-01",
          "2023-11-02",
          "2023-11-03",
          "2023-11-04",
          "2023-11-05",
          "2023-11-06",
          "2023-11-07",
          "2023-11-08",
          "2023-11-09",
          "2023-11-10",
          "2023-11-11",
          "2023-11-12",
          "2023-11-13",
          "2023-11-14",
          "2023-11-15",
          "2023-11-16",
          "2023-11-17",
          "2023-11-18",
          "2023-11-19",
          "2023-11-20",
          "2023-11-21",
          "2023-11-22",
          "2023-11-23",
          "2023-11-24",
          "2023-11-25",
          "2023-11-26",
          "2023-11-27",
          "2023-11-28",
          "2023-11-29",
          "2023-11-30"
         ],
         "y": [
          -6.14,
          -6.14,
          -6.18,
          -6.13,
          -863.17,
          -862.28,
          -860.41,
          -861.6,
          -861.52,
          -865.25,
          -864.36,
          -6.12,
          -6.14,
          -6.23,
          -6.12,
          -6.13,
          -6.17,
          -6.13,
          -3254.9,
          -6.14,
          -6.13,
          -2007.32,
          -6.13,
          -6.13,
          -6.13,
          -6.13,
          -6.13,
          -6.13,
          -6.13,
          -1077.35
         ]
        },
        {
         "mode": "lines",
         "name": "Channel E",
         "type": "scatter",
         "x": [
          "2023-11-01",
          "2023-11-02",
          "2023-11-03",
          "2023-11-04",
          "2023-11-05",
          "2023-11-06",
          "2023-11-07",
          "2023-11-08",
          "2023-11-09",
          "2023-11-10",
          "2023-11-11",
          "2023-11-12",
          "2023-11-13",
          "2023-11-14",
          "2023-11-15",
          "2023-11-16",
          "2023-11-17",
          "2023-11-18",
          "2023-11-19",
          "2023-11-20",
          "2023-11-21",
          "2023-11-22",
          "2023-11-23",
          "2023-11-24",
          "2023-11-25",
          "2023-11-26",
          "2023-11-27",
          "2023-11-28",
          "2023-11-29",
          "2023-11-30"
         ],
         "y": [
          -160.49,
          -213.23,
          -397.91,
          -364.59,
          14.67,
          95.41,
          -59.46,
          -261.86,
          -216.65,
          -23.14,
          -426.78,
          -382.15,
          -150.57,
          -307.63,
          -333.29,
          -250.46,
          -418.88,
          -421.76,
          -402.77,
          93.37,
          -339.99,
          -327.46,
          -351.35,
          -443.49,
          -418.98,
          -385.72,
          -402.02,
          -523.42,
          -298.43,
          -296.89
         ]
        }
       ],
       "layout": {
        "annotations": [
         {
          "arrowhead": 2,
          "ax": 0,
          "ay": -40,
          "showarrow": true,
          "text": "Black Friday",
          "x": "2023-11-24",
          "y": 2425.66
         }
        ],
        "height": 600,
        "legend": {
         "title": {
          "text": "Marketing channel"
         }
        },
        "template": {
         "data": {
          "bar": [
           {
            "error_x": {
             "color": "#2a3f5f"
            },
            "error_y": {
             "color": "#2a3f5f"
            },
            "marker": {
             "line": {
              "color": "#E5ECF6",
              "width": 0.5
             },
             "pattern": {
              "fillmode": "overlay",
              "size": 10,
              "solidity": 0.2
             }
            },
            "type": "bar"
           }
          ],
          "barpolar": [
           {
            "marker": {
             "line": {
              "color": "#E5ECF6",
              "width": 0.5
             },
             "pattern": {
              "fillmode": "overlay",
              "size": 10,
              "solidity": 0.2
             }
            },
            "type": "barpolar"
           }
          ],
          "carpet": [
           {
            "aaxis": {
             "endlinecolor": "#2a3f5f",
             "gridcolor": "white",
             "linecolor": "white",
             "minorgridcolor": "white",
             "startlinecolor": "#2a3f5f"
            },
            "baxis": {
             "endlinecolor": "#2a3f5f",
             "gridcolor": "white",
             "linecolor": "white",
             "minorgridcolor": "white",
             "startlinecolor": "#2a3f5f"
            },
            "type": "carpet"
           }
          ],
          "choropleth": [
           {
            "colorbar": {
             "outlinewidth": 0,
             "ticks": ""
            },
            "type": "choropleth"
           }
          ],
          "contour": [
           {
            "colorbar": {
             "outlinewidth": 0,
             "ticks": ""
            },
            "colorscale": [
             [
              0,
              "#0d0887"
             ],
             [
              0.1111111111111111,
              "#46039f"
             ],
             [
              0.2222222222222222,
              "#7201a8"
             ],
             [
              0.3333333333333333,
              "#9c179e"
             ],
             [
              0.4444444444444444,
              "#bd3786"
             ],
             [
              0.5555555555555556,
              "#d8576b"
             ],
             [
              0.6666666666666666,
              "#ed7953"
             ],
             [
              0.7777777777777778,
              "#fb9f3a"
             ],
             [
              0.8888888888888888,
              "#fdca26"
             ],
             [
              1,
              "#f0f921"
             ]
            ],
            "type": "contour"
           }
          ],
          "contourcarpet": [
           {
            "colorbar": {
             "outlinewidth": 0,
             "ticks": ""
            },
            "type": "contourcarpet"
           }
          ],
          "heatmap": [
           {
            "colorbar": {
             "outlinewidth": 0,
             "ticks": ""
            },
            "colorscale": [
             [
              0,
              "#0d0887"
             ],
             [
              0.1111111111111111,
              "#46039f"
             ],
             [
              0.2222222222222222,
              "#7201a8"
             ],
             [
              0.3333333333333333,
              "#9c179e"
             ],
             [
              0.4444444444444444,
              "#bd3786"
             ],
             [
              0.5555555555555556,
              "#d8576b"
             ],
             [
              0.6666666666666666,
              "#ed7953"
             ],
             [
              0.7777777777777778,
              "#fb9f3a"
             ],
             [
              0.8888888888888888,
              "#fdca26"
             ],
             [
              1,
              "#f0f921"
             ]
            ],
            "type": "heatmap"
           }
          ],
          "heatmapgl": [
           {
            "colorbar": {
             "outlinewidth": 0,
             "ticks": ""
            },
            "colorscale": [
             [
              0,
              "#0d0887"
             ],
             [
              0.1111111111111111,
              "#46039f"
             ],
             [
              0.2222222222222222,
              "#7201a8"
             ],
             [
              0.3333333333333333,
              "#9c179e"
             ],
             [
              0.4444444444444444,
              "#bd3786"
             ],
             [
              0.5555555555555556,
              "#d8576b"
             ],
             [
              0.6666666666666666,
              "#ed7953"
             ],
             [
              0.7777777777777778,
              "#fb9f3a"
             ],
             [
              0.8888888888888888,
              "#fdca26"
             ],
             [
              1,
              "#f0f921"
             ]
            ],
            "type": "heatmapgl"
           }
          ],
          "histogram": [
           {
            "marker": {
             "pattern": {
              "fillmode": "overlay",
              "size": 10,
              "solidity": 0.2
             }
            },
            "type": "histogram"
           }
          ],
          "histogram2d": [
           {
            "colorbar": {
             "outlinewidth": 0,
             "ticks": ""
            },
            "colorscale": [
             [
              0,
              "#0d0887"
             ],
             [
              0.1111111111111111,
              "#46039f"
             ],
             [
              0.2222222222222222,
              "#7201a8"
             ],
             [
              0.3333333333333333,
              "#9c179e"
             ],
             [
              0.4444444444444444,
              "#bd3786"
             ],
             [
              0.5555555555555556,
              "#d8576b"
             ],
             [
              0.6666666666666666,
              "#ed7953"
             ],
             [
              0.7777777777777778,
              "#fb9f3a"
             ],
             [
              0.8888888888888888,
              "#fdca26"
             ],
             [
              1,
              "#f0f921"
             ]
            ],
            "type": "histogram2d"
           }
          ],
          "histogram2dcontour": [
           {
            "colorbar": {
             "outlinewidth": 0,
             "ticks": ""
            },
            "colorscale": [
             [
              0,
              "#0d0887"
             ],
             [
              0.1111111111111111,
              "#46039f"
             ],
             [
              0.2222222222222222,
              "#7201a8"
             ],
             [
              0.3333333333333333,
              "#9c179e"
             ],
             [
              0.4444444444444444,
              "#bd3786"
             ],
             [
              0.5555555555555556,
              "#d8576b"
             ],
             [
              0.6666666666666666,
              "#ed7953"
             ],
             [
              0.7777777777777778,
              "#fb9f3a"
             ],
             [
              0.8888888888888888,
              "#fdca26"
             ],
             [
              1,
              "#f0f921"
             ]
            ],
            "type": "histogram2dcontour"
           }
          ],
          "mesh3d": [
           {
            "colorbar": {
             "outlinewidth": 0,
             "ticks": ""
            },
            "type": "mesh3d"
           }
          ],
          "parcoords": [
           {
            "line": {
             "colorbar": {
              "outlinewidth": 0,
              "ticks": ""
             }
            },
            "type": "parcoords"
           }
          ],
          "pie": [
           {
            "automargin": true,
            "type": "pie"
           }
          ],
          "scatter": [
           {
            "fillpattern": {
             "fillmode": "overlay",
             "size": 10,
             "solidity": 0.2
            },
            "type": "scatter"
           }
          ],
          "scatter3d": [
           {
            "line": {
             "colorbar": {
              "outlinewidth": 0,
              "ticks": ""
             }
            },
            "marker": {
             "colorbar": {
              "outlinewidth": 0,
              "ticks": ""
             }
            },
            "type": "scatter3d"
           }
          ],
          "scattercarpet": [
           {
            "marker": {
             "colorbar": {
              "outlinewidth": 0,
              "ticks": ""
             }
            },
            "type": "scattercarpet"
           }
          ],
          "scattergeo": [
           {
            "marker": {
             "colorbar": {
              "outlinewidth": 0,
              "ticks": ""
             }
            },
            "type": "scattergeo"
           }
          ],
          "scattergl": [
           {
            "marker": {
             "colorbar": {
              "outlinewidth": 0,
              "ticks": ""
             }
            },
            "type": "scattergl"
           }
          ],
          "scattermapbox": [
           {
            "marker": {
             "colorbar": {
              "outlinewidth": 0,
              "ticks": ""
             }
            },
            "type": "scattermapbox"
           }
          ],
          "scatterpolar": [
           {
            "marker": {
             "colorbar": {
              "outlinewidth": 0,
              "ticks": ""
             }
            },
            "type": "scatterpolar"
           }
          ],
          "scatterpolargl": [
           {
            "marker": {
             "colorbar": {
              "outlinewidth": 0,
              "ticks": ""
             }
            },
            "type": "scatterpolargl"
           }
          ],
          "scatterternary": [
           {
            "marker": {
             "colorbar": {
              "outlinewidth": 0,
              "ticks": ""
             }
            },
            "type": "scatterternary"
           }
          ],
          "surface": [
           {
            "colorbar": {
             "outlinewidth": 0,
             "ticks": ""
            },
            "colorscale": [
             [
              0,
              "#0d0887"
             ],
             [
              0.1111111111111111,
              "#46039f"
             ],
             [
              0.2222222222222222,
              "#7201a8"
             ],
             [
              0.3333333333333333,
              "#9c179e"
             ],
             [
              0.4444444444444444,
              "#bd3786"
             ],
             [
              0.5555555555555556,
              "#d8576b"
             ],
             [
              0.6666666666666666,
              "#ed7953"
             ],
             [
              0.7777777777777778,
              "#fb9f3a"
             ],
             [
              0.8888888888888888,
              "#fdca26"
             ],
             [
              1,
              "#f0f921"
             ]
            ],
            "type": "surface"
           }
          ],
          "table": [
           {
            "cells": {
             "fill": {
              "color": "#EBF0F8"
             },
             "line": {
              "color": "white"
             }
            },
            "header": {
             "fill": {
              "color": "#C8D4E3"
             },
             "line": {
              "color": "white"
             }
            },
            "type": "table"
           }
          ]
         },
         "layout": {
          "annotationdefaults": {
           "arrowcolor": "#2a3f5f",
           "arrowhead": 0,
           "arrowwidth": 1
          },
          "autotypenumbers": "strict",
          "coloraxis": {
           "colorbar": {
            "outlinewidth": 0,
            "ticks": ""
           }
          },
          "colorscale": {
           "diverging": [
            [
             0,
             "#8e0152"
            ],
            [
             0.1,
             "#c51b7d"
            ],
            [
             0.2,
             "#de77ae"
            ],
            [
             0.3,
             "#f1b6da"
            ],
            [
             0.4,
             "#fde0ef"
            ],
            [
             0.5,
             "#f7f7f7"
            ],
            [
             0.6,
             "#e6f5d0"
            ],
            [
             0.7,
             "#b8e186"
            ],
            [
             0.8,
             "#7fbc41"
            ],
            [
             0.9,
             "#4d9221"
            ],
            [
             1,
             "#276419"
            ]
           ],
           "sequential": [
            [
             0,
             "#0d0887"
            ],
            [
             0.1111111111111111,
             "#46039f"
            ],
            [
             0.2222222222222222,
             "#7201a8"
            ],
            [
             0.3333333333333333,
             "#9c179e"
            ],
            [
             0.4444444444444444,
             "#bd3786"
            ],
            [
             0.5555555555555556,
             "#d8576b"
            ],
            [
             0.6666666666666666,
             "#ed7953"
            ],
            [
             0.7777777777777778,
             "#fb9f3a"
            ],
            [
             0.8888888888888888,
             "#fdca26"
            ],
            [
             1,
             "#f0f921"
            ]
           ],
           "sequentialminus": [
            [
             0,
             "#0d0887"
            ],
            [
             0.1111111111111111,
             "#46039f"
            ],
            [
             0.2222222222222222,
             "#7201a8"
            ],
            [
             0.3333333333333333,
             "#9c179e"
            ],
            [
             0.4444444444444444,
             "#bd3786"
            ],
            [
             0.5555555555555556,
             "#d8576b"
            ],
            [
             0.6666666666666666,
             "#ed7953"
            ],
            [
             0.7777777777777778,
             "#fb9f3a"
            ],
            [
             0.8888888888888888,
             "#fdca26"
            ],
            [
             1,
             "#f0f921"
            ]
           ]
          },
          "colorway": [
           "#636efa",
           "#EF553B",
           "#00cc96",
           "#ab63fa",
           "#FFA15A",
           "#19d3f3",
           "#FF6692",
           "#B6E880",
           "#FF97FF",
           "#FECB52"
          ],
          "font": {
           "color": "#2a3f5f"
          },
          "geo": {
           "bgcolor": "white",
           "lakecolor": "white",
           "landcolor": "#E5ECF6",
           "showlakes": true,
           "showland": true,
           "subunitcolor": "white"
          },
          "hoverlabel": {
           "align": "left"
          },
          "hovermode": "closest",
          "mapbox": {
           "style": "light"
          },
          "paper_bgcolor": "white",
          "plot_bgcolor": "#E5ECF6",
          "polar": {
           "angularaxis": {
            "gridcolor": "white",
            "linecolor": "white",
            "ticks": ""
           },
           "bgcolor": "#E5ECF6",
           "radialaxis": {
            "gridcolor": "white",
            "linecolor": "white",
            "ticks": ""
           }
          },
          "scene": {
           "xaxis": {
            "backgroundcolor": "#E5ECF6",
            "gridcolor": "white",
            "gridwidth": 2,
            "linecolor": "white",
            "showbackground": true,
            "ticks": "",
            "zerolinecolor": "white"
           },
           "yaxis": {
            "backgroundcolor": "#E5ECF6",
            "gridcolor": "white",
            "gridwidth": 2,
            "linecolor": "white",
            "showbackground": true,
            "ticks": "",
            "zerolinecolor": "white"
           },
           "zaxis": {
            "backgroundcolor": "#E5ECF6",
            "gridcolor": "white",
            "gridwidth": 2,
            "linecolor": "white",
            "showbackground": true,
            "ticks": "",
            "zerolinecolor": "white"
           }
          },
          "shapedefaults": {
           "line": {
            "color": "#2a3f5f"
           }
          },
          "ternary": {
           "aaxis": {
            "gridcolor": "white",
            "linecolor": "white",
            "ticks": ""
           },
           "baxis": {
            "gridcolor": "white",
            "linecolor": "white",
            "ticks": ""
           },
           "bgcolor": "#E5ECF6",
           "caxis": {
            "gridcolor": "white",
            "linecolor": "white",
            "ticks": ""
           }
          },
          "title": {
           "x": 0.05
          },
          "xaxis": {
           "automargin": true,
           "gridcolor": "white",
           "linecolor": "white",
           "ticks": "",
           "title": {
            "standoff": 15
           },
           "zerolinecolor": "white",
           "zerolinewidth": 2
          },
          "yaxis": {
           "automargin": true,
           "gridcolor": "white",
           "linecolor": "white",
           "ticks": "",
           "title": {
            "standoff": 15
           },
           "zerolinecolor": "white",
           "zerolinewidth": 2
          }
         }
        },
        "title": {
         "text": "Profit Over Time by Marketing channel"
        },
        "width": 1000,
        "xaxis": {
         "title": {
          "text": "Date"
         }
        },
        "yaxis": {
         "title": {
          "text": "Profit"
         }
        }
       }
      }
     },
     "metadata": {},
     "output_type": "display_data"
    }
   ],
   "source": [
    "create_grouped_line_chart(\n",
    "    df=df_channels_over_time[df_channels_over_time['country']=='DE'],\n",
    "    x_column=\"date\",\n",
    "    y_column=\"profit\",\n",
    "    group_column=\"marketing_channel\",\n",
    "    y_label=\"Profit\"\n",
    ")"
   ]
  },
  {
   "cell_type": "markdown",
   "id": "763af21f",
   "metadata": {},
   "source": [
    "## By channel"
   ]
  },
  {
   "cell_type": "code",
   "execution_count": null,
   "id": "249c350b",
   "metadata": {},
   "outputs": [],
   "source": [
    "import plotly.graph_objects as go\n",
    "\n",
    "def create_grouped_line_chart(df, x_column, y_column, group_column, y_label, width=1000, height=600):\n",
    "    \"\"\"\n",
    "    Create a grouped line chart with multiple lines and an annotation for Black Friday.\n",
    "\n",
    "    Args:\n",
    "        df (pd.DataFrame): DataFrame containing the data to plot.\n",
    "        x_column (str): Name of the column for the x-axis.\n",
    "        y_column (str): Name of the column for the y-axis.\n",
    "        group_column (str): Name of the column to differentiate the lines.\n",
    "        y_label (str): Label for the y-axis.\n",
    "        width (int): Width of the figure (default: 1000).\n",
    "        height (int): Height of the figure (default: 600).\n",
    "\n",
    "    Returns:\n",
    "        None\n",
    "    \"\"\"\n",
    "    title = f\"{y_column.replace('_', ' ').capitalize()} Over Time by {group_column.replace('_', ' ').capitalize()}\"\n",
    "\n",
    "    fig = go.Figure()\n",
    "\n",
    "    # Create a line for each group\n",
    "    for group, group_data in df.groupby(group_column):\n",
    "        fig.add_trace(go.Scatter(\n",
    "            x=group_data[x_column],\n",
    "            y=group_data[y_column],\n",
    "            mode='lines',\n",
    "            name=group  # Use the group name for legend\n",
    "        ))\n",
    "\n",
    "    # Add annotation for Black Friday\n",
    "    fig.add_annotation(\n",
    "        x=\"2023-11-24\",\n",
    "        y=df[y_column].max(),\n",
    "        text=\"Black Friday\",\n",
    "        showarrow=True,\n",
    "        arrowhead=2,\n",
    "        ax=0,\n",
    "        ay=-40\n",
    "    )\n",
    "\n",
    "    # Customize layout\n",
    "    fig.update_layout(\n",
    "        title=title,\n",
    "        xaxis=dict(title=x_column.capitalize()),\n",
    "        yaxis=dict(title=y_label),\n",
    "        legend=dict(title=group_column.replace('_', ' ').capitalize()),\n",
    "        width=width,\n",
    "        height=height\n",
    "    )\n",
    "\n",
    "    fig.show()\n"
   ]
  },
  {
   "cell_type": "code",
   "execution_count": 51,
   "id": "4ab669e5",
   "metadata": {},
   "outputs": [
    {
     "data": {
      "application/vnd.plotly.v1+json": {
       "config": {
        "plotlyServerURL": "https://plot.ly"
       },
       "data": [
        {
         "mode": "lines",
         "name": "Channel A",
         "type": "scatter",
         "x": [
          "2023-11-01",
          "2023-11-02",
          "2023-11-03",
          "2023-11-04",
          "2023-11-06",
          "2023-11-07",
          "2023-11-13",
          "2023-11-16",
          "2023-11-21",
          "2023-11-22",
          "2023-11-23",
          "2023-11-24",
          "2023-11-25",
          "2023-11-26",
          "2023-11-27",
          "2023-11-28",
          "2023-11-29",
          "2023-11-30"
         ],
         "y": [
          0,
          0,
          0,
          0,
          1,
          1,
          1,
          1,
          0,
          1,
          0,
          0,
          0,
          0,
          0,
          1,
          0,
          1
         ]
        },
        {
         "mode": "lines",
         "name": "Channel B",
         "type": "scatter",
         "x": [
          "2023-11-01",
          "2023-11-02",
          "2023-11-03",
          "2023-11-04",
          "2023-11-05",
          "2023-11-06",
          "2023-11-07",
          "2023-11-08",
          "2023-11-09",
          "2023-11-10",
          "2023-11-11",
          "2023-11-12",
          "2023-11-13",
          "2023-11-14",
          "2023-11-15",
          "2023-11-16",
          "2023-11-17",
          "2023-11-18",
          "2023-11-19",
          "2023-11-20",
          "2023-11-21",
          "2023-11-22",
          "2023-11-23",
          "2023-11-24",
          "2023-11-25",
          "2023-11-26",
          "2023-11-27",
          "2023-11-28",
          "2023-11-29",
          "2023-11-30"
         ],
         "y": [
          18,
          14,
          12,
          22,
          32,
          16,
          32,
          61,
          42,
          56,
          82,
          64,
          78,
          81,
          75,
          62,
          71,
          68,
          69,
          52,
          46,
          36,
          31,
          36,
          45,
          37,
          61,
          44,
          52,
          46
         ]
        },
        {
         "mode": "lines",
         "name": "Channel C",
         "type": "scatter",
         "x": [
          "2023-11-01",
          "2023-11-02",
          "2023-11-03",
          "2023-11-04",
          "2023-11-05",
          "2023-11-06",
          "2023-11-07",
          "2023-11-08",
          "2023-11-09",
          "2023-11-10",
          "2023-11-11",
          "2023-11-12",
          "2023-11-13",
          "2023-11-14",
          "2023-11-15",
          "2023-11-16",
          "2023-11-17",
          "2023-11-18",
          "2023-11-19",
          "2023-11-20",
          "2023-11-21",
          "2023-11-22",
          "2023-11-23",
          "2023-11-24",
          "2023-11-25",
          "2023-11-26",
          "2023-11-27",
          "2023-11-28",
          "2023-11-29",
          "2023-11-30"
         ],
         "y": [
          139,
          113,
          110,
          104,
          134,
          174,
          160,
          163,
          138,
          110,
          126,
          141,
          157,
          136,
          137,
          137,
          87,
          101,
          112,
          130,
          96,
          105,
          66,
          92,
          95,
          103,
          115,
          103,
          90,
          116
         ]
        },
        {
         "mode": "lines",
         "name": "Channel D",
         "type": "scatter",
         "x": [
          "2023-11-07",
          "2023-11-08",
          "2023-11-09",
          "2023-11-10",
          "2023-11-11",
          "2023-11-12",
          "2023-11-13"
         ],
         "y": [
          0,
          0,
          0,
          0,
          0,
          0,
          0
         ]
        },
        {
         "mode": "lines",
         "name": "Channel E",
         "type": "scatter",
         "x": [
          "2023-11-01",
          "2023-11-02",
          "2023-11-03",
          "2023-11-04",
          "2023-11-05",
          "2023-11-06",
          "2023-11-07",
          "2023-11-08",
          "2023-11-09",
          "2023-11-10",
          "2023-11-11",
          "2023-11-12",
          "2023-11-13",
          "2023-11-14",
          "2023-11-15",
          "2023-11-16",
          "2023-11-17",
          "2023-11-18",
          "2023-11-19",
          "2023-11-20",
          "2023-11-21",
          "2023-11-22",
          "2023-11-23",
          "2023-11-24",
          "2023-11-25",
          "2023-11-26",
          "2023-11-27",
          "2023-11-28",
          "2023-11-29",
          "2023-11-30"
         ],
         "y": [
          0,
          0,
          0,
          0,
          0,
          0,
          0,
          0,
          0,
          0,
          0,
          0,
          0,
          0,
          0,
          0,
          0,
          0,
          0,
          0,
          0,
          0,
          0,
          0,
          0,
          0,
          0,
          0,
          0,
          0
         ]
        }
       ],
       "layout": {
        "annotations": [
         {
          "arrowhead": 2,
          "ax": 0,
          "ay": -40,
          "showarrow": true,
          "text": "Black Friday",
          "x": "2023-11-24",
          "y": 174
         }
        ],
        "height": 600,
        "legend": {
         "title": {
          "text": "Marketing channel"
         }
        },
        "template": {
         "data": {
          "bar": [
           {
            "error_x": {
             "color": "#2a3f5f"
            },
            "error_y": {
             "color": "#2a3f5f"
            },
            "marker": {
             "line": {
              "color": "#E5ECF6",
              "width": 0.5
             },
             "pattern": {
              "fillmode": "overlay",
              "size": 10,
              "solidity": 0.2
             }
            },
            "type": "bar"
           }
          ],
          "barpolar": [
           {
            "marker": {
             "line": {
              "color": "#E5ECF6",
              "width": 0.5
             },
             "pattern": {
              "fillmode": "overlay",
              "size": 10,
              "solidity": 0.2
             }
            },
            "type": "barpolar"
           }
          ],
          "carpet": [
           {
            "aaxis": {
             "endlinecolor": "#2a3f5f",
             "gridcolor": "white",
             "linecolor": "white",
             "minorgridcolor": "white",
             "startlinecolor": "#2a3f5f"
            },
            "baxis": {
             "endlinecolor": "#2a3f5f",
             "gridcolor": "white",
             "linecolor": "white",
             "minorgridcolor": "white",
             "startlinecolor": "#2a3f5f"
            },
            "type": "carpet"
           }
          ],
          "choropleth": [
           {
            "colorbar": {
             "outlinewidth": 0,
             "ticks": ""
            },
            "type": "choropleth"
           }
          ],
          "contour": [
           {
            "colorbar": {
             "outlinewidth": 0,
             "ticks": ""
            },
            "colorscale": [
             [
              0,
              "#0d0887"
             ],
             [
              0.1111111111111111,
              "#46039f"
             ],
             [
              0.2222222222222222,
              "#7201a8"
             ],
             [
              0.3333333333333333,
              "#9c179e"
             ],
             [
              0.4444444444444444,
              "#bd3786"
             ],
             [
              0.5555555555555556,
              "#d8576b"
             ],
             [
              0.6666666666666666,
              "#ed7953"
             ],
             [
              0.7777777777777778,
              "#fb9f3a"
             ],
             [
              0.8888888888888888,
              "#fdca26"
             ],
             [
              1,
              "#f0f921"
             ]
            ],
            "type": "contour"
           }
          ],
          "contourcarpet": [
           {
            "colorbar": {
             "outlinewidth": 0,
             "ticks": ""
            },
            "type": "contourcarpet"
           }
          ],
          "heatmap": [
           {
            "colorbar": {
             "outlinewidth": 0,
             "ticks": ""
            },
            "colorscale": [
             [
              0,
              "#0d0887"
             ],
             [
              0.1111111111111111,
              "#46039f"
             ],
             [
              0.2222222222222222,
              "#7201a8"
             ],
             [
              0.3333333333333333,
              "#9c179e"
             ],
             [
              0.4444444444444444,
              "#bd3786"
             ],
             [
              0.5555555555555556,
              "#d8576b"
             ],
             [
              0.6666666666666666,
              "#ed7953"
             ],
             [
              0.7777777777777778,
              "#fb9f3a"
             ],
             [
              0.8888888888888888,
              "#fdca26"
             ],
             [
              1,
              "#f0f921"
             ]
            ],
            "type": "heatmap"
           }
          ],
          "heatmapgl": [
           {
            "colorbar": {
             "outlinewidth": 0,
             "ticks": ""
            },
            "colorscale": [
             [
              0,
              "#0d0887"
             ],
             [
              0.1111111111111111,
              "#46039f"
             ],
             [
              0.2222222222222222,
              "#7201a8"
             ],
             [
              0.3333333333333333,
              "#9c179e"
             ],
             [
              0.4444444444444444,
              "#bd3786"
             ],
             [
              0.5555555555555556,
              "#d8576b"
             ],
             [
              0.6666666666666666,
              "#ed7953"
             ],
             [
              0.7777777777777778,
              "#fb9f3a"
             ],
             [
              0.8888888888888888,
              "#fdca26"
             ],
             [
              1,
              "#f0f921"
             ]
            ],
            "type": "heatmapgl"
           }
          ],
          "histogram": [
           {
            "marker": {
             "pattern": {
              "fillmode": "overlay",
              "size": 10,
              "solidity": 0.2
             }
            },
            "type": "histogram"
           }
          ],
          "histogram2d": [
           {
            "colorbar": {
             "outlinewidth": 0,
             "ticks": ""
            },
            "colorscale": [
             [
              0,
              "#0d0887"
             ],
             [
              0.1111111111111111,
              "#46039f"
             ],
             [
              0.2222222222222222,
              "#7201a8"
             ],
             [
              0.3333333333333333,
              "#9c179e"
             ],
             [
              0.4444444444444444,
              "#bd3786"
             ],
             [
              0.5555555555555556,
              "#d8576b"
             ],
             [
              0.6666666666666666,
              "#ed7953"
             ],
             [
              0.7777777777777778,
              "#fb9f3a"
             ],
             [
              0.8888888888888888,
              "#fdca26"
             ],
             [
              1,
              "#f0f921"
             ]
            ],
            "type": "histogram2d"
           }
          ],
          "histogram2dcontour": [
           {
            "colorbar": {
             "outlinewidth": 0,
             "ticks": ""
            },
            "colorscale": [
             [
              0,
              "#0d0887"
             ],
             [
              0.1111111111111111,
              "#46039f"
             ],
             [
              0.2222222222222222,
              "#7201a8"
             ],
             [
              0.3333333333333333,
              "#9c179e"
             ],
             [
              0.4444444444444444,
              "#bd3786"
             ],
             [
              0.5555555555555556,
              "#d8576b"
             ],
             [
              0.6666666666666666,
              "#ed7953"
             ],
             [
              0.7777777777777778,
              "#fb9f3a"
             ],
             [
              0.8888888888888888,
              "#fdca26"
             ],
             [
              1,
              "#f0f921"
             ]
            ],
            "type": "histogram2dcontour"
           }
          ],
          "mesh3d": [
           {
            "colorbar": {
             "outlinewidth": 0,
             "ticks": ""
            },
            "type": "mesh3d"
           }
          ],
          "parcoords": [
           {
            "line": {
             "colorbar": {
              "outlinewidth": 0,
              "ticks": ""
             }
            },
            "type": "parcoords"
           }
          ],
          "pie": [
           {
            "automargin": true,
            "type": "pie"
           }
          ],
          "scatter": [
           {
            "fillpattern": {
             "fillmode": "overlay",
             "size": 10,
             "solidity": 0.2
            },
            "type": "scatter"
           }
          ],
          "scatter3d": [
           {
            "line": {
             "colorbar": {
              "outlinewidth": 0,
              "ticks": ""
             }
            },
            "marker": {
             "colorbar": {
              "outlinewidth": 0,
              "ticks": ""
             }
            },
            "type": "scatter3d"
           }
          ],
          "scattercarpet": [
           {
            "marker": {
             "colorbar": {
              "outlinewidth": 0,
              "ticks": ""
             }
            },
            "type": "scattercarpet"
           }
          ],
          "scattergeo": [
           {
            "marker": {
             "colorbar": {
              "outlinewidth": 0,
              "ticks": ""
             }
            },
            "type": "scattergeo"
           }
          ],
          "scattergl": [
           {
            "marker": {
             "colorbar": {
              "outlinewidth": 0,
              "ticks": ""
             }
            },
            "type": "scattergl"
           }
          ],
          "scattermapbox": [
           {
            "marker": {
             "colorbar": {
              "outlinewidth": 0,
              "ticks": ""
             }
            },
            "type": "scattermapbox"
           }
          ],
          "scatterpolar": [
           {
            "marker": {
             "colorbar": {
              "outlinewidth": 0,
              "ticks": ""
             }
            },
            "type": "scatterpolar"
           }
          ],
          "scatterpolargl": [
           {
            "marker": {
             "colorbar": {
              "outlinewidth": 0,
              "ticks": ""
             }
            },
            "type": "scatterpolargl"
           }
          ],
          "scatterternary": [
           {
            "marker": {
             "colorbar": {
              "outlinewidth": 0,
              "ticks": ""
             }
            },
            "type": "scatterternary"
           }
          ],
          "surface": [
           {
            "colorbar": {
             "outlinewidth": 0,
             "ticks": ""
            },
            "colorscale": [
             [
              0,
              "#0d0887"
             ],
             [
              0.1111111111111111,
              "#46039f"
             ],
             [
              0.2222222222222222,
              "#7201a8"
             ],
             [
              0.3333333333333333,
              "#9c179e"
             ],
             [
              0.4444444444444444,
              "#bd3786"
             ],
             [
              0.5555555555555556,
              "#d8576b"
             ],
             [
              0.6666666666666666,
              "#ed7953"
             ],
             [
              0.7777777777777778,
              "#fb9f3a"
             ],
             [
              0.8888888888888888,
              "#fdca26"
             ],
             [
              1,
              "#f0f921"
             ]
            ],
            "type": "surface"
           }
          ],
          "table": [
           {
            "cells": {
             "fill": {
              "color": "#EBF0F8"
             },
             "line": {
              "color": "white"
             }
            },
            "header": {
             "fill": {
              "color": "#C8D4E3"
             },
             "line": {
              "color": "white"
             }
            },
            "type": "table"
           }
          ]
         },
         "layout": {
          "annotationdefaults": {
           "arrowcolor": "#2a3f5f",
           "arrowhead": 0,
           "arrowwidth": 1
          },
          "autotypenumbers": "strict",
          "coloraxis": {
           "colorbar": {
            "outlinewidth": 0,
            "ticks": ""
           }
          },
          "colorscale": {
           "diverging": [
            [
             0,
             "#8e0152"
            ],
            [
             0.1,
             "#c51b7d"
            ],
            [
             0.2,
             "#de77ae"
            ],
            [
             0.3,
             "#f1b6da"
            ],
            [
             0.4,
             "#fde0ef"
            ],
            [
             0.5,
             "#f7f7f7"
            ],
            [
             0.6,
             "#e6f5d0"
            ],
            [
             0.7,
             "#b8e186"
            ],
            [
             0.8,
             "#7fbc41"
            ],
            [
             0.9,
             "#4d9221"
            ],
            [
             1,
             "#276419"
            ]
           ],
           "sequential": [
            [
             0,
             "#0d0887"
            ],
            [
             0.1111111111111111,
             "#46039f"
            ],
            [
             0.2222222222222222,
             "#7201a8"
            ],
            [
             0.3333333333333333,
             "#9c179e"
            ],
            [
             0.4444444444444444,
             "#bd3786"
            ],
            [
             0.5555555555555556,
             "#d8576b"
            ],
            [
             0.6666666666666666,
             "#ed7953"
            ],
            [
             0.7777777777777778,
             "#fb9f3a"
            ],
            [
             0.8888888888888888,
             "#fdca26"
            ],
            [
             1,
             "#f0f921"
            ]
           ],
           "sequentialminus": [
            [
             0,
             "#0d0887"
            ],
            [
             0.1111111111111111,
             "#46039f"
            ],
            [
             0.2222222222222222,
             "#7201a8"
            ],
            [
             0.3333333333333333,
             "#9c179e"
            ],
            [
             0.4444444444444444,
             "#bd3786"
            ],
            [
             0.5555555555555556,
             "#d8576b"
            ],
            [
             0.6666666666666666,
             "#ed7953"
            ],
            [
             0.7777777777777778,
             "#fb9f3a"
            ],
            [
             0.8888888888888888,
             "#fdca26"
            ],
            [
             1,
             "#f0f921"
            ]
           ]
          },
          "colorway": [
           "#636efa",
           "#EF553B",
           "#00cc96",
           "#ab63fa",
           "#FFA15A",
           "#19d3f3",
           "#FF6692",
           "#B6E880",
           "#FF97FF",
           "#FECB52"
          ],
          "font": {
           "color": "#2a3f5f"
          },
          "geo": {
           "bgcolor": "white",
           "lakecolor": "white",
           "landcolor": "#E5ECF6",
           "showlakes": true,
           "showland": true,
           "subunitcolor": "white"
          },
          "hoverlabel": {
           "align": "left"
          },
          "hovermode": "closest",
          "mapbox": {
           "style": "light"
          },
          "paper_bgcolor": "white",
          "plot_bgcolor": "#E5ECF6",
          "polar": {
           "angularaxis": {
            "gridcolor": "white",
            "linecolor": "white",
            "ticks": ""
           },
           "bgcolor": "#E5ECF6",
           "radialaxis": {
            "gridcolor": "white",
            "linecolor": "white",
            "ticks": ""
           }
          },
          "scene": {
           "xaxis": {
            "backgroundcolor": "#E5ECF6",
            "gridcolor": "white",
            "gridwidth": 2,
            "linecolor": "white",
            "showbackground": true,
            "ticks": "",
            "zerolinecolor": "white"
           },
           "yaxis": {
            "backgroundcolor": "#E5ECF6",
            "gridcolor": "white",
            "gridwidth": 2,
            "linecolor": "white",
            "showbackground": true,
            "ticks": "",
            "zerolinecolor": "white"
           },
           "zaxis": {
            "backgroundcolor": "#E5ECF6",
            "gridcolor": "white",
            "gridwidth": 2,
            "linecolor": "white",
            "showbackground": true,
            "ticks": "",
            "zerolinecolor": "white"
           }
          },
          "shapedefaults": {
           "line": {
            "color": "#2a3f5f"
           }
          },
          "ternary": {
           "aaxis": {
            "gridcolor": "white",
            "linecolor": "white",
            "ticks": ""
           },
           "baxis": {
            "gridcolor": "white",
            "linecolor": "white",
            "ticks": ""
           },
           "bgcolor": "#E5ECF6",
           "caxis": {
            "gridcolor": "white",
            "linecolor": "white",
            "ticks": ""
           }
          },
          "title": {
           "x": 0.05
          },
          "xaxis": {
           "automargin": true,
           "gridcolor": "white",
           "linecolor": "white",
           "ticks": "",
           "title": {
            "standoff": 15
           },
           "zerolinecolor": "white",
           "zerolinewidth": 2
          },
          "yaxis": {
           "automargin": true,
           "gridcolor": "white",
           "linecolor": "white",
           "ticks": "",
           "title": {
            "standoff": 15
           },
           "zerolinecolor": "white",
           "zerolinewidth": 2
          }
         }
        },
        "title": {
         "text": "App installs Over Time by Marketing channel"
        },
        "width": 1000,
        "xaxis": {
         "title": {
          "text": "Date"
         }
        },
        "yaxis": {
         "title": {
          "text": "App Installs"
         }
        }
       }
      }
     },
     "metadata": {},
     "output_type": "display_data"
    }
   ],
   "source": [
    "\n",
    "# Example Usage\n",
    "create_grouped_line_chart(\n",
    "    df=df_channels_over_time[df_channels_over_time['country']=='US'],\n",
    "    x_column=\"date\",\n",
    "    y_column=\"app_installs\",\n",
    "    group_column=\"marketing_channel\",\n",
    "    y_label=\"App Installs\"\n",
    ")\n"
   ]
  },
  {
   "cell_type": "code",
   "execution_count": 52,
   "id": "e9e9ddae",
   "metadata": {},
   "outputs": [
    {
     "data": {
      "application/vnd.plotly.v1+json": {
       "config": {
        "plotlyServerURL": "https://plot.ly"
       },
       "data": [
        {
         "mode": "lines",
         "name": "Channel A",
         "type": "scatter",
         "x": [
          "2023-11-01",
          "2023-11-02",
          "2023-11-03",
          "2023-11-04",
          "2023-11-06",
          "2023-11-07",
          "2023-11-13",
          "2023-11-16",
          "2023-11-21",
          "2023-11-22",
          "2023-11-23",
          "2023-11-24",
          "2023-11-25",
          "2023-11-26",
          "2023-11-27",
          "2023-11-28",
          "2023-11-29",
          "2023-11-30"
         ],
         "y": [
          null,
          null,
          null,
          null,
          0,
          0,
          0,
          0,
          null,
          0,
          null,
          null,
          null,
          null,
          null,
          0,
          null,
          0
         ]
        },
        {
         "mode": "lines",
         "name": "Channel B",
         "type": "scatter",
         "x": [
          "2023-11-01",
          "2023-11-02",
          "2023-11-03",
          "2023-11-04",
          "2023-11-05",
          "2023-11-06",
          "2023-11-07",
          "2023-11-08",
          "2023-11-09",
          "2023-11-10",
          "2023-11-11",
          "2023-11-12",
          "2023-11-13",
          "2023-11-14",
          "2023-11-15",
          "2023-11-16",
          "2023-11-17",
          "2023-11-18",
          "2023-11-19",
          "2023-11-20",
          "2023-11-21",
          "2023-11-22",
          "2023-11-23",
          "2023-11-24",
          "2023-11-25",
          "2023-11-26",
          "2023-11-27",
          "2023-11-28",
          "2023-11-29",
          "2023-11-30"
         ],
         "y": [
          0,
          7.14,
          25,
          4.55,
          6.25,
          12.5,
          3.12,
          8.2,
          7.14,
          8.93,
          3.66,
          1.56,
          8.97,
          6.17,
          9.33,
          3.23,
          4.23,
          5.88,
          5.8,
          7.69,
          10.87,
          5.56,
          12.9,
          5.56,
          8.89,
          8.11,
          8.2,
          15.91,
          11.54,
          8.7
         ]
        },
        {
         "mode": "lines",
         "name": "Channel C",
         "type": "scatter",
         "x": [
          "2023-11-01",
          "2023-11-02",
          "2023-11-03",
          "2023-11-04",
          "2023-11-05",
          "2023-11-06",
          "2023-11-07",
          "2023-11-08",
          "2023-11-09",
          "2023-11-10",
          "2023-11-11",
          "2023-11-12",
          "2023-11-13",
          "2023-11-14",
          "2023-11-15",
          "2023-11-16",
          "2023-11-17",
          "2023-11-18",
          "2023-11-19",
          "2023-11-20",
          "2023-11-21",
          "2023-11-22",
          "2023-11-23",
          "2023-11-24",
          "2023-11-25",
          "2023-11-26",
          "2023-11-27",
          "2023-11-28",
          "2023-11-29",
          "2023-11-30"
         ],
         "y": [
          8.63,
          12.39,
          10,
          8.65,
          15.67,
          15.52,
          9.38,
          8.59,
          10.87,
          7.27,
          11.11,
          4.96,
          12.1,
          11.03,
          11.68,
          10.22,
          10.34,
          7.92,
          9.82,
          13.85,
          9.38,
          4.76,
          6.06,
          11.96,
          12.63,
          14.56,
          8.7,
          9.71,
          10,
          14.66
         ]
        },
        {
         "mode": "lines",
         "name": "Channel D",
         "type": "scatter",
         "x": [
          "2023-11-07",
          "2023-11-08",
          "2023-11-09",
          "2023-11-10",
          "2023-11-11",
          "2023-11-12",
          "2023-11-13"
         ],
         "y": [
          null,
          null,
          null,
          null,
          null,
          null,
          null
         ]
        },
        {
         "mode": "lines",
         "name": "Channel E",
         "type": "scatter",
         "x": [
          "2023-11-01",
          "2023-11-02",
          "2023-11-03",
          "2023-11-04",
          "2023-11-05",
          "2023-11-06",
          "2023-11-07",
          "2023-11-08",
          "2023-11-09",
          "2023-11-10",
          "2023-11-11",
          "2023-11-12",
          "2023-11-13",
          "2023-11-14",
          "2023-11-15",
          "2023-11-16",
          "2023-11-17",
          "2023-11-18",
          "2023-11-19",
          "2023-11-20",
          "2023-11-21",
          "2023-11-22",
          "2023-11-23",
          "2023-11-24",
          "2023-11-25",
          "2023-11-26",
          "2023-11-27",
          "2023-11-28",
          "2023-11-29",
          "2023-11-30"
         ],
         "y": [
          null,
          null,
          null,
          null,
          null,
          null,
          null,
          null,
          null,
          null,
          null,
          null,
          null,
          null,
          null,
          null,
          null,
          null,
          null,
          null,
          null,
          null,
          null,
          null,
          null,
          null,
          null,
          null,
          null,
          null
         ]
        }
       ],
       "layout": {
        "annotations": [
         {
          "arrowhead": 2,
          "ax": 0,
          "ay": -40,
          "showarrow": true,
          "text": "Black Friday",
          "x": "2023-11-24",
          "y": 25
         }
        ],
        "height": 600,
        "legend": {
         "title": {
          "text": "Marketing channel"
         }
        },
        "template": {
         "data": {
          "bar": [
           {
            "error_x": {
             "color": "#2a3f5f"
            },
            "error_y": {
             "color": "#2a3f5f"
            },
            "marker": {
             "line": {
              "color": "#E5ECF6",
              "width": 0.5
             },
             "pattern": {
              "fillmode": "overlay",
              "size": 10,
              "solidity": 0.2
             }
            },
            "type": "bar"
           }
          ],
          "barpolar": [
           {
            "marker": {
             "line": {
              "color": "#E5ECF6",
              "width": 0.5
             },
             "pattern": {
              "fillmode": "overlay",
              "size": 10,
              "solidity": 0.2
             }
            },
            "type": "barpolar"
           }
          ],
          "carpet": [
           {
            "aaxis": {
             "endlinecolor": "#2a3f5f",
             "gridcolor": "white",
             "linecolor": "white",
             "minorgridcolor": "white",
             "startlinecolor": "#2a3f5f"
            },
            "baxis": {
             "endlinecolor": "#2a3f5f",
             "gridcolor": "white",
             "linecolor": "white",
             "minorgridcolor": "white",
             "startlinecolor": "#2a3f5f"
            },
            "type": "carpet"
           }
          ],
          "choropleth": [
           {
            "colorbar": {
             "outlinewidth": 0,
             "ticks": ""
            },
            "type": "choropleth"
           }
          ],
          "contour": [
           {
            "colorbar": {
             "outlinewidth": 0,
             "ticks": ""
            },
            "colorscale": [
             [
              0,
              "#0d0887"
             ],
             [
              0.1111111111111111,
              "#46039f"
             ],
             [
              0.2222222222222222,
              "#7201a8"
             ],
             [
              0.3333333333333333,
              "#9c179e"
             ],
             [
              0.4444444444444444,
              "#bd3786"
             ],
             [
              0.5555555555555556,
              "#d8576b"
             ],
             [
              0.6666666666666666,
              "#ed7953"
             ],
             [
              0.7777777777777778,
              "#fb9f3a"
             ],
             [
              0.8888888888888888,
              "#fdca26"
             ],
             [
              1,
              "#f0f921"
             ]
            ],
            "type": "contour"
           }
          ],
          "contourcarpet": [
           {
            "colorbar": {
             "outlinewidth": 0,
             "ticks": ""
            },
            "type": "contourcarpet"
           }
          ],
          "heatmap": [
           {
            "colorbar": {
             "outlinewidth": 0,
             "ticks": ""
            },
            "colorscale": [
             [
              0,
              "#0d0887"
             ],
             [
              0.1111111111111111,
              "#46039f"
             ],
             [
              0.2222222222222222,
              "#7201a8"
             ],
             [
              0.3333333333333333,
              "#9c179e"
             ],
             [
              0.4444444444444444,
              "#bd3786"
             ],
             [
              0.5555555555555556,
              "#d8576b"
             ],
             [
              0.6666666666666666,
              "#ed7953"
             ],
             [
              0.7777777777777778,
              "#fb9f3a"
             ],
             [
              0.8888888888888888,
              "#fdca26"
             ],
             [
              1,
              "#f0f921"
             ]
            ],
            "type": "heatmap"
           }
          ],
          "heatmapgl": [
           {
            "colorbar": {
             "outlinewidth": 0,
             "ticks": ""
            },
            "colorscale": [
             [
              0,
              "#0d0887"
             ],
             [
              0.1111111111111111,
              "#46039f"
             ],
             [
              0.2222222222222222,
              "#7201a8"
             ],
             [
              0.3333333333333333,
              "#9c179e"
             ],
             [
              0.4444444444444444,
              "#bd3786"
             ],
             [
              0.5555555555555556,
              "#d8576b"
             ],
             [
              0.6666666666666666,
              "#ed7953"
             ],
             [
              0.7777777777777778,
              "#fb9f3a"
             ],
             [
              0.8888888888888888,
              "#fdca26"
             ],
             [
              1,
              "#f0f921"
             ]
            ],
            "type": "heatmapgl"
           }
          ],
          "histogram": [
           {
            "marker": {
             "pattern": {
              "fillmode": "overlay",
              "size": 10,
              "solidity": 0.2
             }
            },
            "type": "histogram"
           }
          ],
          "histogram2d": [
           {
            "colorbar": {
             "outlinewidth": 0,
             "ticks": ""
            },
            "colorscale": [
             [
              0,
              "#0d0887"
             ],
             [
              0.1111111111111111,
              "#46039f"
             ],
             [
              0.2222222222222222,
              "#7201a8"
             ],
             [
              0.3333333333333333,
              "#9c179e"
             ],
             [
              0.4444444444444444,
              "#bd3786"
             ],
             [
              0.5555555555555556,
              "#d8576b"
             ],
             [
              0.6666666666666666,
              "#ed7953"
             ],
             [
              0.7777777777777778,
              "#fb9f3a"
             ],
             [
              0.8888888888888888,
              "#fdca26"
             ],
             [
              1,
              "#f0f921"
             ]
            ],
            "type": "histogram2d"
           }
          ],
          "histogram2dcontour": [
           {
            "colorbar": {
             "outlinewidth": 0,
             "ticks": ""
            },
            "colorscale": [
             [
              0,
              "#0d0887"
             ],
             [
              0.1111111111111111,
              "#46039f"
             ],
             [
              0.2222222222222222,
              "#7201a8"
             ],
             [
              0.3333333333333333,
              "#9c179e"
             ],
             [
              0.4444444444444444,
              "#bd3786"
             ],
             [
              0.5555555555555556,
              "#d8576b"
             ],
             [
              0.6666666666666666,
              "#ed7953"
             ],
             [
              0.7777777777777778,
              "#fb9f3a"
             ],
             [
              0.8888888888888888,
              "#fdca26"
             ],
             [
              1,
              "#f0f921"
             ]
            ],
            "type": "histogram2dcontour"
           }
          ],
          "mesh3d": [
           {
            "colorbar": {
             "outlinewidth": 0,
             "ticks": ""
            },
            "type": "mesh3d"
           }
          ],
          "parcoords": [
           {
            "line": {
             "colorbar": {
              "outlinewidth": 0,
              "ticks": ""
             }
            },
            "type": "parcoords"
           }
          ],
          "pie": [
           {
            "automargin": true,
            "type": "pie"
           }
          ],
          "scatter": [
           {
            "fillpattern": {
             "fillmode": "overlay",
             "size": 10,
             "solidity": 0.2
            },
            "type": "scatter"
           }
          ],
          "scatter3d": [
           {
            "line": {
             "colorbar": {
              "outlinewidth": 0,
              "ticks": ""
             }
            },
            "marker": {
             "colorbar": {
              "outlinewidth": 0,
              "ticks": ""
             }
            },
            "type": "scatter3d"
           }
          ],
          "scattercarpet": [
           {
            "marker": {
             "colorbar": {
              "outlinewidth": 0,
              "ticks": ""
             }
            },
            "type": "scattercarpet"
           }
          ],
          "scattergeo": [
           {
            "marker": {
             "colorbar": {
              "outlinewidth": 0,
              "ticks": ""
             }
            },
            "type": "scattergeo"
           }
          ],
          "scattergl": [
           {
            "marker": {
             "colorbar": {
              "outlinewidth": 0,
              "ticks": ""
             }
            },
            "type": "scattergl"
           }
          ],
          "scattermapbox": [
           {
            "marker": {
             "colorbar": {
              "outlinewidth": 0,
              "ticks": ""
             }
            },
            "type": "scattermapbox"
           }
          ],
          "scatterpolar": [
           {
            "marker": {
             "colorbar": {
              "outlinewidth": 0,
              "ticks": ""
             }
            },
            "type": "scatterpolar"
           }
          ],
          "scatterpolargl": [
           {
            "marker": {
             "colorbar": {
              "outlinewidth": 0,
              "ticks": ""
             }
            },
            "type": "scatterpolargl"
           }
          ],
          "scatterternary": [
           {
            "marker": {
             "colorbar": {
              "outlinewidth": 0,
              "ticks": ""
             }
            },
            "type": "scatterternary"
           }
          ],
          "surface": [
           {
            "colorbar": {
             "outlinewidth": 0,
             "ticks": ""
            },
            "colorscale": [
             [
              0,
              "#0d0887"
             ],
             [
              0.1111111111111111,
              "#46039f"
             ],
             [
              0.2222222222222222,
              "#7201a8"
             ],
             [
              0.3333333333333333,
              "#9c179e"
             ],
             [
              0.4444444444444444,
              "#bd3786"
             ],
             [
              0.5555555555555556,
              "#d8576b"
             ],
             [
              0.6666666666666666,
              "#ed7953"
             ],
             [
              0.7777777777777778,
              "#fb9f3a"
             ],
             [
              0.8888888888888888,
              "#fdca26"
             ],
             [
              1,
              "#f0f921"
             ]
            ],
            "type": "surface"
           }
          ],
          "table": [
           {
            "cells": {
             "fill": {
              "color": "#EBF0F8"
             },
             "line": {
              "color": "white"
             }
            },
            "header": {
             "fill": {
              "color": "#C8D4E3"
             },
             "line": {
              "color": "white"
             }
            },
            "type": "table"
           }
          ]
         },
         "layout": {
          "annotationdefaults": {
           "arrowcolor": "#2a3f5f",
           "arrowhead": 0,
           "arrowwidth": 1
          },
          "autotypenumbers": "strict",
          "coloraxis": {
           "colorbar": {
            "outlinewidth": 0,
            "ticks": ""
           }
          },
          "colorscale": {
           "diverging": [
            [
             0,
             "#8e0152"
            ],
            [
             0.1,
             "#c51b7d"
            ],
            [
             0.2,
             "#de77ae"
            ],
            [
             0.3,
             "#f1b6da"
            ],
            [
             0.4,
             "#fde0ef"
            ],
            [
             0.5,
             "#f7f7f7"
            ],
            [
             0.6,
             "#e6f5d0"
            ],
            [
             0.7,
             "#b8e186"
            ],
            [
             0.8,
             "#7fbc41"
            ],
            [
             0.9,
             "#4d9221"
            ],
            [
             1,
             "#276419"
            ]
           ],
           "sequential": [
            [
             0,
             "#0d0887"
            ],
            [
             0.1111111111111111,
             "#46039f"
            ],
            [
             0.2222222222222222,
             "#7201a8"
            ],
            [
             0.3333333333333333,
             "#9c179e"
            ],
            [
             0.4444444444444444,
             "#bd3786"
            ],
            [
             0.5555555555555556,
             "#d8576b"
            ],
            [
             0.6666666666666666,
             "#ed7953"
            ],
            [
             0.7777777777777778,
             "#fb9f3a"
            ],
            [
             0.8888888888888888,
             "#fdca26"
            ],
            [
             1,
             "#f0f921"
            ]
           ],
           "sequentialminus": [
            [
             0,
             "#0d0887"
            ],
            [
             0.1111111111111111,
             "#46039f"
            ],
            [
             0.2222222222222222,
             "#7201a8"
            ],
            [
             0.3333333333333333,
             "#9c179e"
            ],
            [
             0.4444444444444444,
             "#bd3786"
            ],
            [
             0.5555555555555556,
             "#d8576b"
            ],
            [
             0.6666666666666666,
             "#ed7953"
            ],
            [
             0.7777777777777778,
             "#fb9f3a"
            ],
            [
             0.8888888888888888,
             "#fdca26"
            ],
            [
             1,
             "#f0f921"
            ]
           ]
          },
          "colorway": [
           "#636efa",
           "#EF553B",
           "#00cc96",
           "#ab63fa",
           "#FFA15A",
           "#19d3f3",
           "#FF6692",
           "#B6E880",
           "#FF97FF",
           "#FECB52"
          ],
          "font": {
           "color": "#2a3f5f"
          },
          "geo": {
           "bgcolor": "white",
           "lakecolor": "white",
           "landcolor": "#E5ECF6",
           "showlakes": true,
           "showland": true,
           "subunitcolor": "white"
          },
          "hoverlabel": {
           "align": "left"
          },
          "hovermode": "closest",
          "mapbox": {
           "style": "light"
          },
          "paper_bgcolor": "white",
          "plot_bgcolor": "#E5ECF6",
          "polar": {
           "angularaxis": {
            "gridcolor": "white",
            "linecolor": "white",
            "ticks": ""
           },
           "bgcolor": "#E5ECF6",
           "radialaxis": {
            "gridcolor": "white",
            "linecolor": "white",
            "ticks": ""
           }
          },
          "scene": {
           "xaxis": {
            "backgroundcolor": "#E5ECF6",
            "gridcolor": "white",
            "gridwidth": 2,
            "linecolor": "white",
            "showbackground": true,
            "ticks": "",
            "zerolinecolor": "white"
           },
           "yaxis": {
            "backgroundcolor": "#E5ECF6",
            "gridcolor": "white",
            "gridwidth": 2,
            "linecolor": "white",
            "showbackground": true,
            "ticks": "",
            "zerolinecolor": "white"
           },
           "zaxis": {
            "backgroundcolor": "#E5ECF6",
            "gridcolor": "white",
            "gridwidth": 2,
            "linecolor": "white",
            "showbackground": true,
            "ticks": "",
            "zerolinecolor": "white"
           }
          },
          "shapedefaults": {
           "line": {
            "color": "#2a3f5f"
           }
          },
          "ternary": {
           "aaxis": {
            "gridcolor": "white",
            "linecolor": "white",
            "ticks": ""
           },
           "baxis": {
            "gridcolor": "white",
            "linecolor": "white",
            "ticks": ""
           },
           "bgcolor": "#E5ECF6",
           "caxis": {
            "gridcolor": "white",
            "linecolor": "white",
            "ticks": ""
           }
          },
          "title": {
           "x": 0.05
          },
          "xaxis": {
           "automargin": true,
           "gridcolor": "white",
           "linecolor": "white",
           "ticks": "",
           "title": {
            "standoff": 15
           },
           "zerolinecolor": "white",
           "zerolinewidth": 2
          },
          "yaxis": {
           "automargin": true,
           "gridcolor": "white",
           "linecolor": "white",
           "ticks": "",
           "title": {
            "standoff": 15
           },
           "zerolinecolor": "white",
           "zerolinewidth": 2
          }
         }
        },
        "title": {
         "text": "Install to conversion rate Over Time by Marketing channel"
        },
        "width": 1000,
        "xaxis": {
         "title": {
          "text": "Date"
         }
        },
        "yaxis": {
         "title": {
          "text": "Install to Conversion rate"
         }
        }
       }
      }
     },
     "metadata": {},
     "output_type": "display_data"
    }
   ],
   "source": [
    "create_grouped_line_chart(\n",
    "    df=df_channels_over_time[df_channels_over_time['country']=='US'],\n",
    "    x_column=\"date\",\n",
    "    y_column=\"install_to_conversion_rate\",\n",
    "    group_column=\"marketing_channel\",\n",
    "    y_label=\"Install to Conversion rate\"\n",
    ")\n"
   ]
  },
  {
   "cell_type": "code",
   "execution_count": 53,
   "id": "c01f35f1",
   "metadata": {},
   "outputs": [
    {
     "data": {
      "application/vnd.plotly.v1+json": {
       "config": {
        "plotlyServerURL": "https://plot.ly"
       },
       "data": [
        {
         "mode": "lines",
         "name": "Channel A",
         "type": "scatter",
         "x": [
          "2023-11-01",
          "2023-11-02",
          "2023-11-03",
          "2023-11-04",
          "2023-11-06",
          "2023-11-07",
          "2023-11-13",
          "2023-11-16",
          "2023-11-21",
          "2023-11-22",
          "2023-11-23",
          "2023-11-24",
          "2023-11-25",
          "2023-11-26",
          "2023-11-27",
          "2023-11-28",
          "2023-11-29",
          "2023-11-30"
         ],
         "y": [
          null,
          null,
          null,
          null,
          0,
          0,
          0,
          0,
          null,
          220.67,
          null,
          null,
          null,
          null,
          null,
          194.66,
          null,
          221.66
         ]
        },
        {
         "mode": "lines",
         "name": "Channel B",
         "type": "scatter",
         "x": [
          "2023-11-01",
          "2023-11-02",
          "2023-11-03",
          "2023-11-04",
          "2023-11-05",
          "2023-11-06",
          "2023-11-07",
          "2023-11-08",
          "2023-11-09",
          "2023-11-10",
          "2023-11-11",
          "2023-11-12",
          "2023-11-13",
          "2023-11-14",
          "2023-11-15",
          "2023-11-16",
          "2023-11-17",
          "2023-11-18",
          "2023-11-19",
          "2023-11-20",
          "2023-11-21",
          "2023-11-22",
          "2023-11-23",
          "2023-11-24",
          "2023-11-25",
          "2023-11-26",
          "2023-11-27",
          "2023-11-28",
          "2023-11-29",
          "2023-11-30"
         ],
         "y": [
          3.45,
          4.18,
          5.2,
          2.92,
          2.09,
          4.19,
          3.86,
          3.62,
          4.57,
          4.43,
          3.36,
          3.95,
          3.38,
          3.37,
          3.48,
          4.38,
          3.97,
          6.6,
          6.18,
          8.07,
          8.78,
          10.45,
          12.35,
          11.16,
          8.84,
          11.3,
          6.79,
          8.96,
          7.54,
          8.46
         ]
        },
        {
         "mode": "lines",
         "name": "Channel C",
         "type": "scatter",
         "x": [
          "2023-11-01",
          "2023-11-02",
          "2023-11-03",
          "2023-11-04",
          "2023-11-05",
          "2023-11-06",
          "2023-11-07",
          "2023-11-08",
          "2023-11-09",
          "2023-11-10",
          "2023-11-11",
          "2023-11-12",
          "2023-11-13",
          "2023-11-14",
          "2023-11-15",
          "2023-11-16",
          "2023-11-17",
          "2023-11-18",
          "2023-11-19",
          "2023-11-20",
          "2023-11-21",
          "2023-11-22",
          "2023-11-23",
          "2023-11-24",
          "2023-11-25",
          "2023-11-26",
          "2023-11-27",
          "2023-11-28",
          "2023-11-29",
          "2023-11-30"
         ],
         "y": [
          3.22,
          4.47,
          4.42,
          4.21,
          3.78,
          3.59,
          3.54,
          3.37,
          4,
          5.12,
          4.43,
          3.71,
          4.16,
          4.24,
          4.05,
          3.8,
          5.25,
          4.32,
          3.82,
          4,
          4.72,
          4.38,
          6,
          4.99,
          4.79,
          4.5,
          4.07,
          4.76,
          4.77,
          3.99
         ]
        },
        {
         "mode": "lines",
         "name": "Channel D",
         "type": "scatter",
         "x": [
          "2023-11-07",
          "2023-11-08",
          "2023-11-09",
          "2023-11-10",
          "2023-11-11",
          "2023-11-12",
          "2023-11-13"
         ],
         "y": [
          null,
          null,
          null,
          null,
          null,
          null,
          null
         ]
        },
        {
         "mode": "lines",
         "name": "Channel E",
         "type": "scatter",
         "x": [
          "2023-11-01",
          "2023-11-02",
          "2023-11-03",
          "2023-11-04",
          "2023-11-05",
          "2023-11-06",
          "2023-11-07",
          "2023-11-08",
          "2023-11-09",
          "2023-11-10",
          "2023-11-11",
          "2023-11-12",
          "2023-11-13",
          "2023-11-14",
          "2023-11-15",
          "2023-11-16",
          "2023-11-17",
          "2023-11-18",
          "2023-11-19",
          "2023-11-20",
          "2023-11-21",
          "2023-11-22",
          "2023-11-23",
          "2023-11-24",
          "2023-11-25",
          "2023-11-26",
          "2023-11-27",
          "2023-11-28",
          "2023-11-29",
          "2023-11-30"
         ],
         "y": [
          null,
          null,
          null,
          null,
          null,
          null,
          null,
          null,
          null,
          null,
          null,
          null,
          null,
          null,
          null,
          null,
          null,
          null,
          null,
          null,
          null,
          null,
          null,
          null,
          null,
          null,
          null,
          null,
          null,
          null
         ]
        }
       ],
       "layout": {
        "annotations": [
         {
          "arrowhead": 2,
          "ax": 0,
          "ay": -40,
          "showarrow": true,
          "text": "Black Friday",
          "x": "2023-11-24",
          "y": 221.66
         }
        ],
        "height": 600,
        "legend": {
         "title": {
          "text": "Marketing channel"
         }
        },
        "template": {
         "data": {
          "bar": [
           {
            "error_x": {
             "color": "#2a3f5f"
            },
            "error_y": {
             "color": "#2a3f5f"
            },
            "marker": {
             "line": {
              "color": "#E5ECF6",
              "width": 0.5
             },
             "pattern": {
              "fillmode": "overlay",
              "size": 10,
              "solidity": 0.2
             }
            },
            "type": "bar"
           }
          ],
          "barpolar": [
           {
            "marker": {
             "line": {
              "color": "#E5ECF6",
              "width": 0.5
             },
             "pattern": {
              "fillmode": "overlay",
              "size": 10,
              "solidity": 0.2
             }
            },
            "type": "barpolar"
           }
          ],
          "carpet": [
           {
            "aaxis": {
             "endlinecolor": "#2a3f5f",
             "gridcolor": "white",
             "linecolor": "white",
             "minorgridcolor": "white",
             "startlinecolor": "#2a3f5f"
            },
            "baxis": {
             "endlinecolor": "#2a3f5f",
             "gridcolor": "white",
             "linecolor": "white",
             "minorgridcolor": "white",
             "startlinecolor": "#2a3f5f"
            },
            "type": "carpet"
           }
          ],
          "choropleth": [
           {
            "colorbar": {
             "outlinewidth": 0,
             "ticks": ""
            },
            "type": "choropleth"
           }
          ],
          "contour": [
           {
            "colorbar": {
             "outlinewidth": 0,
             "ticks": ""
            },
            "colorscale": [
             [
              0,
              "#0d0887"
             ],
             [
              0.1111111111111111,
              "#46039f"
             ],
             [
              0.2222222222222222,
              "#7201a8"
             ],
             [
              0.3333333333333333,
              "#9c179e"
             ],
             [
              0.4444444444444444,
              "#bd3786"
             ],
             [
              0.5555555555555556,
              "#d8576b"
             ],
             [
              0.6666666666666666,
              "#ed7953"
             ],
             [
              0.7777777777777778,
              "#fb9f3a"
             ],
             [
              0.8888888888888888,
              "#fdca26"
             ],
             [
              1,
              "#f0f921"
             ]
            ],
            "type": "contour"
           }
          ],
          "contourcarpet": [
           {
            "colorbar": {
             "outlinewidth": 0,
             "ticks": ""
            },
            "type": "contourcarpet"
           }
          ],
          "heatmap": [
           {
            "colorbar": {
             "outlinewidth": 0,
             "ticks": ""
            },
            "colorscale": [
             [
              0,
              "#0d0887"
             ],
             [
              0.1111111111111111,
              "#46039f"
             ],
             [
              0.2222222222222222,
              "#7201a8"
             ],
             [
              0.3333333333333333,
              "#9c179e"
             ],
             [
              0.4444444444444444,
              "#bd3786"
             ],
             [
              0.5555555555555556,
              "#d8576b"
             ],
             [
              0.6666666666666666,
              "#ed7953"
             ],
             [
              0.7777777777777778,
              "#fb9f3a"
             ],
             [
              0.8888888888888888,
              "#fdca26"
             ],
             [
              1,
              "#f0f921"
             ]
            ],
            "type": "heatmap"
           }
          ],
          "heatmapgl": [
           {
            "colorbar": {
             "outlinewidth": 0,
             "ticks": ""
            },
            "colorscale": [
             [
              0,
              "#0d0887"
             ],
             [
              0.1111111111111111,
              "#46039f"
             ],
             [
              0.2222222222222222,
              "#7201a8"
             ],
             [
              0.3333333333333333,
              "#9c179e"
             ],
             [
              0.4444444444444444,
              "#bd3786"
             ],
             [
              0.5555555555555556,
              "#d8576b"
             ],
             [
              0.6666666666666666,
              "#ed7953"
             ],
             [
              0.7777777777777778,
              "#fb9f3a"
             ],
             [
              0.8888888888888888,
              "#fdca26"
             ],
             [
              1,
              "#f0f921"
             ]
            ],
            "type": "heatmapgl"
           }
          ],
          "histogram": [
           {
            "marker": {
             "pattern": {
              "fillmode": "overlay",
              "size": 10,
              "solidity": 0.2
             }
            },
            "type": "histogram"
           }
          ],
          "histogram2d": [
           {
            "colorbar": {
             "outlinewidth": 0,
             "ticks": ""
            },
            "colorscale": [
             [
              0,
              "#0d0887"
             ],
             [
              0.1111111111111111,
              "#46039f"
             ],
             [
              0.2222222222222222,
              "#7201a8"
             ],
             [
              0.3333333333333333,
              "#9c179e"
             ],
             [
              0.4444444444444444,
              "#bd3786"
             ],
             [
              0.5555555555555556,
              "#d8576b"
             ],
             [
              0.6666666666666666,
              "#ed7953"
             ],
             [
              0.7777777777777778,
              "#fb9f3a"
             ],
             [
              0.8888888888888888,
              "#fdca26"
             ],
             [
              1,
              "#f0f921"
             ]
            ],
            "type": "histogram2d"
           }
          ],
          "histogram2dcontour": [
           {
            "colorbar": {
             "outlinewidth": 0,
             "ticks": ""
            },
            "colorscale": [
             [
              0,
              "#0d0887"
             ],
             [
              0.1111111111111111,
              "#46039f"
             ],
             [
              0.2222222222222222,
              "#7201a8"
             ],
             [
              0.3333333333333333,
              "#9c179e"
             ],
             [
              0.4444444444444444,
              "#bd3786"
             ],
             [
              0.5555555555555556,
              "#d8576b"
             ],
             [
              0.6666666666666666,
              "#ed7953"
             ],
             [
              0.7777777777777778,
              "#fb9f3a"
             ],
             [
              0.8888888888888888,
              "#fdca26"
             ],
             [
              1,
              "#f0f921"
             ]
            ],
            "type": "histogram2dcontour"
           }
          ],
          "mesh3d": [
           {
            "colorbar": {
             "outlinewidth": 0,
             "ticks": ""
            },
            "type": "mesh3d"
           }
          ],
          "parcoords": [
           {
            "line": {
             "colorbar": {
              "outlinewidth": 0,
              "ticks": ""
             }
            },
            "type": "parcoords"
           }
          ],
          "pie": [
           {
            "automargin": true,
            "type": "pie"
           }
          ],
          "scatter": [
           {
            "fillpattern": {
             "fillmode": "overlay",
             "size": 10,
             "solidity": 0.2
            },
            "type": "scatter"
           }
          ],
          "scatter3d": [
           {
            "line": {
             "colorbar": {
              "outlinewidth": 0,
              "ticks": ""
             }
            },
            "marker": {
             "colorbar": {
              "outlinewidth": 0,
              "ticks": ""
             }
            },
            "type": "scatter3d"
           }
          ],
          "scattercarpet": [
           {
            "marker": {
             "colorbar": {
              "outlinewidth": 0,
              "ticks": ""
             }
            },
            "type": "scattercarpet"
           }
          ],
          "scattergeo": [
           {
            "marker": {
             "colorbar": {
              "outlinewidth": 0,
              "ticks": ""
             }
            },
            "type": "scattergeo"
           }
          ],
          "scattergl": [
           {
            "marker": {
             "colorbar": {
              "outlinewidth": 0,
              "ticks": ""
             }
            },
            "type": "scattergl"
           }
          ],
          "scattermapbox": [
           {
            "marker": {
             "colorbar": {
              "outlinewidth": 0,
              "ticks": ""
             }
            },
            "type": "scattermapbox"
           }
          ],
          "scatterpolar": [
           {
            "marker": {
             "colorbar": {
              "outlinewidth": 0,
              "ticks": ""
             }
            },
            "type": "scatterpolar"
           }
          ],
          "scatterpolargl": [
           {
            "marker": {
             "colorbar": {
              "outlinewidth": 0,
              "ticks": ""
             }
            },
            "type": "scatterpolargl"
           }
          ],
          "scatterternary": [
           {
            "marker": {
             "colorbar": {
              "outlinewidth": 0,
              "ticks": ""
             }
            },
            "type": "scatterternary"
           }
          ],
          "surface": [
           {
            "colorbar": {
             "outlinewidth": 0,
             "ticks": ""
            },
            "colorscale": [
             [
              0,
              "#0d0887"
             ],
             [
              0.1111111111111111,
              "#46039f"
             ],
             [
              0.2222222222222222,
              "#7201a8"
             ],
             [
              0.3333333333333333,
              "#9c179e"
             ],
             [
              0.4444444444444444,
              "#bd3786"
             ],
             [
              0.5555555555555556,
              "#d8576b"
             ],
             [
              0.6666666666666666,
              "#ed7953"
             ],
             [
              0.7777777777777778,
              "#fb9f3a"
             ],
             [
              0.8888888888888888,
              "#fdca26"
             ],
             [
              1,
              "#f0f921"
             ]
            ],
            "type": "surface"
           }
          ],
          "table": [
           {
            "cells": {
             "fill": {
              "color": "#EBF0F8"
             },
             "line": {
              "color": "white"
             }
            },
            "header": {
             "fill": {
              "color": "#C8D4E3"
             },
             "line": {
              "color": "white"
             }
            },
            "type": "table"
           }
          ]
         },
         "layout": {
          "annotationdefaults": {
           "arrowcolor": "#2a3f5f",
           "arrowhead": 0,
           "arrowwidth": 1
          },
          "autotypenumbers": "strict",
          "coloraxis": {
           "colorbar": {
            "outlinewidth": 0,
            "ticks": ""
           }
          },
          "colorscale": {
           "diverging": [
            [
             0,
             "#8e0152"
            ],
            [
             0.1,
             "#c51b7d"
            ],
            [
             0.2,
             "#de77ae"
            ],
            [
             0.3,
             "#f1b6da"
            ],
            [
             0.4,
             "#fde0ef"
            ],
            [
             0.5,
             "#f7f7f7"
            ],
            [
             0.6,
             "#e6f5d0"
            ],
            [
             0.7,
             "#b8e186"
            ],
            [
             0.8,
             "#7fbc41"
            ],
            [
             0.9,
             "#4d9221"
            ],
            [
             1,
             "#276419"
            ]
           ],
           "sequential": [
            [
             0,
             "#0d0887"
            ],
            [
             0.1111111111111111,
             "#46039f"
            ],
            [
             0.2222222222222222,
             "#7201a8"
            ],
            [
             0.3333333333333333,
             "#9c179e"
            ],
            [
             0.4444444444444444,
             "#bd3786"
            ],
            [
             0.5555555555555556,
             "#d8576b"
            ],
            [
             0.6666666666666666,
             "#ed7953"
            ],
            [
             0.7777777777777778,
             "#fb9f3a"
            ],
            [
             0.8888888888888888,
             "#fdca26"
            ],
            [
             1,
             "#f0f921"
            ]
           ],
           "sequentialminus": [
            [
             0,
             "#0d0887"
            ],
            [
             0.1111111111111111,
             "#46039f"
            ],
            [
             0.2222222222222222,
             "#7201a8"
            ],
            [
             0.3333333333333333,
             "#9c179e"
            ],
            [
             0.4444444444444444,
             "#bd3786"
            ],
            [
             0.5555555555555556,
             "#d8576b"
            ],
            [
             0.6666666666666666,
             "#ed7953"
            ],
            [
             0.7777777777777778,
             "#fb9f3a"
            ],
            [
             0.8888888888888888,
             "#fdca26"
            ],
            [
             1,
             "#f0f921"
            ]
           ]
          },
          "colorway": [
           "#636efa",
           "#EF553B",
           "#00cc96",
           "#ab63fa",
           "#FFA15A",
           "#19d3f3",
           "#FF6692",
           "#B6E880",
           "#FF97FF",
           "#FECB52"
          ],
          "font": {
           "color": "#2a3f5f"
          },
          "geo": {
           "bgcolor": "white",
           "lakecolor": "white",
           "landcolor": "#E5ECF6",
           "showlakes": true,
           "showland": true,
           "subunitcolor": "white"
          },
          "hoverlabel": {
           "align": "left"
          },
          "hovermode": "closest",
          "mapbox": {
           "style": "light"
          },
          "paper_bgcolor": "white",
          "plot_bgcolor": "#E5ECF6",
          "polar": {
           "angularaxis": {
            "gridcolor": "white",
            "linecolor": "white",
            "ticks": ""
           },
           "bgcolor": "#E5ECF6",
           "radialaxis": {
            "gridcolor": "white",
            "linecolor": "white",
            "ticks": ""
           }
          },
          "scene": {
           "xaxis": {
            "backgroundcolor": "#E5ECF6",
            "gridcolor": "white",
            "gridwidth": 2,
            "linecolor": "white",
            "showbackground": true,
            "ticks": "",
            "zerolinecolor": "white"
           },
           "yaxis": {
            "backgroundcolor": "#E5ECF6",
            "gridcolor": "white",
            "gridwidth": 2,
            "linecolor": "white",
            "showbackground": true,
            "ticks": "",
            "zerolinecolor": "white"
           },
           "zaxis": {
            "backgroundcolor": "#E5ECF6",
            "gridcolor": "white",
            "gridwidth": 2,
            "linecolor": "white",
            "showbackground": true,
            "ticks": "",
            "zerolinecolor": "white"
           }
          },
          "shapedefaults": {
           "line": {
            "color": "#2a3f5f"
           }
          },
          "ternary": {
           "aaxis": {
            "gridcolor": "white",
            "linecolor": "white",
            "ticks": ""
           },
           "baxis": {
            "gridcolor": "white",
            "linecolor": "white",
            "ticks": ""
           },
           "bgcolor": "#E5ECF6",
           "caxis": {
            "gridcolor": "white",
            "linecolor": "white",
            "ticks": ""
           }
          },
          "title": {
           "x": 0.05
          },
          "xaxis": {
           "automargin": true,
           "gridcolor": "white",
           "linecolor": "white",
           "ticks": "",
           "title": {
            "standoff": 15
           },
           "zerolinecolor": "white",
           "zerolinewidth": 2
          },
          "yaxis": {
           "automargin": true,
           "gridcolor": "white",
           "linecolor": "white",
           "ticks": "",
           "title": {
            "standoff": 15
           },
           "zerolinecolor": "white",
           "zerolinewidth": 2
          }
         }
        },
        "title": {
         "text": "Cpi Over Time by Marketing channel"
        },
        "width": 1000,
        "xaxis": {
         "title": {
          "text": "Date"
         }
        },
        "yaxis": {
         "title": {
          "text": "Cost per Install"
         }
        }
       }
      }
     },
     "metadata": {},
     "output_type": "display_data"
    }
   ],
   "source": [
    "create_grouped_line_chart(\n",
    "    df=df_channels_over_time[df_channels_over_time['country']=='US'],\n",
    "    x_column=\"date\",\n",
    "    y_column=\"cpi\",\n",
    "    group_column=\"marketing_channel\",\n",
    "    y_label=\"Cost per Install\"\n",
    ")"
   ]
  },
  {
   "cell_type": "code",
   "execution_count": 54,
   "id": "58c3005f",
   "metadata": {},
   "outputs": [
    {
     "data": {
      "application/vnd.plotly.v1+json": {
       "config": {
        "plotlyServerURL": "https://plot.ly"
       },
       "data": [
        {
         "mode": "lines",
         "name": "Channel A",
         "type": "scatter",
         "x": [
          "2023-11-01",
          "2023-11-02",
          "2023-11-03",
          "2023-11-04",
          "2023-11-06",
          "2023-11-07",
          "2023-11-13",
          "2023-11-16",
          "2023-11-21",
          "2023-11-22",
          "2023-11-23",
          "2023-11-24",
          "2023-11-25",
          "2023-11-26",
          "2023-11-27",
          "2023-11-28",
          "2023-11-29",
          "2023-11-30"
         ],
         "y": [
          -263.17,
          -304.55,
          -455.68,
          -388.01,
          0,
          0,
          0,
          0,
          -215.31,
          -220.67,
          -218.23,
          -215.18,
          -216.8,
          -210.66,
          -214.15,
          -194.66,
          -155.82,
          -221.66
         ]
        },
        {
         "mode": "lines",
         "name": "Channel B",
         "type": "scatter",
         "x": [
          "2023-11-01",
          "2023-11-02",
          "2023-11-03",
          "2023-11-04",
          "2023-11-05",
          "2023-11-06",
          "2023-11-07",
          "2023-11-08",
          "2023-11-09",
          "2023-11-10",
          "2023-11-11",
          "2023-11-12",
          "2023-11-13",
          "2023-11-14",
          "2023-11-15",
          "2023-11-16",
          "2023-11-17",
          "2023-11-18",
          "2023-11-19",
          "2023-11-20",
          "2023-11-21",
          "2023-11-22",
          "2023-11-23",
          "2023-11-24",
          "2023-11-25",
          "2023-11-26",
          "2023-11-27",
          "2023-11-28",
          "2023-11-29",
          "2023-11-30"
         ],
         "y": [
          -62.1,
          -20.72,
          31.53,
          -45.59,
          -11.03,
          7.51,
          -86.27,
          -90.66,
          -135.84,
          -98.46,
          -200.95,
          -234.06,
          -66.95,
          -160.9,
          -77.14,
          -234.62,
          -207.85,
          -393.84,
          -335.13,
          -327.75,
          -312.6,
          -302.96,
          -287.46,
          -374.22,
          -269.69,
          -372.3,
          -304.71,
          -238.91,
          -255.9,
          -307.03
         ]
        },
        {
         "mode": "lines",
         "name": "Channel C",
         "type": "scatter",
         "x": [
          "2023-11-01",
          "2023-11-02",
          "2023-11-03",
          "2023-11-04",
          "2023-11-05",
          "2023-11-06",
          "2023-11-07",
          "2023-11-08",
          "2023-11-09",
          "2023-11-10",
          "2023-11-11",
          "2023-11-12",
          "2023-11-13",
          "2023-11-14",
          "2023-11-15",
          "2023-11-16",
          "2023-11-17",
          "2023-11-18",
          "2023-11-19",
          "2023-11-20",
          "2023-11-21",
          "2023-11-22",
          "2023-11-23",
          "2023-11-24",
          "2023-11-25",
          "2023-11-26",
          "2023-11-27",
          "2023-11-28",
          "2023-11-29",
          "2023-11-30"
         ],
         "y": [
          -37.41,
          -165.07,
          -167.11,
          -204.8,
          70.97,
          133.54,
          -152.17,
          -217.58,
          -201.94,
          -413.33,
          -286.81,
          -345.95,
          -204.41,
          -192.94,
          -105.58,
          -188.63,
          -272.87,
          -207.53,
          -171.49,
          -81.39,
          -243.2,
          -349.54,
          -279.11,
          -214.69,
          -190.16,
          -182.55,
          -239.22,
          -271.73,
          -166.12,
          -126.52
         ]
        },
        {
         "mode": "lines",
         "name": "Channel D",
         "type": "scatter",
         "x": [
          "2023-11-07",
          "2023-11-08",
          "2023-11-09",
          "2023-11-10",
          "2023-11-11",
          "2023-11-12",
          "2023-11-13"
         ],
         "y": [
          -218.67,
          -218.97,
          -218.95,
          -219.9,
          -219.68,
          -219.04,
          -219.72
         ]
        },
        {
         "mode": "lines",
         "name": "Channel E",
         "type": "scatter",
         "x": [
          "2023-11-01",
          "2023-11-02",
          "2023-11-03",
          "2023-11-04",
          "2023-11-05",
          "2023-11-06",
          "2023-11-07",
          "2023-11-08",
          "2023-11-09",
          "2023-11-10",
          "2023-11-11",
          "2023-11-12",
          "2023-11-13",
          "2023-11-14",
          "2023-11-15",
          "2023-11-16",
          "2023-11-17",
          "2023-11-18",
          "2023-11-19",
          "2023-11-20",
          "2023-11-21",
          "2023-11-22",
          "2023-11-23",
          "2023-11-24",
          "2023-11-25",
          "2023-11-26",
          "2023-11-27",
          "2023-11-28",
          "2023-11-29",
          "2023-11-30"
         ],
         "y": [
          0,
          0,
          0,
          0,
          0,
          0,
          0,
          0,
          0,
          0,
          0,
          0,
          0,
          0,
          0,
          0,
          0,
          0,
          0,
          0,
          0,
          0,
          0,
          0,
          0,
          0,
          0,
          0,
          0,
          0
         ]
        }
       ],
       "layout": {
        "annotations": [
         {
          "arrowhead": 2,
          "ax": 0,
          "ay": -40,
          "showarrow": true,
          "text": "Black Friday",
          "x": "2023-11-24",
          "y": 133.54
         }
        ],
        "height": 600,
        "legend": {
         "title": {
          "text": "Marketing channel"
         }
        },
        "template": {
         "data": {
          "bar": [
           {
            "error_x": {
             "color": "#2a3f5f"
            },
            "error_y": {
             "color": "#2a3f5f"
            },
            "marker": {
             "line": {
              "color": "#E5ECF6",
              "width": 0.5
             },
             "pattern": {
              "fillmode": "overlay",
              "size": 10,
              "solidity": 0.2
             }
            },
            "type": "bar"
           }
          ],
          "barpolar": [
           {
            "marker": {
             "line": {
              "color": "#E5ECF6",
              "width": 0.5
             },
             "pattern": {
              "fillmode": "overlay",
              "size": 10,
              "solidity": 0.2
             }
            },
            "type": "barpolar"
           }
          ],
          "carpet": [
           {
            "aaxis": {
             "endlinecolor": "#2a3f5f",
             "gridcolor": "white",
             "linecolor": "white",
             "minorgridcolor": "white",
             "startlinecolor": "#2a3f5f"
            },
            "baxis": {
             "endlinecolor": "#2a3f5f",
             "gridcolor": "white",
             "linecolor": "white",
             "minorgridcolor": "white",
             "startlinecolor": "#2a3f5f"
            },
            "type": "carpet"
           }
          ],
          "choropleth": [
           {
            "colorbar": {
             "outlinewidth": 0,
             "ticks": ""
            },
            "type": "choropleth"
           }
          ],
          "contour": [
           {
            "colorbar": {
             "outlinewidth": 0,
             "ticks": ""
            },
            "colorscale": [
             [
              0,
              "#0d0887"
             ],
             [
              0.1111111111111111,
              "#46039f"
             ],
             [
              0.2222222222222222,
              "#7201a8"
             ],
             [
              0.3333333333333333,
              "#9c179e"
             ],
             [
              0.4444444444444444,
              "#bd3786"
             ],
             [
              0.5555555555555556,
              "#d8576b"
             ],
             [
              0.6666666666666666,
              "#ed7953"
             ],
             [
              0.7777777777777778,
              "#fb9f3a"
             ],
             [
              0.8888888888888888,
              "#fdca26"
             ],
             [
              1,
              "#f0f921"
             ]
            ],
            "type": "contour"
           }
          ],
          "contourcarpet": [
           {
            "colorbar": {
             "outlinewidth": 0,
             "ticks": ""
            },
            "type": "contourcarpet"
           }
          ],
          "heatmap": [
           {
            "colorbar": {
             "outlinewidth": 0,
             "ticks": ""
            },
            "colorscale": [
             [
              0,
              "#0d0887"
             ],
             [
              0.1111111111111111,
              "#46039f"
             ],
             [
              0.2222222222222222,
              "#7201a8"
             ],
             [
              0.3333333333333333,
              "#9c179e"
             ],
             [
              0.4444444444444444,
              "#bd3786"
             ],
             [
              0.5555555555555556,
              "#d8576b"
             ],
             [
              0.6666666666666666,
              "#ed7953"
             ],
             [
              0.7777777777777778,
              "#fb9f3a"
             ],
             [
              0.8888888888888888,
              "#fdca26"
             ],
             [
              1,
              "#f0f921"
             ]
            ],
            "type": "heatmap"
           }
          ],
          "heatmapgl": [
           {
            "colorbar": {
             "outlinewidth": 0,
             "ticks": ""
            },
            "colorscale": [
             [
              0,
              "#0d0887"
             ],
             [
              0.1111111111111111,
              "#46039f"
             ],
             [
              0.2222222222222222,
              "#7201a8"
             ],
             [
              0.3333333333333333,
              "#9c179e"
             ],
             [
              0.4444444444444444,
              "#bd3786"
             ],
             [
              0.5555555555555556,
              "#d8576b"
             ],
             [
              0.6666666666666666,
              "#ed7953"
             ],
             [
              0.7777777777777778,
              "#fb9f3a"
             ],
             [
              0.8888888888888888,
              "#fdca26"
             ],
             [
              1,
              "#f0f921"
             ]
            ],
            "type": "heatmapgl"
           }
          ],
          "histogram": [
           {
            "marker": {
             "pattern": {
              "fillmode": "overlay",
              "size": 10,
              "solidity": 0.2
             }
            },
            "type": "histogram"
           }
          ],
          "histogram2d": [
           {
            "colorbar": {
             "outlinewidth": 0,
             "ticks": ""
            },
            "colorscale": [
             [
              0,
              "#0d0887"
             ],
             [
              0.1111111111111111,
              "#46039f"
             ],
             [
              0.2222222222222222,
              "#7201a8"
             ],
             [
              0.3333333333333333,
              "#9c179e"
             ],
             [
              0.4444444444444444,
              "#bd3786"
             ],
             [
              0.5555555555555556,
              "#d8576b"
             ],
             [
              0.6666666666666666,
              "#ed7953"
             ],
             [
              0.7777777777777778,
              "#fb9f3a"
             ],
             [
              0.8888888888888888,
              "#fdca26"
             ],
             [
              1,
              "#f0f921"
             ]
            ],
            "type": "histogram2d"
           }
          ],
          "histogram2dcontour": [
           {
            "colorbar": {
             "outlinewidth": 0,
             "ticks": ""
            },
            "colorscale": [
             [
              0,
              "#0d0887"
             ],
             [
              0.1111111111111111,
              "#46039f"
             ],
             [
              0.2222222222222222,
              "#7201a8"
             ],
             [
              0.3333333333333333,
              "#9c179e"
             ],
             [
              0.4444444444444444,
              "#bd3786"
             ],
             [
              0.5555555555555556,
              "#d8576b"
             ],
             [
              0.6666666666666666,
              "#ed7953"
             ],
             [
              0.7777777777777778,
              "#fb9f3a"
             ],
             [
              0.8888888888888888,
              "#fdca26"
             ],
             [
              1,
              "#f0f921"
             ]
            ],
            "type": "histogram2dcontour"
           }
          ],
          "mesh3d": [
           {
            "colorbar": {
             "outlinewidth": 0,
             "ticks": ""
            },
            "type": "mesh3d"
           }
          ],
          "parcoords": [
           {
            "line": {
             "colorbar": {
              "outlinewidth": 0,
              "ticks": ""
             }
            },
            "type": "parcoords"
           }
          ],
          "pie": [
           {
            "automargin": true,
            "type": "pie"
           }
          ],
          "scatter": [
           {
            "fillpattern": {
             "fillmode": "overlay",
             "size": 10,
             "solidity": 0.2
            },
            "type": "scatter"
           }
          ],
          "scatter3d": [
           {
            "line": {
             "colorbar": {
              "outlinewidth": 0,
              "ticks": ""
             }
            },
            "marker": {
             "colorbar": {
              "outlinewidth": 0,
              "ticks": ""
             }
            },
            "type": "scatter3d"
           }
          ],
          "scattercarpet": [
           {
            "marker": {
             "colorbar": {
              "outlinewidth": 0,
              "ticks": ""
             }
            },
            "type": "scattercarpet"
           }
          ],
          "scattergeo": [
           {
            "marker": {
             "colorbar": {
              "outlinewidth": 0,
              "ticks": ""
             }
            },
            "type": "scattergeo"
           }
          ],
          "scattergl": [
           {
            "marker": {
             "colorbar": {
              "outlinewidth": 0,
              "ticks": ""
             }
            },
            "type": "scattergl"
           }
          ],
          "scattermapbox": [
           {
            "marker": {
             "colorbar": {
              "outlinewidth": 0,
              "ticks": ""
             }
            },
            "type": "scattermapbox"
           }
          ],
          "scatterpolar": [
           {
            "marker": {
             "colorbar": {
              "outlinewidth": 0,
              "ticks": ""
             }
            },
            "type": "scatterpolar"
           }
          ],
          "scatterpolargl": [
           {
            "marker": {
             "colorbar": {
              "outlinewidth": 0,
              "ticks": ""
             }
            },
            "type": "scatterpolargl"
           }
          ],
          "scatterternary": [
           {
            "marker": {
             "colorbar": {
              "outlinewidth": 0,
              "ticks": ""
             }
            },
            "type": "scatterternary"
           }
          ],
          "surface": [
           {
            "colorbar": {
             "outlinewidth": 0,
             "ticks": ""
            },
            "colorscale": [
             [
              0,
              "#0d0887"
             ],
             [
              0.1111111111111111,
              "#46039f"
             ],
             [
              0.2222222222222222,
              "#7201a8"
             ],
             [
              0.3333333333333333,
              "#9c179e"
             ],
             [
              0.4444444444444444,
              "#bd3786"
             ],
             [
              0.5555555555555556,
              "#d8576b"
             ],
             [
              0.6666666666666666,
              "#ed7953"
             ],
             [
              0.7777777777777778,
              "#fb9f3a"
             ],
             [
              0.8888888888888888,
              "#fdca26"
             ],
             [
              1,
              "#f0f921"
             ]
            ],
            "type": "surface"
           }
          ],
          "table": [
           {
            "cells": {
             "fill": {
              "color": "#EBF0F8"
             },
             "line": {
              "color": "white"
             }
            },
            "header": {
             "fill": {
              "color": "#C8D4E3"
             },
             "line": {
              "color": "white"
             }
            },
            "type": "table"
           }
          ]
         },
         "layout": {
          "annotationdefaults": {
           "arrowcolor": "#2a3f5f",
           "arrowhead": 0,
           "arrowwidth": 1
          },
          "autotypenumbers": "strict",
          "coloraxis": {
           "colorbar": {
            "outlinewidth": 0,
            "ticks": ""
           }
          },
          "colorscale": {
           "diverging": [
            [
             0,
             "#8e0152"
            ],
            [
             0.1,
             "#c51b7d"
            ],
            [
             0.2,
             "#de77ae"
            ],
            [
             0.3,
             "#f1b6da"
            ],
            [
             0.4,
             "#fde0ef"
            ],
            [
             0.5,
             "#f7f7f7"
            ],
            [
             0.6,
             "#e6f5d0"
            ],
            [
             0.7,
             "#b8e186"
            ],
            [
             0.8,
             "#7fbc41"
            ],
            [
             0.9,
             "#4d9221"
            ],
            [
             1,
             "#276419"
            ]
           ],
           "sequential": [
            [
             0,
             "#0d0887"
            ],
            [
             0.1111111111111111,
             "#46039f"
            ],
            [
             0.2222222222222222,
             "#7201a8"
            ],
            [
             0.3333333333333333,
             "#9c179e"
            ],
            [
             0.4444444444444444,
             "#bd3786"
            ],
            [
             0.5555555555555556,
             "#d8576b"
            ],
            [
             0.6666666666666666,
             "#ed7953"
            ],
            [
             0.7777777777777778,
             "#fb9f3a"
            ],
            [
             0.8888888888888888,
             "#fdca26"
            ],
            [
             1,
             "#f0f921"
            ]
           ],
           "sequentialminus": [
            [
             0,
             "#0d0887"
            ],
            [
             0.1111111111111111,
             "#46039f"
            ],
            [
             0.2222222222222222,
             "#7201a8"
            ],
            [
             0.3333333333333333,
             "#9c179e"
            ],
            [
             0.4444444444444444,
             "#bd3786"
            ],
            [
             0.5555555555555556,
             "#d8576b"
            ],
            [
             0.6666666666666666,
             "#ed7953"
            ],
            [
             0.7777777777777778,
             "#fb9f3a"
            ],
            [
             0.8888888888888888,
             "#fdca26"
            ],
            [
             1,
             "#f0f921"
            ]
           ]
          },
          "colorway": [
           "#636efa",
           "#EF553B",
           "#00cc96",
           "#ab63fa",
           "#FFA15A",
           "#19d3f3",
           "#FF6692",
           "#B6E880",
           "#FF97FF",
           "#FECB52"
          ],
          "font": {
           "color": "#2a3f5f"
          },
          "geo": {
           "bgcolor": "white",
           "lakecolor": "white",
           "landcolor": "#E5ECF6",
           "showlakes": true,
           "showland": true,
           "subunitcolor": "white"
          },
          "hoverlabel": {
           "align": "left"
          },
          "hovermode": "closest",
          "mapbox": {
           "style": "light"
          },
          "paper_bgcolor": "white",
          "plot_bgcolor": "#E5ECF6",
          "polar": {
           "angularaxis": {
            "gridcolor": "white",
            "linecolor": "white",
            "ticks": ""
           },
           "bgcolor": "#E5ECF6",
           "radialaxis": {
            "gridcolor": "white",
            "linecolor": "white",
            "ticks": ""
           }
          },
          "scene": {
           "xaxis": {
            "backgroundcolor": "#E5ECF6",
            "gridcolor": "white",
            "gridwidth": 2,
            "linecolor": "white",
            "showbackground": true,
            "ticks": "",
            "zerolinecolor": "white"
           },
           "yaxis": {
            "backgroundcolor": "#E5ECF6",
            "gridcolor": "white",
            "gridwidth": 2,
            "linecolor": "white",
            "showbackground": true,
            "ticks": "",
            "zerolinecolor": "white"
           },
           "zaxis": {
            "backgroundcolor": "#E5ECF6",
            "gridcolor": "white",
            "gridwidth": 2,
            "linecolor": "white",
            "showbackground": true,
            "ticks": "",
            "zerolinecolor": "white"
           }
          },
          "shapedefaults": {
           "line": {
            "color": "#2a3f5f"
           }
          },
          "ternary": {
           "aaxis": {
            "gridcolor": "white",
            "linecolor": "white",
            "ticks": ""
           },
           "baxis": {
            "gridcolor": "white",
            "linecolor": "white",
            "ticks": ""
           },
           "bgcolor": "#E5ECF6",
           "caxis": {
            "gridcolor": "white",
            "linecolor": "white",
            "ticks": ""
           }
          },
          "title": {
           "x": 0.05
          },
          "xaxis": {
           "automargin": true,
           "gridcolor": "white",
           "linecolor": "white",
           "ticks": "",
           "title": {
            "standoff": 15
           },
           "zerolinecolor": "white",
           "zerolinewidth": 2
          },
          "yaxis": {
           "automargin": true,
           "gridcolor": "white",
           "linecolor": "white",
           "ticks": "",
           "title": {
            "standoff": 15
           },
           "zerolinecolor": "white",
           "zerolinewidth": 2
          }
         }
        },
        "title": {
         "text": "Profit Over Time by Marketing channel"
        },
        "width": 1000,
        "xaxis": {
         "title": {
          "text": "Date"
         }
        },
        "yaxis": {
         "title": {
          "text": "Profit"
         }
        }
       }
      }
     },
     "metadata": {},
     "output_type": "display_data"
    }
   ],
   "source": [
    "create_grouped_line_chart(\n",
    "    df=df_channels_over_time[df_channels_over_time['country']=='US'],\n",
    "    x_column=\"date\",\n",
    "    y_column=\"profit\",\n",
    "    group_column=\"marketing_channel\",\n",
    "    y_label=\"Profit\"\n",
    ")"
   ]
  },
  {
   "cell_type": "markdown",
   "id": "d68e7e2a",
   "metadata": {},
   "source": [
    "## Main KPIs over time"
   ]
  },
  {
   "cell_type": "markdown",
   "id": "3093597f",
   "metadata": {},
   "source": [
    "# Others"
   ]
  },
  {
   "cell_type": "code",
   "execution_count": null,
   "id": "b19a1270",
   "metadata": {},
   "outputs": [],
   "source": [
    "# Plot marketing_spend_euro, revenue_euro, and profit over date\n",
    "\n",
    "def plot_metrics(df, plot_width=1000, plot_height=600):\n",
    "    fig = go.Figure()\n",
    "\n",
    "    # Add lines for each metric with German palette colors\n",
    "    fig.add_trace(go.Scatter(x=df['date'], y=df['marketing_spend_euro'], mode='lines', name='Marketing Spend (€)', line=dict(color='#fc5c65')))\n",
    "    fig.add_trace(go.Scatter(x=df['date'], y=df['revenue_euro'], mode='lines', name='Revenue (€)', line=dict(color='#26de81')))\n",
    "    fig.add_trace(go.Scatter(x=df['date'], y=df['profit'], mode='lines', name='Profit (€)', line=dict(color='#4b7bec')))\n",
    "\n",
    "    # Add annotation for Black Friday on 24/11/2023\n",
    "    fig.add_annotation(\n",
    "        x=\"2023-11-24\", \n",
    "        y=max(df['marketing_spend_euro'].max(), df['revenue_euro'].max()),  # Position at the top of the plot\n",
    "        text=\"Black Friday\",\n",
    "        showarrow=True,\n",
    "        arrowhead=2,\n",
    "        ax=0,\n",
    "        ay=-40\n",
    "    )\n",
    "    \n",
    "    # Customize layout\n",
    "    fig.update_layout(\n",
    "        title=\"Marketing Spend, Revenue, and Profit over Time (DE)\",\n",
    "        xaxis_title=\"Date\",\n",
    "        yaxis_title=\"Amount (€)\",\n",
    "        width=plot_width,\n",
    "        height=plot_height,\n",
    "        legend=dict(title=\"Metrics\")\n",
    "    )\n",
    "\n",
    "    fig.show()"
   ]
  },
  {
   "cell_type": "code",
   "execution_count": null,
   "id": "63aa0128",
   "metadata": {},
   "outputs": [
    {
     "data": {
      "application/vnd.plotly.v1+json": {
       "config": {
        "plotlyServerURL": "https://plot.ly"
       },
       "data": [
        {
         "line": {
          "color": "#fc5c65"
         },
         "mode": "lines",
         "name": "Marketing Spend (€)",
         "type": "scatter",
         "x": [
          "2023-11-01",
          "2023-11-02",
          "2023-11-03",
          "2023-11-04",
          "2023-11-05",
          "2023-11-06",
          "2023-11-07",
          "2023-11-08",
          "2023-11-09",
          "2023-11-10",
          "2023-11-11",
          "2023-11-12",
          "2023-11-13",
          "2023-11-14",
          "2023-11-15",
          "2023-11-16",
          "2023-11-17",
          "2023-11-18",
          "2023-11-19",
          "2023-11-20",
          "2023-11-21",
          "2023-11-22",
          "2023-11-23",
          "2023-11-24",
          "2023-11-25",
          "2023-11-26",
          "2023-11-27",
          "2023-11-28",
          "2023-11-29",
          "2023-11-30"
         ],
         "y": [
          5336.08,
          5412.9,
          5122.75,
          5225.61,
          6409.39,
          5299.84,
          4952.05,
          4381.14,
          4096.71,
          3984.88,
          4004.1,
          3497.9,
          3327.43,
          3277.5699999999997,
          3331.86,
          3131.12,
          3133.7799999999997,
          3036.06,
          6794.070000000001,
          3194.0899999999997,
          3952.95,
          6113.61,
          4053.77,
          3806.02,
          3609.99,
          4308.93,
          4042.4700000000003,
          3909.19,
          3575.7799999999997,
          4466.49
         ]
        },
        {
         "line": {
          "color": "#26de81"
         },
         "mode": "lines",
         "name": "Revenue (€)",
         "type": "scatter",
         "x": [
          "2023-11-01",
          "2023-11-02",
          "2023-11-03",
          "2023-11-04",
          "2023-11-05",
          "2023-11-06",
          "2023-11-07",
          "2023-11-08",
          "2023-11-09",
          "2023-11-10",
          "2023-11-11",
          "2023-11-12",
          "2023-11-13",
          "2023-11-14",
          "2023-11-15",
          "2023-11-16",
          "2023-11-17",
          "2023-11-18",
          "2023-11-19",
          "2023-11-20",
          "2023-11-21",
          "2023-11-22",
          "2023-11-23",
          "2023-11-24",
          "2023-11-25",
          "2023-11-26",
          "2023-11-27",
          "2023-11-28",
          "2023-11-29",
          "2023-11-30"
         ],
         "y": [
          6986.51,
          5247.11,
          4876.23,
          4919.7,
          6600.400000000001,
          5376.28,
          5631.24,
          4463.85,
          4364.85,
          4018.04,
          3952.64,
          5254.47,
          5985.78,
          4777.599999999999,
          4708.24,
          4464.6,
          3887.7099999999996,
          2798.95,
          4859.62,
          6098.31,
          5527.88,
          5902.5,
          5148.35,
          4643.22,
          4745.04,
          5707.969999999999,
          5769.62,
          5312.51,
          5098.91,
          4255.099999999999
         ]
        },
        {
         "line": {
          "color": "#4b7bec"
         },
         "mode": "lines",
         "name": "Profit (€)",
         "type": "scatter",
         "x": [
          "2023-11-01",
          "2023-11-02",
          "2023-11-03",
          "2023-11-04",
          "2023-11-05",
          "2023-11-06",
          "2023-11-07",
          "2023-11-08",
          "2023-11-09",
          "2023-11-10",
          "2023-11-11",
          "2023-11-12",
          "2023-11-13",
          "2023-11-14",
          "2023-11-15",
          "2023-11-16",
          "2023-11-17",
          "2023-11-18",
          "2023-11-19",
          "2023-11-20",
          "2023-11-21",
          "2023-11-22",
          "2023-11-23",
          "2023-11-24",
          "2023-11-25",
          "2023-11-26",
          "2023-11-27",
          "2023-11-28",
          "2023-11-29",
          "2023-11-30"
         ],
         "y": [
          1650.43,
          -165.79,
          -246.52,
          -305.91,
          191.01,
          76.44,
          679.19,
          82.71,
          268.14,
          33.16,
          -51.46,
          1756.57,
          2658.35,
          1500.03,
          1376.38,
          1333.48,
          753.93,
          -237.11,
          -1934.45,
          2904.22,
          1574.93,
          -211.11,
          1094.58,
          837.2,
          1135.05,
          1399.04,
          1727.15,
          1403.32,
          1523.13,
          -211.39
         ]
        }
       ],
       "layout": {
        "annotations": [
         {
          "arrowhead": 2,
          "ax": 0,
          "ay": -40,
          "showarrow": true,
          "text": "Black Friday",
          "x": "2023-11-24",
          "y": 6986.51
         }
        ],
        "height": 600,
        "legend": {
         "title": {
          "text": "Metrics"
         }
        },
        "template": {
         "data": {
          "bar": [
           {
            "error_x": {
             "color": "#2a3f5f"
            },
            "error_y": {
             "color": "#2a3f5f"
            },
            "marker": {
             "line": {
              "color": "#E5ECF6",
              "width": 0.5
             },
             "pattern": {
              "fillmode": "overlay",
              "size": 10,
              "solidity": 0.2
             }
            },
            "type": "bar"
           }
          ],
          "barpolar": [
           {
            "marker": {
             "line": {
              "color": "#E5ECF6",
              "width": 0.5
             },
             "pattern": {
              "fillmode": "overlay",
              "size": 10,
              "solidity": 0.2
             }
            },
            "type": "barpolar"
           }
          ],
          "carpet": [
           {
            "aaxis": {
             "endlinecolor": "#2a3f5f",
             "gridcolor": "white",
             "linecolor": "white",
             "minorgridcolor": "white",
             "startlinecolor": "#2a3f5f"
            },
            "baxis": {
             "endlinecolor": "#2a3f5f",
             "gridcolor": "white",
             "linecolor": "white",
             "minorgridcolor": "white",
             "startlinecolor": "#2a3f5f"
            },
            "type": "carpet"
           }
          ],
          "choropleth": [
           {
            "colorbar": {
             "outlinewidth": 0,
             "ticks": ""
            },
            "type": "choropleth"
           }
          ],
          "contour": [
           {
            "colorbar": {
             "outlinewidth": 0,
             "ticks": ""
            },
            "colorscale": [
             [
              0,
              "#0d0887"
             ],
             [
              0.1111111111111111,
              "#46039f"
             ],
             [
              0.2222222222222222,
              "#7201a8"
             ],
             [
              0.3333333333333333,
              "#9c179e"
             ],
             [
              0.4444444444444444,
              "#bd3786"
             ],
             [
              0.5555555555555556,
              "#d8576b"
             ],
             [
              0.6666666666666666,
              "#ed7953"
             ],
             [
              0.7777777777777778,
              "#fb9f3a"
             ],
             [
              0.8888888888888888,
              "#fdca26"
             ],
             [
              1,
              "#f0f921"
             ]
            ],
            "type": "contour"
           }
          ],
          "contourcarpet": [
           {
            "colorbar": {
             "outlinewidth": 0,
             "ticks": ""
            },
            "type": "contourcarpet"
           }
          ],
          "heatmap": [
           {
            "colorbar": {
             "outlinewidth": 0,
             "ticks": ""
            },
            "colorscale": [
             [
              0,
              "#0d0887"
             ],
             [
              0.1111111111111111,
              "#46039f"
             ],
             [
              0.2222222222222222,
              "#7201a8"
             ],
             [
              0.3333333333333333,
              "#9c179e"
             ],
             [
              0.4444444444444444,
              "#bd3786"
             ],
             [
              0.5555555555555556,
              "#d8576b"
             ],
             [
              0.6666666666666666,
              "#ed7953"
             ],
             [
              0.7777777777777778,
              "#fb9f3a"
             ],
             [
              0.8888888888888888,
              "#fdca26"
             ],
             [
              1,
              "#f0f921"
             ]
            ],
            "type": "heatmap"
           }
          ],
          "heatmapgl": [
           {
            "colorbar": {
             "outlinewidth": 0,
             "ticks": ""
            },
            "colorscale": [
             [
              0,
              "#0d0887"
             ],
             [
              0.1111111111111111,
              "#46039f"
             ],
             [
              0.2222222222222222,
              "#7201a8"
             ],
             [
              0.3333333333333333,
              "#9c179e"
             ],
             [
              0.4444444444444444,
              "#bd3786"
             ],
             [
              0.5555555555555556,
              "#d8576b"
             ],
             [
              0.6666666666666666,
              "#ed7953"
             ],
             [
              0.7777777777777778,
              "#fb9f3a"
             ],
             [
              0.8888888888888888,
              "#fdca26"
             ],
             [
              1,
              "#f0f921"
             ]
            ],
            "type": "heatmapgl"
           }
          ],
          "histogram": [
           {
            "marker": {
             "pattern": {
              "fillmode": "overlay",
              "size": 10,
              "solidity": 0.2
             }
            },
            "type": "histogram"
           }
          ],
          "histogram2d": [
           {
            "colorbar": {
             "outlinewidth": 0,
             "ticks": ""
            },
            "colorscale": [
             [
              0,
              "#0d0887"
             ],
             [
              0.1111111111111111,
              "#46039f"
             ],
             [
              0.2222222222222222,
              "#7201a8"
             ],
             [
              0.3333333333333333,
              "#9c179e"
             ],
             [
              0.4444444444444444,
              "#bd3786"
             ],
             [
              0.5555555555555556,
              "#d8576b"
             ],
             [
              0.6666666666666666,
              "#ed7953"
             ],
             [
              0.7777777777777778,
              "#fb9f3a"
             ],
             [
              0.8888888888888888,
              "#fdca26"
             ],
             [
              1,
              "#f0f921"
             ]
            ],
            "type": "histogram2d"
           }
          ],
          "histogram2dcontour": [
           {
            "colorbar": {
             "outlinewidth": 0,
             "ticks": ""
            },
            "colorscale": [
             [
              0,
              "#0d0887"
             ],
             [
              0.1111111111111111,
              "#46039f"
             ],
             [
              0.2222222222222222,
              "#7201a8"
             ],
             [
              0.3333333333333333,
              "#9c179e"
             ],
             [
              0.4444444444444444,
              "#bd3786"
             ],
             [
              0.5555555555555556,
              "#d8576b"
             ],
             [
              0.6666666666666666,
              "#ed7953"
             ],
             [
              0.7777777777777778,
              "#fb9f3a"
             ],
             [
              0.8888888888888888,
              "#fdca26"
             ],
             [
              1,
              "#f0f921"
             ]
            ],
            "type": "histogram2dcontour"
           }
          ],
          "mesh3d": [
           {
            "colorbar": {
             "outlinewidth": 0,
             "ticks": ""
            },
            "type": "mesh3d"
           }
          ],
          "parcoords": [
           {
            "line": {
             "colorbar": {
              "outlinewidth": 0,
              "ticks": ""
             }
            },
            "type": "parcoords"
           }
          ],
          "pie": [
           {
            "automargin": true,
            "type": "pie"
           }
          ],
          "scatter": [
           {
            "fillpattern": {
             "fillmode": "overlay",
             "size": 10,
             "solidity": 0.2
            },
            "type": "scatter"
           }
          ],
          "scatter3d": [
           {
            "line": {
             "colorbar": {
              "outlinewidth": 0,
              "ticks": ""
             }
            },
            "marker": {
             "colorbar": {
              "outlinewidth": 0,
              "ticks": ""
             }
            },
            "type": "scatter3d"
           }
          ],
          "scattercarpet": [
           {
            "marker": {
             "colorbar": {
              "outlinewidth": 0,
              "ticks": ""
             }
            },
            "type": "scattercarpet"
           }
          ],
          "scattergeo": [
           {
            "marker": {
             "colorbar": {
              "outlinewidth": 0,
              "ticks": ""
             }
            },
            "type": "scattergeo"
           }
          ],
          "scattergl": [
           {
            "marker": {
             "colorbar": {
              "outlinewidth": 0,
              "ticks": ""
             }
            },
            "type": "scattergl"
           }
          ],
          "scattermapbox": [
           {
            "marker": {
             "colorbar": {
              "outlinewidth": 0,
              "ticks": ""
             }
            },
            "type": "scattermapbox"
           }
          ],
          "scatterpolar": [
           {
            "marker": {
             "colorbar": {
              "outlinewidth": 0,
              "ticks": ""
             }
            },
            "type": "scatterpolar"
           }
          ],
          "scatterpolargl": [
           {
            "marker": {
             "colorbar": {
              "outlinewidth": 0,
              "ticks": ""
             }
            },
            "type": "scatterpolargl"
           }
          ],
          "scatterternary": [
           {
            "marker": {
             "colorbar": {
              "outlinewidth": 0,
              "ticks": ""
             }
            },
            "type": "scatterternary"
           }
          ],
          "surface": [
           {
            "colorbar": {
             "outlinewidth": 0,
             "ticks": ""
            },
            "colorscale": [
             [
              0,
              "#0d0887"
             ],
             [
              0.1111111111111111,
              "#46039f"
             ],
             [
              0.2222222222222222,
              "#7201a8"
             ],
             [
              0.3333333333333333,
              "#9c179e"
             ],
             [
              0.4444444444444444,
              "#bd3786"
             ],
             [
              0.5555555555555556,
              "#d8576b"
             ],
             [
              0.6666666666666666,
              "#ed7953"
             ],
             [
              0.7777777777777778,
              "#fb9f3a"
             ],
             [
              0.8888888888888888,
              "#fdca26"
             ],
             [
              1,
              "#f0f921"
             ]
            ],
            "type": "surface"
           }
          ],
          "table": [
           {
            "cells": {
             "fill": {
              "color": "#EBF0F8"
             },
             "line": {
              "color": "white"
             }
            },
            "header": {
             "fill": {
              "color": "#C8D4E3"
             },
             "line": {
              "color": "white"
             }
            },
            "type": "table"
           }
          ]
         },
         "layout": {
          "annotationdefaults": {
           "arrowcolor": "#2a3f5f",
           "arrowhead": 0,
           "arrowwidth": 1
          },
          "autotypenumbers": "strict",
          "coloraxis": {
           "colorbar": {
            "outlinewidth": 0,
            "ticks": ""
           }
          },
          "colorscale": {
           "diverging": [
            [
             0,
             "#8e0152"
            ],
            [
             0.1,
             "#c51b7d"
            ],
            [
             0.2,
             "#de77ae"
            ],
            [
             0.3,
             "#f1b6da"
            ],
            [
             0.4,
             "#fde0ef"
            ],
            [
             0.5,
             "#f7f7f7"
            ],
            [
             0.6,
             "#e6f5d0"
            ],
            [
             0.7,
             "#b8e186"
            ],
            [
             0.8,
             "#7fbc41"
            ],
            [
             0.9,
             "#4d9221"
            ],
            [
             1,
             "#276419"
            ]
           ],
           "sequential": [
            [
             0,
             "#0d0887"
            ],
            [
             0.1111111111111111,
             "#46039f"
            ],
            [
             0.2222222222222222,
             "#7201a8"
            ],
            [
             0.3333333333333333,
             "#9c179e"
            ],
            [
             0.4444444444444444,
             "#bd3786"
            ],
            [
             0.5555555555555556,
             "#d8576b"
            ],
            [
             0.6666666666666666,
             "#ed7953"
            ],
            [
             0.7777777777777778,
             "#fb9f3a"
            ],
            [
             0.8888888888888888,
             "#fdca26"
            ],
            [
             1,
             "#f0f921"
            ]
           ],
           "sequentialminus": [
            [
             0,
             "#0d0887"
            ],
            [
             0.1111111111111111,
             "#46039f"
            ],
            [
             0.2222222222222222,
             "#7201a8"
            ],
            [
             0.3333333333333333,
             "#9c179e"
            ],
            [
             0.4444444444444444,
             "#bd3786"
            ],
            [
             0.5555555555555556,
             "#d8576b"
            ],
            [
             0.6666666666666666,
             "#ed7953"
            ],
            [
             0.7777777777777778,
             "#fb9f3a"
            ],
            [
             0.8888888888888888,
             "#fdca26"
            ],
            [
             1,
             "#f0f921"
            ]
           ]
          },
          "colorway": [
           "#636efa",
           "#EF553B",
           "#00cc96",
           "#ab63fa",
           "#FFA15A",
           "#19d3f3",
           "#FF6692",
           "#B6E880",
           "#FF97FF",
           "#FECB52"
          ],
          "font": {
           "color": "#2a3f5f"
          },
          "geo": {
           "bgcolor": "white",
           "lakecolor": "white",
           "landcolor": "#E5ECF6",
           "showlakes": true,
           "showland": true,
           "subunitcolor": "white"
          },
          "hoverlabel": {
           "align": "left"
          },
          "hovermode": "closest",
          "mapbox": {
           "style": "light"
          },
          "paper_bgcolor": "white",
          "plot_bgcolor": "#E5ECF6",
          "polar": {
           "angularaxis": {
            "gridcolor": "white",
            "linecolor": "white",
            "ticks": ""
           },
           "bgcolor": "#E5ECF6",
           "radialaxis": {
            "gridcolor": "white",
            "linecolor": "white",
            "ticks": ""
           }
          },
          "scene": {
           "xaxis": {
            "backgroundcolor": "#E5ECF6",
            "gridcolor": "white",
            "gridwidth": 2,
            "linecolor": "white",
            "showbackground": true,
            "ticks": "",
            "zerolinecolor": "white"
           },
           "yaxis": {
            "backgroundcolor": "#E5ECF6",
            "gridcolor": "white",
            "gridwidth": 2,
            "linecolor": "white",
            "showbackground": true,
            "ticks": "",
            "zerolinecolor": "white"
           },
           "zaxis": {
            "backgroundcolor": "#E5ECF6",
            "gridcolor": "white",
            "gridwidth": 2,
            "linecolor": "white",
            "showbackground": true,
            "ticks": "",
            "zerolinecolor": "white"
           }
          },
          "shapedefaults": {
           "line": {
            "color": "#2a3f5f"
           }
          },
          "ternary": {
           "aaxis": {
            "gridcolor": "white",
            "linecolor": "white",
            "ticks": ""
           },
           "baxis": {
            "gridcolor": "white",
            "linecolor": "white",
            "ticks": ""
           },
           "bgcolor": "#E5ECF6",
           "caxis": {
            "gridcolor": "white",
            "linecolor": "white",
            "ticks": ""
           }
          },
          "title": {
           "x": 0.05
          },
          "xaxis": {
           "automargin": true,
           "gridcolor": "white",
           "linecolor": "white",
           "ticks": "",
           "title": {
            "standoff": 15
           },
           "zerolinecolor": "white",
           "zerolinewidth": 2
          },
          "yaxis": {
           "automargin": true,
           "gridcolor": "white",
           "linecolor": "white",
           "ticks": "",
           "title": {
            "standoff": 15
           },
           "zerolinecolor": "white",
           "zerolinewidth": 2
          }
         }
        },
        "title": {
         "text": "Marketing Spend, Revenue, and Profit over Time (DE)"
        },
        "width": 1000,
        "xaxis": {
         "title": {
          "text": "Date"
         }
        },
        "yaxis": {
         "title": {
          "text": "Amount (€)"
         }
        }
       }
      }
     },
     "metadata": {},
     "output_type": "display_data"
    }
   ],
   "source": [
    "plot_metrics(df_main_over_time[df_main_over_time.country==\"DE\"])"
   ]
  },
  {
   "cell_type": "code",
   "execution_count": 62,
   "id": "c7369887",
   "metadata": {},
   "outputs": [],
   "source": [
    "# Plot cpa, rpa, and conversions over date\n",
    "\n",
    "def plot_cpa_rpa_spend(df, plot_width=1000, plot_height=600):\n",
    "    fig = go.Figure()\n",
    "\n",
    "    # Add lines for CPA and RPA with primary y-axis\n",
    "    fig.add_trace(go.Scatter(x=df['date'], y=df['cpa'], mode='lines', name='CPA (€)', line=dict(color='#fc5c65'), yaxis='y1'))\n",
    "    fig.add_trace(go.Scatter(x=df['date'], y=df['rpa'], mode='lines', name='RPA (€)', line=dict(color='#26de81'), yaxis='y1'))\n",
    "\n",
    "    # Add conversions as a transparent bar chart with secondary y-axis\n",
    "    fig.add_trace(go.Bar(x=df['date'], y=df['conversions'], name='Conversions', marker=dict(color='rgba(75, 126, 236, 0.6)'), yaxis='y2'))\n",
    "\n",
    "    # Add annotation for Black Friday on 24/11/2023\n",
    "    fig.add_annotation(\n",
    "        x=\"2023-11-24\", \n",
    "        y=max(df['cpa'].max(), df['rpa'].max()),  # Position at the top of the plot\n",
    "        text=\"Black Friday\",\n",
    "        showarrow=True,\n",
    "        arrowhead=2,\n",
    "        ax=0,\n",
    "        ay=-40\n",
    "    )\n",
    "\n",
    "    # Customize layout with dual y-axes\n",
    "    fig.update_layout(\n",
    "        title=\"CPA, RPA, and Conversions over Time\",\n",
    "        xaxis_title=\"Date\",\n",
    "        yaxis_title=\"CPA and RPA (€)\",\n",
    "        yaxis2=dict(\n",
    "            title=\"Conversions\",\n",
    "            overlaying=\"y\",\n",
    "            side=\"right\",\n",
    "        ),\n",
    "        barmode='group',\n",
    "        width=plot_width,\n",
    "        height=plot_height,\n",
    "        legend=dict(title=\"Metrics\")\n",
    "    )\n",
    "\n",
    "    fig.show()"
   ]
  },
  {
   "cell_type": "code",
   "execution_count": 63,
   "id": "9b993243",
   "metadata": {},
   "outputs": [
    {
     "data": {
      "application/vnd.plotly.v1+json": {
       "config": {
        "plotlyServerURL": "https://plot.ly"
       },
       "data": [
        {
         "line": {
          "color": "#fc5c65"
         },
         "mode": "lines",
         "name": "CPA (€)",
         "type": "scatter",
         "x": [
          "2023-11-01",
          "2023-11-02",
          "2023-11-03",
          "2023-11-04",
          "2023-11-05",
          "2023-11-06",
          "2023-11-07",
          "2023-11-08",
          "2023-11-09",
          "2023-11-10",
          "2023-11-11",
          "2023-11-12",
          "2023-11-13",
          "2023-11-14",
          "2023-11-15",
          "2023-11-16",
          "2023-11-17",
          "2023-11-18",
          "2023-11-19",
          "2023-11-20",
          "2023-11-21",
          "2023-11-22",
          "2023-11-23",
          "2023-11-24",
          "2023-11-25",
          "2023-11-26",
          "2023-11-27",
          "2023-11-28",
          "2023-11-29",
          "2023-11-30"
         ],
         "y": [
          25.05,
          34.04,
          33.05,
          33.5,
          31.27,
          33.76,
          28.46,
          31.75,
          30.57,
          31.63,
          23.69,
          21.46,
          17.7,
          21.56,
          20.69,
          20.6,
          21.03,
          24.48,
          45.6,
          16.05,
          20.8,
          30.88,
          23.43,
          20.03,
          17.87,
          17.24,
          15.73,
          17.77,
          16.55,
          25.23
         ],
         "yaxis": "y"
        },
        {
         "line": {
          "color": "#26de81"
         },
         "mode": "lines",
         "name": "RPA (€)",
         "type": "scatter",
         "x": [
          "2023-11-01",
          "2023-11-02",
          "2023-11-03",
          "2023-11-04",
          "2023-11-05",
          "2023-11-06",
          "2023-11-07",
          "2023-11-08",
          "2023-11-09",
          "2023-11-10",
          "2023-11-11",
          "2023-11-12",
          "2023-11-13",
          "2023-11-14",
          "2023-11-15",
          "2023-11-16",
          "2023-11-17",
          "2023-11-18",
          "2023-11-19",
          "2023-11-20",
          "2023-11-21",
          "2023-11-22",
          "2023-11-23",
          "2023-11-24",
          "2023-11-25",
          "2023-11-26",
          "2023-11-27",
          "2023-11-28",
          "2023-11-29",
          "2023-11-30"
         ],
         "y": [
          32.8,
          33,
          31.46,
          31.54,
          32.2,
          34.24,
          32.36,
          32.35,
          32.57,
          31.89,
          23.39,
          32.24,
          31.84,
          31.43,
          29.24,
          29.37,
          26.09,
          22.57,
          32.61,
          30.64,
          29.09,
          29.81,
          29.76,
          24.44,
          23.49,
          22.83,
          22.45,
          24.15,
          23.61,
          24.04
         ],
         "yaxis": "y"
        },
        {
         "marker": {
          "color": "rgba(75, 126, 236, 0.6)"
         },
         "name": "Conversions",
         "type": "bar",
         "x": [
          "2023-11-01",
          "2023-11-02",
          "2023-11-03",
          "2023-11-04",
          "2023-11-05",
          "2023-11-06",
          "2023-11-07",
          "2023-11-08",
          "2023-11-09",
          "2023-11-10",
          "2023-11-11",
          "2023-11-12",
          "2023-11-13",
          "2023-11-14",
          "2023-11-15",
          "2023-11-16",
          "2023-11-17",
          "2023-11-18",
          "2023-11-19",
          "2023-11-20",
          "2023-11-21",
          "2023-11-22",
          "2023-11-23",
          "2023-11-24",
          "2023-11-25",
          "2023-11-26",
          "2023-11-27",
          "2023-11-28",
          "2023-11-29",
          "2023-11-30"
         ],
         "y": [
          213,
          159,
          155,
          156,
          205,
          157,
          174,
          138,
          134,
          126,
          169,
          163,
          188,
          152,
          161,
          152,
          149,
          124,
          149,
          199,
          190,
          198,
          173,
          190,
          202,
          250,
          257,
          220,
          216,
          177
         ],
         "yaxis": "y2"
        }
       ],
       "layout": {
        "annotations": [
         {
          "arrowhead": 2,
          "ax": 0,
          "ay": -40,
          "showarrow": true,
          "text": "Black Friday",
          "x": "2023-11-24",
          "y": 45.6
         }
        ],
        "barmode": "group",
        "height": 600,
        "legend": {
         "title": {
          "text": "Metrics"
         }
        },
        "template": {
         "data": {
          "bar": [
           {
            "error_x": {
             "color": "#2a3f5f"
            },
            "error_y": {
             "color": "#2a3f5f"
            },
            "marker": {
             "line": {
              "color": "#E5ECF6",
              "width": 0.5
             },
             "pattern": {
              "fillmode": "overlay",
              "size": 10,
              "solidity": 0.2
             }
            },
            "type": "bar"
           }
          ],
          "barpolar": [
           {
            "marker": {
             "line": {
              "color": "#E5ECF6",
              "width": 0.5
             },
             "pattern": {
              "fillmode": "overlay",
              "size": 10,
              "solidity": 0.2
             }
            },
            "type": "barpolar"
           }
          ],
          "carpet": [
           {
            "aaxis": {
             "endlinecolor": "#2a3f5f",
             "gridcolor": "white",
             "linecolor": "white",
             "minorgridcolor": "white",
             "startlinecolor": "#2a3f5f"
            },
            "baxis": {
             "endlinecolor": "#2a3f5f",
             "gridcolor": "white",
             "linecolor": "white",
             "minorgridcolor": "white",
             "startlinecolor": "#2a3f5f"
            },
            "type": "carpet"
           }
          ],
          "choropleth": [
           {
            "colorbar": {
             "outlinewidth": 0,
             "ticks": ""
            },
            "type": "choropleth"
           }
          ],
          "contour": [
           {
            "colorbar": {
             "outlinewidth": 0,
             "ticks": ""
            },
            "colorscale": [
             [
              0,
              "#0d0887"
             ],
             [
              0.1111111111111111,
              "#46039f"
             ],
             [
              0.2222222222222222,
              "#7201a8"
             ],
             [
              0.3333333333333333,
              "#9c179e"
             ],
             [
              0.4444444444444444,
              "#bd3786"
             ],
             [
              0.5555555555555556,
              "#d8576b"
             ],
             [
              0.6666666666666666,
              "#ed7953"
             ],
             [
              0.7777777777777778,
              "#fb9f3a"
             ],
             [
              0.8888888888888888,
              "#fdca26"
             ],
             [
              1,
              "#f0f921"
             ]
            ],
            "type": "contour"
           }
          ],
          "contourcarpet": [
           {
            "colorbar": {
             "outlinewidth": 0,
             "ticks": ""
            },
            "type": "contourcarpet"
           }
          ],
          "heatmap": [
           {
            "colorbar": {
             "outlinewidth": 0,
             "ticks": ""
            },
            "colorscale": [
             [
              0,
              "#0d0887"
             ],
             [
              0.1111111111111111,
              "#46039f"
             ],
             [
              0.2222222222222222,
              "#7201a8"
             ],
             [
              0.3333333333333333,
              "#9c179e"
             ],
             [
              0.4444444444444444,
              "#bd3786"
             ],
             [
              0.5555555555555556,
              "#d8576b"
             ],
             [
              0.6666666666666666,
              "#ed7953"
             ],
             [
              0.7777777777777778,
              "#fb9f3a"
             ],
             [
              0.8888888888888888,
              "#fdca26"
             ],
             [
              1,
              "#f0f921"
             ]
            ],
            "type": "heatmap"
           }
          ],
          "heatmapgl": [
           {
            "colorbar": {
             "outlinewidth": 0,
             "ticks": ""
            },
            "colorscale": [
             [
              0,
              "#0d0887"
             ],
             [
              0.1111111111111111,
              "#46039f"
             ],
             [
              0.2222222222222222,
              "#7201a8"
             ],
             [
              0.3333333333333333,
              "#9c179e"
             ],
             [
              0.4444444444444444,
              "#bd3786"
             ],
             [
              0.5555555555555556,
              "#d8576b"
             ],
             [
              0.6666666666666666,
              "#ed7953"
             ],
             [
              0.7777777777777778,
              "#fb9f3a"
             ],
             [
              0.8888888888888888,
              "#fdca26"
             ],
             [
              1,
              "#f0f921"
             ]
            ],
            "type": "heatmapgl"
           }
          ],
          "histogram": [
           {
            "marker": {
             "pattern": {
              "fillmode": "overlay",
              "size": 10,
              "solidity": 0.2
             }
            },
            "type": "histogram"
           }
          ],
          "histogram2d": [
           {
            "colorbar": {
             "outlinewidth": 0,
             "ticks": ""
            },
            "colorscale": [
             [
              0,
              "#0d0887"
             ],
             [
              0.1111111111111111,
              "#46039f"
             ],
             [
              0.2222222222222222,
              "#7201a8"
             ],
             [
              0.3333333333333333,
              "#9c179e"
             ],
             [
              0.4444444444444444,
              "#bd3786"
             ],
             [
              0.5555555555555556,
              "#d8576b"
             ],
             [
              0.6666666666666666,
              "#ed7953"
             ],
             [
              0.7777777777777778,
              "#fb9f3a"
             ],
             [
              0.8888888888888888,
              "#fdca26"
             ],
             [
              1,
              "#f0f921"
             ]
            ],
            "type": "histogram2d"
           }
          ],
          "histogram2dcontour": [
           {
            "colorbar": {
             "outlinewidth": 0,
             "ticks": ""
            },
            "colorscale": [
             [
              0,
              "#0d0887"
             ],
             [
              0.1111111111111111,
              "#46039f"
             ],
             [
              0.2222222222222222,
              "#7201a8"
             ],
             [
              0.3333333333333333,
              "#9c179e"
             ],
             [
              0.4444444444444444,
              "#bd3786"
             ],
             [
              0.5555555555555556,
              "#d8576b"
             ],
             [
              0.6666666666666666,
              "#ed7953"
             ],
             [
              0.7777777777777778,
              "#fb9f3a"
             ],
             [
              0.8888888888888888,
              "#fdca26"
             ],
             [
              1,
              "#f0f921"
             ]
            ],
            "type": "histogram2dcontour"
           }
          ],
          "mesh3d": [
           {
            "colorbar": {
             "outlinewidth": 0,
             "ticks": ""
            },
            "type": "mesh3d"
           }
          ],
          "parcoords": [
           {
            "line": {
             "colorbar": {
              "outlinewidth": 0,
              "ticks": ""
             }
            },
            "type": "parcoords"
           }
          ],
          "pie": [
           {
            "automargin": true,
            "type": "pie"
           }
          ],
          "scatter": [
           {
            "fillpattern": {
             "fillmode": "overlay",
             "size": 10,
             "solidity": 0.2
            },
            "type": "scatter"
           }
          ],
          "scatter3d": [
           {
            "line": {
             "colorbar": {
              "outlinewidth": 0,
              "ticks": ""
             }
            },
            "marker": {
             "colorbar": {
              "outlinewidth": 0,
              "ticks": ""
             }
            },
            "type": "scatter3d"
           }
          ],
          "scattercarpet": [
           {
            "marker": {
             "colorbar": {
              "outlinewidth": 0,
              "ticks": ""
             }
            },
            "type": "scattercarpet"
           }
          ],
          "scattergeo": [
           {
            "marker": {
             "colorbar": {
              "outlinewidth": 0,
              "ticks": ""
             }
            },
            "type": "scattergeo"
           }
          ],
          "scattergl": [
           {
            "marker": {
             "colorbar": {
              "outlinewidth": 0,
              "ticks": ""
             }
            },
            "type": "scattergl"
           }
          ],
          "scattermapbox": [
           {
            "marker": {
             "colorbar": {
              "outlinewidth": 0,
              "ticks": ""
             }
            },
            "type": "scattermapbox"
           }
          ],
          "scatterpolar": [
           {
            "marker": {
             "colorbar": {
              "outlinewidth": 0,
              "ticks": ""
             }
            },
            "type": "scatterpolar"
           }
          ],
          "scatterpolargl": [
           {
            "marker": {
             "colorbar": {
              "outlinewidth": 0,
              "ticks": ""
             }
            },
            "type": "scatterpolargl"
           }
          ],
          "scatterternary": [
           {
            "marker": {
             "colorbar": {
              "outlinewidth": 0,
              "ticks": ""
             }
            },
            "type": "scatterternary"
           }
          ],
          "surface": [
           {
            "colorbar": {
             "outlinewidth": 0,
             "ticks": ""
            },
            "colorscale": [
             [
              0,
              "#0d0887"
             ],
             [
              0.1111111111111111,
              "#46039f"
             ],
             [
              0.2222222222222222,
              "#7201a8"
             ],
             [
              0.3333333333333333,
              "#9c179e"
             ],
             [
              0.4444444444444444,
              "#bd3786"
             ],
             [
              0.5555555555555556,
              "#d8576b"
             ],
             [
              0.6666666666666666,
              "#ed7953"
             ],
             [
              0.7777777777777778,
              "#fb9f3a"
             ],
             [
              0.8888888888888888,
              "#fdca26"
             ],
             [
              1,
              "#f0f921"
             ]
            ],
            "type": "surface"
           }
          ],
          "table": [
           {
            "cells": {
             "fill": {
              "color": "#EBF0F8"
             },
             "line": {
              "color": "white"
             }
            },
            "header": {
             "fill": {
              "color": "#C8D4E3"
             },
             "line": {
              "color": "white"
             }
            },
            "type": "table"
           }
          ]
         },
         "layout": {
          "annotationdefaults": {
           "arrowcolor": "#2a3f5f",
           "arrowhead": 0,
           "arrowwidth": 1
          },
          "autotypenumbers": "strict",
          "coloraxis": {
           "colorbar": {
            "outlinewidth": 0,
            "ticks": ""
           }
          },
          "colorscale": {
           "diverging": [
            [
             0,
             "#8e0152"
            ],
            [
             0.1,
             "#c51b7d"
            ],
            [
             0.2,
             "#de77ae"
            ],
            [
             0.3,
             "#f1b6da"
            ],
            [
             0.4,
             "#fde0ef"
            ],
            [
             0.5,
             "#f7f7f7"
            ],
            [
             0.6,
             "#e6f5d0"
            ],
            [
             0.7,
             "#b8e186"
            ],
            [
             0.8,
             "#7fbc41"
            ],
            [
             0.9,
             "#4d9221"
            ],
            [
             1,
             "#276419"
            ]
           ],
           "sequential": [
            [
             0,
             "#0d0887"
            ],
            [
             0.1111111111111111,
             "#46039f"
            ],
            [
             0.2222222222222222,
             "#7201a8"
            ],
            [
             0.3333333333333333,
             "#9c179e"
            ],
            [
             0.4444444444444444,
             "#bd3786"
            ],
            [
             0.5555555555555556,
             "#d8576b"
            ],
            [
             0.6666666666666666,
             "#ed7953"
            ],
            [
             0.7777777777777778,
             "#fb9f3a"
            ],
            [
             0.8888888888888888,
             "#fdca26"
            ],
            [
             1,
             "#f0f921"
            ]
           ],
           "sequentialminus": [
            [
             0,
             "#0d0887"
            ],
            [
             0.1111111111111111,
             "#46039f"
            ],
            [
             0.2222222222222222,
             "#7201a8"
            ],
            [
             0.3333333333333333,
             "#9c179e"
            ],
            [
             0.4444444444444444,
             "#bd3786"
            ],
            [
             0.5555555555555556,
             "#d8576b"
            ],
            [
             0.6666666666666666,
             "#ed7953"
            ],
            [
             0.7777777777777778,
             "#fb9f3a"
            ],
            [
             0.8888888888888888,
             "#fdca26"
            ],
            [
             1,
             "#f0f921"
            ]
           ]
          },
          "colorway": [
           "#636efa",
           "#EF553B",
           "#00cc96",
           "#ab63fa",
           "#FFA15A",
           "#19d3f3",
           "#FF6692",
           "#B6E880",
           "#FF97FF",
           "#FECB52"
          ],
          "font": {
           "color": "#2a3f5f"
          },
          "geo": {
           "bgcolor": "white",
           "lakecolor": "white",
           "landcolor": "#E5ECF6",
           "showlakes": true,
           "showland": true,
           "subunitcolor": "white"
          },
          "hoverlabel": {
           "align": "left"
          },
          "hovermode": "closest",
          "mapbox": {
           "style": "light"
          },
          "paper_bgcolor": "white",
          "plot_bgcolor": "#E5ECF6",
          "polar": {
           "angularaxis": {
            "gridcolor": "white",
            "linecolor": "white",
            "ticks": ""
           },
           "bgcolor": "#E5ECF6",
           "radialaxis": {
            "gridcolor": "white",
            "linecolor": "white",
            "ticks": ""
           }
          },
          "scene": {
           "xaxis": {
            "backgroundcolor": "#E5ECF6",
            "gridcolor": "white",
            "gridwidth": 2,
            "linecolor": "white",
            "showbackground": true,
            "ticks": "",
            "zerolinecolor": "white"
           },
           "yaxis": {
            "backgroundcolor": "#E5ECF6",
            "gridcolor": "white",
            "gridwidth": 2,
            "linecolor": "white",
            "showbackground": true,
            "ticks": "",
            "zerolinecolor": "white"
           },
           "zaxis": {
            "backgroundcolor": "#E5ECF6",
            "gridcolor": "white",
            "gridwidth": 2,
            "linecolor": "white",
            "showbackground": true,
            "ticks": "",
            "zerolinecolor": "white"
           }
          },
          "shapedefaults": {
           "line": {
            "color": "#2a3f5f"
           }
          },
          "ternary": {
           "aaxis": {
            "gridcolor": "white",
            "linecolor": "white",
            "ticks": ""
           },
           "baxis": {
            "gridcolor": "white",
            "linecolor": "white",
            "ticks": ""
           },
           "bgcolor": "#E5ECF6",
           "caxis": {
            "gridcolor": "white",
            "linecolor": "white",
            "ticks": ""
           }
          },
          "title": {
           "x": 0.05
          },
          "xaxis": {
           "automargin": true,
           "gridcolor": "white",
           "linecolor": "white",
           "ticks": "",
           "title": {
            "standoff": 15
           },
           "zerolinecolor": "white",
           "zerolinewidth": 2
          },
          "yaxis": {
           "automargin": true,
           "gridcolor": "white",
           "linecolor": "white",
           "ticks": "",
           "title": {
            "standoff": 15
           },
           "zerolinecolor": "white",
           "zerolinewidth": 2
          }
         }
        },
        "title": {
         "text": "CPA, RPA, and Conversions over Time"
        },
        "width": 1000,
        "xaxis": {
         "title": {
          "text": "Date"
         }
        },
        "yaxis": {
         "title": {
          "text": "CPA and RPA (€)"
         }
        },
        "yaxis2": {
         "overlaying": "y",
         "side": "right",
         "title": {
          "text": "Conversions"
         }
        }
       }
      }
     },
     "metadata": {},
     "output_type": "display_data"
    }
   ],
   "source": [
    "# Plot metrics for DE\n",
    "plot_cpa_rpa_spend(df_main_over_time[df_main_over_time.country==\"DE\"])"
   ]
  },
  {
   "cell_type": "code",
   "execution_count": 96,
   "id": "9e6cde42",
   "metadata": {},
   "outputs": [
    {
     "data": {
      "application/vnd.plotly.v1+json": {
       "config": {
        "plotlyServerURL": "https://plot.ly"
       },
       "data": [
        {
         "mode": "lines",
         "name": "App Installs",
         "type": "scatter",
         "x": [
          "2023-11-01T00:00:00",
          "2023-11-02T00:00:00",
          "2023-11-03T00:00:00",
          "2023-11-04T00:00:00",
          "2023-11-05T00:00:00",
          "2023-11-06T00:00:00",
          "2023-11-07T00:00:00",
          "2023-11-08T00:00:00",
          "2023-11-09T00:00:00",
          "2023-11-10T00:00:00",
          "2023-11-11T00:00:00",
          "2023-11-12T00:00:00",
          "2023-11-13T00:00:00",
          "2023-11-14T00:00:00",
          "2023-11-15T00:00:00",
          "2023-11-16T00:00:00",
          "2023-11-17T00:00:00",
          "2023-11-18T00:00:00",
          "2023-11-19T00:00:00",
          "2023-11-20T00:00:00",
          "2023-11-21T00:00:00",
          "2023-11-22T00:00:00",
          "2023-11-23T00:00:00",
          "2023-11-24T00:00:00",
          "2023-11-25T00:00:00",
          "2023-11-26T00:00:00",
          "2023-11-27T00:00:00",
          "2023-11-28T00:00:00",
          "2023-11-29T00:00:00",
          "2023-11-30T00:00:00",
          "2023-11-01T00:00:00",
          "2023-11-02T00:00:00",
          "2023-11-03T00:00:00",
          "2023-11-04T00:00:00",
          "2023-11-05T00:00:00",
          "2023-11-06T00:00:00",
          "2023-11-07T00:00:00",
          "2023-11-08T00:00:00",
          "2023-11-09T00:00:00",
          "2023-11-10T00:00:00",
          "2023-11-11T00:00:00",
          "2023-11-12T00:00:00",
          "2023-11-13T00:00:00",
          "2023-11-14T00:00:00",
          "2023-11-15T00:00:00",
          "2023-11-16T00:00:00",
          "2023-11-17T00:00:00",
          "2023-11-18T00:00:00",
          "2023-11-19T00:00:00",
          "2023-11-20T00:00:00",
          "2023-11-21T00:00:00",
          "2023-11-22T00:00:00",
          "2023-11-23T00:00:00",
          "2023-11-24T00:00:00",
          "2023-11-25T00:00:00",
          "2023-11-26T00:00:00",
          "2023-11-27T00:00:00",
          "2023-11-28T00:00:00",
          "2023-11-29T00:00:00",
          "2023-11-30T00:00:00",
          "2023-11-01T00:00:00",
          "2023-11-02T00:00:00",
          "2023-11-03T00:00:00",
          "2023-11-04T00:00:00",
          "2023-11-05T00:00:00",
          "2023-11-06T00:00:00",
          "2023-11-07T00:00:00",
          "2023-11-08T00:00:00",
          "2023-11-09T00:00:00",
          "2023-11-10T00:00:00",
          "2023-11-11T00:00:00",
          "2023-11-12T00:00:00",
          "2023-11-13T00:00:00",
          "2023-11-14T00:00:00",
          "2023-11-15T00:00:00",
          "2023-11-16T00:00:00",
          "2023-11-17T00:00:00",
          "2023-11-18T00:00:00",
          "2023-11-19T00:00:00",
          "2023-11-20T00:00:00",
          "2023-11-21T00:00:00",
          "2023-11-22T00:00:00",
          "2023-11-23T00:00:00",
          "2023-11-24T00:00:00",
          "2023-11-25T00:00:00",
          "2023-11-26T00:00:00",
          "2023-11-27T00:00:00",
          "2023-11-28T00:00:00",
          "2023-11-29T00:00:00",
          "2023-11-30T00:00:00",
          "2023-11-01T00:00:00",
          "2023-11-02T00:00:00",
          "2023-11-03T00:00:00",
          "2023-11-04T00:00:00",
          "2023-11-05T00:00:00",
          "2023-11-06T00:00:00",
          "2023-11-07T00:00:00",
          "2023-11-08T00:00:00",
          "2023-11-09T00:00:00",
          "2023-11-10T00:00:00",
          "2023-11-11T00:00:00",
          "2023-11-12T00:00:00",
          "2023-11-13T00:00:00",
          "2023-11-14T00:00:00",
          "2023-11-15T00:00:00",
          "2023-11-16T00:00:00",
          "2023-11-17T00:00:00",
          "2023-11-18T00:00:00",
          "2023-11-19T00:00:00",
          "2023-11-20T00:00:00",
          "2023-11-21T00:00:00",
          "2023-11-22T00:00:00",
          "2023-11-23T00:00:00",
          "2023-11-24T00:00:00",
          "2023-11-25T00:00:00",
          "2023-11-26T00:00:00",
          "2023-11-27T00:00:00",
          "2023-11-28T00:00:00",
          "2023-11-29T00:00:00",
          "2023-11-30T00:00:00",
          "2023-11-01T00:00:00",
          "2023-11-02T00:00:00",
          "2023-11-03T00:00:00",
          "2023-11-04T00:00:00",
          "2023-11-05T00:00:00",
          "2023-11-06T00:00:00",
          "2023-11-07T00:00:00",
          "2023-11-08T00:00:00",
          "2023-11-09T00:00:00",
          "2023-11-10T00:00:00",
          "2023-11-11T00:00:00",
          "2023-11-12T00:00:00",
          "2023-11-13T00:00:00",
          "2023-11-14T00:00:00",
          "2023-11-15T00:00:00",
          "2023-11-16T00:00:00",
          "2023-11-17T00:00:00",
          "2023-11-18T00:00:00",
          "2023-11-19T00:00:00",
          "2023-11-20T00:00:00",
          "2023-11-21T00:00:00",
          "2023-11-22T00:00:00",
          "2023-11-23T00:00:00",
          "2023-11-24T00:00:00",
          "2023-11-25T00:00:00",
          "2023-11-26T00:00:00",
          "2023-11-27T00:00:00",
          "2023-11-28T00:00:00",
          "2023-11-29T00:00:00",
          "2023-11-30T00:00:00",
          "2023-11-01T00:00:00",
          "2023-11-02T00:00:00",
          "2023-11-03T00:00:00",
          "2023-11-04T00:00:00",
          "2023-11-05T00:00:00",
          "2023-11-06T00:00:00",
          "2023-11-07T00:00:00",
          "2023-11-08T00:00:00",
          "2023-11-09T00:00:00",
          "2023-11-10T00:00:00",
          "2023-11-11T00:00:00",
          "2023-11-12T00:00:00",
          "2023-11-13T00:00:00",
          "2023-11-14T00:00:00",
          "2023-11-15T00:00:00",
          "2023-11-16T00:00:00",
          "2023-11-17T00:00:00",
          "2023-11-18T00:00:00",
          "2023-11-19T00:00:00",
          "2023-11-20T00:00:00",
          "2023-11-21T00:00:00",
          "2023-11-22T00:00:00",
          "2023-11-23T00:00:00",
          "2023-11-24T00:00:00",
          "2023-11-25T00:00:00",
          "2023-11-26T00:00:00",
          "2023-11-27T00:00:00",
          "2023-11-28T00:00:00",
          "2023-11-29T00:00:00",
          "2023-11-30T00:00:00",
          "2023-11-01T00:00:00",
          "2023-11-02T00:00:00",
          "2023-11-03T00:00:00",
          "2023-11-04T00:00:00",
          "2023-11-05T00:00:00",
          "2023-11-06T00:00:00",
          "2023-11-07T00:00:00",
          "2023-11-08T00:00:00",
          "2023-11-09T00:00:00",
          "2023-11-10T00:00:00",
          "2023-11-11T00:00:00",
          "2023-11-12T00:00:00",
          "2023-11-13T00:00:00",
          "2023-11-14T00:00:00",
          "2023-11-15T00:00:00",
          "2023-11-16T00:00:00",
          "2023-11-17T00:00:00",
          "2023-11-18T00:00:00",
          "2023-11-19T00:00:00",
          "2023-11-20T00:00:00",
          "2023-11-21T00:00:00",
          "2023-11-22T00:00:00",
          "2023-11-23T00:00:00",
          "2023-11-24T00:00:00",
          "2023-11-25T00:00:00",
          "2023-11-26T00:00:00",
          "2023-11-27T00:00:00",
          "2023-11-28T00:00:00",
          "2023-11-29T00:00:00",
          "2023-11-30T00:00:00",
          "2023-11-01T00:00:00",
          "2023-11-02T00:00:00",
          "2023-11-03T00:00:00",
          "2023-11-04T00:00:00",
          "2023-11-05T00:00:00",
          "2023-11-06T00:00:00",
          "2023-11-07T00:00:00",
          "2023-11-08T00:00:00",
          "2023-11-09T00:00:00",
          "2023-11-10T00:00:00",
          "2023-11-11T00:00:00",
          "2023-11-12T00:00:00",
          "2023-11-13T00:00:00",
          "2023-11-14T00:00:00",
          "2023-11-15T00:00:00",
          "2023-11-16T00:00:00",
          "2023-11-17T00:00:00",
          "2023-11-18T00:00:00",
          "2023-11-19T00:00:00",
          "2023-11-20T00:00:00",
          "2023-11-21T00:00:00",
          "2023-11-22T00:00:00",
          "2023-11-23T00:00:00",
          "2023-11-24T00:00:00",
          "2023-11-25T00:00:00",
          "2023-11-26T00:00:00",
          "2023-11-27T00:00:00",
          "2023-11-28T00:00:00",
          "2023-11-29T00:00:00",
          "2023-11-30T00:00:00"
         ],
         "xaxis": "x",
         "y": [
          207,
          206,
          223,
          189,
          271,
          258,
          212,
          200,
          165,
          147,
          156,
          221,
          234,
          201,
          203,
          178,
          152,
          139,
          167,
          200,
          176,
          189,
          171,
          118,
          120,
          186,
          173,
          172,
          167,
          152,
          130,
          129,
          95,
          94,
          178,
          142,
          147,
          118,
          104,
          90,
          76,
          103,
          130,
          127,
          123,
          88,
          73,
          91,
          108,
          112,
          95,
          82,
          74,
          57,
          56,
          87,
          91,
          108,
          86,
          88,
          2159,
          1833,
          1618,
          1704,
          2159,
          1645,
          1705,
          1439,
          1325,
          1239,
          1402,
          1704,
          1648,
          1503,
          1625,
          1440,
          1349,
          1306,
          1609,
          1591,
          1717,
          1811,
          1700,
          1458,
          1540,
          1858,
          1828,
          1711,
          1656,
          1422,
          721,
          758,
          640,
          698,
          748,
          861,
          723,
          806,
          770,
          664,
          636,
          825,
          912,
          780,
          762,
          697,
          649,
          697,
          865,
          804,
          714,
          771,
          760,
          602,
          492,
          699,
          787,
          664,
          632,
          557,
          233,
          317,
          259,
          222,
          369,
          416,
          369,
          333,
          343,
          252,
          242,
          303,
          378,
          412,
          417,
          352,
          246,
          188,
          248,
          331,
          302,
          284,
          246,
          202,
          176,
          216,
          285,
          314,
          297,
          280,
          178,
          187,
          145,
          131,
          172,
          206,
          193,
          156,
          136,
          130,
          149,
          162,
          172,
          174,
          157,
          144,
          118,
          104,
          153,
          218,
          191,
          151,
          165,
          97,
          81,
          127,
          148,
          169,
          139,
          135,
          157,
          127,
          122,
          126,
          166,
          191,
          193,
          224,
          180,
          166,
          208,
          205,
          236,
          217,
          212,
          200,
          158,
          169,
          181,
          182,
          142,
          142,
          97,
          128,
          140,
          140,
          176,
          148,
          142,
          163,
          91,
          114,
          113,
          119,
          142,
          176,
          103,
          67,
          53,
          62,
          44,
          48,
          141,
          204,
          243,
          243,
          242,
          211,
          214,
          252,
          232,
          228,
          197,
          177,
          175,
          213,
          223,
          214,
          209,
          179
         ],
         "yaxis": "y"
        },
        {
         "mode": "lines",
         "name": "CPI",
         "type": "scatter",
         "x": [
          "2023-11-01T00:00:00",
          "2023-11-02T00:00:00",
          "2023-11-03T00:00:00",
          "2023-11-04T00:00:00",
          "2023-11-05T00:00:00",
          "2023-11-06T00:00:00",
          "2023-11-07T00:00:00",
          "2023-11-08T00:00:00",
          "2023-11-09T00:00:00",
          "2023-11-10T00:00:00",
          "2023-11-11T00:00:00",
          "2023-11-12T00:00:00",
          "2023-11-13T00:00:00",
          "2023-11-14T00:00:00",
          "2023-11-15T00:00:00",
          "2023-11-16T00:00:00",
          "2023-11-17T00:00:00",
          "2023-11-18T00:00:00",
          "2023-11-19T00:00:00",
          "2023-11-20T00:00:00",
          "2023-11-21T00:00:00",
          "2023-11-22T00:00:00",
          "2023-11-23T00:00:00",
          "2023-11-24T00:00:00",
          "2023-11-25T00:00:00",
          "2023-11-26T00:00:00",
          "2023-11-27T00:00:00",
          "2023-11-28T00:00:00",
          "2023-11-29T00:00:00",
          "2023-11-30T00:00:00",
          "2023-11-01T00:00:00",
          "2023-11-02T00:00:00",
          "2023-11-03T00:00:00",
          "2023-11-04T00:00:00",
          "2023-11-05T00:00:00",
          "2023-11-06T00:00:00",
          "2023-11-07T00:00:00",
          "2023-11-08T00:00:00",
          "2023-11-09T00:00:00",
          "2023-11-10T00:00:00",
          "2023-11-11T00:00:00",
          "2023-11-12T00:00:00",
          "2023-11-13T00:00:00",
          "2023-11-14T00:00:00",
          "2023-11-15T00:00:00",
          "2023-11-16T00:00:00",
          "2023-11-17T00:00:00",
          "2023-11-18T00:00:00",
          "2023-11-19T00:00:00",
          "2023-11-20T00:00:00",
          "2023-11-21T00:00:00",
          "2023-11-22T00:00:00",
          "2023-11-23T00:00:00",
          "2023-11-24T00:00:00",
          "2023-11-25T00:00:00",
          "2023-11-26T00:00:00",
          "2023-11-27T00:00:00",
          "2023-11-28T00:00:00",
          "2023-11-29T00:00:00",
          "2023-11-30T00:00:00",
          "2023-11-01T00:00:00",
          "2023-11-02T00:00:00",
          "2023-11-03T00:00:00",
          "2023-11-04T00:00:00",
          "2023-11-05T00:00:00",
          "2023-11-06T00:00:00",
          "2023-11-07T00:00:00",
          "2023-11-08T00:00:00",
          "2023-11-09T00:00:00",
          "2023-11-10T00:00:00",
          "2023-11-11T00:00:00",
          "2023-11-12T00:00:00",
          "2023-11-13T00:00:00",
          "2023-11-14T00:00:00",
          "2023-11-15T00:00:00",
          "2023-11-16T00:00:00",
          "2023-11-17T00:00:00",
          "2023-11-18T00:00:00",
          "2023-11-19T00:00:00",
          "2023-11-20T00:00:00",
          "2023-11-21T00:00:00",
          "2023-11-22T00:00:00",
          "2023-11-23T00:00:00",
          "2023-11-24T00:00:00",
          "2023-11-25T00:00:00",
          "2023-11-26T00:00:00",
          "2023-11-27T00:00:00",
          "2023-11-28T00:00:00",
          "2023-11-29T00:00:00",
          "2023-11-30T00:00:00",
          "2023-11-01T00:00:00",
          "2023-11-02T00:00:00",
          "2023-11-03T00:00:00",
          "2023-11-04T00:00:00",
          "2023-11-05T00:00:00",
          "2023-11-06T00:00:00",
          "2023-11-07T00:00:00",
          "2023-11-08T00:00:00",
          "2023-11-09T00:00:00",
          "2023-11-10T00:00:00",
          "2023-11-11T00:00:00",
          "2023-11-12T00:00:00",
          "2023-11-13T00:00:00",
          "2023-11-14T00:00:00",
          "2023-11-15T00:00:00",
          "2023-11-16T00:00:00",
          "2023-11-17T00:00:00",
          "2023-11-18T00:00:00",
          "2023-11-19T00:00:00",
          "2023-11-20T00:00:00",
          "2023-11-21T00:00:00",
          "2023-11-22T00:00:00",
          "2023-11-23T00:00:00",
          "2023-11-24T00:00:00",
          "2023-11-25T00:00:00",
          "2023-11-26T00:00:00",
          "2023-11-27T00:00:00",
          "2023-11-28T00:00:00",
          "2023-11-29T00:00:00",
          "2023-11-30T00:00:00",
          "2023-11-01T00:00:00",
          "2023-11-02T00:00:00",
          "2023-11-03T00:00:00",
          "2023-11-04T00:00:00",
          "2023-11-05T00:00:00",
          "2023-11-06T00:00:00",
          "2023-11-07T00:00:00",
          "2023-11-08T00:00:00",
          "2023-11-09T00:00:00",
          "2023-11-10T00:00:00",
          "2023-11-11T00:00:00",
          "2023-11-12T00:00:00",
          "2023-11-13T00:00:00",
          "2023-11-14T00:00:00",
          "2023-11-15T00:00:00",
          "2023-11-16T00:00:00",
          "2023-11-17T00:00:00",
          "2023-11-18T00:00:00",
          "2023-11-19T00:00:00",
          "2023-11-20T00:00:00",
          "2023-11-21T00:00:00",
          "2023-11-22T00:00:00",
          "2023-11-23T00:00:00",
          "2023-11-24T00:00:00",
          "2023-11-25T00:00:00",
          "2023-11-26T00:00:00",
          "2023-11-27T00:00:00",
          "2023-11-28T00:00:00",
          "2023-11-29T00:00:00",
          "2023-11-30T00:00:00",
          "2023-11-01T00:00:00",
          "2023-11-02T00:00:00",
          "2023-11-03T00:00:00",
          "2023-11-04T00:00:00",
          "2023-11-05T00:00:00",
          "2023-11-06T00:00:00",
          "2023-11-07T00:00:00",
          "2023-11-08T00:00:00",
          "2023-11-09T00:00:00",
          "2023-11-10T00:00:00",
          "2023-11-11T00:00:00",
          "2023-11-12T00:00:00",
          "2023-11-13T00:00:00",
          "2023-11-14T00:00:00",
          "2023-11-15T00:00:00",
          "2023-11-16T00:00:00",
          "2023-11-17T00:00:00",
          "2023-11-18T00:00:00",
          "2023-11-19T00:00:00",
          "2023-11-20T00:00:00",
          "2023-11-21T00:00:00",
          "2023-11-22T00:00:00",
          "2023-11-23T00:00:00",
          "2023-11-24T00:00:00",
          "2023-11-25T00:00:00",
          "2023-11-26T00:00:00",
          "2023-11-27T00:00:00",
          "2023-11-28T00:00:00",
          "2023-11-29T00:00:00",
          "2023-11-30T00:00:00",
          "2023-11-01T00:00:00",
          "2023-11-02T00:00:00",
          "2023-11-03T00:00:00",
          "2023-11-04T00:00:00",
          "2023-11-05T00:00:00",
          "2023-11-06T00:00:00",
          "2023-11-07T00:00:00",
          "2023-11-08T00:00:00",
          "2023-11-09T00:00:00",
          "2023-11-10T00:00:00",
          "2023-11-11T00:00:00",
          "2023-11-12T00:00:00",
          "2023-11-13T00:00:00",
          "2023-11-14T00:00:00",
          "2023-11-15T00:00:00",
          "2023-11-16T00:00:00",
          "2023-11-17T00:00:00",
          "2023-11-18T00:00:00",
          "2023-11-19T00:00:00",
          "2023-11-20T00:00:00",
          "2023-11-21T00:00:00",
          "2023-11-22T00:00:00",
          "2023-11-23T00:00:00",
          "2023-11-24T00:00:00",
          "2023-11-25T00:00:00",
          "2023-11-26T00:00:00",
          "2023-11-27T00:00:00",
          "2023-11-28T00:00:00",
          "2023-11-29T00:00:00",
          "2023-11-30T00:00:00",
          "2023-11-01T00:00:00",
          "2023-11-02T00:00:00",
          "2023-11-03T00:00:00",
          "2023-11-04T00:00:00",
          "2023-11-05T00:00:00",
          "2023-11-06T00:00:00",
          "2023-11-07T00:00:00",
          "2023-11-08T00:00:00",
          "2023-11-09T00:00:00",
          "2023-11-10T00:00:00",
          "2023-11-11T00:00:00",
          "2023-11-12T00:00:00",
          "2023-11-13T00:00:00",
          "2023-11-14T00:00:00",
          "2023-11-15T00:00:00",
          "2023-11-16T00:00:00",
          "2023-11-17T00:00:00",
          "2023-11-18T00:00:00",
          "2023-11-19T00:00:00",
          "2023-11-20T00:00:00",
          "2023-11-21T00:00:00",
          "2023-11-22T00:00:00",
          "2023-11-23T00:00:00",
          "2023-11-24T00:00:00",
          "2023-11-25T00:00:00",
          "2023-11-26T00:00:00",
          "2023-11-27T00:00:00",
          "2023-11-28T00:00:00",
          "2023-11-29T00:00:00",
          "2023-11-30T00:00:00"
         ],
         "xaxis": "x2",
         "y": [
          19.5,
          17.11,
          15.74,
          17.51,
          13.25,
          12.49,
          13.719999999999999,
          13.54,
          24.13,
          22.89,
          13.79,
          11.06,
          14.600000000000001,
          21.54,
          18.74,
          23.29,
          16.38,
          18.619999999999997,
          18.75,
          11.54,
          38.43,
          17.869999999999997,
          18.93,
          21.11,
          23.95,
          12.43,
          14.040000000000001,
          23.63,
          20.369999999999997,
          21.72,
          32.65,
          47.89,
          41.86,
          44.11,
          27,
          32.23,
          19.77,
          45.06999999999999,
          29.79,
          36.31,
          25.799999999999997,
          35.480000000000004,
          49.06,
          23.55,
          41.08,
          38.230000000000004,
          36.269999999999996,
          27.490000000000002,
          27.61,
          27.29,
          22.479999999999997,
          53.32000000000001,
          84.9,
          21.17,
          48.510000000000005,
          27.45,
          38.64,
          25.4,
          23.619999999999997,
          22.95,
          13.450000000000001,
          16.4,
          19.25,
          16.73,
          11.05,
          12.19,
          12.510000000000002,
          14.82,
          16.189999999999998,
          16.27,
          13.01,
          11.67,
          13.46,
          13.54,
          14.64,
          15.48,
          15.45,
          14.03,
          14.41,
          9.62,
          18.590000000000003,
          17.9,
          18.95,
          24.35,
          19.89,
          17.78,
          20.54,
          18.97,
          17.98,
          19.11,
          2.96,
          3.2,
          3.0700000000000003,
          3.41,
          3.52,
          3.38,
          3.41,
          2.95,
          3.1399999999999997,
          3.5300000000000002,
          3.62,
          3.15,
          247.45000000000002,
          489.84000000000003,
          210.93,
          532.62,
          567.87,
          380.24000000000007,
          412.72,
          98.84,
          187.79999999999998,
          3.1399999999999997,
          362.4,
          2.9,
          187.95,
          206.89999999999998,
          384.98,
          366.79,
          91.47,
          2.9299999999999997,
          1.01,
          0.89,
          0.95,
          0.94,
          0.85,
          0.88,
          0.95,
          0.96,
          0.87,
          1.06,
          0.92,
          1.07,
          0.91,
          0.85,
          0.83,
          0.88,
          0.94,
          1.03,
          0.95,
          0.97,
          0.93,
          0.93,
          0.97,
          0.9,
          0.87,
          0.9,
          0.94,
          0.89,
          0.9,
          0.93,
          257.89,
          507.42999999999995,
          3.01,
          3.3000000000000003,
          528.35,
          506.16,
          302.9200000000001,
          3.2199999999999998,
          3.4000000000000004,
          3.6,
          2.96,
          2.91,
          3.11,
          3.04,
          3.24,
          2.94,
          3.08,
          3.5999999999999996,
          3.06,
          3.09,
          188.75000000000003,
          3.9400000000000004,
          367.13,
          372.97,
          382.57,
          399.36999999999995,
          3.74,
          3.55,
          3.01,
          363.04,
          6.67,
          8.649999999999999,
          9.620000000000001,
          7.13,
          5.869999999999999,
          7.78,
          7.4,
          6.99,
          8.57,
          9.55,
          7.789999999999999,
          7.66,
          7.54,
          7.61,
          7.529999999999999,
          8.18,
          9.22,
          10.92,
          10,
          12.07,
          13.5,
          235.5,
          18.35,
          16.15,
          13.629999999999999,
          15.8,
          10.86,
          208.38,
          12.309999999999999,
          234.10999999999999,
          0,
          0,
          0,
          0,
          0,
          0,
          0,
          0,
          0,
          0,
          0,
          0,
          0,
          0,
          0,
          0,
          0,
          0,
          0,
          0,
          0,
          0,
          0,
          0,
          0,
          0,
          0,
          0,
          0,
          0
         ],
         "yaxis": "y2"
        },
        {
         "mode": "lines",
         "name": "Install to Conversion Rate",
         "type": "scatter",
         "x": [
          "2023-11-01T00:00:00",
          "2023-11-02T00:00:00",
          "2023-11-03T00:00:00",
          "2023-11-04T00:00:00",
          "2023-11-05T00:00:00",
          "2023-11-06T00:00:00",
          "2023-11-07T00:00:00",
          "2023-11-08T00:00:00",
          "2023-11-09T00:00:00",
          "2023-11-10T00:00:00",
          "2023-11-11T00:00:00",
          "2023-11-12T00:00:00",
          "2023-11-13T00:00:00",
          "2023-11-14T00:00:00",
          "2023-11-15T00:00:00",
          "2023-11-16T00:00:00",
          "2023-11-17T00:00:00",
          "2023-11-18T00:00:00",
          "2023-11-19T00:00:00",
          "2023-11-20T00:00:00",
          "2023-11-21T00:00:00",
          "2023-11-22T00:00:00",
          "2023-11-23T00:00:00",
          "2023-11-24T00:00:00",
          "2023-11-25T00:00:00",
          "2023-11-26T00:00:00",
          "2023-11-27T00:00:00",
          "2023-11-28T00:00:00",
          "2023-11-29T00:00:00",
          "2023-11-30T00:00:00",
          "2023-11-01T00:00:00",
          "2023-11-02T00:00:00",
          "2023-11-03T00:00:00",
          "2023-11-04T00:00:00",
          "2023-11-05T00:00:00",
          "2023-11-06T00:00:00",
          "2023-11-07T00:00:00",
          "2023-11-08T00:00:00",
          "2023-11-09T00:00:00",
          "2023-11-10T00:00:00",
          "2023-11-11T00:00:00",
          "2023-11-12T00:00:00",
          "2023-11-13T00:00:00",
          "2023-11-14T00:00:00",
          "2023-11-15T00:00:00",
          "2023-11-16T00:00:00",
          "2023-11-17T00:00:00",
          "2023-11-18T00:00:00",
          "2023-11-19T00:00:00",
          "2023-11-20T00:00:00",
          "2023-11-21T00:00:00",
          "2023-11-22T00:00:00",
          "2023-11-23T00:00:00",
          "2023-11-24T00:00:00",
          "2023-11-25T00:00:00",
          "2023-11-26T00:00:00",
          "2023-11-27T00:00:00",
          "2023-11-28T00:00:00",
          "2023-11-29T00:00:00",
          "2023-11-30T00:00:00",
          "2023-11-01T00:00:00",
          "2023-11-02T00:00:00",
          "2023-11-03T00:00:00",
          "2023-11-04T00:00:00",
          "2023-11-05T00:00:00",
          "2023-11-06T00:00:00",
          "2023-11-07T00:00:00",
          "2023-11-08T00:00:00",
          "2023-11-09T00:00:00",
          "2023-11-10T00:00:00",
          "2023-11-11T00:00:00",
          "2023-11-12T00:00:00",
          "2023-11-13T00:00:00",
          "2023-11-14T00:00:00",
          "2023-11-15T00:00:00",
          "2023-11-16T00:00:00",
          "2023-11-17T00:00:00",
          "2023-11-18T00:00:00",
          "2023-11-19T00:00:00",
          "2023-11-20T00:00:00",
          "2023-11-21T00:00:00",
          "2023-11-22T00:00:00",
          "2023-11-23T00:00:00",
          "2023-11-24T00:00:00",
          "2023-11-25T00:00:00",
          "2023-11-26T00:00:00",
          "2023-11-27T00:00:00",
          "2023-11-28T00:00:00",
          "2023-11-29T00:00:00",
          "2023-11-30T00:00:00",
          "2023-11-01T00:00:00",
          "2023-11-02T00:00:00",
          "2023-11-03T00:00:00",
          "2023-11-04T00:00:00",
          "2023-11-05T00:00:00",
          "2023-11-06T00:00:00",
          "2023-11-07T00:00:00",
          "2023-11-08T00:00:00",
          "2023-11-09T00:00:00",
          "2023-11-10T00:00:00",
          "2023-11-11T00:00:00",
          "2023-11-12T00:00:00",
          "2023-11-13T00:00:00",
          "2023-11-14T00:00:00",
          "2023-11-15T00:00:00",
          "2023-11-16T00:00:00",
          "2023-11-17T00:00:00",
          "2023-11-18T00:00:00",
          "2023-11-19T00:00:00",
          "2023-11-20T00:00:00",
          "2023-11-21T00:00:00",
          "2023-11-22T00:00:00",
          "2023-11-23T00:00:00",
          "2023-11-24T00:00:00",
          "2023-11-25T00:00:00",
          "2023-11-26T00:00:00",
          "2023-11-27T00:00:00",
          "2023-11-28T00:00:00",
          "2023-11-29T00:00:00",
          "2023-11-30T00:00:00",
          "2023-11-01T00:00:00",
          "2023-11-02T00:00:00",
          "2023-11-03T00:00:00",
          "2023-11-04T00:00:00",
          "2023-11-05T00:00:00",
          "2023-11-06T00:00:00",
          "2023-11-07T00:00:00",
          "2023-11-08T00:00:00",
          "2023-11-09T00:00:00",
          "2023-11-10T00:00:00",
          "2023-11-11T00:00:00",
          "2023-11-12T00:00:00",
          "2023-11-13T00:00:00",
          "2023-11-14T00:00:00",
          "2023-11-15T00:00:00",
          "2023-11-16T00:00:00",
          "2023-11-17T00:00:00",
          "2023-11-18T00:00:00",
          "2023-11-19T00:00:00",
          "2023-11-20T00:00:00",
          "2023-11-21T00:00:00",
          "2023-11-22T00:00:00",
          "2023-11-23T00:00:00",
          "2023-11-24T00:00:00",
          "2023-11-25T00:00:00",
          "2023-11-26T00:00:00",
          "2023-11-27T00:00:00",
          "2023-11-28T00:00:00",
          "2023-11-29T00:00:00",
          "2023-11-30T00:00:00",
          "2023-11-01T00:00:00",
          "2023-11-02T00:00:00",
          "2023-11-03T00:00:00",
          "2023-11-04T00:00:00",
          "2023-11-05T00:00:00",
          "2023-11-06T00:00:00",
          "2023-11-07T00:00:00",
          "2023-11-08T00:00:00",
          "2023-11-09T00:00:00",
          "2023-11-10T00:00:00",
          "2023-11-11T00:00:00",
          "2023-11-12T00:00:00",
          "2023-11-13T00:00:00",
          "2023-11-14T00:00:00",
          "2023-11-15T00:00:00",
          "2023-11-16T00:00:00",
          "2023-11-17T00:00:00",
          "2023-11-18T00:00:00",
          "2023-11-19T00:00:00",
          "2023-11-20T00:00:00",
          "2023-11-21T00:00:00",
          "2023-11-22T00:00:00",
          "2023-11-23T00:00:00",
          "2023-11-24T00:00:00",
          "2023-11-25T00:00:00",
          "2023-11-26T00:00:00",
          "2023-11-27T00:00:00",
          "2023-11-28T00:00:00",
          "2023-11-29T00:00:00",
          "2023-11-30T00:00:00",
          "2023-11-01T00:00:00",
          "2023-11-02T00:00:00",
          "2023-11-03T00:00:00",
          "2023-11-04T00:00:00",
          "2023-11-05T00:00:00",
          "2023-11-06T00:00:00",
          "2023-11-07T00:00:00",
          "2023-11-08T00:00:00",
          "2023-11-09T00:00:00",
          "2023-11-10T00:00:00",
          "2023-11-11T00:00:00",
          "2023-11-12T00:00:00",
          "2023-11-13T00:00:00",
          "2023-11-14T00:00:00",
          "2023-11-15T00:00:00",
          "2023-11-16T00:00:00",
          "2023-11-17T00:00:00",
          "2023-11-18T00:00:00",
          "2023-11-19T00:00:00",
          "2023-11-20T00:00:00",
          "2023-11-21T00:00:00",
          "2023-11-22T00:00:00",
          "2023-11-23T00:00:00",
          "2023-11-24T00:00:00",
          "2023-11-25T00:00:00",
          "2023-11-26T00:00:00",
          "2023-11-27T00:00:00",
          "2023-11-28T00:00:00",
          "2023-11-29T00:00:00",
          "2023-11-30T00:00:00",
          "2023-11-01T00:00:00",
          "2023-11-02T00:00:00",
          "2023-11-03T00:00:00",
          "2023-11-04T00:00:00",
          "2023-11-05T00:00:00",
          "2023-11-06T00:00:00",
          "2023-11-07T00:00:00",
          "2023-11-08T00:00:00",
          "2023-11-09T00:00:00",
          "2023-11-10T00:00:00",
          "2023-11-11T00:00:00",
          "2023-11-12T00:00:00",
          "2023-11-13T00:00:00",
          "2023-11-14T00:00:00",
          "2023-11-15T00:00:00",
          "2023-11-16T00:00:00",
          "2023-11-17T00:00:00",
          "2023-11-18T00:00:00",
          "2023-11-19T00:00:00",
          "2023-11-20T00:00:00",
          "2023-11-21T00:00:00",
          "2023-11-22T00:00:00",
          "2023-11-23T00:00:00",
          "2023-11-24T00:00:00",
          "2023-11-25T00:00:00",
          "2023-11-26T00:00:00",
          "2023-11-27T00:00:00",
          "2023-11-28T00:00:00",
          "2023-11-29T00:00:00",
          "2023-11-30T00:00:00"
         ],
         "xaxis": "x3",
         "y": [
          41.65,
          15.17,
          28.02,
          41.04,
          36.69,
          34.18,
          13.32,
          12.34,
          18.46,
          25.72,
          43.31,
          46.84,
          24.82,
          42.57,
          26.62,
          15.28,
          11.59,
          50.81,
          42.629999999999995,
          45.580000000000005,
          16.12,
          48.67,
          28.39,
          27.14,
          37.86,
          25.009999999999998,
          68.46000000000001,
          22.61,
          33.82,
          26.240000000000002,
          27.020000000000003,
          24.939999999999998,
          34.65,
          55.260000000000005,
          38.26,
          69.52,
          21.98,
          46.14,
          44.78,
          30.9,
          62.16,
          26.330000000000002,
          56.47,
          25.09,
          63.08,
          53.65,
          51.67,
          16.2,
          55.1,
          29.68,
          56.11,
          39.57,
          40.94,
          21.97,
          27.54,
          31.74,
          44.980000000000004,
          67.16,
          26.759999999999998,
          21.22,
          36.56,
          32.12,
          29.03,
          31.189999999999998,
          33.33,
          37.28,
          38.43,
          29.240000000000002,
          36.11,
          37.16,
          34.260000000000005,
          28.7,
          41.2,
          31.380000000000003,
          30.71,
          35.31,
          31.26,
          27.89,
          28.84,
          40.69,
          36.75,
          33.269999999999996,
          32.91,
          41.269999999999996,
          36.38,
          40.53,
          42.88,
          36.43,
          39.29,
          45.17,
          16.63,
          10.84,
          13.96,
          17.439999999999998,
          17.75,
          17.03,
          14.990000000000002,
          14.2,
          14.86,
          15.16,
          17.36,
          16.29,
          16.990000000000002,
          16.310000000000002,
          15.350000000000001,
          14.43,
          14.030000000000001,
          112.36,
          11.55,
          16.8,
          16.13,
          11.74,
          13.739999999999998,
          15.96,
          17.39,
          16.79,
          17.46,
          119.88,
          17.35,
          14.940000000000001,
          8.19,
          7.26,
          5.81,
          5.88,
          3.27,
          5.54,
          4.61,
          6.91,
          6.14,
          6.37,
          105.39,
          3.96,
          3.97,
          6.33,
          4.09,
          4.29,
          9.35,
          8.02,
          6.48,
          3.95,
          6.33,
          7.39,
          6.94,
          5.94,
          3.98,
          10.65,
          5.26,
          5.73,
          4.71,
          6.47,
          64.50999999999999,
          21.02,
          17.89,
          14.1,
          7.42,
          14.5,
          116.33,
          26.11,
          30.55,
          9.09,
          13.95,
          22.42,
          21.439999999999998,
          20.66,
          17.89,
          14.54,
          31.270000000000003,
          11.16,
          23.74,
          19.59,
          7.8,
          16.490000000000002,
          23.04,
          18.68,
          14.89,
          123.81,
          19.78,
          28.52,
          23.27,
          15.34,
          8.63,
          19.53,
          35,
          13.2,
          21.92,
          28.02,
          12.5,
          16.79,
          18.009999999999998,
          16.2,
          14.77,
          6.52,
          21.07,
          17.2,
          21.009999999999998,
          13.450000000000001,
          14.57,
          13.8,
          15.620000000000001,
          21.54,
          20.25,
          10.32,
          18.96,
          17.52,
          21.520000000000003,
          22.67,
          16.9,
          25.62,
          21.54,
          23.36,
          11.67,
          14.08,
          3.64,
          5.16,
          12.33,
          10.91,
          4.76,
          0,
          0,
          0,
          0,
          12.5,
          15.77,
          11.05,
          8.7,
          7.69,
          14.35,
          13.58,
          12.58,
          9.55,
          8.7,
          8.15,
          9.03,
          6.779999999999999,
          15.11,
          7.14,
          9.77,
          11.04,
          13.74,
          16.66
         ],
         "yaxis": "y3"
        },
        {
         "name": "Profit",
         "type": "bar",
         "x": [
          "2023-11-01T00:00:00",
          "2023-11-02T00:00:00",
          "2023-11-03T00:00:00",
          "2023-11-04T00:00:00",
          "2023-11-05T00:00:00",
          "2023-11-06T00:00:00",
          "2023-11-07T00:00:00",
          "2023-11-08T00:00:00",
          "2023-11-09T00:00:00",
          "2023-11-10T00:00:00",
          "2023-11-11T00:00:00",
          "2023-11-12T00:00:00",
          "2023-11-13T00:00:00",
          "2023-11-14T00:00:00",
          "2023-11-15T00:00:00",
          "2023-11-16T00:00:00",
          "2023-11-17T00:00:00",
          "2023-11-18T00:00:00",
          "2023-11-19T00:00:00",
          "2023-11-20T00:00:00",
          "2023-11-21T00:00:00",
          "2023-11-22T00:00:00",
          "2023-11-23T00:00:00",
          "2023-11-24T00:00:00",
          "2023-11-25T00:00:00",
          "2023-11-26T00:00:00",
          "2023-11-27T00:00:00",
          "2023-11-28T00:00:00",
          "2023-11-29T00:00:00",
          "2023-11-30T00:00:00",
          "2023-11-01T00:00:00",
          "2023-11-02T00:00:00",
          "2023-11-03T00:00:00",
          "2023-11-04T00:00:00",
          "2023-11-05T00:00:00",
          "2023-11-06T00:00:00",
          "2023-11-07T00:00:00",
          "2023-11-08T00:00:00",
          "2023-11-09T00:00:00",
          "2023-11-10T00:00:00",
          "2023-11-11T00:00:00",
          "2023-11-12T00:00:00",
          "2023-11-13T00:00:00",
          "2023-11-14T00:00:00",
          "2023-11-15T00:00:00",
          "2023-11-16T00:00:00",
          "2023-11-17T00:00:00",
          "2023-11-18T00:00:00",
          "2023-11-19T00:00:00",
          "2023-11-20T00:00:00",
          "2023-11-21T00:00:00",
          "2023-11-22T00:00:00",
          "2023-11-23T00:00:00",
          "2023-11-24T00:00:00",
          "2023-11-25T00:00:00",
          "2023-11-26T00:00:00",
          "2023-11-27T00:00:00",
          "2023-11-28T00:00:00",
          "2023-11-29T00:00:00",
          "2023-11-30T00:00:00",
          "2023-11-01T00:00:00",
          "2023-11-02T00:00:00",
          "2023-11-03T00:00:00",
          "2023-11-04T00:00:00",
          "2023-11-05T00:00:00",
          "2023-11-06T00:00:00",
          "2023-11-07T00:00:00",
          "2023-11-08T00:00:00",
          "2023-11-09T00:00:00",
          "2023-11-10T00:00:00",
          "2023-11-11T00:00:00",
          "2023-11-12T00:00:00",
          "2023-11-13T00:00:00",
          "2023-11-14T00:00:00",
          "2023-11-15T00:00:00",
          "2023-11-16T00:00:00",
          "2023-11-17T00:00:00",
          "2023-11-18T00:00:00",
          "2023-11-19T00:00:00",
          "2023-11-20T00:00:00",
          "2023-11-21T00:00:00",
          "2023-11-22T00:00:00",
          "2023-11-23T00:00:00",
          "2023-11-24T00:00:00",
          "2023-11-25T00:00:00",
          "2023-11-26T00:00:00",
          "2023-11-27T00:00:00",
          "2023-11-28T00:00:00",
          "2023-11-29T00:00:00",
          "2023-11-30T00:00:00",
          "2023-11-01T00:00:00",
          "2023-11-02T00:00:00",
          "2023-11-03T00:00:00",
          "2023-11-04T00:00:00",
          "2023-11-05T00:00:00",
          "2023-11-06T00:00:00",
          "2023-11-07T00:00:00",
          "2023-11-08T00:00:00",
          "2023-11-09T00:00:00",
          "2023-11-10T00:00:00",
          "2023-11-11T00:00:00",
          "2023-11-12T00:00:00",
          "2023-11-13T00:00:00",
          "2023-11-14T00:00:00",
          "2023-11-15T00:00:00",
          "2023-11-16T00:00:00",
          "2023-11-17T00:00:00",
          "2023-11-18T00:00:00",
          "2023-11-19T00:00:00",
          "2023-11-20T00:00:00",
          "2023-11-21T00:00:00",
          "2023-11-22T00:00:00",
          "2023-11-23T00:00:00",
          "2023-11-24T00:00:00",
          "2023-11-25T00:00:00",
          "2023-11-26T00:00:00",
          "2023-11-27T00:00:00",
          "2023-11-28T00:00:00",
          "2023-11-29T00:00:00",
          "2023-11-30T00:00:00",
          "2023-11-01T00:00:00",
          "2023-11-02T00:00:00",
          "2023-11-03T00:00:00",
          "2023-11-04T00:00:00",
          "2023-11-05T00:00:00",
          "2023-11-06T00:00:00",
          "2023-11-07T00:00:00",
          "2023-11-08T00:00:00",
          "2023-11-09T00:00:00",
          "2023-11-10T00:00:00",
          "2023-11-11T00:00:00",
          "2023-11-12T00:00:00",
          "2023-11-13T00:00:00",
          "2023-11-14T00:00:00",
          "2023-11-15T00:00:00",
          "2023-11-16T00:00:00",
          "2023-11-17T00:00:00",
          "2023-11-18T00:00:00",
          "2023-11-19T00:00:00",
          "2023-11-20T00:00:00",
          "2023-11-21T00:00:00",
          "2023-11-22T00:00:00",
          "2023-11-23T00:00:00",
          "2023-11-24T00:00:00",
          "2023-11-25T00:00:00",
          "2023-11-26T00:00:00",
          "2023-11-27T00:00:00",
          "2023-11-28T00:00:00",
          "2023-11-29T00:00:00",
          "2023-11-30T00:00:00",
          "2023-11-01T00:00:00",
          "2023-11-02T00:00:00",
          "2023-11-03T00:00:00",
          "2023-11-04T00:00:00",
          "2023-11-05T00:00:00",
          "2023-11-06T00:00:00",
          "2023-11-07T00:00:00",
          "2023-11-08T00:00:00",
          "2023-11-09T00:00:00",
          "2023-11-10T00:00:00",
          "2023-11-11T00:00:00",
          "2023-11-12T00:00:00",
          "2023-11-13T00:00:00",
          "2023-11-14T00:00:00",
          "2023-11-15T00:00:00",
          "2023-11-16T00:00:00",
          "2023-11-17T00:00:00",
          "2023-11-18T00:00:00",
          "2023-11-19T00:00:00",
          "2023-11-20T00:00:00",
          "2023-11-21T00:00:00",
          "2023-11-22T00:00:00",
          "2023-11-23T00:00:00",
          "2023-11-24T00:00:00",
          "2023-11-25T00:00:00",
          "2023-11-26T00:00:00",
          "2023-11-27T00:00:00",
          "2023-11-28T00:00:00",
          "2023-11-29T00:00:00",
          "2023-11-30T00:00:00",
          "2023-11-01T00:00:00",
          "2023-11-02T00:00:00",
          "2023-11-03T00:00:00",
          "2023-11-04T00:00:00",
          "2023-11-05T00:00:00",
          "2023-11-06T00:00:00",
          "2023-11-07T00:00:00",
          "2023-11-08T00:00:00",
          "2023-11-09T00:00:00",
          "2023-11-10T00:00:00",
          "2023-11-11T00:00:00",
          "2023-11-12T00:00:00",
          "2023-11-13T00:00:00",
          "2023-11-14T00:00:00",
          "2023-11-15T00:00:00",
          "2023-11-16T00:00:00",
          "2023-11-17T00:00:00",
          "2023-11-18T00:00:00",
          "2023-11-19T00:00:00",
          "2023-11-20T00:00:00",
          "2023-11-21T00:00:00",
          "2023-11-22T00:00:00",
          "2023-11-23T00:00:00",
          "2023-11-24T00:00:00",
          "2023-11-25T00:00:00",
          "2023-11-26T00:00:00",
          "2023-11-27T00:00:00",
          "2023-11-28T00:00:00",
          "2023-11-29T00:00:00",
          "2023-11-30T00:00:00",
          "2023-11-01T00:00:00",
          "2023-11-02T00:00:00",
          "2023-11-03T00:00:00",
          "2023-11-04T00:00:00",
          "2023-11-05T00:00:00",
          "2023-11-06T00:00:00",
          "2023-11-07T00:00:00",
          "2023-11-08T00:00:00",
          "2023-11-09T00:00:00",
          "2023-11-10T00:00:00",
          "2023-11-11T00:00:00",
          "2023-11-12T00:00:00",
          "2023-11-13T00:00:00",
          "2023-11-14T00:00:00",
          "2023-11-15T00:00:00",
          "2023-11-16T00:00:00",
          "2023-11-17T00:00:00",
          "2023-11-18T00:00:00",
          "2023-11-19T00:00:00",
          "2023-11-20T00:00:00",
          "2023-11-21T00:00:00",
          "2023-11-22T00:00:00",
          "2023-11-23T00:00:00",
          "2023-11-24T00:00:00",
          "2023-11-25T00:00:00",
          "2023-11-26T00:00:00",
          "2023-11-27T00:00:00",
          "2023-11-28T00:00:00",
          "2023-11-29T00:00:00",
          "2023-11-30T00:00:00"
         ],
         "xaxis": "x4",
         "y": [
          -53.629999999999995,
          -455.33000000000004,
          -358.44,
          -122.63,
          34.43000000000001,
          21.639999999999993,
          -389.69,
          -298.61,
          -331.12,
          -144.18,
          -71.7,
          412.59,
          -4.930000000000007,
          255.87,
          340.4,
          -175.05999999999995,
          -216.02,
          41.47,
          97.99000000000001,
          320.88,
          -108.09,
          326.29999999999995,
          113.82999999999998,
          -82.82,
          39.78,
          -52.739999999999995,
          -35.41,
          264.65999999999997,
          230.22,
          -2.599999999999987,
          -213.76,
          -192.91,
          -86.10999999999999,
          -177.36999999999995,
          297.87,
          541.6800000000001,
          215.32999999999998,
          631.76,
          479.47,
          268.40999999999997,
          210.29000000000002,
          250.55,
          783.83,
          255.19,
          485.01,
          208.54999999999998,
          83.53,
          -25.110000000000007,
          746.7,
          684.8000000000001,
          428.79,
          547.62,
          293.24,
          -65.08000000000001,
          -50.68000000000001,
          173.98000000000002,
          619.4300000000001,
          223.86999999999998,
          137.25,
          119.33000000000003,
          1650.4299999999998,
          -165.78999999999985,
          -246.51999999999987,
          -305.91,
          191.01000000000002,
          76.44000000000008,
          679.1900000000002,
          82.71000000000004,
          268.14,
          33.159999999999954,
          -51.45999999999992,
          1756.57,
          2658.3500000000004,
          1500.0300000000002,
          1376.3799999999999,
          1333.4800000000002,
          753.9300000000001,
          -237.11,
          -1934.45,
          2904.22,
          1574.9299999999998,
          -211.10999999999984,
          1094.58,
          837.1999999999999,
          1135.0499999999997,
          1399.04,
          1727.15,
          1403.3200000000002,
          1523.13,
          -211.39,
          393.74,
          -145.59,
          -609.5600000000001,
          -175.90999999999997,
          87.87,
          352.17,
          152.55,
          84.04999999999995,
          87.63999999999999,
          -626.1999999999999,
          208.19,
          287.36,
          -1783.46,
          -2287.5,
          -281.28,
          -890.77,
          -1694,
          -722.63,
          -3419.38,
          -292.44,
          -578.0999999999999,
          -1070.45,
          -848.74,
          -682.74,
          -556.49,
          -207.26,
          55.01999999999998,
          -2603.82,
          -569.59,
          -469.64,
          80.74,
          249.93,
          10.14,
          89.54,
          -92.94,
          58.08,
          2.84,
          108.86,
          103.32,
          58.69,
          -0.11000000000000032,
          -65.25,
          -59.81,
          74.62,
          -39.22,
          -47.73,
          189.44,
          -16.89,
          39.02,
          -89.73,
          79.74,
          150.97,
          22.35,
          12.35,
          -53.37,
          79.25,
          21.91,
          69.04,
          -4.5,
          59.73,
          -492.96,
          -366.37,
          -409.45000000000005,
          -614.8,
          -677.49,
          -358.27000000000004,
          -243.70999999999998,
          -47.519999999999996,
          63.64999999999999,
          13.150000000000002,
          -3.2700000000000014,
          215.02999999999997,
          4.680000000000007,
          76.88,
          -75.94999999999999,
          75.38,
          19.519999999999996,
          -57.31,
          -9.380000000000003,
          -78.98999999999998,
          -540.22,
          -295.57000000000005,
          -222.73999999999998,
          -398.71999999999997,
          -303.27000000000004,
          -271.79999999999995,
          -342.96000000000004,
          -233.14000000000004,
          -388.98,
          -425.96999999999997,
          -362.68,
          -490.34000000000003,
          -591.26,
          -638.4,
          59.94,
          141.04999999999998,
          -457.10999999999996,
          -527.21,
          -556.73,
          -731.6899999999999,
          -707.44,
          -799.05,
          -491.08,
          -353.84000000000003,
          -182.72,
          -423.25,
          -480.72,
          -601.37,
          -506.62,
          -409.14,
          -771.11,
          -873.17,
          -784.8,
          -804.09,
          -676.65,
          -765.51,
          -758.0799999999999,
          -705.3,
          -577.84,
          -655.2099999999999,
          225.48,
          424.25,
          117.3,
          62.49,
          309.1,
          395.58000000000004,
          111.23,
          0,
          0,
          0,
          0,
          23.37,
          375.22,
          414.16,
          462.56,
          455.14,
          588.43,
          626.66,
          580.06,
          539.89,
          417.83000000000004,
          517.34,
          339.67,
          136.32,
          500.06,
          309.61,
          356.22,
          356.26,
          534.4300000000001,
          382.24
         ],
         "yaxis": "y4"
        }
       ],
       "layout": {
        "annotations": [
         {
          "align": "center",
          "font": {
           "color": "red",
           "size": 12
          },
          "showarrow": false,
          "text": "Black Friday",
          "x": "2023-11-24T00:00:00",
          "xref": "x",
          "y": 1,
          "yref": "paper"
         }
        ],
        "height": 900,
        "shapes": [
         {
          "line": {
           "color": "red",
           "dash": "dash",
           "width": 2
          },
          "type": "line",
          "x0": "2023-11-24T00:00:00",
          "x1": "2023-11-24T00:00:00",
          "xref": "x",
          "y0": 0,
          "y1": 1,
          "yref": "paper"
         }
        ],
        "showlegend": false,
        "template": {
         "data": {
          "bar": [
           {
            "error_x": {
             "color": "#2a3f5f"
            },
            "error_y": {
             "color": "#2a3f5f"
            },
            "marker": {
             "line": {
              "color": "#E5ECF6",
              "width": 0.5
             },
             "pattern": {
              "fillmode": "overlay",
              "size": 10,
              "solidity": 0.2
             }
            },
            "type": "bar"
           }
          ],
          "barpolar": [
           {
            "marker": {
             "line": {
              "color": "#E5ECF6",
              "width": 0.5
             },
             "pattern": {
              "fillmode": "overlay",
              "size": 10,
              "solidity": 0.2
             }
            },
            "type": "barpolar"
           }
          ],
          "carpet": [
           {
            "aaxis": {
             "endlinecolor": "#2a3f5f",
             "gridcolor": "white",
             "linecolor": "white",
             "minorgridcolor": "white",
             "startlinecolor": "#2a3f5f"
            },
            "baxis": {
             "endlinecolor": "#2a3f5f",
             "gridcolor": "white",
             "linecolor": "white",
             "minorgridcolor": "white",
             "startlinecolor": "#2a3f5f"
            },
            "type": "carpet"
           }
          ],
          "choropleth": [
           {
            "colorbar": {
             "outlinewidth": 0,
             "ticks": ""
            },
            "type": "choropleth"
           }
          ],
          "contour": [
           {
            "colorbar": {
             "outlinewidth": 0,
             "ticks": ""
            },
            "colorscale": [
             [
              0,
              "#0d0887"
             ],
             [
              0.1111111111111111,
              "#46039f"
             ],
             [
              0.2222222222222222,
              "#7201a8"
             ],
             [
              0.3333333333333333,
              "#9c179e"
             ],
             [
              0.4444444444444444,
              "#bd3786"
             ],
             [
              0.5555555555555556,
              "#d8576b"
             ],
             [
              0.6666666666666666,
              "#ed7953"
             ],
             [
              0.7777777777777778,
              "#fb9f3a"
             ],
             [
              0.8888888888888888,
              "#fdca26"
             ],
             [
              1,
              "#f0f921"
             ]
            ],
            "type": "contour"
           }
          ],
          "contourcarpet": [
           {
            "colorbar": {
             "outlinewidth": 0,
             "ticks": ""
            },
            "type": "contourcarpet"
           }
          ],
          "heatmap": [
           {
            "colorbar": {
             "outlinewidth": 0,
             "ticks": ""
            },
            "colorscale": [
             [
              0,
              "#0d0887"
             ],
             [
              0.1111111111111111,
              "#46039f"
             ],
             [
              0.2222222222222222,
              "#7201a8"
             ],
             [
              0.3333333333333333,
              "#9c179e"
             ],
             [
              0.4444444444444444,
              "#bd3786"
             ],
             [
              0.5555555555555556,
              "#d8576b"
             ],
             [
              0.6666666666666666,
              "#ed7953"
             ],
             [
              0.7777777777777778,
              "#fb9f3a"
             ],
             [
              0.8888888888888888,
              "#fdca26"
             ],
             [
              1,
              "#f0f921"
             ]
            ],
            "type": "heatmap"
           }
          ],
          "heatmapgl": [
           {
            "colorbar": {
             "outlinewidth": 0,
             "ticks": ""
            },
            "colorscale": [
             [
              0,
              "#0d0887"
             ],
             [
              0.1111111111111111,
              "#46039f"
             ],
             [
              0.2222222222222222,
              "#7201a8"
             ],
             [
              0.3333333333333333,
              "#9c179e"
             ],
             [
              0.4444444444444444,
              "#bd3786"
             ],
             [
              0.5555555555555556,
              "#d8576b"
             ],
             [
              0.6666666666666666,
              "#ed7953"
             ],
             [
              0.7777777777777778,
              "#fb9f3a"
             ],
             [
              0.8888888888888888,
              "#fdca26"
             ],
             [
              1,
              "#f0f921"
             ]
            ],
            "type": "heatmapgl"
           }
          ],
          "histogram": [
           {
            "marker": {
             "pattern": {
              "fillmode": "overlay",
              "size": 10,
              "solidity": 0.2
             }
            },
            "type": "histogram"
           }
          ],
          "histogram2d": [
           {
            "colorbar": {
             "outlinewidth": 0,
             "ticks": ""
            },
            "colorscale": [
             [
              0,
              "#0d0887"
             ],
             [
              0.1111111111111111,
              "#46039f"
             ],
             [
              0.2222222222222222,
              "#7201a8"
             ],
             [
              0.3333333333333333,
              "#9c179e"
             ],
             [
              0.4444444444444444,
              "#bd3786"
             ],
             [
              0.5555555555555556,
              "#d8576b"
             ],
             [
              0.6666666666666666,
              "#ed7953"
             ],
             [
              0.7777777777777778,
              "#fb9f3a"
             ],
             [
              0.8888888888888888,
              "#fdca26"
             ],
             [
              1,
              "#f0f921"
             ]
            ],
            "type": "histogram2d"
           }
          ],
          "histogram2dcontour": [
           {
            "colorbar": {
             "outlinewidth": 0,
             "ticks": ""
            },
            "colorscale": [
             [
              0,
              "#0d0887"
             ],
             [
              0.1111111111111111,
              "#46039f"
             ],
             [
              0.2222222222222222,
              "#7201a8"
             ],
             [
              0.3333333333333333,
              "#9c179e"
             ],
             [
              0.4444444444444444,
              "#bd3786"
             ],
             [
              0.5555555555555556,
              "#d8576b"
             ],
             [
              0.6666666666666666,
              "#ed7953"
             ],
             [
              0.7777777777777778,
              "#fb9f3a"
             ],
             [
              0.8888888888888888,
              "#fdca26"
             ],
             [
              1,
              "#f0f921"
             ]
            ],
            "type": "histogram2dcontour"
           }
          ],
          "mesh3d": [
           {
            "colorbar": {
             "outlinewidth": 0,
             "ticks": ""
            },
            "type": "mesh3d"
           }
          ],
          "parcoords": [
           {
            "line": {
             "colorbar": {
              "outlinewidth": 0,
              "ticks": ""
             }
            },
            "type": "parcoords"
           }
          ],
          "pie": [
           {
            "automargin": true,
            "type": "pie"
           }
          ],
          "scatter": [
           {
            "fillpattern": {
             "fillmode": "overlay",
             "size": 10,
             "solidity": 0.2
            },
            "type": "scatter"
           }
          ],
          "scatter3d": [
           {
            "line": {
             "colorbar": {
              "outlinewidth": 0,
              "ticks": ""
             }
            },
            "marker": {
             "colorbar": {
              "outlinewidth": 0,
              "ticks": ""
             }
            },
            "type": "scatter3d"
           }
          ],
          "scattercarpet": [
           {
            "marker": {
             "colorbar": {
              "outlinewidth": 0,
              "ticks": ""
             }
            },
            "type": "scattercarpet"
           }
          ],
          "scattergeo": [
           {
            "marker": {
             "colorbar": {
              "outlinewidth": 0,
              "ticks": ""
             }
            },
            "type": "scattergeo"
           }
          ],
          "scattergl": [
           {
            "marker": {
             "colorbar": {
              "outlinewidth": 0,
              "ticks": ""
             }
            },
            "type": "scattergl"
           }
          ],
          "scattermapbox": [
           {
            "marker": {
             "colorbar": {
              "outlinewidth": 0,
              "ticks": ""
             }
            },
            "type": "scattermapbox"
           }
          ],
          "scatterpolar": [
           {
            "marker": {
             "colorbar": {
              "outlinewidth": 0,
              "ticks": ""
             }
            },
            "type": "scatterpolar"
           }
          ],
          "scatterpolargl": [
           {
            "marker": {
             "colorbar": {
              "outlinewidth": 0,
              "ticks": ""
             }
            },
            "type": "scatterpolargl"
           }
          ],
          "scatterternary": [
           {
            "marker": {
             "colorbar": {
              "outlinewidth": 0,
              "ticks": ""
             }
            },
            "type": "scatterternary"
           }
          ],
          "surface": [
           {
            "colorbar": {
             "outlinewidth": 0,
             "ticks": ""
            },
            "colorscale": [
             [
              0,
              "#0d0887"
             ],
             [
              0.1111111111111111,
              "#46039f"
             ],
             [
              0.2222222222222222,
              "#7201a8"
             ],
             [
              0.3333333333333333,
              "#9c179e"
             ],
             [
              0.4444444444444444,
              "#bd3786"
             ],
             [
              0.5555555555555556,
              "#d8576b"
             ],
             [
              0.6666666666666666,
              "#ed7953"
             ],
             [
              0.7777777777777778,
              "#fb9f3a"
             ],
             [
              0.8888888888888888,
              "#fdca26"
             ],
             [
              1,
              "#f0f921"
             ]
            ],
            "type": "surface"
           }
          ],
          "table": [
           {
            "cells": {
             "fill": {
              "color": "#EBF0F8"
             },
             "line": {
              "color": "white"
             }
            },
            "header": {
             "fill": {
              "color": "#C8D4E3"
             },
             "line": {
              "color": "white"
             }
            },
            "type": "table"
           }
          ]
         },
         "layout": {
          "annotationdefaults": {
           "arrowcolor": "#2a3f5f",
           "arrowhead": 0,
           "arrowwidth": 1
          },
          "autotypenumbers": "strict",
          "coloraxis": {
           "colorbar": {
            "outlinewidth": 0,
            "ticks": ""
           }
          },
          "colorscale": {
           "diverging": [
            [
             0,
             "#8e0152"
            ],
            [
             0.1,
             "#c51b7d"
            ],
            [
             0.2,
             "#de77ae"
            ],
            [
             0.3,
             "#f1b6da"
            ],
            [
             0.4,
             "#fde0ef"
            ],
            [
             0.5,
             "#f7f7f7"
            ],
            [
             0.6,
             "#e6f5d0"
            ],
            [
             0.7,
             "#b8e186"
            ],
            [
             0.8,
             "#7fbc41"
            ],
            [
             0.9,
             "#4d9221"
            ],
            [
             1,
             "#276419"
            ]
           ],
           "sequential": [
            [
             0,
             "#0d0887"
            ],
            [
             0.1111111111111111,
             "#46039f"
            ],
            [
             0.2222222222222222,
             "#7201a8"
            ],
            [
             0.3333333333333333,
             "#9c179e"
            ],
            [
             0.4444444444444444,
             "#bd3786"
            ],
            [
             0.5555555555555556,
             "#d8576b"
            ],
            [
             0.6666666666666666,
             "#ed7953"
            ],
            [
             0.7777777777777778,
             "#fb9f3a"
            ],
            [
             0.8888888888888888,
             "#fdca26"
            ],
            [
             1,
             "#f0f921"
            ]
           ],
           "sequentialminus": [
            [
             0,
             "#0d0887"
            ],
            [
             0.1111111111111111,
             "#46039f"
            ],
            [
             0.2222222222222222,
             "#7201a8"
            ],
            [
             0.3333333333333333,
             "#9c179e"
            ],
            [
             0.4444444444444444,
             "#bd3786"
            ],
            [
             0.5555555555555556,
             "#d8576b"
            ],
            [
             0.6666666666666666,
             "#ed7953"
            ],
            [
             0.7777777777777778,
             "#fb9f3a"
            ],
            [
             0.8888888888888888,
             "#fdca26"
            ],
            [
             1,
             "#f0f921"
            ]
           ]
          },
          "colorway": [
           "#636efa",
           "#EF553B",
           "#00cc96",
           "#ab63fa",
           "#FFA15A",
           "#19d3f3",
           "#FF6692",
           "#B6E880",
           "#FF97FF",
           "#FECB52"
          ],
          "font": {
           "color": "#2a3f5f"
          },
          "geo": {
           "bgcolor": "white",
           "lakecolor": "white",
           "landcolor": "#E5ECF6",
           "showlakes": true,
           "showland": true,
           "subunitcolor": "white"
          },
          "hoverlabel": {
           "align": "left"
          },
          "hovermode": "closest",
          "mapbox": {
           "style": "light"
          },
          "paper_bgcolor": "white",
          "plot_bgcolor": "#E5ECF6",
          "polar": {
           "angularaxis": {
            "gridcolor": "white",
            "linecolor": "white",
            "ticks": ""
           },
           "bgcolor": "#E5ECF6",
           "radialaxis": {
            "gridcolor": "white",
            "linecolor": "white",
            "ticks": ""
           }
          },
          "scene": {
           "xaxis": {
            "backgroundcolor": "#E5ECF6",
            "gridcolor": "white",
            "gridwidth": 2,
            "linecolor": "white",
            "showbackground": true,
            "ticks": "",
            "zerolinecolor": "white"
           },
           "yaxis": {
            "backgroundcolor": "#E5ECF6",
            "gridcolor": "white",
            "gridwidth": 2,
            "linecolor": "white",
            "showbackground": true,
            "ticks": "",
            "zerolinecolor": "white"
           },
           "zaxis": {
            "backgroundcolor": "#E5ECF6",
            "gridcolor": "white",
            "gridwidth": 2,
            "linecolor": "white",
            "showbackground": true,
            "ticks": "",
            "zerolinecolor": "white"
           }
          },
          "shapedefaults": {
           "line": {
            "color": "#2a3f5f"
           }
          },
          "ternary": {
           "aaxis": {
            "gridcolor": "white",
            "linecolor": "white",
            "ticks": ""
           },
           "baxis": {
            "gridcolor": "white",
            "linecolor": "white",
            "ticks": ""
           },
           "bgcolor": "#E5ECF6",
           "caxis": {
            "gridcolor": "white",
            "linecolor": "white",
            "ticks": ""
           }
          },
          "title": {
           "x": 0.05
          },
          "xaxis": {
           "automargin": true,
           "gridcolor": "white",
           "linecolor": "white",
           "ticks": "",
           "title": {
            "standoff": 15
           },
           "zerolinecolor": "white",
           "zerolinewidth": 2
          },
          "yaxis": {
           "automargin": true,
           "gridcolor": "white",
           "linecolor": "white",
           "ticks": "",
           "title": {
            "standoff": 15
           },
           "zerolinecolor": "white",
           "zerolinewidth": 2
          }
         }
        },
        "title": {
         "text": "Metrics Over Time - Germany - All Channels"
        },
        "updatemenus": [
         {
          "buttons": [
           {
            "args": [
             {
              "y": [
               [
                207,
                206,
                223,
                189,
                271,
                258,
                212,
                200,
                165,
                147,
                156,
                221,
                234,
                201,
                203,
                178,
                152,
                139,
                167,
                200,
                176,
                189,
                171,
                118,
                120,
                186,
                173,
                172,
                167,
                152,
                130,
                129,
                95,
                94,
                178,
                142,
                147,
                118,
                104,
                90,
                76,
                103,
                130,
                127,
                123,
                88,
                73,
                91,
                108,
                112,
                95,
                82,
                74,
                57,
                56,
                87,
                91,
                108,
                86,
                88,
                2159,
                1833,
                1618,
                1704,
                2159,
                1645,
                1705,
                1439,
                1325,
                1239,
                1402,
                1704,
                1648,
                1503,
                1625,
                1440,
                1349,
                1306,
                1609,
                1591,
                1717,
                1811,
                1700,
                1458,
                1540,
                1858,
                1828,
                1711,
                1656,
                1422,
                721,
                758,
                640,
                698,
                748,
                861,
                723,
                806,
                770,
                664,
                636,
                825,
                912,
                780,
                762,
                697,
                649,
                697,
                865,
                804,
                714,
                771,
                760,
                602,
                492,
                699,
                787,
                664,
                632,
                557,
                233,
                317,
                259,
                222,
                369,
                416,
                369,
                333,
                343,
                252,
                242,
                303,
                378,
                412,
                417,
                352,
                246,
                188,
                248,
                331,
                302,
                284,
                246,
                202,
                176,
                216,
                285,
                314,
                297,
                280,
                178,
                187,
                145,
                131,
                172,
                206,
                193,
                156,
                136,
                130,
                149,
                162,
                172,
                174,
                157,
                144,
                118,
                104,
                153,
                218,
                191,
                151,
                165,
                97,
                81,
                127,
                148,
                169,
                139,
                135,
                157,
                127,
                122,
                126,
                166,
                191,
                193,
                224,
                180,
                166,
                208,
                205,
                236,
                217,
                212,
                200,
                158,
                169,
                181,
                182,
                142,
                142,
                97,
                128,
                140,
                140,
                176,
                148,
                142,
                163,
                91,
                114,
                113,
                119,
                142,
                176,
                103,
                67,
                53,
                62,
                44,
                48,
                141,
                204,
                243,
                243,
                242,
                211,
                214,
                252,
                232,
                228,
                197,
                177,
                175,
                213,
                223,
                214,
                209,
                179
               ],
               [
                19.5,
                17.11,
                15.74,
                17.51,
                13.25,
                12.49,
                13.719999999999999,
                13.54,
                24.13,
                22.89,
                13.79,
                11.06,
                14.600000000000001,
                21.54,
                18.74,
                23.29,
                16.38,
                18.619999999999997,
                18.75,
                11.54,
                38.43,
                17.869999999999997,
                18.93,
                21.11,
                23.95,
                12.43,
                14.040000000000001,
                23.63,
                20.369999999999997,
                21.72,
                32.65,
                47.89,
                41.86,
                44.11,
                27,
                32.23,
                19.77,
                45.06999999999999,
                29.79,
                36.31,
                25.799999999999997,
                35.480000000000004,
                49.06,
                23.55,
                41.08,
                38.230000000000004,
                36.269999999999996,
                27.490000000000002,
                27.61,
                27.29,
                22.479999999999997,
                53.32000000000001,
                84.9,
                21.17,
                48.510000000000005,
                27.45,
                38.64,
                25.4,
                23.619999999999997,
                22.95,
                13.450000000000001,
                16.4,
                19.25,
                16.73,
                11.05,
                12.19,
                12.510000000000002,
                14.82,
                16.189999999999998,
                16.27,
                13.01,
                11.67,
                13.46,
                13.54,
                14.64,
                15.48,
                15.45,
                14.03,
                14.41,
                9.62,
                18.590000000000003,
                17.9,
                18.95,
                24.35,
                19.89,
                17.78,
                20.54,
                18.97,
                17.98,
                19.11,
                2.96,
                3.2,
                3.0700000000000003,
                3.41,
                3.52,
                3.38,
                3.41,
                2.95,
                3.1399999999999997,
                3.5300000000000002,
                3.62,
                3.15,
                247.45000000000002,
                489.84000000000003,
                210.93,
                532.62,
                567.87,
                380.24000000000007,
                412.72,
                98.84,
                187.79999999999998,
                3.1399999999999997,
                362.4,
                2.9,
                187.95,
                206.89999999999998,
                384.98,
                366.79,
                91.47,
                2.9299999999999997,
                1.01,
                0.89,
                0.95,
                0.94,
                0.85,
                0.88,
                0.95,
                0.96,
                0.87,
                1.06,
                0.92,
                1.07,
                0.91,
                0.85,
                0.83,
                0.88,
                0.94,
                1.03,
                0.95,
                0.97,
                0.93,
                0.93,
                0.97,
                0.9,
                0.87,
                0.9,
                0.94,
                0.89,
                0.9,
                0.93,
                257.89,
                507.42999999999995,
                3.01,
                3.3000000000000003,
                528.35,
                506.16,
                302.9200000000001,
                3.2199999999999998,
                3.4000000000000004,
                3.6,
                2.96,
                2.91,
                3.11,
                3.04,
                3.24,
                2.94,
                3.08,
                3.5999999999999996,
                3.06,
                3.09,
                188.75000000000003,
                3.9400000000000004,
                367.13,
                372.97,
                382.57,
                399.36999999999995,
                3.74,
                3.55,
                3.01,
                363.04,
                6.67,
                8.649999999999999,
                9.620000000000001,
                7.13,
                5.869999999999999,
                7.78,
                7.4,
                6.99,
                8.57,
                9.55,
                7.789999999999999,
                7.66,
                7.54,
                7.61,
                7.529999999999999,
                8.18,
                9.22,
                10.92,
                10,
                12.07,
                13.5,
                235.5,
                18.35,
                16.15,
                13.629999999999999,
                15.8,
                10.86,
                208.38,
                12.309999999999999,
                234.10999999999999,
                0,
                0,
                0,
                0,
                0,
                0,
                0,
                0,
                0,
                0,
                0,
                0,
                0,
                0,
                0,
                0,
                0,
                0,
                0,
                0,
                0,
                0,
                0,
                0,
                0,
                0,
                0,
                0,
                0,
                0
               ],
               [
                41.65,
                15.17,
                28.02,
                41.04,
                36.69,
                34.18,
                13.32,
                12.34,
                18.46,
                25.72,
                43.31,
                46.84,
                24.82,
                42.57,
                26.62,
                15.28,
                11.59,
                50.81,
                42.629999999999995,
                45.580000000000005,
                16.12,
                48.67,
                28.39,
                27.14,
                37.86,
                25.009999999999998,
                68.46000000000001,
                22.61,
                33.82,
                26.240000000000002,
                27.020000000000003,
                24.939999999999998,
                34.65,
                55.260000000000005,
                38.26,
                69.52,
                21.98,
                46.14,
                44.78,
                30.9,
                62.16,
                26.330000000000002,
                56.47,
                25.09,
                63.08,
                53.65,
                51.67,
                16.2,
                55.1,
                29.68,
                56.11,
                39.57,
                40.94,
                21.97,
                27.54,
                31.74,
                44.980000000000004,
                67.16,
                26.759999999999998,
                21.22,
                36.56,
                32.12,
                29.03,
                31.189999999999998,
                33.33,
                37.28,
                38.43,
                29.240000000000002,
                36.11,
                37.16,
                34.260000000000005,
                28.7,
                41.2,
                31.380000000000003,
                30.71,
                35.31,
                31.26,
                27.89,
                28.84,
                40.69,
                36.75,
                33.269999999999996,
                32.91,
                41.269999999999996,
                36.38,
                40.53,
                42.88,
                36.43,
                39.29,
                45.17,
                16.63,
                10.84,
                13.96,
                17.439999999999998,
                17.75,
                17.03,
                14.990000000000002,
                14.2,
                14.86,
                15.16,
                17.36,
                16.29,
                16.990000000000002,
                16.310000000000002,
                15.350000000000001,
                14.43,
                14.030000000000001,
                112.36,
                11.55,
                16.8,
                16.13,
                11.74,
                13.739999999999998,
                15.96,
                17.39,
                16.79,
                17.46,
                119.88,
                17.35,
                14.940000000000001,
                8.19,
                7.26,
                5.81,
                5.88,
                3.27,
                5.54,
                4.61,
                6.91,
                6.14,
                6.37,
                105.39,
                3.96,
                3.97,
                6.33,
                4.09,
                4.29,
                9.35,
                8.02,
                6.48,
                3.95,
                6.33,
                7.39,
                6.94,
                5.94,
                3.98,
                10.65,
                5.26,
                5.73,
                4.71,
                6.47,
                64.50999999999999,
                21.02,
                17.89,
                14.1,
                7.42,
                14.5,
                116.33,
                26.11,
                30.55,
                9.09,
                13.95,
                22.42,
                21.439999999999998,
                20.66,
                17.89,
                14.54,
                31.270000000000003,
                11.16,
                23.74,
                19.59,
                7.8,
                16.490000000000002,
                23.04,
                18.68,
                14.89,
                123.81,
                19.78,
                28.52,
                23.27,
                15.34,
                8.63,
                19.53,
                35,
                13.2,
                21.92,
                28.02,
                12.5,
                16.79,
                18.009999999999998,
                16.2,
                14.77,
                6.52,
                21.07,
                17.2,
                21.009999999999998,
                13.450000000000001,
                14.57,
                13.8,
                15.620000000000001,
                21.54,
                20.25,
                10.32,
                18.96,
                17.52,
                21.520000000000003,
                22.67,
                16.9,
                25.62,
                21.54,
                23.36,
                11.67,
                14.08,
                3.64,
                5.16,
                12.33,
                10.91,
                4.76,
                0,
                0,
                0,
                0,
                12.5,
                15.77,
                11.05,
                8.7,
                7.69,
                14.35,
                13.58,
                12.58,
                9.55,
                8.7,
                8.15,
                9.03,
                6.779999999999999,
                15.11,
                7.14,
                9.77,
                11.04,
                13.74,
                16.66
               ],
               [
                -53.629999999999995,
                -455.33000000000004,
                -358.44,
                -122.63,
                34.43000000000001,
                21.639999999999993,
                -389.69,
                -298.61,
                -331.12,
                -144.18,
                -71.7,
                412.59,
                -4.930000000000007,
                255.87,
                340.4,
                -175.05999999999995,
                -216.02,
                41.47,
                97.99000000000001,
                320.88,
                -108.09,
                326.29999999999995,
                113.82999999999998,
                -82.82,
                39.78,
                -52.739999999999995,
                -35.41,
                264.65999999999997,
                230.22,
                -2.599999999999987,
                -213.76,
                -192.91,
                -86.10999999999999,
                -177.36999999999995,
                297.87,
                541.6800000000001,
                215.32999999999998,
                631.76,
                479.47,
                268.40999999999997,
                210.29000000000002,
                250.55,
                783.83,
                255.19,
                485.01,
                208.54999999999998,
                83.53,
                -25.110000000000007,
                746.7,
                684.8000000000001,
                428.79,
                547.62,
                293.24,
                -65.08000000000001,
                -50.68000000000001,
                173.98000000000002,
                619.4300000000001,
                223.86999999999998,
                137.25,
                119.33000000000003,
                1650.4299999999998,
                -165.78999999999985,
                -246.51999999999987,
                -305.91,
                191.01000000000002,
                76.44000000000008,
                679.1900000000002,
                82.71000000000004,
                268.14,
                33.159999999999954,
                -51.45999999999992,
                1756.57,
                2658.3500000000004,
                1500.0300000000002,
                1376.3799999999999,
                1333.4800000000002,
                753.9300000000001,
                -237.11,
                -1934.45,
                2904.22,
                1574.9299999999998,
                -211.10999999999984,
                1094.58,
                837.1999999999999,
                1135.0499999999997,
                1399.04,
                1727.15,
                1403.3200000000002,
                1523.13,
                -211.39,
                393.74,
                -145.59,
                -609.5600000000001,
                -175.90999999999997,
                87.87,
                352.17,
                152.55,
                84.04999999999995,
                87.63999999999999,
                -626.1999999999999,
                208.19,
                287.36,
                -1783.46,
                -2287.5,
                -281.28,
                -890.77,
                -1694,
                -722.63,
                -3419.38,
                -292.44,
                -578.0999999999999,
                -1070.45,
                -848.74,
                -682.74,
                -556.49,
                -207.26,
                55.01999999999998,
                -2603.82,
                -569.59,
                -469.64,
                80.74,
                249.93,
                10.14,
                89.54,
                -92.94,
                58.08,
                2.84,
                108.86,
                103.32,
                58.69,
                -0.11000000000000032,
                -65.25,
                -59.81,
                74.62,
                -39.22,
                -47.73,
                189.44,
                -16.89,
                39.02,
                -89.73,
                79.74,
                150.97,
                22.35,
                12.35,
                -53.37,
                79.25,
                21.91,
                69.04,
                -4.5,
                59.73,
                -492.96,
                -366.37,
                -409.45000000000005,
                -614.8,
                -677.49,
                -358.27000000000004,
                -243.70999999999998,
                -47.519999999999996,
                63.64999999999999,
                13.150000000000002,
                -3.2700000000000014,
                215.02999999999997,
                4.680000000000007,
                76.88,
                -75.94999999999999,
                75.38,
                19.519999999999996,
                -57.31,
                -9.380000000000003,
                -78.98999999999998,
                -540.22,
                -295.57000000000005,
                -222.73999999999998,
                -398.71999999999997,
                -303.27000000000004,
                -271.79999999999995,
                -342.96000000000004,
                -233.14000000000004,
                -388.98,
                -425.96999999999997,
                -362.68,
                -490.34000000000003,
                -591.26,
                -638.4,
                59.94,
                141.04999999999998,
                -457.10999999999996,
                -527.21,
                -556.73,
                -731.6899999999999,
                -707.44,
                -799.05,
                -491.08,
                -353.84000000000003,
                -182.72,
                -423.25,
                -480.72,
                -601.37,
                -506.62,
                -409.14,
                -771.11,
                -873.17,
                -784.8,
                -804.09,
                -676.65,
                -765.51,
                -758.0799999999999,
                -705.3,
                -577.84,
                -655.2099999999999,
                225.48,
                424.25,
                117.3,
                62.49,
                309.1,
                395.58000000000004,
                111.23,
                0,
                0,
                0,
                0,
                23.37,
                375.22,
                414.16,
                462.56,
                455.14,
                588.43,
                626.66,
                580.06,
                539.89,
                417.83000000000004,
                517.34,
                339.67,
                136.32,
                500.06,
                309.61,
                356.22,
                356.26,
                534.4300000000001,
                382.24
               ]
              ]
             },
             {
              "title": "Metrics Over Time - Germany - All Channels"
             }
            ],
            "label": "All Channels",
            "method": "update"
           },
           {
            "args": [
             {
              "y": [
               [
                88,
                74,
                85,
                79,
                110,
                104,
                99,
                101,
                83,
                73,
                53,
                105,
                113,
                92,
                110,
                96,
                61,
                53,
                82,
                98,
                84,
                75,
                81,
                51,
                56,
                77,
                83,
                83,
                70,
                70,
                36,
                48,
                34,
                22,
                37,
                49,
                35,
                43,
                31,
                31,
                16,
                32,
                56,
                49,
                51,
                40,
                24,
                31,
                43,
                47,
                40,
                31,
                39,
                24,
                26,
                30,
                41,
                57,
                34,
                40,
                700,
                708,
                586,
                617,
                671,
                677,
                676,
                586,
                570,
                534,
                563,
                720,
                701,
                553,
                567,
                588,
                497,
                538,
                698,
                680,
                678,
                609,
                555,
                485,
                472,
                609,
                601,
                514,
                550,
                451,
                470,
                484,
                423,
                510,
                496,
                580,
                470,
                572,
                530,
                436,
                434,
                545,
                549,
                481,
                465,
                432,
                403,
                445,
                511,
                500,
                426,
                501,
                476,
                393,
                318,
                443,
                470,
                399,
                387,
                338,
                1,
                1,
                1,
                1,
                1,
                1,
                2,
                1,
                1,
                2,
                2,
                2,
                145,
                156,
                118,
                112,
                146,
                174,
                149,
                120,
                112,
                110,
                117,
                132,
                143,
                129,
                120,
                127,
                87,
                89,
                123,
                181,
                150,
                125,
                121,
                70,
                58,
                84,
                105,
                141,
                111,
                112,
                0,
                0,
                0,
                0,
                1,
                1,
                1,
                1,
                0,
                1,
                0,
                0,
                0,
                0,
                0,
                1,
                0,
                1,
                31,
                43,
                58,
                63,
                69,
                66,
                40,
                34,
                30,
                55,
                40,
                40,
                55,
                47,
                59,
                61,
                53,
                49,
                55,
                53,
                42,
                44,
                42,
                44,
                36,
                45,
                49,
                60,
                39,
                49
               ],
               [
                2.36,
                2.43,
                2.76,
                2.22,
                1.92,
                2.15,
                2.02,
                2.27,
                2.2,
                2.34,
                2.54,
                2.04,
                1.99,
                2.92,
                2.11,
                2.63,
                3.19,
                2.34,
                2.57,
                2.76,
                2.85,
                2.77,
                2.09,
                2.79,
                1.77,
                2.38,
                2.23,
                1.99,
                2.34,
                2.06,
                2.33,
                3.29,
                3.38,
                3.43,
                3.06,
                3.98,
                3.61,
                2.93,
                3.79,
                4.11,
                5.22,
                4.8,
                3.52,
                5.1,
                3.06,
                3.19,
                3.83,
                2.95,
                3.08,
                2.91,
                4.22,
                3.69,
                2.81,
                3.27,
                3.5,
                3.25,
                3.67,
                2.46,
                2.68,
                3.15,
                2.37,
                2.31,
                2.24,
                2.08,
                2.12,
                1.94,
                1.83,
                1.74,
                1.84,
                1.99,
                1.77,
                1.59,
                1.54,
                1.91,
                1.8,
                1.76,
                2.04,
                1.87,
                2.05,
                1.85,
                1.81,
                1.98,
                2.38,
                2.5,
                2.18,
                2.14,
                1.91,
                2.22,
                1.97,
                2.36,
                1.47,
                1.54,
                1.45,
                1.58,
                1.82,
                1.41,
                1.64,
                1.42,
                1.51,
                1.77,
                1.81,
                1.41,
                1.43,
                1.6,
                1.65,
                1.76,
                1.9,
                1.72,
                1.47,
                1.54,
                1.72,
                1.42,
                1.46,
                1.44,
                1.64,
                1.47,
                1.39,
                1.39,
                1.31,
                1.3,
                0,
                0,
                0,
                0,
                0,
                0,
                0,
                0,
                0,
                0,
                0,
                0,
                1.93,
                1.76,
                1.76,
                2.18,
                1.93,
                1.75,
                1.85,
                1.96,
                2.12,
                2.16,
                1.71,
                1.75,
                1.67,
                1.86,
                1.92,
                1.77,
                1.9,
                1.67,
                1.69,
                1.5,
                1.59,
                1.86,
                1.74,
                1.98,
                1.52,
                1.52,
                1.86,
                1.57,
                1.68,
                2.05,
                0,
                0,
                0,
                0,
                0,
                0,
                0,
                0,
                0,
                220.67,
                0,
                0,
                0,
                0,
                0,
                194.66,
                0,
                221.66,
                0,
                0,
                0,
                0,
                0,
                0,
                0,
                0,
                0,
                0,
                0,
                0,
                0,
                0,
                0,
                0,
                0,
                0,
                0,
                0,
                0,
                0,
                0,
                0,
                0,
                0,
                0,
                0,
                0,
                0
               ],
               [
                9.09,
                5.41,
                7.06,
                6.33,
                11.82,
                4.81,
                8.08,
                5.94,
                2.41,
                8.22,
                3.77,
                13.33,
                7.96,
                7.61,
                10.91,
                4.17,
                4.92,
                16.98,
                10.98,
                12.24,
                10.71,
                12,
                7.41,
                11.76,
                7.14,
                6.49,
                9.64,
                7.23,
                12.86,
                7.14,
                19.44,
                10.42,
                8.82,
                4.55,
                16.22,
                14.29,
                8.57,
                16.28,
                25.81,
                12.9,
                6.25,
                9.38,
                10.71,
                6.12,
                15.69,
                7.5,
                16.67,
                9.68,
                18.6,
                19.15,
                17.5,
                12.9,
                12.82,
                8.33,
                11.54,
                10,
                17.07,
                5.26,
                11.76,
                5,
                9.57,
                6.92,
                9.73,
                8.75,
                10.43,
                8.12,
                9.47,
                7.17,
                8.42,
                8.61,
                12.08,
                9.17,
                9.56,
                10.31,
                10.05,
                8.33,
                9.86,
                11.9,
                9.03,
                11.62,
                9.59,
                9.2,
                9.37,
                10.93,
                10.17,
                8.21,
                12.15,
                12.26,
                10.73,
                8.2,
                7.87,
                5.37,
                5.2,
                6.27,
                5.85,
                7.07,
                5.11,
                4.37,
                5.28,
                4.59,
                6.91,
                6.61,
                6.19,
                6.24,
                6.88,
                6.48,
                5.46,
                3.6,
                3.33,
                7.8,
                6.34,
                3.19,
                4.2,
                6.87,
                6.92,
                6.55,
                7.02,
                8.52,
                6.98,
                4.44,
                0,
                0,
                0,
                0,
                0,
                0,
                0,
                0,
                0,
                0,
                0,
                0,
                4.83,
                7.69,
                6.78,
                3.57,
                3.42,
                8.05,
                4.7,
                6.67,
                4.46,
                9.09,
                4.27,
                9.09,
                4.2,
                9.3,
                1.67,
                8.66,
                4.6,
                4.49,
                6.5,
                6.08,
                2.67,
                8.8,
                9.09,
                7.14,
                10.34,
                7.14,
                10.48,
                7.09,
                5.41,
                6.25,
                0,
                0,
                0,
                0,
                0,
                0,
                0,
                0,
                0,
                0,
                0,
                0,
                0,
                0,
                0,
                0,
                0,
                0,
                0,
                0,
                0,
                1.59,
                0,
                4.55,
                0,
                0,
                0,
                0,
                0,
                0,
                1.82,
                2.13,
                0,
                0,
                3.77,
                0,
                0,
                0,
                2.38,
                0,
                0,
                2.27,
                0,
                0,
                0,
                0,
                2.56,
                2.04
               ],
               [
                89.87,
                -46.99,
                -79.09,
                14.49,
                204.3,
                -38.07,
                -13.6,
                9.74,
                -122.87,
                4.26,
                -97.72,
                324.46,
                129.95,
                19.94,
                283.59,
                -127.58,
                -57.95,
                95.87,
                59.17,
                107.33,
                70.14,
                106.96,
                56.43,
                -7.28,
                -3.89,
                -93.03,
                -17.81,
                39.91,
                101.95,
                -15.16,
                135.32,
                23.75,
                90.57,
                -34.83,
                174.55,
                217.33,
                77.63,
                207.97,
                247.86,
                10.54,
                -43.01,
                50.08,
                39.63,
                -101.53,
                271.48,
                76.83,
                90.86,
                71.38,
                273.27,
                334.81,
                154.66,
                130.21,
                114.4,
                -38.99,
                30.24,
                109.93,
                287.98,
                105.52,
                112.32,
                -13.42,
                559.66,
                -18.99,
                465.11,
                227.89,
                902.22,
                524.86,
                751.48,
                448.42,
                505.62,
                359.12,
                711.94,
                996.53,
                1035.74,
                845.72,
                677.48,
                442.52,
                186.07,
                573.25,
                471.21,
                1092.52,
                665.06,
                472.55,
                115.68,
                -127.16,
                188.04,
                -9.67,
                512.97,
                467.29,
                396.94,
                -171.16,
                227.2,
                -112.32,
                -34,
                73.09,
                -263.05,
                161.33,
                -133.8,
                -258.79,
                -100.9,
                -224.65,
                76.93,
                122.58,
                117.21,
                -33.57,
                67.84,
                -102.46,
                -314.43,
                -451.43,
                -309.88,
                238.83,
                -106.2,
                -332.22,
                -355.38,
                -29.48,
                -90.58,
                -36.33,
                212.29,
                126.81,
                138.98,
                -125.89,
                0,
                0,
                0,
                0,
                0,
                0,
                0,
                0,
                0,
                0,
                0,
                0,
                -89.56,
                71.76,
                52.63,
                -124.66,
                -142.1,
                160.41,
                -66.43,
                -2.37,
                -106.58,
                41.88,
                -18.96,
                179.7,
                -74,
                43.57,
                -170.85,
                71.32,
                -95.34,
                -48.32,
                -53.56,
                18.68,
                -159.14,
                45.26,
                94.87,
                -18.69,
                101.82,
                36.13,
                54.28,
                39.14,
                -83.65,
                -90.2,
                -263.17,
                -304.55,
                -455.68,
                -388.01,
                0,
                0,
                0,
                0,
                -215.31,
                -220.67,
                -218.23,
                -215.18,
                -216.8,
                -210.66,
                -214.15,
                -194.66,
                -155.82,
                -221.66,
                0,
                0,
                0,
                15.86,
                0,
                97.73,
                0,
                0,
                0,
                0,
                0,
                0,
                41.11,
                15.92,
                0,
                0,
                56.17,
                0,
                0,
                0,
                40.11,
                0,
                0,
                15.61,
                0,
                0,
                0,
                0,
                15.46,
                15.51
               ]
              ]
             },
             {
              "title": "Metrics Over Time - Germany - Channel A"
             }
            ],
            "label": "Channel A",
            "method": "update"
           },
           {
            "args": [
             {
              "y": [
               [
                43,
                57,
                44,
                30,
                45,
                43,
                28,
                23,
                17,
                19,
                26,
                30,
                16,
                13,
                12,
                12,
                17,
                14,
                19,
                18,
                16,
                18,
                19,
                11,
                9,
                26,
                21,
                7,
                20,
                12,
                24,
                13,
                12,
                11,
                20,
                12,
                19,
                9,
                8,
                7,
                11,
                9,
                3,
                10,
                5,
                6,
                5,
                7,
                8,
                7,
                11,
                4,
                2,
                7,
                4,
                7,
                6,
                7,
                6,
                6,
                368,
                292,
                259,
                317,
                396,
                296,
                298,
                154,
                116,
                115,
                163,
                165,
                152,
                140,
                145,
                134,
                120,
                119,
                163,
                149,
                135,
                120,
                112,
                102,
                108,
                142,
                89,
                84,
                67,
                76,
                1,
                2,
                1,
                2,
                1,
                1,
                1,
                1,
                4,
                2,
                0,
                1,
                0,
                2,
                2,
                1,
                1,
                4,
                0,
                1,
                1,
                1,
                1,
                1,
                2,
                1,
                0,
                0,
                1,
                1,
                1,
                0,
                1,
                1,
                1,
                1,
                1,
                0,
                2,
                0,
                1,
                1,
                1,
                1,
                0,
                0,
                0,
                1,
                18,
                14,
                12,
                22,
                32,
                16,
                32,
                61,
                42,
                56,
                82,
                64,
                78,
                81,
                75,
                62,
                71,
                68,
                69,
                52,
                46,
                36,
                31,
                36,
                45,
                37,
                61,
                44,
                52,
                46,
                60,
                71,
                55,
                56,
                73,
                110,
                63,
                33,
                23,
                7,
                4,
                8,
                86,
                157,
                184,
                182,
                189,
                162,
                159,
                199,
                190,
                184,
                155,
                133,
                139,
                168,
                174,
                154,
                170,
                130
               ],
               [
                6.54,
                5.1,
                6.84,
                8.77,
                6.19,
                5.05,
                5.96,
                5.05,
                6.64,
                5.44,
                4.84,
                4.49,
                8.33,
                9.6,
                9.61,
                9.74,
                6.91,
                8.74,
                7.13,
                6.2,
                7.09,
                6.71,
                6.65,
                10.83,
                14.55,
                5.07,
                4.88,
                13.91,
                4.39,
                6.93,
                21.47,
                37.02,
                31.79,
                32.05,
                18.29,
                21.93,
                10.66,
                19.16,
                18.2,
                12.07,
                10.09,
                13.94,
                34.98,
                11.14,
                20.44,
                17.18,
                17.67,
                15.13,
                16.11,
                16.93,
                10.48,
                31.01,
                52.6,
                11.71,
                26.37,
                16.02,
                15.17,
                12.03,
                12.27,
                10.08,
                4.73,
                6.71,
                7.86,
                6.73,
                5.67,
                5.68,
                4.78,
                6.82,
                7.77,
                6.83,
                4.73,
                4.62,
                4.86,
                5.15,
                4.84,
                5.29,
                6.02,
                6.06,
                4.59,
                4.92,
                5.29,
                5.65,
                6.14,
                7,
                6.49,
                5.4,
                6.35,
                5.91,
                7.36,
                6.79,
                0,
                244.09,
                486.45,
                207.68,
                529.14,
                564.35,
                376.85,
                409.87,
                95.69,
                184.54,
                0,
                359.41,
                0,
                184.86,
                204.04,
                382.17,
                363.79,
                88.72,
                0,
                0,
                0,
                0,
                0,
                0,
                254.88,
                504.21,
                0,
                0,
                525.21,
                502.44,
                300.22,
                0,
                0,
                0,
                0,
                0,
                0,
                0,
                185.36,
                0,
                363.9,
                369.02,
                379.43,
                396.39,
                0,
                0,
                0,
                359.83,
                3.45,
                4.18,
                5.2,
                2.92,
                2.09,
                4.19,
                3.86,
                3.62,
                4.57,
                4.43,
                3.36,
                3.95,
                3.38,
                3.37,
                3.48,
                4.38,
                3.97,
                6.6,
                6.18,
                8.07,
                8.78,
                10.45,
                12.35,
                11.16,
                8.84,
                11.3,
                6.79,
                8.96,
                7.54,
                8.46,
                0,
                0,
                0,
                0,
                0,
                0,
                0,
                0,
                0,
                0,
                0,
                0,
                0,
                0,
                0,
                0,
                0,
                0,
                0,
                0,
                0,
                0,
                0,
                0,
                0,
                0,
                0,
                0,
                0,
                0
               ],
               [
                2.33,
                3.51,
                6.82,
                13.33,
                8.89,
                2.33,
                0,
                0,
                5.88,
                5.26,
                3.85,
                3.33,
                0,
                7.69,
                0,
                0,
                0,
                0,
                10.53,
                0,
                0,
                5.56,
                10.53,
                0,
                11.11,
                3.85,
                4.76,
                0,
                10,
                8.33,
                0,
                0,
                8.33,
                0,
                10,
                8.33,
                0,
                11.11,
                0,
                0,
                0,
                0,
                0,
                0,
                0,
                0,
                20,
                0,
                12.5,
                0,
                0,
                0,
                0,
                0,
                0,
                0,
                0,
                0,
                0,
                0,
                4.35,
                4.11,
                4.25,
                5.99,
                4.55,
                6.42,
                4.36,
                2.6,
                5.17,
                3.48,
                1.84,
                3.03,
                3.29,
                2.86,
                0.69,
                2.24,
                3.33,
                3.36,
                6.13,
                4.7,
                5.93,
                2.5,
                3.57,
                7.84,
                4.63,
                6.34,
                6.74,
                8.33,
                5.97,
                7.89,
                0,
                0,
                0,
                0,
                0,
                0,
                100,
                0,
                0,
                0,
                0,
                0,
                0,
                0,
                0,
                0,
                100,
                0,
                0,
                0,
                0,
                0,
                100,
                0,
                50,
                0,
                0,
                0,
                0,
                0,
                100,
                0,
                0,
                0,
                0,
                0,
                0,
                0,
                0,
                0,
                0,
                0,
                0,
                100,
                0,
                0,
                0,
                0,
                0,
                7.14,
                25,
                4.55,
                6.25,
                12.5,
                3.12,
                8.2,
                7.14,
                8.93,
                3.66,
                1.56,
                8.97,
                6.17,
                9.33,
                3.23,
                4.23,
                5.88,
                5.8,
                7.69,
                10.87,
                5.56,
                12.9,
                5.56,
                8.89,
                8.11,
                8.2,
                15.91,
                11.54,
                8.7,
                11.67,
                14.08,
                3.64,
                3.57,
                12.33,
                6.36,
                4.76,
                0,
                0,
                0,
                0,
                12.5,
                13.95,
                8.92,
                8.7,
                7.69,
                10.58,
                13.58,
                12.58,
                9.55,
                6.32,
                8.15,
                9.03,
                4.51,
                15.11,
                7.14,
                9.77,
                11.04,
                11.18,
                14.62
               ],
               [
                -231.25,
                -210.61,
                -219.47,
                -164.96,
                -141.5,
                -192.4,
                -166.76,
                -116.13,
                -62.85,
                -12.93,
                -115.81,
                -109.83,
                -133.35,
                -94.72,
                -115.37,
                -116.88,
                -117.39,
                -122.3,
                -60.4,
                -111.55,
                -113.47,
                -95.75,
                -42.29,
                -119.08,
                -80.94,
                -121.8,
                -72.57,
                -97.39,
                -42.85,
                -53.37,
                -515.29,
                -481.28,
                -299.53,
                -352.53,
                -244.51,
                -222.67,
                -202.48,
                -132.17,
                -145.6,
                -84.51,
                -111.03,
                -125.44,
                -104.94,
                -111.43,
                -102.19,
                -103.08,
                -47.89,
                -105.92,
                -47.14,
                -118.52,
                -115.33,
                -124.04,
                -105.21,
                -81.94,
                -105.47,
                -112.16,
                -91.04,
                -84.19,
                -73.6,
                -60.48,
                -1110.14,
                -1562.34,
                -1725.87,
                -1485.58,
                -1607.27,
                -1029.54,
                -1023.91,
                -871.13,
                -699.66,
                -704.59,
                -681.27,
                -570.73,
                -615.98,
                -563.8,
                -672.32,
                -583.6,
                -582.23,
                -628.85,
                -422.21,
                -469.03,
                -444.46,
                -607.63,
                -506.79,
                -497.2,
                -576.61,
                -625.1,
                -375.92,
                -336.88,
                -349.08,
                -321.95,
                0,
                -488.18,
                -486.45,
                -415.36,
                -529.14,
                -564.35,
                -366.85,
                -409.87,
                -382.76,
                -369.09,
                -370.04,
                -359.41,
                -363.16,
                -369.71,
                -408.07,
                -382.17,
                -324.05,
                -354.9,
                -359.91,
                0,
                0,
                0,
                5,
                0,
                -469.76,
                -504.21,
                -508.41,
                -508.88,
                -525.21,
                -502.44,
                -280.32,
                -144.29,
                0,
                0,
                0,
                0,
                0,
                -179.14,
                -370.72,
                -366.54,
                -363.9,
                -369.02,
                -379.43,
                -386.4,
                -376.23,
                -366.1,
                -357.79,
                -359.83,
                -62.1,
                -20.72,
                31.53,
                -45.59,
                -11.03,
                7.51,
                -86.27,
                -90.66,
                -135.84,
                -98.46,
                -200.95,
                -234.06,
                -66.95,
                -160.9,
                -77.14,
                -234.62,
                -207.85,
                -393.84,
                -335.13,
                -327.75,
                -312.6,
                -302.96,
                -287.46,
                -374.22,
                -269.69,
                -372.3,
                -304.71,
                -238.91,
                -255.9,
                -307.03,
                225.48,
                424.25,
                117.3,
                46.63,
                309.1,
                297.85,
                111.23,
                0,
                0,
                0,
                0,
                23.37,
                334.11,
                398.24,
                462.56,
                455.14,
                532.26,
                626.66,
                580.06,
                539.89,
                377.72,
                517.34,
                339.67,
                120.71,
                500.06,
                309.61,
                356.22,
                356.26,
                518.97,
                366.73
               ]
              ]
             },
             {
              "title": "Metrics Over Time - Germany - Channel B"
             }
            ],
            "label": "Channel B",
            "method": "update"
           },
           {
            "args": [
             {
              "y": [
               [
                69,
                64,
                68,
                59,
                64,
                78,
                56,
                54,
                59,
                49,
                64,
                70,
                87,
                88,
                70,
                63,
                60,
                61,
                58,
                78,
                74,
                90,
                67,
                52,
                51,
                75,
                64,
                78,
                73,
                65,
                66,
                62,
                40,
                53,
                108,
                71,
                82,
                64,
                58,
                50,
                44,
                59,
                66,
                58,
                64,
                39,
                40,
                46,
                50,
                57,
                37,
                45,
                32,
                22,
                25,
                46,
                43,
                42,
                40,
                37,
                987,
                744,
                707,
                690,
                738,
                487,
                621,
                597,
                544,
                507,
                578,
                691,
                707,
                715,
                842,
                651,
                654,
                547,
                674,
                707,
                854,
                1023,
                974,
                830,
                905,
                1046,
                1088,
                1055,
                971,
                838,
                251,
                274,
                217,
                188,
                252,
                281,
                253,
                234,
                240,
                227,
                201,
                279,
                361,
                298,
                295,
                264,
                245,
                251,
                353,
                300,
                286,
                269,
                283,
                209,
                172,
                254,
                316,
                264,
                241,
                219,
                232,
                317,
                258,
                221,
                367,
                415,
                369,
                333,
                342,
                251,
                241,
                303,
                378,
                411,
                416,
                350,
                246,
                187,
                247,
                329,
                300,
                284,
                245,
                202,
                176,
                216,
                285,
                314,
                297,
                278,
                31,
                30,
                27,
                19,
                25,
                31,
                43,
                36,
                23,
                20,
                31,
                30,
                29,
                44,
                37,
                17,
                30,
                15,
                29,
                37,
                39,
                26,
                43,
                26,
                22,
                42,
                43,
                28,
                28,
                22,
                139,
                113,
                110,
                104,
                134,
                174,
                160,
                163,
                138,
                110,
                126,
                141,
                157,
                136,
                137,
                137,
                87,
                101,
                112,
                130,
                96,
                105,
                66,
                92,
                95,
                103,
                115,
                103,
                90,
                116
               ],
               [
                3.04,
                4.58,
                3.72,
                4.09,
                4.15,
                3.41,
                3.62,
                3.2,
                4.05,
                4.5,
                1.52,
                1.24,
                1.2,
                1.39,
                1.2,
                1.46,
                1.37,
                1.48,
                1.47,
                1.39,
                1.43,
                1.17,
                1.34,
                1.39,
                1.38,
                1.3,
                1.44,
                1.17,
                1.29,
                1.43,
                2.74,
                2.5,
                2.63,
                2.99,
                2.49,
                2.77,
                2.32,
                2.65,
                2.52,
                2.83,
                2.75,
                2.92,
                2.24,
                2.3,
                2.02,
                2.35,
                2.98,
                2.77,
                2.2,
                2.35,
                2.11,
                2.53,
                2.63,
                2.28,
                2.34,
                2.58,
                2.38,
                2.65,
                2.25,
                2.34,
                1.44,
                1.76,
                1.82,
                1.92,
                1.89,
                1.97,
                1.53,
                1.64,
                1.47,
                1.53,
                1.54,
                1.58,
                1.43,
                1.42,
                1.34,
                1.4,
                1.42,
                1.52,
                1.31,
                1.6,
                1.78,
                1.68,
                1.56,
                1.6,
                1.48,
                1.63,
                1.64,
                1.64,
                1.55,
                1.59,
                1.49,
                1.66,
                1.62,
                1.83,
                1.7,
                1.97,
                1.77,
                1.53,
                1.63,
                1.76,
                1.81,
                1.74,
                1.93,
                1.79,
                1.6,
                1.72,
                1.62,
                1.67,
                1.38,
                1.61,
                1.54,
                1.72,
                1.53,
                1.46,
                1.45,
                1.39,
                1.42,
                1.61,
                1.44,
                1.63,
                1.01,
                0.89,
                0.95,
                0.94,
                0.85,
                0.88,
                0.95,
                0.96,
                0.87,
                1.06,
                0.92,
                1.07,
                0.91,
                0.85,
                0.83,
                0.88,
                0.94,
                1.03,
                0.95,
                0.97,
                0.93,
                0.93,
                0.97,
                0.9,
                0.87,
                0.9,
                0.94,
                0.89,
                0.9,
                0.93,
                1.08,
                1.46,
                1.25,
                1.12,
                1.21,
                1.97,
                0.85,
                1.26,
                1.28,
                1.44,
                1.25,
                1.16,
                1.44,
                1.18,
                1.32,
                1.17,
                1.18,
                1.93,
                1.37,
                1.59,
                1.8,
                2.08,
                1.49,
                1.97,
                1.62,
                1.46,
                1.88,
                1.98,
                1.33,
                1.16,
                3.22,
                4.47,
                4.42,
                4.21,
                3.78,
                3.59,
                3.54,
                3.37,
                4,
                5.12,
                4.43,
                3.71,
                4.16,
                4.24,
                4.05,
                3.8,
                5.25,
                4.32,
                3.82,
                4,
                4.72,
                4.38,
                6,
                4.99,
                4.79,
                4.5,
                4.07,
                4.76,
                4.77,
                3.99
               ],
               [
                15.94,
                6.25,
                10.29,
                11.86,
                14.06,
                17.95,
                1.79,
                1.85,
                10.17,
                12.24,
                20.31,
                11.43,
                5.75,
                14.77,
                15.71,
                11.11,
                6.67,
                6.56,
                8.62,
                16.67,
                5.41,
                14.44,
                10.45,
                15.38,
                19.61,
                14.67,
                14.06,
                15.38,
                10.96,
                10.77,
                7.58,
                14.52,
                17.5,
                13.21,
                12.04,
                16.9,
                13.41,
                18.75,
                18.97,
                18,
                15.91,
                16.95,
                25.76,
                18.97,
                14.06,
                12.82,
                15,
                6.52,
                24,
                10.53,
                24.32,
                26.67,
                28.12,
                13.64,
                16,
                21.74,
                27.91,
                11.9,
                15,
                16.22,
                12.06,
                12.1,
                12.02,
                11.45,
                13.55,
                13.55,
                13.69,
                14.57,
                13.05,
                13.02,
                16.26,
                12.59,
                14.71,
                11.89,
                11.52,
                14.29,
                14.22,
                9.69,
                10.98,
                15.28,
                13.23,
                13.1,
                11.5,
                15.18,
                16.13,
                17.78,
                15.99,
                14.12,
                15.24,
                15.04,
                8.76,
                5.47,
                8.76,
                11.17,
                11.9,
                9.96,
                9.88,
                9.83,
                9.58,
                10.57,
                10.45,
                9.68,
                10.8,
                10.07,
                8.47,
                7.95,
                8.57,
                8.76,
                8.22,
                9,
                9.79,
                8.55,
                9.54,
                9.09,
                10.47,
                10.24,
                10.44,
                11.36,
                10.37,
                10.5,
                8.19,
                7.26,
                5.81,
                5.88,
                3.27,
                5.54,
                4.61,
                6.91,
                6.14,
                6.37,
                5.39,
                3.96,
                3.97,
                6.33,
                4.09,
                4.29,
                9.35,
                8.02,
                6.48,
                3.95,
                6.33,
                7.39,
                6.94,
                5.94,
                3.98,
                10.65,
                5.26,
                5.73,
                4.71,
                6.47,
                9.68,
                13.33,
                11.11,
                10.53,
                4,
                6.45,
                11.63,
                19.44,
                26.09,
                0,
                9.68,
                13.33,
                17.24,
                11.36,
                16.22,
                5.88,
                26.67,
                6.67,
                17.24,
                13.51,
                5.13,
                7.69,
                13.95,
                11.54,
                4.55,
                16.67,
                9.3,
                21.43,
                17.86,
                9.09,
                8.63,
                12.39,
                10,
                8.65,
                15.67,
                15.52,
                9.38,
                8.59,
                10.87,
                7.27,
                11.11,
                4.96,
                12.1,
                11.03,
                11.68,
                10.22,
                10.34,
                7.92,
                9.82,
                13.85,
                9.38,
                4.76,
                6.06,
                11.96,
                12.63,
                14.56,
                8.7,
                9.71,
                10,
                14.66
               ],
               [
                114.56,
                -142.69,
                -21.98,
                23.78,
                -2.14,
                234.04,
                -177.88,
                -152.3,
                -77.97,
                -71.86,
                165.25,
                159.25,
                11.1,
                366.26,
                236.23,
                135.61,
                28.1,
                24.49,
                109.81,
                322.22,
                -10.63,
                348.39,
                135.07,
                67.94,
                149.62,
                191.57,
                62.43,
                348.38,
                220.53,
                122.45,
                190.64,
                295.08,
                159.38,
                124.94,
                408.87,
                402.7,
                375.14,
                596.61,
                414.18,
                376.99,
                296.98,
                367.36,
                850.26,
                518.23,
                280.34,
                240.85,
                87.73,
                55.88,
                564.1,
                473.61,
                384.29,
                573.63,
                310.91,
                71.5,
                40.85,
                198.59,
                439.91,
                136.98,
                137.05,
                230.12,
                2367.54,
                1634.91,
                1418.33,
                1322.5,
                1744.56,
                1347.99,
                1871.49,
                1628.88,
                1540.35,
                1267.02,
                1209.01,
                1719.04,
                2395.3,
                1531.97,
                1710.63,
                1731.15,
                1575.14,
                246.38,
                1674.22,
                2193.5,
                1700.45,
                2258.75,
                1843.17,
                1911.18,
                1948.73,
                2425.66,
                1998.25,
                1802.46,
                1779.83,
                1655.96,
                166.54,
                -33.27,
                130.51,
                251.15,
                350.92,
                190.84,
                286.35,
                342.84,
                188.54,
                199.83,
                131.26,
                164.78,
                590.44,
                266.47,
                241,
                41.05,
                90.11,
                95.65,
                251.25,
                220.82,
                265.92,
                101.09,
                234.86,
                78.92,
                272.99,
                237.14,
                224.9,
                177.4,
                170.91,
                116.14,
                80.74,
                249.93,
                10.14,
                89.54,
                -92.94,
                58.08,
                2.84,
                108.86,
                103.32,
                58.69,
                -5.11,
                -65.25,
                -59.81,
                74.62,
                -39.22,
                -47.73,
                189.44,
                -16.89,
                39.02,
                -89.73,
                79.74,
                150.97,
                22.35,
                12.35,
                -53.37,
                79.25,
                21.91,
                69.04,
                -4.5,
                59.73,
                66.36,
                66.08,
                46.33,
                18.74,
                -10.18,
                -16.24,
                103.04,
                99.14,
                170.23,
                -28.73,
                15.69,
                35.33,
                78.68,
                33.31,
                94.9,
                4.06,
                114.86,
                -8.99,
                44.18,
                81.47,
                -10.36,
                25.71,
                46.29,
                -11.01,
                -25.66,
                78.47,
                -21.01,
                93.82,
                52.46,
                24.06,
                -37.41,
                -165.07,
                -167.11,
                -204.8,
                70.97,
                133.54,
                -152.17,
                -217.58,
                -201.94,
                -413.33,
                -286.81,
                -345.95,
                -204.41,
                -192.94,
                -105.58,
                -188.63,
                -272.87,
                -207.53,
                -171.49,
                -81.39,
                -243.2,
                -349.54,
                -279.11,
                -214.69,
                -190.16,
                -182.55,
                -239.22,
                -271.73,
                -166.12,
                -126.52
               ]
              ]
             },
             {
              "title": "Metrics Over Time - Germany - Channel C"
             }
            ],
            "label": "Channel C",
            "method": "update"
           },
           {
            "args": [
             {
              "y": [
               [
                7,
                11,
                26,
                21,
                52,
                33,
                29,
                22,
                6,
                6,
                13,
                16,
                18,
                8,
                11,
                7,
                14,
                11,
                8,
                6,
                2,
                6,
                4,
                4,
                4,
                8,
                5,
                4,
                4,
                5,
                4,
                6,
                9,
                8,
                13,
                10,
                11,
                2,
                7,
                2,
                5,
                3,
                5,
                10,
                3,
                3,
                4,
                7,
                7,
                1,
                7,
                2,
                1,
                4,
                1,
                4,
                1,
                2,
                6,
                5,
                104,
                89,
                66,
                80,
                354,
                185,
                110,
                102,
                95,
                83,
                98,
                128,
                88,
                95,
                71,
                67,
                78,
                102,
                74,
                55,
                50,
                59,
                59,
                41,
                55,
                61,
                50,
                58,
                68,
                57,
                0,
                0,
                0,
                0,
                0,
                0,
                0,
                0,
                0,
                1,
                0,
                1,
                0,
                0,
                0,
                0,
                0,
                0,
                0,
                0,
                0,
                1,
                0,
                0,
                0,
                0,
                0,
                0,
                0,
                0,
                0,
                0,
                0,
                0,
                0,
                0,
                0,
                0,
                0,
                0,
                0,
                0,
                0,
                0,
                0,
                0,
                0,
                0,
                0,
                0,
                0,
                0,
                1,
                0,
                0,
                0,
                0,
                0,
                0,
                0,
                0,
                0,
                0,
                0,
                0,
                0,
                0,
                0,
                0,
                0,
                0,
                0,
                0,
                0,
                0,
                0,
                0,
                0,
                0,
                0,
                0,
                0,
                0,
                0,
                0,
                0,
                0,
                0,
                0,
                0,
                0,
                0,
                0,
                0,
                0,
                0,
                0,
                0,
                0,
                0,
                0,
                0,
                0,
                0,
                0,
                0,
                0,
                0,
                0,
                0,
                0,
                0,
                0,
                0,
                0,
                0,
                0,
                0,
                0,
                0
               ],
               [
                7.56,
                5,
                2.42,
                2.43,
                0.99,
                1.88,
                2.12,
                3.02,
                11.24,
                10.61,
                4.89,
                3.29,
                3.08,
                7.63,
                5.82,
                9.46,
                4.91,
                6.06,
                7.58,
                1.19,
                27.06,
                7.22,
                8.85,
                6.1,
                6.25,
                3.68,
                5.49,
                6.56,
                12.35,
                11.3,
                6.11,
                5.08,
                4.06,
                5.64,
                3.16,
                3.55,
                3.18,
                20.33,
                5.28,
                17.3,
                7.74,
                13.82,
                8.32,
                5.01,
                15.56,
                15.51,
                11.79,
                6.64,
                6.22,
                5.1,
                5.67,
                16.09,
                26.86,
                3.91,
                16.3,
                5.6,
                17.42,
                8.26,
                6.42,
                7.38,
                4.91,
                5.62,
                7.33,
                6,
                1.37,
                2.6,
                4.37,
                4.62,
                5.11,
                5.92,
                4.97,
                3.88,
                5.63,
                5.06,
                6.66,
                7.03,
                5.97,
                4.58,
                6.46,
                1.25,
                9.71,
                8.59,
                8.87,
                13.25,
                9.74,
                8.61,
                10.64,
                9.2,
                7.1,
                8.37,
                0,
                0,
                0,
                0,
                0,
                0,
                0,
                0,
                0,
                0,
                0,
                0,
                0,
                0,
                0,
                0,
                0,
                0,
                0,
                0,
                0,
                0,
                0,
                0,
                0,
                0,
                0,
                0,
                0,
                0,
                0,
                0,
                0,
                0,
                0,
                0,
                0,
                0,
                0,
                0,
                0,
                0,
                0,
                0,
                0,
                0,
                0,
                0,
                0,
                0,
                0,
                0,
                0,
                0,
                0,
                0,
                0,
                0,
                0,
                0,
                0,
                0,
                0,
                0,
                0,
                0,
                0,
                0,
                0,
                0,
                0,
                0,
                0,
                0,
                0,
                0,
                0,
                0,
                0,
                0,
                0,
                0,
                0,
                0,
                0,
                0,
                0,
                0,
                0,
                0,
                0,
                0,
                0,
                0,
                0,
                0,
                0,
                0,
                0,
                0,
                0,
                0,
                0,
                0,
                0,
                0,
                0,
                0,
                0,
                0,
                0,
                0,
                0,
                0,
                0,
                0,
                0,
                0,
                0,
                0
               ],
               [
                14.29,
                0,
                3.85,
                9.52,
                1.92,
                9.09,
                3.45,
                4.55,
                0,
                0,
                15.38,
                18.75,
                11.11,
                12.5,
                0,
                0,
                0,
                27.27,
                12.5,
                16.67,
                0,
                16.67,
                0,
                0,
                0,
                0,
                40,
                0,
                0,
                0,
                0,
                0,
                0,
                37.5,
                0,
                30,
                0,
                0,
                0,
                0,
                40,
                0,
                20,
                0,
                33.33,
                33.33,
                0,
                0,
                0,
                0,
                14.29,
                0,
                0,
                0,
                0,
                0,
                0,
                50,
                0,
                0,
                10.58,
                8.99,
                3.03,
                5,
                4.8,
                9.19,
                10.91,
                4.9,
                9.47,
                12.05,
                4.08,
                3.91,
                13.64,
                6.32,
                8.45,
                10.45,
                3.85,
                2.94,
                2.7,
                9.09,
                8,
                8.47,
                8.47,
                7.32,
                5.45,
                8.2,
                8,
                1.72,
                7.35,
                14.04,
                0,
                0,
                0,
                0,
                0,
                0,
                0,
                0,
                0,
                0,
                0,
                0,
                0,
                0,
                0,
                0,
                0,
                0,
                0,
                0,
                0,
                0,
                0,
                0,
                0,
                0,
                0,
                0,
                0,
                0,
                0,
                0,
                0,
                0,
                0,
                0,
                0,
                0,
                0,
                0,
                0,
                0,
                0,
                0,
                0,
                0,
                0,
                0,
                0,
                0,
                0,
                0,
                0,
                0,
                0,
                0,
                0,
                0,
                0,
                0,
                0,
                0,
                0,
                0,
                0,
                0,
                0,
                0,
                0,
                0,
                0,
                0,
                0,
                0,
                0,
                0,
                0,
                0,
                0,
                0,
                0,
                0,
                0,
                0,
                0,
                0,
                0,
                0,
                0,
                0,
                0,
                0,
                0,
                0,
                0,
                0,
                0,
                0,
                0,
                0,
                0,
                0,
                0,
                0,
                0,
                0,
                0,
                0,
                0,
                0,
                0,
                0,
                0,
                0,
                0,
                0,
                0,
                0,
                0,
                0
               ],
               [
                -26.81,
                -55.04,
                -37.9,
                4.06,
                -26.23,
                18.07,
                -31.45,
                -39.92,
                -67.43,
                -63.65,
                -23.42,
                38.71,
                -12.63,
                -35.61,
                -64.05,
                -66.21,
                -68.78,
                43.41,
                -10.59,
                2.88,
                -54.13,
                -33.3,
                -35.38,
                -24.4,
                -25.01,
                -29.48,
                -7.46,
                -26.24,
                -49.41,
                -56.52,
                -24.43,
                -30.46,
                -36.53,
                85.05,
                -41.04,
                144.32,
                -34.96,
                -40.65,
                -36.97,
                -34.61,
                67.35,
                -41.45,
                -1.12,
                -50.08,
                35.38,
                -6.05,
                -47.17,
                -46.45,
                -43.53,
                -5.1,
                5.17,
                -32.18,
                -26.86,
                -15.65,
                -16.3,
                -22.38,
                -17.42,
                65.56,
                -38.52,
                -36.89,
                -160.49,
                -213.23,
                -397.91,
                -364.59,
                14.67,
                95.41,
                -59.46,
                -261.86,
                -216.65,
                -23.14,
                -426.78,
                -382.15,
                -150.57,
                -307.63,
                -333.29,
                -250.46,
                -418.88,
                -421.76,
                -402.77,
                93.37,
                -339.99,
                -327.46,
                -351.35,
                -443.49,
                -418.98,
                -385.72,
                -402.02,
                -523.42,
                -298.43,
                -296.89,
                0,
                0,
                0,
                0,
                0,
                0,
                0,
                0,
                0,
                0,
                0,
                0,
                0,
                0,
                0,
                0,
                0,
                0,
                0,
                0,
                0,
                0,
                0,
                0,
                0,
                0,
                0,
                0,
                0,
                0,
                0,
                0,
                0,
                0,
                0,
                0,
                0,
                0,
                0,
                0,
                0,
                0,
                0,
                0,
                0,
                0,
                0,
                0,
                0,
                0,
                0,
                0,
                0,
                0,
                0,
                0,
                0,
                0,
                0,
                0,
                0,
                0,
                0,
                0,
                0,
                0,
                0,
                0,
                0,
                0,
                0,
                0,
                0,
                0,
                0,
                0,
                0,
                0,
                0,
                0,
                0,
                0,
                0,
                0,
                0,
                0,
                0,
                0,
                0,
                0,
                0,
                0,
                0,
                0,
                0,
                0,
                0,
                0,
                0,
                0,
                0,
                0,
                0,
                0,
                0,
                0,
                0,
                0,
                0,
                0,
                0,
                0,
                0,
                0,
                0,
                0,
                0,
                0,
                0,
                0
               ]
              ]
             },
             {
              "title": "Metrics Over Time - Germany - Channel E"
             }
            ],
            "label": "Channel E",
            "method": "update"
           },
           {
            "args": [
             {
              "y": [
               [
                0,
                0,
                0,
                0,
                0,
                0,
                0,
                0,
                0,
                0,
                0,
                0,
                0,
                0,
                0,
                0,
                0,
                0,
                0,
                0,
                0,
                0,
                0,
                0,
                0,
                0,
                0,
                0,
                0,
                0,
                0,
                0,
                0,
                0,
                0,
                0,
                0,
                0,
                0,
                0,
                0,
                0,
                0,
                0,
                0,
                0,
                0,
                0,
                0,
                0,
                0,
                0,
                0,
                0,
                0
               ],
               [
                0,
                0,
                0,
                0,
                0,
                0,
                0,
                0,
                0,
                0,
                0,
                0,
                0,
                0,
                0,
                0,
                0,
                0,
                0,
                0,
                0,
                0,
                0,
                0,
                0,
                0,
                0,
                0,
                0,
                0,
                0,
                0,
                0,
                0,
                0,
                0,
                0,
                0,
                0,
                0,
                0,
                0,
                0,
                0,
                0,
                0,
                0,
                0,
                0,
                0,
                0,
                0,
                0,
                0,
                0
               ],
               [
                0,
                0,
                0,
                0,
                0,
                0,
                0,
                0,
                0,
                0,
                0,
                0,
                0,
                0,
                0,
                0,
                0,
                0,
                0,
                0,
                0,
                0,
                0,
                0,
                0,
                0,
                0,
                0,
                0,
                0,
                0,
                0,
                0,
                0,
                0,
                0,
                0,
                0,
                0,
                0,
                0,
                0,
                0,
                0,
                0,
                0,
                0,
                0,
                0,
                0,
                0,
                0,
                0,
                0,
                0
               ],
               [
                -6.14,
                -6.14,
                -6.18,
                -6.13,
                -863.17,
                -862.28,
                -860.41,
                -861.6,
                -861.52,
                -865.25,
                -864.36,
                -6.12,
                -6.14,
                -6.23,
                -6.12,
                -6.13,
                -6.17,
                -6.13,
                -3254.9,
                -6.14,
                -6.13,
                -2007.32,
                -6.13,
                -6.13,
                -6.13,
                -6.13,
                -6.13,
                -6.13,
                -6.13,
                -1077.35,
                -706.07,
                -500.15,
                -601.38,
                -2002.93,
                -2033.95,
                -174.76,
                -300.22,
                -905.33,
                -2950.88,
                -369.33,
                -368.73,
                -469.28,
                -368.81,
                -369.02,
                -369.19,
                -2583.98,
                -524.58,
                -99.98,
                -218.67,
                -218.97,
                -218.95,
                -219.9,
                -219.68,
                -219.04,
                -219.72
               ]
              ]
             },
             {
              "title": "Metrics Over Time - Germany - Channel D"
             }
            ],
            "label": "Channel D",
            "method": "update"
           }
          ],
          "direction": "down",
          "showactive": true,
          "x": 0.1,
          "xanchor": "left",
          "y": 1.2,
          "yanchor": "top"
         }
        ],
        "xaxis": {
         "anchor": "y",
         "domain": [
          0,
          1
         ],
         "matches": "x4",
         "showticklabels": false
        },
        "xaxis2": {
         "anchor": "y2",
         "domain": [
          0,
          1
         ],
         "matches": "x4",
         "showticklabels": false
        },
        "xaxis3": {
         "anchor": "y3",
         "domain": [
          0,
          1
         ],
         "matches": "x4",
         "showticklabels": false
        },
        "xaxis4": {
         "anchor": "y4",
         "domain": [
          0,
          1
         ],
         "title": {
          "text": "Date"
         }
        },
        "yaxis": {
         "anchor": "x",
         "domain": [
          0.7875,
          1
         ],
         "title": {
          "text": "App Installs"
         }
        },
        "yaxis2": {
         "anchor": "x2",
         "domain": [
          0.525,
          0.7375
         ],
         "range": [
          0,
          null
         ],
         "title": {
          "text": "CPI (Euro)"
         }
        },
        "yaxis3": {
         "anchor": "x3",
         "domain": [
          0.2625,
          0.475
         ],
         "range": [
          0,
          null
         ],
         "title": {
          "text": "Install to Conversion Rate (%)"
         }
        },
        "yaxis4": {
         "anchor": "x4",
         "domain": [
          0,
          0.2125
         ],
         "title": {
          "text": "Profit (Euro)"
         }
        }
       }
      }
     },
     "metadata": {},
     "output_type": "display_data"
    }
   ],
   "source": [
    "### PREPARE THE DATA ###\n",
    "# Aggregate the data\n",
    "agg_df = df.groupby(['country', 'date', 'marketing_channel']).sum(numeric_only=True)\n",
    "\n",
    "# Calculate the metrics\n",
    "df_metrics = calculate_metrics(agg_df).reset_index()\n",
    "\n",
    "# Ensure the 'date' column in the DataFrame is in datetime format\n",
    "df_metrics['date'] = pd.to_datetime(df_metrics['date'])\n",
    "\n",
    "# Get the list of unique marketing channels\n",
    "channels = df_metrics['marketing_channel'].unique().tolist()\n",
    "channels.insert(0, \"All Channels\")  # Add an option for all channels\n",
    "\n",
    "### PLOT ###\n",
    "# Create a subplot figure with 4 rows, 1 column\n",
    "fig = make_subplots(\n",
    "    rows=4, cols=1,\n",
    "    shared_xaxes=True,  # Align x-axes\n",
    "    vertical_spacing=0.05  # Adjust spacing between plots\n",
    ")\n",
    "\n",
    "# Add traces for the initial channel (\"All Channels\")\n",
    "filtered_data = df_metrics if \"All Channels\" == \"All Channels\" else df_metrics[df_metrics['marketing_channel'] == \"Channel C\"]\n",
    "grouped_data = filtered_data.groupby(['country', 'date']).sum(numeric_only=True).reset_index()\n",
    "\n",
    "# Plot App Installs (Row 1)\n",
    "fig.add_trace(\n",
    "    go.Scatter(x=grouped_data['date'], y=grouped_data['app_installs'], mode='lines', name='App Installs'),\n",
    "    row=1, col=1\n",
    ")\n",
    "\n",
    "# Plot CPI (Row 2) with y-axis starting at 0\n",
    "fig.add_trace(\n",
    "    go.Scatter(x=grouped_data['date'], y=grouped_data['cpi'], mode='lines', name='CPI'),\n",
    "    row=2, col=1\n",
    ")\n",
    "fig.update_yaxes(range=[0, None], row=2, col=1)\n",
    "\n",
    "# Plot Install to Conversion Rate (Row 3) with y-axis starting at 0\n",
    "fig.add_trace(\n",
    "    go.Scatter(x=grouped_data['date'], y=grouped_data['install_to_conversion_rate'], mode='lines', name='Install to Conversion Rate'),\n",
    "    row=3, col=1\n",
    ")\n",
    "fig.update_yaxes(range=[0, None], row=3, col=1)\n",
    "\n",
    "# Plot Profit (Row 4) as a bar chart\n",
    "fig.add_trace(\n",
    "    go.Bar(x=grouped_data['date'], y=grouped_data['profit'], name='Profit'),\n",
    "    row=4, col=1\n",
    ")\n",
    "\n",
    "# Add a vertical line and text annotation for Black Friday\n",
    "black_friday_date = datetime(2023, 11, 24)  # Use a raw datetime object\n",
    "\n",
    "fig.add_shape(\n",
    "    type=\"line\",\n",
    "    x0=black_friday_date, x1=black_friday_date,\n",
    "    y0=0, y1=1,\n",
    "    xref=\"x\", yref=\"paper\",\n",
    "    line=dict(color=\"red\", width=2, dash=\"dash\")\n",
    ")\n",
    "fig.add_annotation(\n",
    "    x=black_friday_date,\n",
    "    y=1,\n",
    "    text=\"Black Friday\",\n",
    "    showarrow=False,\n",
    "    xref=\"x\", yref=\"paper\",\n",
    "    font=dict(size=12, color=\"red\"),\n",
    "    align=\"center\"\n",
    ")\n",
    "\n",
    "# Dropdown menu for marketing channel\n",
    "buttons = []\n",
    "\n",
    "for channel in channels:\n",
    "    if channel == \"All Channels\":\n",
    "        filtered_data = df_metrics\n",
    "    else:\n",
    "        filtered_data = df_metrics[df_metrics['marketing_channel'] == channel]\n",
    "\n",
    "    grouped_data = filtered_data.groupby(['country', 'date']).sum(numeric_only=True).reset_index()\n",
    "\n",
    "    buttons.append(\n",
    "        {\n",
    "            \"label\": channel,\n",
    "            \"method\": \"update\",\n",
    "            \"args\": [\n",
    "                {\n",
    "                    \"y\": [\n",
    "                        grouped_data['app_installs'],\n",
    "                        grouped_data['cpi'],\n",
    "                        grouped_data['install_to_conversion_rate'],\n",
    "                        grouped_data['profit'],\n",
    "                    ],\n",
    "                },\n",
    "                {\n",
    "                    \"title\": f\"Metrics Over Time - Germany - {channel}\",\n",
    "                },\n",
    "            ],\n",
    "        }\n",
    "    )\n",
    "\n",
    "# Add the dropdown menu\n",
    "fig.update_layout(\n",
    "    updatemenus=[\n",
    "        {\n",
    "            \"buttons\": buttons,\n",
    "            \"direction\": \"down\",\n",
    "            \"showactive\": True,\n",
    "            \"x\": 0.1,\n",
    "            \"xanchor\": \"left\",\n",
    "            \"y\": 1.2,\n",
    "            \"yanchor\": \"top\",\n",
    "        }\n",
    "    ],\n",
    "    height=900,\n",
    "    title_text=\"Metrics Over Time - Germany - All Channels\",\n",
    "    showlegend=False,\n",
    ")\n",
    "\n",
    "# Update individual axes titles\n",
    "fig.update_yaxes(title_text=\"App Installs\", row=1, col=1)\n",
    "fig.update_yaxes(title_text=\"CPI (Euro)\", row=2, col=1)\n",
    "fig.update_yaxes(title_text=\"Install to Conversion Rate (%)\", row=3, col=1)\n",
    "fig.update_yaxes(title_text=\"Profit (Euro)\", row=4, col=1)\n",
    "fig.update_xaxes(title_text=\"Date\", row=4, col=1)\n",
    "\n",
    "# Show the plot\n",
    "fig.show()\n"
   ]
  },
  {
   "cell_type": "markdown",
   "id": "26d1ff85",
   "metadata": {},
   "source": []
  }
 ],
 "metadata": {
  "kernelspec": {
   "display_name": "base",
   "language": "python",
   "name": "python3"
  },
  "language_info": {
   "codemirror_mode": {
    "name": "ipython",
    "version": 3
   },
   "file_extension": ".py",
   "mimetype": "text/x-python",
   "name": "python",
   "nbconvert_exporter": "python",
   "pygments_lexer": "ipython3",
   "version": "3.11.4"
  }
 },
 "nbformat": 4,
 "nbformat_minor": 5
}
